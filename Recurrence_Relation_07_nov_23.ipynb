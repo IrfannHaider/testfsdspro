{
  "nbformat": 4,
  "nbformat_minor": 0,
  "metadata": {
    "colab": {
      "provenance": []
    },
    "kernelspec": {
      "name": "python3",
      "display_name": "Python 3"
    },
    "language_info": {
      "name": "python"
    }
  },
  "cells": [
    {
      "cell_type": "markdown",
      "source": [
        " ## Q.No.1: Find the value of T(2) for the rec%rrence relation T(n) = 3T(n-1) + 12n, given that T(0)=5."
      ],
      "metadata": {
        "id": "PV1cNvd55-vH"
      }
    },
    {
      "cell_type": "code",
      "execution_count": 2,
      "metadata": {
        "colab": {
          "base_uri": "https://localhost:8080/"
        },
        "id": "kuaTbbDY46ME",
        "outputId": "5cd1f478-5a40-433c-b713-5a8de519144a"
      },
      "outputs": [
        {
          "output_type": "stream",
          "name": "stdout",
          "text": [
            "T(2) = 105\n"
          ]
        }
      ],
      "source": [
        "def T(n):\n",
        "  \"\"\"\n",
        "  This function calculates the value of T(n) for the given recurrence relation.\n",
        "\n",
        "  Args:\n",
        "      n: The value of n for which to calculate T(n).\n",
        "\n",
        "  Returns:\n",
        "      The value of T(n).\n",
        "  \"\"\"\n",
        "\n",
        "  if n == 0:\n",
        "    return 5  # Base case: T(0) = 5\n",
        "  else:\n",
        "    return 3 * T(n - 1) + 12 * n  # Recursive case: T(n) = 3T(n-1) + 12n\n",
        "\n",
        "# Calculate T(2)\n",
        "result = T(2)\n",
        "print(\"T(2) =\", result)\n"
      ]
    },
    {
      "cell_type": "markdown",
      "source": [
        "## 2. Given a recurrence relation, solve it using the substitution method:\n",
        "a. T(n) = T(n-1) + c\n",
        "b. T(n) = 2T(n/2) + n\n",
        "c. T(n) = 2T(n/2) + c\n",
        "d. T(n) = T(n/2) + c"
      ],
      "metadata": {
        "id": "1lkeePiB59Fr"
      }
    },
    {
      "cell_type": "markdown",
      "source": [
        " Let's solve each recurrence relation using the substitution method:\n",
        "\n",
        " a. \\( T(n) = T(n-1) + c \\):\n",
        "\n",
        " We can expand this recurrence relation to get:\n",
        "\n",
        "\\[\n",
        "\\begin{align*}\n",
        "T(n) & = T(n-1) + c \\\\\n",
        "& = (T(n-2) + c) + c \\\\\n",
        "& = T(n-2) + 2c \\\\\n",
        "& = \\cdots \\\\\n",
        "& = T(n-k) + kc\n",
        "\\end{align*}\n",
        "\\]\n",
        "\n",
        "We'll stop when \\( n - k = 0 \\), which gives us \\( k = n \\). So, at \\( n - k = 0 \\), \\( T(n-k) = T(0) \\). Given that there are \\( n \\) terms, the total contribution from \\( c \\) will be \\( nc \\).\n",
        "\n",
        "So, the solution for \\( T(n) = T(n-1) + c \\) is \\( T(n) = T(0) + nc \\).\n",
        "\n",
        "b. \\( T(n) = 2T(n/2) + n \\):\n",
        "\n",
        "We can use the Master theorem to solve this recurrence relation. The Master theorem states:\n",
        "\n",
        "If \\( T(n) = aT(n/b) + f(n) \\):\n",
        "- If \\( f(n) = O(n^{\\log_b(a) - \\epsilon}) \\) for some \\( \\epsilon > 0 \\), then \\( T(n) = \\Theta(n^{\\log_b(a)}) \\).\n",
        "- If \\( f(n) = \\Theta(n^{\\log_b(a)}) \\), then \\( T(n) = \\Theta(n^{\\log_b(a)} \\log n) \\).\n",
        "- If \\( f(n) = \\Omega(n^{\\log_b(a) + \\epsilon}) \\) for some \\( \\epsilon > 0 \\), and if \\( af(n/b) \\leq kf(n) \\) for some constant \\( k < 1 \\) and sufficiently large \\( n \\), then \\( T(n) = \\Theta(f(n)) \\).\n",
        "\n",
        "#Here, \\( a = 2 \\), \\( b = 2 \\), and \\( f(n) = n \\).\n",
        "\n",
        "\\( \\log_b(a) = \\log_2(2) = 1 \\).\n",
        "\n",
        "Since \\( f(n) = n = O(n^1) \\), we are in the first case of the Master theorem.\n",
        "\n",
        "So, the solution for \\( T(n) = 2T(n/2) + n \\) is \\( T(n) = \\Theta(n \\log n) \\).\n",
        "\n",
        "c. \\( T(n) = 2T(n/2) + c \\):\n",
        "\n",
        "Similarly to (b), we use the Master theorem.\n",
        "\n",
        "Here, \\( a = 2 \\), \\( b = 2 \\), and \\( f(n) = c \\).\n",
        "\n",
        "\\( \\log_b(a) = \\log_2(2) = 1 \\).\n",
        "\n",
        "Since \\( f(n) = c = O(n^{\\log_b(a) - \\epsilon}) \\) for any \\( \\epsilon > 0 \\), we are in the first case of the Master theorem.\n",
        "\n",
        "So, the solution for \\( T(n) = 2T(n/2) + c \\) is \\( T(n) = \\Theta(n) \\).\n",
        "\n",
        "d. \\( T(n) = T(n/2) + c \\):\n",
        "\n",
        "We can expand this recurrence relation to get:\n",
        "\n",
        "\\[\n",
        "\\begin{align*}\n",
        "T(n) & = T(n/2) + c \\\\\n",
        "& = (T(n/4) + c) + c \\\\\n",
        "& = T(n/4) + 2c \\\\\n",
        "& = \\cdots \\\\\n",
        "& = T(n/2^k) + kc\n",
        "\\end{align*}\n",
        "\\]\n",
        "\n",
        "We'll stop when \\( n/2^k = 1 \\), which gives us \\( k = \\log_2(n) \\). So, at \\( n/2^k = 1 \\), \\( T(n/2^k) = T(1) \\), which is a constant.\n",
        "\n",
        "So, the solution for \\( T(n) = T(n/2) + c \\) is \\( T(n) = \\Theta(\\log n) \\)."
      ],
      "metadata": {
        "id": "NF6qh5awGAFQ"
      }
    },
    {
      "cell_type": "markdown",
      "source": [
        "## 3. Given a rec%rrence relation, solve it %sing the rec%rsive tree approach:\n",
        "a. T(n) = 2T(n-1) +1\n",
        "b. T(n) = 2T(n/2) + n"
      ],
      "metadata": {
        "id": "c8ZGJlgzGKSy"
      }
    },
    {
      "cell_type": "code",
      "source": [
        " #               T(0) = 0\n",
        "   #               /  \\\n",
        "  #               /    \\\n",
        "  #         T(1)       T(1)\n",
        "    #       / \\         / \\\n",
        "     #     /   \\       /   \\\n",
        "   #    T(2)  T(2)  T(2)  T(2)\n"
      ],
      "metadata": {
        "id": "YzqGRAwEHJWE"
      },
      "execution_count": 10,
      "outputs": []
    },
    {
      "cell_type": "code",
      "source": [
        "#                T(1) = 1\n",
        " #              /     \\\n",
        "  #            /       \\\n",
        "   #       T(n/2)     T(n/2)\n",
        "    #      /   \\        /   \\\n",
        "     #    /     \\      /     \\\n",
        "   # T(n/4) T(n/4)  T(n/4) T(n/4)\n",
        "    #  ...     ...      ...     ...\n"
      ],
      "metadata": {
        "id": "3Nb-NBCNHM5P"
      },
      "execution_count": 11,
      "outputs": []
    },
    {
      "cell_type": "code",
      "source": [],
      "metadata": {
        "id": "cbK0ie9lHdDM"
      },
      "execution_count": null,
      "outputs": []
    }
  ]
}