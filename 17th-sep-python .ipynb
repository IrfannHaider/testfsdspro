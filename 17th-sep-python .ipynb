{
 "cells": [
  {
   "cell_type": "markdown",
   "id": "fb4887f7-b8a6-4f0b-be8e-e7737b530024",
   "metadata": {},
   "source": [
    "## Q no 1.Write a python programme to print numbers 1 to 10 using for loop. "
   ]
  },
  {
   "cell_type": "code",
   "execution_count": 5,
   "id": "3214d3df-37dc-41bb-a3e0-1d8d8967ec8a",
   "metadata": {},
   "outputs": [
    {
     "name": "stdout",
     "output_type": "stream",
     "text": [
      "1\n",
      "2\n",
      "3\n",
      "4\n",
      "5\n",
      "6\n",
      "7\n",
      "8\n",
      "9\n",
      "10\n"
     ]
    }
   ],
   "source": [
    "for i in range(1,11):\n",
    "    print(i)"
   ]
  },
  {
   "cell_type": "code",
   "execution_count": 6,
   "id": "7b240e61-73b5-40c4-8a77-22ccbe0c1aed",
   "metadata": {},
   "outputs": [
    {
     "name": "stdout",
     "output_type": "stream",
     "text": [
      "1 2 3 4 5 6 7 8 9 10 "
     ]
    }
   ],
   "source": [
    "for i in range(1,11):\n",
    "    print(i ,end=\" \")"
   ]
  },
  {
   "cell_type": "markdown",
   "id": "082a66e4-59fd-4abf-9ec7-5b123f13cb63",
   "metadata": {},
   "source": [
    "## Q no 2.Explain the difference btw for and while loop in python."
   ]
  },
  {
   "cell_type": "code",
   "execution_count": null,
   "id": "351ba12e-dde2-472f-84fe-ecc59fd17429",
   "metadata": {},
   "outputs": [],
   "source": [
    "'''In Python, both for loops and while loops are used for iterating through sequences or performing\n",
    "repetitive tasks, but they have different use cases and syntax.\n",
    "\n",
    "\n",
    "for Loop:\n",
    "\n",
    "    The for loop is mainly used for iterating over a sequence (such as a list, tuple, string,\n",
    "or range) or any iterable object.\n",
    "It is generally preferred when you know the number of iterations in advance.\n",
    "The loop variable takes on the value of each item in the sequence one by one,\n",
    "and the loop continues until all items have been processed.\n",
    "The for loop syntax is more concise and often easier to read than a while loop.\n",
    "\n",
    "Example of a for loop:'''\n",
    "\n",
    "fruits = [\"apple\", \"banana\", \"cherry\"]\n",
    "for fruit in fruits:\n",
    "    print(fruit)\n",
    "\n",
    "while Loop:\n",
    "            The while loop is used when you want to repeat a block of code as long as a specified\n",
    "condition is True.\n",
    "It is generally preferred when you don\"t know the number of iterations in advance or when you need\"\n",
    "to control the loop termination based on a condition.\n",
    "The loop continues executing as long as the condition provided in the loop header is True.\n",
    "Example of a while loop:\n",
    "\n",
    "count = 0\n",
    "while count < 5:\n",
    "    print(count)\n",
    "    count += 1\n",
    "Differences between for and while loops:\n",
    "\n",
    "Use case:\n",
    "\n",
    "for loop: Typically used for iterating over sequences or known iterations.\n",
    "while loop: Used for situations where you want to repeat code until a specific condition is met.\n",
    "\n",
    "Loop control:\n",
    "\n",
    "for loop: Controlled by the number of elements in the sequence.\n",
    "while loop: Controlled by a specified condition.\n",
    "Syntax:\n",
    "\n",
    "for loop: Uses the for keyword and an iterable object.\n",
    "while loop: Uses the while keyword and a condition.\n",
    "Initialization:\n",
    "\n",
    "for loop: No need to initialize an additional counter variable.\n",
    "while loop: Requires an explicit initialization of a control variable (e.g., count in the example \n",
    "above).\n",
    "In summary, you should choose between a for loop and a while loop based on the specific\n",
    "requirements of your task.\n",
    "If you know the number of iterations in advance or need to iterate over a sequence,\n",
    "a for loop is usually a better choice. If you need to repeat code until a certain condition\n",
    "is met,a while loop is more suitable."
   ]
  },
  {
   "cell_type": "markdown",
   "id": "20aec049-77ac-451d-9a5c-7d36d4393b7e",
   "metadata": {},
   "source": [
    "## Q no 3.Calculate the sum of all numbers from 1 to 100 using for loop in python."
   ]
  },
  {
   "cell_type": "code",
   "execution_count": 4,
   "id": "efc71b27-47c7-4dd2-a313-7975178c6eec",
   "metadata": {},
   "outputs": [
    {
     "name": "stdout",
     "output_type": "stream",
     "text": [
      "Total sum of 1 to 100 is 4950\n"
     ]
    }
   ],
   "source": [
    "total_sum=0\n",
    "for i in range(1,100):\n",
    "    total_sum+=i\n",
    "print(\"Total sum of 1 to 100 is\",total_sum)"
   ]
  },
  {
   "cell_type": "markdown",
   "id": "33a46c03-a52d-43a2-8a2b-760716570438",
   "metadata": {},
   "source": [
    "## Q no 4. How do you iterate through a list using a for loop in Python"
   ]
  },
  {
   "cell_type": "code",
   "execution_count": 5,
   "id": "9bac1674-7672-4716-931b-636c3252734a",
   "metadata": {},
   "outputs": [
    {
     "name": "stdout",
     "output_type": "stream",
     "text": [
      "2\n",
      "3\n",
      "4\n",
      "irfan\n",
      "3.4\n",
      "False\n",
      "(3+4j)\n"
     ]
    }
   ],
   "source": [
    "l=[2,3,4,\"irfan\",3.4,False,3+4j]\n",
    "for i in l:\n",
    "    print(i)"
   ]
  },
  {
   "cell_type": "markdown",
   "id": "ada3d923-451f-4439-958b-48861233cc52",
   "metadata": {},
   "source": [
    "## Q/no/5.Write a Python program to find the product of all elements in a list using a for loop.\n"
   ]
  },
  {
   "cell_type": "code",
   "execution_count": 32,
   "id": "0c0b8ccb-7462-4480-a3ab-9ff485f93063",
   "metadata": {},
   "outputs": [
    {
     "name": "stdout",
     "output_type": "stream",
     "text": [
      "The product of all elements is 120\n"
     ]
    }
   ],
   "source": [
    "product = 1\n",
    "list_num=[2,3,4,5]\n",
    "for num in list_num:\n",
    "    product *= num\n",
    "        \n",
    "print(\"The product of all elements is\",product)"
   ]
  },
  {
   "cell_type": "markdown",
   "id": "5682dfa1-245c-480f-906e-f26d44435cec",
   "metadata": {},
   "source": [
    "## Q-no/6.Create a Python program that prints all even numbers from 1 to 20 using a for loop."
   ]
  },
  {
   "cell_type": "code",
   "execution_count": 38,
   "id": "fbfae692-ed11-4bf0-902e-d033a7893387",
   "metadata": {},
   "outputs": [
    {
     "name": "stdout",
     "output_type": "stream",
     "text": [
      "2 =  is even\n",
      "4 =  is even\n",
      "6 =  is even\n",
      "8 =  is even\n",
      "10 =  is even\n",
      "12 =  is even\n",
      "14 =  is even\n",
      "16 =  is even\n",
      "18 =  is even\n",
      "20 =  is even\n"
     ]
    }
   ],
   "source": [
    "for i in range(1,21):\n",
    "    if i%2==0:\n",
    "        print(i,\"=\",\" is even\")"
   ]
  },
  {
   "cell_type": "markdown",
   "id": "4c70f350-322c-4f9f-885b-34b5d17a42ad",
   "metadata": {},
   "source": [
    "## Q-no/7.Write a Python program that calculates the factorial of a number using a for loop"
   ]
  },
  {
   "cell_type": "code",
   "execution_count": 55,
   "id": "f692062e-1d2f-4cb1-8cea-cc1949e4977c",
   "metadata": {},
   "outputs": [],
   "source": [
    "def fact_cal(n):\n",
    "    \n",
    "    a = 1\n",
    "    for i in range(1,n+1):\n",
    "        a=i*a\n",
    "    return a"
   ]
  },
  {
   "cell_type": "code",
   "execution_count": 66,
   "id": "0f64bcc4-439c-4f08-b8fe-654268c5fe8a",
   "metadata": {},
   "outputs": [
    {
     "data": {
      "text/plain": [
       "24"
      ]
     },
     "execution_count": 66,
     "metadata": {},
     "output_type": "execute_result"
    }
   ],
   "source": [
    "fact_cal(4)"
   ]
  },
  {
   "cell_type": "code",
   "execution_count": 70,
   "id": "002a2d41-fd45-4361-bd98-b6726c25601f",
   "metadata": {},
   "outputs": [
    {
     "name": "stdin",
     "output_type": "stream",
     "text": [
      "Enter a non-negative integer:  4\n"
     ]
    },
    {
     "name": "stdout",
     "output_type": "stream",
     "text": [
      "The factorial of 4 is 24\n"
     ]
    }
   ],
   "source": [
    "# Input: Get the number from the user\n",
    "num = int(input(\"Enter a non-negative integer: \"))\n",
    "\n",
    "# Initialize the factorial to 1\n",
    "factorial = 1\n",
    "\n",
    "# Check if the number is negative\n",
    "if num < 0:\n",
    "    print(\"Factorial is not defined for negative numbers.\")\n",
    "elif num == 0:\n",
    "    print(\"The factorial of 0 is 1\")\n",
    "else:\n",
    "    # Use a for loop to calculate the factorial\n",
    "    for i in range(1, num + 1):\n",
    "        factorial *= i\n",
    "\n",
    "    # Print the factorial\n",
    "    print(f\"The factorial of {num} is {factorial}\")\n"
   ]
  },
  {
   "cell_type": "markdown",
   "id": "e88115e0-2acd-403a-9774-209c8eb6f760",
   "metadata": {},
   "source": [
    "## Q-no/8.How can you iterate through the characters of a string using a for loop in Python."
   ]
  },
  {
   "cell_type": "code",
   "execution_count": 67,
   "id": "15224125-d0bb-4f8c-b816-a7241e4d06f9",
   "metadata": {},
   "outputs": [
    {
     "name": "stdout",
     "output_type": "stream",
     "text": [
      "i\n",
      "r\n",
      "f\n",
      "a\n",
      "n\n"
     ]
    }
   ],
   "source": [
    "s=\"irfan\"\n",
    "for i in s:\n",
    "    print(i)"
   ]
  },
  {
   "cell_type": "markdown",
   "id": "ef02673b-ca52-446b-bac7-2ea0ad1afcbc",
   "metadata": {},
   "source": [
    "## Q-no/9.Write a Python program to find the largest number in a list using a for loop."
   ]
  },
  {
   "cell_type": "code",
   "execution_count": 8,
   "id": "b6932c3b-084b-4ae2-8af8-614814a40a59",
   "metadata": {},
   "outputs": [
    {
     "name": "stdout",
     "output_type": "stream",
     "text": [
      "The largest number in list is   99\n"
     ]
    }
   ],
   "source": [
    "num_list=[34,56,89,11,45,99]\n",
    "\n",
    "largest=num_list[0]\n",
    "\n",
    "for num in num_list:\n",
    "    if num > largest:\n",
    "         largest = num\n",
    "print(\"The largest number in list is  \", largest)"
   ]
  },
  {
   "cell_type": "markdown",
   "id": "3f038704-b3f2-4b64-9ae1-3c9bfb771376",
   "metadata": {},
   "source": [
    "## Q-no / 10. Create a Python program that prints the Fibonacci sequence up to a specified limit using a for loop."
   ]
  },
  {
   "cell_type": "code",
   "execution_count": 7,
   "id": "5b9895b1-2911-4f87-b93a-5697d9b360a6",
   "metadata": {},
   "outputs": [],
   "source": [
    "def fab(n):\n",
    "    if n<=1:\n",
    "        return n\n",
    "    else:\n",
    "        return fab(n-1)+fab(n-2)"
   ]
  },
  {
   "cell_type": "code",
   "execution_count": 11,
   "id": "c758895d-9f5a-41a8-9e76-daf949ef0a5e",
   "metadata": {},
   "outputs": [
    {
     "data": {
      "text/plain": [
       "13"
      ]
     },
     "execution_count": 11,
     "metadata": {},
     "output_type": "execute_result"
    }
   ],
   "source": [
    "fab(7)"
   ]
  },
  {
   "cell_type": "markdown",
   "id": "69b6ef5a-9b3f-4901-ad8c-10c63df3d005",
   "metadata": {},
   "source": [
    "## Q-no/11.Write a Python program to count the number of vowels in a given string using a forloop.\n"
   ]
  },
  {
   "cell_type": "code",
   "execution_count": 13,
   "id": "eca6c357-74be-4c33-a3d5-98de2bf12e63",
   "metadata": {},
   "outputs": [
    {
     "name": "stdin",
     "output_type": "stream",
     "text": [
      "Enter a string irfan\n"
     ]
    },
    {
     "name": "stdout",
     "output_type": "stream",
     "text": [
      "Total number of vowels are 2\n"
     ]
    }
   ],
   "source": [
    "input_string=input(\"Enter a string\")\n",
    "input_string = input_string.lower()\n",
    "vowels=0\n",
    "s=\"aeiou\"\n",
    "for char in input_string:\n",
    "    if char in s:\n",
    "        vowels+=1\n",
    "print(\"Total number of vowels are\",vowels)\n",
    "        \n"
   ]
  },
  {
   "cell_type": "markdown",
   "id": "46b8b888-594f-4268-aa24-36c03fa729dd",
   "metadata": {},
   "source": [
    "## Q-no/12. Create a Python program that generates a multiplication table for a given number using a for loop.\n"
   ]
  },
  {
   "cell_type": "code",
   "execution_count": 15,
   "id": "7f2aeeaa-eb43-4f91-956e-fb8aa25101ab",
   "metadata": {},
   "outputs": [
    {
     "name": "stdin",
     "output_type": "stream",
     "text": [
      "enter a number 3\n"
     ]
    },
    {
     "name": "stdout",
     "output_type": "stream",
     "text": [
      "3 x 1 = 3\n",
      "3 x 2 = 6\n",
      "3 x 3 = 9\n",
      "3 x 4 = 12\n",
      "3 x 5 = 15\n",
      "3 x 6 = 18\n",
      "3 x 7 = 21\n",
      "3 x 8 = 24\n",
      "3 x 9 = 27\n",
      "3 x 10 = 30\n"
     ]
    }
   ],
   "source": [
    "num=int(input(\"enter a number\"))\n",
    "\n",
    "for i in range(1,11):\n",
    "    print(num,\"x\",i,\"=\",i*num)"
   ]
  },
  {
   "cell_type": "code",
   "execution_count": 4,
   "id": "d28a9532-35fa-483d-bbac-bb2a7c718867",
   "metadata": {},
   "outputs": [
    {
     "name": "stdin",
     "output_type": "stream",
     "text": [
      "enter a number 4\n"
     ]
    },
    {
     "name": "stdout",
     "output_type": "stream",
     "text": [
      "4 * 1 = 4\n",
      "4 * 2 = 8\n",
      "4 * 3 = 12\n",
      "4 * 4 = 16\n",
      "4 * 5 = 20\n",
      "4 * 6 = 24\n",
      "4 * 7 = 28\n",
      "4 * 8 = 32\n",
      "4 * 9 = 36\n",
      "4 * 10 = 40\n"
     ]
    }
   ],
   "source": [
    "num=int(input(\"enter a number\"))\n",
    "\n",
    "start = 1\n",
    "end = 10\n",
    "for i in range(start,end+1):\n",
    "    product = num*i\n",
    "    print(num, \"*\", i,\"=\" ,i*num )\n"
   ]
  },
  {
   "cell_type": "markdown",
   "id": "ca6de67c-5f02-48f9-ae33-d6851090fbb6",
   "metadata": {},
   "source": [
    "## Q-no/13. Write a Python program to reverse a list using a for loop.\n"
   ]
  },
  {
   "cell_type": "code",
   "execution_count": 40,
   "id": "1a9744e0-f95d-4a8a-9ee4-0c670da4871a",
   "metadata": {},
   "outputs": [
    {
     "name": "stdout",
     "output_type": "stream",
     "text": [
      "5 4 3 2 1 0 "
     ]
    }
   ],
   "source": [
    "l=[0,1,2,3,4,5]\n",
    "for i in l[::-1]:\n",
    "    print(i,end=\" \")"
   ]
  },
  {
   "cell_type": "code",
   "execution_count": 41,
   "id": "e4b152f9-be4a-4f9e-9528-cd689a9088a7",
   "metadata": {},
   "outputs": [
    {
     "name": "stdout",
     "output_type": "stream",
     "text": [
      "Original List: [1, 2, 3, 4, 5]\n",
      "Reversed List: [5, 4, 3, 2, 1]\n"
     ]
    }
   ],
   "source": [
    "# Create a list\n",
    "original_list = [1, 2, 3, 4, 5]\n",
    "\n",
    "# Initialize an empty list to store the reversed elements\n",
    "reversed_list = []\n",
    "\n",
    "# Use a for loop to reverse the list\n",
    "for item in original_list:\n",
    "    reversed_list.insert(0, item)\n",
    "\n",
    "# Print the reversed list\n",
    "print(\"Original List:\", original_list)\n",
    "print(\"Reversed List:\", reversed_list)\n"
   ]
  },
  {
   "cell_type": "markdown",
   "id": "f05d99fb-3e50-48d0-8189-19913efde865",
   "metadata": {},
   "source": [
    "## Q-no/14. Write a Python program to find the common elements between two lists using a for loop."
   ]
  },
  {
   "cell_type": "code",
   "execution_count": 5,
   "id": "932686b6-9f70-420e-81d8-802d021681dd",
   "metadata": {},
   "outputs": [
    {
     "name": "stdout",
     "output_type": "stream",
     "text": [
      "[5, 6]\n"
     ]
    }
   ],
   "source": [
    "l1=[2,3,4,5,6]\n",
    "l2=[5,6,7,8,9]\n",
    "\n",
    "common=[]\n",
    "for i in l1:\n",
    "    if i  in l2:\n",
    "        if i not in common:\n",
    "            common . append(i)\n",
    "print(common)"
   ]
  },
  {
   "cell_type": "markdown",
   "id": "e3343b24-4965-45a4-9bd3-4e78d239a23f",
   "metadata": {},
   "source": [
    "## Q-no/15. Explain how to use a for loop to iterate through the keys and values of a dictionary in Python.\n"
   ]
  },
  {
   "cell_type": "code",
   "execution_count": 1,
   "id": "fa588463-dc20-4e69-a780-8f888d8b2019",
   "metadata": {},
   "outputs": [
    {
     "name": "stdout",
     "output_type": "stream",
     "text": [
      "key:name,Value:irfan\n",
      "key:age,Value:35\n",
      "key:class,Value:Data Science\n"
     ]
    }
   ],
   "source": [
    "dic={\"name\":\"irfan\",\"age\":35,\"class\":\"Data Science\"}\n",
    "\n",
    "for key,value in dic.items():\n",
    "    print(f\"key:{key},Value:{value}\")"
   ]
  },
  {
   "cell_type": "code",
   "execution_count": 4,
   "id": "82506e5e-a105-44d8-bc22-13119959a1c9",
   "metadata": {},
   "outputs": [
    {
     "name": "stdout",
     "output_type": "stream",
     "text": [
      "key:name,Value:irfan\n",
      "key:age,Value:35\n",
      "key:class,Value:Data Science\n"
     ]
    }
   ],
   "source": [
    "dic={\"name\":\"irfan\",\"age\":35,\"class\":\"Data Science\"}\n",
    "\n",
    "for key in dic.keys():\n",
    "    value=dic[key]\n",
    "    print(f\"key:{key},Value:{value}\")"
   ]
  },
  {
   "cell_type": "markdown",
   "id": "71d5e0d4-86ed-43a5-b6db-6ec6419ff175",
   "metadata": {},
   "source": [
    "## Q-no/16. Write a Python program to find the GCD (Greatest Common Divisor) of two numbers using a for loop.\n"
   ]
  },
  {
   "cell_type": "code",
   "execution_count": 8,
   "id": "a5e15319-33c6-447c-a76d-4a05a292ba2d",
   "metadata": {},
   "outputs": [
    {
     "name": "stdin",
     "output_type": "stream",
     "text": [
      "enter num one 3\n",
      "enter num two 4\n"
     ]
    },
    {
     "name": "stdout",
     "output_type": "stream",
     "text": [
      "The GCD of num1 and num2 is  1\n"
     ]
    }
   ],
   "source": [
    "num1=int(input(\"enter num one\"))\n",
    "num2=int(input(\"enter num two\"))\n",
    "\n",
    "if num1 < num2:\n",
    "    smaller = num1\n",
    "else:\n",
    "    smaller = num2\n",
    "    \n",
    "gdc = 1\n",
    "\n",
    "for i in range(1,smaller+1):\n",
    "    if (num1%i==0) and (num2%i==0):\n",
    "        gcd = i\n",
    "    \n",
    "print(\"The GCD of num1 and num2 is \",gcd)\n",
    "    \n"
   ]
  },
  {
   "cell_type": "markdown",
   "id": "95b2b72d-c105-449d-abfe-86ad2f870f8e",
   "metadata": {},
   "source": [
    "## Q-no/17. Create a Python program that checks if a string is a palindrome using a for loop."
   ]
  },
  {
   "cell_type": "code",
   "execution_count": 5,
   "id": "dfcebd70-dc49-4dfd-90bd-cbadf584a0be",
   "metadata": {},
   "outputs": [
    {
     "name": "stdin",
     "output_type": "stream",
     "text": [
      "enter a string level\n"
     ]
    },
    {
     "name": "stdout",
     "output_type": "stream",
     "text": [
      "This is palindrome\n"
     ]
    }
   ],
   "source": [
    "s=input(\"enter a string\")\n",
    "\n",
    "s=s.lower()\n",
    "s=\"\".join(e for e in s if e.isalnum())\n",
    "\n",
    "is_palindrome = True\n",
    "\n",
    "for i in range(len(s)//2):\n",
    "    if s[i] != s[-(i+1)]:\n",
    "        is_palindrome=False\n",
    "        break\n",
    "        \n",
    "if is_palindrome:\n",
    "    print(\"This is palindrome\")\n",
    "else:\n",
    "    print(\"This is not a palindrome\")\n",
    "        \n",
    "\n"
   ]
  },
  {
   "cell_type": "markdown",
   "id": "93ad297f-2c22-4985-add1-78eb305cbb2f",
   "metadata": {},
   "source": [
    "## Q-no/18. Write a Python program to remove duplicates from a list using a for loop."
   ]
  },
  {
   "cell_type": "code",
   "execution_count": 2,
   "id": "28970d70-cfea-4106-9a61-0c4bf730c32d",
   "metadata": {},
   "outputs": [
    {
     "name": "stdout",
     "output_type": "stream",
     "text": [
      "Original list  [1, 1, 2, 3, 4, 3, 2, 5, 7, 9, 6, 5]\n",
      "Unique list with remove duplicates  [1, 2, 3, 4, 5, 7, 9, 6]\n"
     ]
    }
   ],
   "source": [
    "orignal_list=[1,1,2,3,4,3,2,5,7,9,6,5]\n",
    "unique_list=[]\n",
    "for item in orignal_list:\n",
    "    if item not in unique_list:\n",
    "        unique_list.append(item)\n",
    "print(\"Original list \",orignal_list)\n",
    "print(\"Unique list with remove duplicates \",unique_list)"
   ]
  },
  {
   "cell_type": "markdown",
   "id": "5d6c7256-850c-4c60-91ac-090cfe07ea36",
   "metadata": {},
   "source": [
    "## Q-no/19. Create a Python program that counts the number of words in a sentence using a for loop."
   ]
  },
  {
   "cell_type": "code",
   "execution_count": 14,
   "id": "2bd9de41-525e-4df9-ac89-5945179f0e54",
   "metadata": {},
   "outputs": [
    {
     "name": "stdin",
     "output_type": "stream",
     "text": [
      "enter a sentence irffan khan\n"
     ]
    },
    {
     "name": "stdout",
     "output_type": "stream",
     "text": [
      "The no of words in this sentence is  2\n"
     ]
    }
   ],
   "source": [
    "sentence = input(\"enter a sentence\")\n",
    "\n",
    "word_count = 0\n",
    "\n",
    "for char in sentence.split():\n",
    "    #if char.isspace():\n",
    "    word_count += 1\n",
    "#word_count += 1\n",
    "\n",
    "print(\"The no of words in this sentence is \",word_count)"
   ]
  },
  {
   "cell_type": "code",
   "execution_count": 13,
   "id": "4c64f116-2b26-446c-a630-dbf27b10c637",
   "metadata": {},
   "outputs": [
    {
     "name": "stdin",
     "output_type": "stream",
     "text": [
      "enter a sentence irfan khan\n"
     ]
    },
    {
     "name": "stdout",
     "output_type": "stream",
     "text": [
      "number of words 2\n"
     ]
    }
   ],
   "source": [
    "sentence=input(\"enter a sentence\")\n",
    "words=sentence.split()\n",
    "word_count=len(words)\n",
    "print(\"number of words\",word_count)"
   ]
  },
  {
   "cell_type": "code",
   "execution_count": 15,
   "id": "0260a077-e6ab-4bac-9741-e672751813ca",
   "metadata": {},
   "outputs": [
    {
     "name": "stdout",
     "output_type": "stream",
     "text": [
      "5\n"
     ]
    }
   ],
   "source": [
    "def count_words(sentence):\n",
    "  count = 0\n",
    "  for word in sentence.split():\n",
    "    count += 1\n",
    "  return count\n",
    "\n",
    "\n",
    "sentence = \"This is a sample sentence.\"\n",
    "print(count_words(sentence))"
   ]
  },
  {
   "cell_type": "markdown",
   "id": "335bae6f-b662-49b3-8bf0-5bcd20f007da",
   "metadata": {},
   "source": [
    "## Q-no/20. Write a Python program to find the sum of all odd numbers from 1 to 50 using a for loop.\n"
   ]
  },
  {
   "cell_type": "code",
   "execution_count": 22,
   "id": "e1277c27-140c-4677-8dba-2cf20aacd84c",
   "metadata": {},
   "outputs": [
    {
     "name": "stdout",
     "output_type": "stream",
     "text": [
      "Total sum of odd numbers from 1 to 50 is  625\n"
     ]
    }
   ],
   "source": [
    "odd_sum=0\n",
    "for i in range(1,51):\n",
    "    if i % 2 != 0:\n",
    "        odd_sum+=i\n",
    "print(\"Total sum of odd numbers from 1 to 50 is \",odd_sum)"
   ]
  },
  {
   "cell_type": "markdown",
   "id": "852671e8-e977-40f5-a601-17dbab27df8b",
   "metadata": {},
   "source": [
    "## Q-no/21. Write a Python program that checks if a given year is a leap year using a for loop."
   ]
  },
  {
   "cell_type": "code",
   "execution_count": 7,
   "id": "2684c1b3-ef7c-4c90-8f17-21664008ef10",
   "metadata": {},
   "outputs": [
    {
     "name": "stdin",
     "output_type": "stream",
     "text": [
      "enter a year 2020\n"
     ]
    },
    {
     "name": "stdout",
     "output_type": "stream",
     "text": [
      "Year is leap year 2020\n"
     ]
    }
   ],
   "source": [
    "year=int(input(\"enter a year\"))\n",
    "\n",
    "if year%4==0  and year%100!=0:\n",
    "    print(\"Year is leap year\",year)\n",
    "else:\n",
    "    print(\"year is not leap year\")"
   ]
  },
  {
   "cell_type": "code",
   "execution_count": 6,
   "id": "3f165ada-6c30-4de1-abbb-e40efee650f6",
   "metadata": {},
   "outputs": [
    {
     "name": "stdin",
     "output_type": "stream",
     "text": [
      "Enter a year:  2020\n"
     ]
    },
    {
     "name": "stdout",
     "output_type": "stream",
     "text": [
      "2020 is a leap year\n"
     ]
    }
   ],
   "source": [
    "year = int(input(\"Enter a year: \"))\n",
    "\n",
    "is_leap = False\n",
    "\n",
    "for i in range(0,4):\n",
    "  if year%4 == 0:\n",
    "    if year%100 == 0:\n",
    "      if year%400 == 0:\n",
    "        is_leap = True\n",
    "    else:  \n",
    "      is_leap = True\n",
    "\n",
    "if is_leap:\n",
    "  print(f\"{year} is a leap year\")\n",
    "else:\n",
    "  print(f\"{year} is not a leap year\")"
   ]
  },
  {
   "cell_type": "markdown",
   "id": "9f01bbad-f9d1-4957-a3d6-dd4909006042",
   "metadata": {},
   "source": [
    "## Q-no/22. Create a Python program that calculates the square root of a number using a for loop."
   ]
  },
  {
   "cell_type": "code",
   "execution_count": 14,
   "id": "2ab3c541-34cd-47bd-a3b1-9e7bc9bddd35",
   "metadata": {},
   "outputs": [
    {
     "name": "stdout",
     "output_type": "stream",
     "text": [
      "3\n"
     ]
    }
   ],
   "source": [
    "\n",
    "\n",
    "def countSquares(x):\n",
    "    sqrt = x**0.5\n",
    "    result = int(sqrt)\n",
    "    return result\n",
    " \n",
    " \n",
    "x = 9\n",
    "print(countSquares(x))"
   ]
  },
  {
   "cell_type": "markdown",
   "id": "6d6393dd-0640-4d4a-b0ab-b9a1ffdcb20f",
   "metadata": {},
   "source": [
    "## Q-no/23. Write a Python program to find the LCM (Least Common Multiple) of two numbers using a for loop."
   ]
  },
  {
   "cell_type": "code",
   "execution_count": 16,
   "id": "37044e47-c67f-4f82-ad55-f57082a334e0",
   "metadata": {},
   "outputs": [
    {
     "name": "stdin",
     "output_type": "stream",
     "text": [
      "enter first num 4\n",
      "enter second num 4\n"
     ]
    },
    {
     "name": "stdout",
     "output_type": "stream",
     "text": [
      "The LCM of num1 and num2 is : 4\n"
     ]
    }
   ],
   "source": [
    "num1 = int(input(\"enter first num\"))\n",
    "num2 = int(input(\"enter second num\"))\n",
    "\n",
    "lcm=0\n",
    "\n",
    "for i in range(1,num1*num2+1):\n",
    "    if (i%num1==0)and(i%num2==0):\n",
    "        lcm = i\n",
    "        break\n",
    "print(\"The LCM of num1 and num2 is :\",lcm)\n",
    "    "
   ]
  },
  {
   "cell_type": "markdown",
   "id": "3ffe5a5b-cf26-4b5b-a08d-649702bb50fd",
   "metadata": {},
   "source": [
    "# IF ELSE"
   ]
  },
  {
   "cell_type": "markdown",
   "id": "a8c43d3f-e6f8-41ac-9d98-10cb296da39f",
   "metadata": {},
   "source": [
    "## Q-no/1.Write a programe to check if number is positive negative or zero using if else."
   ]
  },
  {
   "cell_type": "code",
   "execution_count": 21,
   "id": "eea201e0-9d8d-4608-a7a1-1c5c717bc26d",
   "metadata": {},
   "outputs": [
    {
     "name": "stdin",
     "output_type": "stream",
     "text": [
      "enter a num 0\n"
     ]
    },
    {
     "name": "stdout",
     "output_type": "stream",
     "text": [
      "Number is zero\n"
     ]
    }
   ],
   "source": [
    "num=float(input(\"enter a num\"))\n",
    "\n",
    "if num<0:\n",
    "    print(\"Number is negative\")\n",
    "elif num>0:\n",
    "    print(\"Number is positive\")\n",
    "else:\n",
    "    print(\"Number is zero\")"
   ]
  },
  {
   "cell_type": "markdown",
   "id": "aecdab16-f621-4f69-b055-4077281d97a1",
   "metadata": {},
   "source": [
    "## Q-no/2. Create a Python program that checks if a given number is even or odd using an if-else statement.\n"
   ]
  },
  {
   "cell_type": "code",
   "execution_count": 23,
   "id": "cb83d6e9-c61c-4934-9cbf-67b2987b3484",
   "metadata": {},
   "outputs": [
    {
     "name": "stdin",
     "output_type": "stream",
     "text": [
      "enter a number 5\n"
     ]
    },
    {
     "name": "stdout",
     "output_type": "stream",
     "text": [
      "Number is odd\n"
     ]
    }
   ],
   "source": [
    "num=int(input(\"enter a number\"))\n",
    "\n",
    "if num%2==0:\n",
    "    print(\"Number is even\")\n",
    "else:\n",
    "    print(\"Number is odd\")"
   ]
  },
  {
   "cell_type": "markdown",
   "id": "c2085c49-026b-451b-be0c-bb9356f79496",
   "metadata": {},
   "source": [
    "## Q-no/3. How can you use nested if-else statements in Python, and provide an example."
   ]
  },
  {
   "cell_type": "code",
   "execution_count": 1,
   "id": "3cc4c41e-eb38-4d2d-b05e-9f196f1b420b",
   "metadata": {},
   "outputs": [
    {
     "name": "stdout",
     "output_type": "stream",
     "text": [
      "yes its avaible under my budget\n",
      "i will try to buy shirt\n",
      "yes i will try to choose it \n"
     ]
    }
   ],
   "source": [
    "a  = 500\n",
    "shirt_price = 200\n",
    "pant_price = 500\n",
    "coat_price = 800\n",
    "my_size  = 'M'\n",
    "size_store = ['L' , 'XL','S','XXL','XXXL','M']\n",
    "my_fav_clr = 'white'\n",
    "store_clr = ['white' , 'red' , 'blue','orange']\n",
    "\n",
    "if coat_price <= a :\n",
    "    print(\"i will try to buy coat\")\n",
    "elif pant_price < 500 :\n",
    "    print(\"i will try to buy pant\")\n",
    "elif shirt_price < 500 :\n",
    "    print(\"yes its avaible under my budget\")\n",
    "    if my_size in size_store:\n",
    "        print(\"i will try to buy shirt\")\n",
    "        if my_fav_clr in store_clr:\n",
    "            print(\"yes i will try to choose it \")           \n",
    "        else :\n",
    "            print(\"my fav clr is not available i will move to another store\")     \n",
    "    else :\n",
    "        print(\"my size is not avaialble\")\n",
    "else :\n",
    "    print(\"i wont be able to buy\")"
   ]
  },
  {
   "cell_type": "markdown",
   "id": "5ef945e8-65e0-4299-b81a-98d3c1f0088f",
   "metadata": {},
   "source": [
    "## Q-no/4. Write a Python program to determine the largest of three numbers using if-else."
   ]
  },
  {
   "cell_type": "code",
   "execution_count": 6,
   "id": "0528b83c-a778-45e5-af99-f83683971971",
   "metadata": {},
   "outputs": [
    {
     "name": "stdout",
     "output_type": "stream",
     "text": [
      "The greatest is c  22\n"
     ]
    }
   ],
   "source": [
    "a=10\n",
    "b=15\n",
    "c=22\n",
    "\n",
    "if a>b and a>c:\n",
    "    print(\"The greater is a \",a)\n",
    "elif b>c:\n",
    "    print(\"The greater is  b \",b)\n",
    "else:\n",
    "    print(\"The greatest is c \",c)"
   ]
  },
  {
   "cell_type": "markdown",
   "id": "438e2e39-c8b1-48bd-a2c9-f74dcef8fd43",
   "metadata": {},
   "source": [
    "## Q-no/5. Write a Python program that calculates the absolute value of a number using if-else."
   ]
  },
  {
   "cell_type": "code",
   "execution_count": 8,
   "id": "41d3b810-af12-4680-97b9-b4595e60fa47",
   "metadata": {},
   "outputs": [
    {
     "name": "stdin",
     "output_type": "stream",
     "text": [
      "enter a number -5\n"
     ]
    },
    {
     "name": "stdout",
     "output_type": "stream",
     "text": [
      "The absolute value of number is  5.0\n"
     ]
    }
   ],
   "source": [
    "number=float(input(\"enter a number\"))\n",
    "\n",
    "if number < 0:\n",
    "    absolute_value = -number\n",
    "else:\n",
    "    absolute_value = number\n",
    "\n",
    "print(\"The absolute value of number is \",absolute_value)\n",
    "    \n",
    "    "
   ]
  },
  {
   "cell_type": "markdown",
   "id": "685a13ba-2cb6-4877-80c1-ea21f49b1d32",
   "metadata": {},
   "source": [
    "## Q-no/6. Create a Python program that checks if a given character is a vowel or consonant using if-else."
   ]
  },
  {
   "cell_type": "code",
   "execution_count": null,
   "id": "01905e1f-a59f-4d24-acb8-817249ab7e48",
   "metadata": {},
   "outputs": [],
   "source": [
    "char = input(\"Enter a character: \").lower()\n",
    "\n",
    "vowels = ['a','e','i','o','u']\n",
    "\n",
    "if char in vowels:\n",
    "  print(f\"'{char}' is a vowel\")\n",
    "else:  \n",
    "  print(f\"'{char}' is a consonant\")"
   ]
  },
  {
   "cell_type": "markdown",
   "id": "2bb9cb05-97d3-4cee-a3c0-ef36d87b15f0",
   "metadata": {},
   "source": [
    "## Q-no/7. Write a Python program to determine if a user is eligible to vote based on their age using if-else."
   ]
  },
  {
   "cell_type": "code",
   "execution_count": 4,
   "id": "433fe0bc-2615-47c7-9368-5f793ab0432c",
   "metadata": {},
   "outputs": [
    {
     "name": "stdin",
     "output_type": "stream",
     "text": [
      "enter user age 15\n"
     ]
    },
    {
     "name": "stdout",
     "output_type": "stream",
     "text": [
      "User does not eligible for vote\n"
     ]
    }
   ],
   "source": [
    "user = int(input(\"enter user age\"))\n",
    "\n",
    "if user>=18:\n",
    "    print(\"User is eligible for vote\")\n",
    "else:\n",
    "    print(\"User does not eligible for vote\")"
   ]
  },
  {
   "cell_type": "markdown",
   "id": "82a2a292-192a-41e0-a02e-c4b1256830e6",
   "metadata": {},
   "source": [
    "## Q-no/8.Create a Python program that calculates the discount amount based on the purchase amount using if-else"
   ]
  },
  {
   "cell_type": "code",
   "execution_count": 5,
   "id": "8ca3ffcf-7aa8-42a2-90a0-5eab55026261",
   "metadata": {},
   "outputs": [
    {
     "name": "stdin",
     "output_type": "stream",
     "text": [
      "Enter the purchase amount:  1500\n"
     ]
    },
    {
     "name": "stdout",
     "output_type": "stream",
     "text": [
      "Discount Amount: 150.0\n"
     ]
    }
   ],
   "source": [
    "purchase_amount = float(input(\"Enter the purchase amount: \"))\n",
    "\n",
    "discount_amount = 0\n",
    "\n",
    "if purchase_amount < 1000:\n",
    "  discount_amount = 0\n",
    "elif purchase_amount < 2000:\n",
    "  discount_amount = purchase_amount * 0.1\n",
    "elif purchase_amount < 3000:\n",
    "  discount_amount = purchase_amount * 0.15  \n",
    "else:\n",
    "  discount_amount = purchase_amount * 0.2\n",
    "\n",
    "print(f\"Discount Amount: {discount_amount}\")"
   ]
  },
  {
   "cell_type": "markdown",
   "id": "757033b5-971d-43c3-be76-5f8051a804fb",
   "metadata": {},
   "source": [
    "## Q-no/9. Write a Python program to check if a number is within a specified range using if-else"
   ]
  },
  {
   "cell_type": "code",
   "execution_count": 7,
   "id": "4786bc69-54d8-49bd-8333-3966337454e4",
   "metadata": {},
   "outputs": [
    {
     "name": "stdin",
     "output_type": "stream",
     "text": [
      "Enter a number:  40\n"
     ]
    },
    {
     "name": "stdout",
     "output_type": "stream",
     "text": [
      "The number 40 is within the range [10, 50].\n"
     ]
    }
   ],
   "source": [
    "# Define the specified range\n",
    "lower_limit = 10\n",
    "upper_limit = 50\n",
    "\n",
    "# Input: Get the number from the user\n",
    "number = int(input(\"Enter a number: \"))\n",
    "\n",
    "# Check if the number is within the specified range using if-else\n",
    "if number >= lower_limit and number <= upper_limit:\n",
    "    print(f\"The number {number} is within the range [{lower_limit}, {upper_limit}].\")\n",
    "else:\n",
    "    print(f\"The number {number} is outside the range [{lower_limit}, {upper_limit}].\")\n"
   ]
  },
  {
   "cell_type": "markdown",
   "id": "dbff2378-788f-4a16-80c0-6a1c70af83fe",
   "metadata": {},
   "source": [
    "## Q-no/10. Create a Python program that determines the grade of a student based on their score using if-else."
   ]
  },
  {
   "cell_type": "code",
   "execution_count": 8,
   "id": "5d0ef4ff-ad70-489a-a0d1-d187f5beaa3e",
   "metadata": {},
   "outputs": [
    {
     "name": "stdin",
     "output_type": "stream",
     "text": [
      "Enter the student's score:  88\n"
     ]
    },
    {
     "name": "stdout",
     "output_type": "stream",
     "text": [
      "The student's grade is: B\n"
     ]
    }
   ],
   "source": [
    "# Input: Get the student's score from the user\n",
    "score = int(input(\"Enter the student's score: \"))\n",
    "\n",
    "# Determine the grade based on the score using if-else\n",
    "if score >= 90:\n",
    "    grade = 'A'\n",
    "elif score >= 80:\n",
    "    grade = 'B'\n",
    "elif score >= 70:\n",
    "    grade = 'C'\n",
    "elif score >= 60:\n",
    "    grade = 'D'\n",
    "else:\n",
    "    grade = 'F'\n",
    "\n",
    "# Print the grade\n",
    "print(f\"The student's grade is: {grade}\")\n"
   ]
  },
  {
   "cell_type": "markdown",
   "id": "5a292f04-2bd3-4322-ae88-0bca5a2babc9",
   "metadata": {},
   "source": [
    "## Q-no11. Write a Python program to check if a string is empty or not using if-else."
   ]
  },
  {
   "cell_type": "code",
   "execution_count": 10,
   "id": "febf67ea-ce0e-46c2-ba6e-2f1f755ad316",
   "metadata": {},
   "outputs": [
    {
     "name": "stdin",
     "output_type": "stream",
     "text": [
      "Enter a string:  \n"
     ]
    },
    {
     "name": "stdout",
     "output_type": "stream",
     "text": [
      "String is empty\n"
     ]
    }
   ],
   "source": [
    "string = input(\"Enter a string: \")\n",
    "\n",
    "if string:\n",
    "  print(\"String is not empty\")\n",
    "else:\n",
    "  print(\"String is empty\")"
   ]
  },
  {
   "cell_type": "markdown",
   "id": "978666b0-f1d1-4ea6-9666-88d5f8b044e4",
   "metadata": {},
   "source": [
    "## Q-no/12. Create a Python program that identifies the type of a triangle (e.g., equilateral, isosceles, or scalene) based on input values using if-else."
   ]
  },
  {
   "cell_type": "code",
   "execution_count": 12,
   "id": "bb2d9569-6ad1-4c17-b4c9-d713a841d6e3",
   "metadata": {},
   "outputs": [
    {
     "name": "stdin",
     "output_type": "stream",
     "text": [
      "Enter side1:  6\n",
      "Enter side2:  9\n",
      "Enter side3:  4\n"
     ]
    },
    {
     "name": "stdout",
     "output_type": "stream",
     "text": [
      "Scalene triangle\n"
     ]
    }
   ],
   "source": [
    "side1 = float(input(\"Enter side1: \"))\n",
    "side2 = float(input(\"Enter side2: \")) \n",
    "side3 = float(input(\"Enter side3: \"))\n",
    "\n",
    "if side1 == side2 == side3:\n",
    "  print(\"Equilateral triangle\")\n",
    "elif side1 == side2 or side1 == side3 or side2 == side3:\n",
    "  print(\"Isosceles triangle\")\n",
    "else:\n",
    "  print(\"Scalene triangle\")"
   ]
  },
  {
   "cell_type": "markdown",
   "id": "05637dbb-0565-44e1-bbd7-983082422141",
   "metadata": {},
   "source": [
    "## Q-no/13. Write a Python program to determine the day of the week based on a user-provided number using if-else."
   ]
  },
  {
   "cell_type": "code",
   "execution_count": 13,
   "id": "391c14bd-8d7a-42e3-8488-dfde97bb32a4",
   "metadata": {},
   "outputs": [
    {
     "name": "stdin",
     "output_type": "stream",
     "text": [
      "Enter a number (1-7):  4\n"
     ]
    },
    {
     "name": "stdout",
     "output_type": "stream",
     "text": [
      "Thursday\n"
     ]
    }
   ],
   "source": [
    "number = int(input(\"Enter a number (1-7): \"))\n",
    "\n",
    "if number == 1:\n",
    "  print(\"Monday\")\n",
    "elif number == 2:\n",
    "  print(\"Tuesday\")  \n",
    "elif number == 3: \n",
    "  print(\"Wednesday\")\n",
    "elif number == 4:\n",
    "  print(\"Thursday\")\n",
    "elif number == 5:\n",
    "  print(\"Friday\")  \n",
    "elif number == 6:\n",
    "  print(\"Saturday\")\n",
    "elif number == 7:\n",
    "  print(\"Sunday\")\n",
    "else:\n",
    "  print(\"Invalid number\")"
   ]
  },
  {
   "cell_type": "markdown",
   "id": "1d0111a5-108a-4716-b3fb-dee9547931b8",
   "metadata": {},
   "source": [
    "## Q-no/14. Create a Python program that checks if a given year is a leap year using both if-else and a function."
   ]
  },
  {
   "cell_type": "code",
   "execution_count": 14,
   "id": "331f34d9-89a1-4725-82cc-e397632290fd",
   "metadata": {},
   "outputs": [
    {
     "name": "stdin",
     "output_type": "stream",
     "text": [
      "Enter a year:  2023\n"
     ]
    },
    {
     "name": "stdout",
     "output_type": "stream",
     "text": [
      "2023 is not a leap year\n"
     ]
    }
   ],
   "source": [
    "def is_leap(year):\n",
    "   return (year%4==0 and year%100!=0) or year%400==0\n",
    "\n",
    "year = int(input(\"Enter a year: \"))\n",
    "\n",
    "if is_leap(year):\n",
    "   print(f\"{year} is a leap year\")\n",
    "else:\n",
    "   print(f\"{year} is not a leap year\")"
   ]
  },
  {
   "cell_type": "markdown",
   "id": "80c7b416-18e4-45f4-ae53-c20b00b42541",
   "metadata": {},
   "source": [
    "## Q-no/15. How do you use the \"assert\" statement in Python to add debugging checks within if-else blocks?"
   ]
  },
  {
   "cell_type": "code",
   "execution_count": null,
   "id": "6070d3ed-e1b4-4446-8bbc-f109d22700c5",
   "metadata": {},
   "outputs": [],
   "source": [
    "assert condition, message\n"
   ]
  },
  {
   "cell_type": "code",
   "execution_count": 17,
   "id": "bdfcd525-40d8-405e-9dd2-6f1cf8c729b9",
   "metadata": {},
   "outputs": [
    {
     "name": "stdout",
     "output_type": "stream",
     "text": [
      "x is odd\n"
     ]
    }
   ],
   "source": [
    "x = 5\n",
    "\n",
    "# Check if x is positive\n",
    "assert x > 0, \"x must be a positive number\"\n",
    "\n",
    "if x % 2 == 0:\n",
    "    print(\"x is even\")\n",
    "else:\n",
    "    print(\"x is odd\")\n"
   ]
  },
  {
   "cell_type": "markdown",
   "id": "754886ea-19d4-414d-bf6a-f7c6ffbb805c",
   "metadata": {},
   "source": [
    "## Q-no/16. Create a Python program that determines the eligibility of a person for a senior citizen discount based on age using if-else."
   ]
  },
  {
   "cell_type": "code",
   "execution_count": 18,
   "id": "a924837f-09fb-4dff-85f0-ca097b3520c7",
   "metadata": {},
   "outputs": [
    {
     "name": "stdout",
     "output_type": "stream",
     "text": [
      "The person is eligible for a senior citizen discount.\n"
     ]
    }
   ],
   "source": [
    "def is_eligible_for_senior_citizen_discount(age):\n",
    "  \"\"\"Determines the eligibility of a person for a senior citizen discount based on age using if-else.\n",
    "\n",
    "  Args:\n",
    "    age: The age of the person.\n",
    "\n",
    "  Returns:\n",
    "    True if the person is eligible for a senior citizen discount, False otherwise.\n",
    "  \"\"\"\n",
    "\n",
    "  if age >= 60:\n",
    "    return True\n",
    "  else:\n",
    "    return False\n",
    "\n",
    "\n",
    "# Example usage:\n",
    "\n",
    "age = 65\n",
    "\n",
    "is_eligible_for_senior_citizen_discount = is_eligible_for_senior_citizen_discount(age)\n",
    "\n",
    "if is_eligible_for_senior_citizen_discount:\n",
    "  print(\"The person is eligible for a senior citizen discount.\")\n",
    "else:\n",
    "  print(\"The person is not eligible for a senior citizen discount.\")"
   ]
  },
  {
   "cell_type": "markdown",
   "id": "a786761e-4f83-4706-9e3c-f09ea28aecf3",
   "metadata": {},
   "source": [
    "## Q-no/17. Write a Python program to categorize a given character as uppercase, lowercase, or neither using if-else.\n"
   ]
  },
  {
   "cell_type": "code",
   "execution_count": 20,
   "id": "084206d8-896a-49d3-8149-a0ef07ae6177",
   "metadata": {},
   "outputs": [
    {
     "name": "stdin",
     "output_type": "stream",
     "text": [
      "Enter a character:  I\n"
     ]
    },
    {
     "name": "stdout",
     "output_type": "stream",
     "text": [
      "The character 'I' is uppercase.\n"
     ]
    }
   ],
   "source": [
    "# Input: Get a character from the user\n",
    "char = input(\"Enter a character: \")\n",
    "\n",
    "# Check if the character is uppercase, lowercase, or neither using if-else\n",
    "if char.isalpha():\n",
    "    if char.isupper():\n",
    "        print(f\"The character '{char}' is uppercase.\")\n",
    "    elif char.islower():\n",
    "        print(f\"The character '{char}' is lowercase.\")\n",
    "else:\n",
    "    print(f\"The character '{char}' is neither uppercase nor lowercase.\")\n"
   ]
  },
  {
   "cell_type": "markdown",
   "id": "25865f7b-82e7-468e-b3aa-6e156f4cede7",
   "metadata": {},
   "source": [
    "## Q-no/18. Write a Python program to determine the roots of a quadratic equation using if-else.\n"
   ]
  },
  {
   "cell_type": "code",
   "execution_count": 21,
   "id": "82cd3379-5e65-4cf2-bfba-064611a78be9",
   "metadata": {},
   "outputs": [
    {
     "name": "stdin",
     "output_type": "stream",
     "text": [
      "Enter a:  3\n",
      "Enter b:  5\n",
      "Enter c:  8\n"
     ]
    },
    {
     "name": "stdout",
     "output_type": "stream",
     "text": [
      "Roots are complex\n"
     ]
    }
   ],
   "source": [
    "import math\n",
    "\n",
    "a = float(input(\"Enter a: \"))\n",
    "b = float(input(\"Enter b: \"))\n",
    "c = float(input(\"Enter c: \"))\n",
    "\n",
    "discriminant = (b**2) - (4*a*c)\n",
    "\n",
    "if discriminant > 0:\n",
    "  root1 = (-b + math.sqrt(discriminant)) / (2*a)\n",
    "  root2 = (-b - math.sqrt(discriminant)) / (2*a)\n",
    "  print(f\"Two distinct real roots are: {root1} and {root2}\")\n",
    "\n",
    "elif discriminant == 0:\n",
    "  root1 = root2 = -b / (2*a)\n",
    "  print(f\"Two same real roots are: {root1}\")\n",
    "  \n",
    "else:\n",
    "  print(\"Roots are complex\")"
   ]
  },
  {
   "cell_type": "markdown",
   "id": "a6c8893a-9905-445a-8676-b9447139670f",
   "metadata": {},
   "source": [
    "## Q-no/19. Create a Python program that checks if a given year is a century year or not using if-else.\n"
   ]
  },
  {
   "cell_type": "code",
   "execution_count": 23,
   "id": "e2f80b22-0b35-4da4-bab6-126bb56d9f4e",
   "metadata": {},
   "outputs": [
    {
     "name": "stdin",
     "output_type": "stream",
     "text": [
      "Enter a year:  2022\n"
     ]
    },
    {
     "name": "stdout",
     "output_type": "stream",
     "text": [
      "2022 is not a century year.\n"
     ]
    }
   ],
   "source": [
    "# Input: Get the year from the user\n",
    "year = int(input(\"Enter a year: \"))\n",
    "\n",
    "# Check if the year is a century year using if-else\n",
    "if year % 100 == 0:\n",
    "    print(f\"{year} is a century year.\")\n",
    "else:\n",
    "    print(f\"{year} is not a century year.\")\n"
   ]
  },
  {
   "cell_type": "markdown",
   "id": "0617c842-42d1-4380-92aa-87f9aa50df70",
   "metadata": {},
   "source": [
    "## Q-no/20. Write a Python program to determine if a given number is a perfect square using if-else.\n"
   ]
  },
  {
   "cell_type": "code",
   "execution_count": 25,
   "id": "88d6ae99-5931-471e-80ba-e660240550fe",
   "metadata": {},
   "outputs": [
    {
     "name": "stdin",
     "output_type": "stream",
     "text": [
      "Enter a number:  33\n"
     ]
    },
    {
     "name": "stdout",
     "output_type": "stream",
     "text": [
      "33 is not a perfect square.\n"
     ]
    }
   ],
   "source": [
    "# Input: Get the number from the user\n",
    "number = int(input(\"Enter a number: \"))\n",
    "\n",
    "# Check if the number is a perfect square using if-else\n",
    "if number >= 0:\n",
    "    square_root = int(number**0.5)\n",
    "    if square_root**2 == number:\n",
    "        print(f\"{number} is a perfect square.\")\n",
    "    else:\n",
    "        print(f\"{number} is not a perfect square.\")\n",
    "else:\n",
    "    print(f\"{number} is not a perfect square (negative numbers cannot be perfect squares).\")\n"
   ]
  },
  {
   "cell_type": "markdown",
   "id": "f0d63b02-0eb6-4615-bddd-ca4311818bc2",
   "metadata": {},
   "source": [
    "## Q-no/21. Explain the purpose of the \"continue\" and \"break\" statements within if-else loops."
   ]
  },
  {
   "cell_type": "code",
   "execution_count": null,
   "id": "13b1b7c2-f158-4c82-b019-c14d899838bd",
   "metadata": {},
   "outputs": [],
   "source": [
    "The continue and break statements have specific purposes when used within if-else blocks inside\n",
    "loops in Python:\n",
    "\n",
    "continue statement:\n",
    "- It skips the current iteration of the loop and continues with the next iteration.\n",
    "- The rest of the code in the current loop iteration is skipped and it directly jumps\n",
    "to the next iteration.\n",
    "\n",
    "For example:\n",
    "\n",
    "```python\n",
    "for i in range(5):\n",
    "  if i==2:\n",
    "    continue \n",
    "  print(i)\n",
    "``` \n",
    "\n",
    "This will print 0, 1, 3, 4 skipping 2.\n",
    "\n",
    "break statement:  \n",
    "- It breaks/exits out of the entire enclosing loop (for, while). \n",
    "- The code after the break statement inside the loop is not executed.\n",
    "\n",
    "For example: \n",
    "\n",
    "```python\n",
    "for i in range(5):\n",
    "  if i==2:\n",
    "    break\n",
    "  print(i) \n",
    "```\n",
    "\n",
    "This will print 0, 1 and exit the loop without printing remaining iterations.\n",
    "\n",
    "So in summary:\n",
    "- continue skips current iteration\n",
    "- break exits/breaks out of the entire loop\n",
    "\n",
    "They allow controlling the flow inside loops based on conditional checks using if-else blocks."
   ]
  },
  {
   "cell_type": "markdown",
   "id": "7b57b454-a3f5-4a90-aab6-b32ef923f321",
   "metadata": {},
   "source": [
    "## Q-no/22. Create a Python program that calculates the BMI (Body Mass Index) of a person based on their weight and height using if-else."
   ]
  },
  {
   "cell_type": "code",
   "execution_count": 26,
   "id": "206fb689-1e34-49a4-b244-5b077d804169",
   "metadata": {},
   "outputs": [
    {
     "name": "stdin",
     "output_type": "stream",
     "text": [
      "Enter the weight (in kilograms):  66\n",
      "Enter the height (in meters):  2\n"
     ]
    },
    {
     "name": "stdout",
     "output_type": "stream",
     "text": [
      "Your BMI is 16.50. You are classified as 'Underweight'.\n"
     ]
    }
   ],
   "source": [
    "# Input: Get the weight (in kilograms) and height (in meters) from the user\n",
    "weight = float(input(\"Enter the weight (in kilograms): \"))\n",
    "height = float(input(\"Enter the height (in meters): \"))\n",
    "\n",
    "# Calculate the BMI\n",
    "bmi = weight / (height ** 2)\n",
    "\n",
    "# Determine the BMI category using if-else\n",
    "if bmi < 18.5:\n",
    "    category = \"Underweight\"\n",
    "elif 18.5 <= bmi < 24.9:\n",
    "    category = \"Normal Weight\"\n",
    "elif 25 <= bmi < 29.9:\n",
    "    category = \"Overweight\"\n",
    "else:\n",
    "    category = \"Obese\"\n",
    "\n",
    "# Print the BMI and category\n",
    "print(f\"Your BMI is {bmi:.2f}. You are classified as '{category}'.\")\n"
   ]
  },
  {
   "cell_type": "markdown",
   "id": "b6bafe9a-9a73-4fc7-bb23-a4be959791ae",
   "metadata": {},
   "source": [
    "## Q-no/23. How can you use the \"filter()\" function with if-else statements to filter elements from a list?\n"
   ]
  },
  {
   "cell_type": "code",
   "execution_count": 27,
   "id": "4a7930a4-ba7a-400e-9841-46f03ec567a3",
   "metadata": {},
   "outputs": [
    {
     "name": "stdout",
     "output_type": "stream",
     "text": [
      "[2, 4, 6, 8, 10]\n"
     ]
    }
   ],
   "source": [
    "# Define a custom function to filter even numbers\n",
    "def filter_even(number):\n",
    "    if number % 2 == 0:\n",
    "        return True\n",
    "    else:\n",
    "        return False\n",
    "\n",
    "# Create a list of numbers\n",
    "numbers = [1, 2, 3, 4, 5, 6, 7, 8, 9, 10]\n",
    "\n",
    "# Use the filter function with the custom function\n",
    "filtered_numbers = filter(filter_even, numbers)\n",
    "\n",
    "# Convert the filtered result to a list\n",
    "even_numbers = list(filtered_numbers)\n",
    "\n",
    "# Print the even numbers\n",
    "print(even_numbers)\n"
   ]
  },
  {
   "cell_type": "markdown",
   "id": "69e1e39c-ac93-4a72-9fb6-f5d523c4bb03",
   "metadata": {},
   "source": [
    "## Q-no/24. Write a Python program to determine if a given number is prime or not using if-else.\n"
   ]
  },
  {
   "cell_type": "code",
   "execution_count": 28,
   "id": "cb3a5a34-a560-4a04-b064-fb9d74040152",
   "metadata": {},
   "outputs": [
    {
     "name": "stdin",
     "output_type": "stream",
     "text": [
      "Enter a number:  5\n"
     ]
    },
    {
     "name": "stdout",
     "output_type": "stream",
     "text": [
      "5 is a prime number\n"
     ]
    }
   ],
   "source": [
    "num = int(input(\"Enter a number: \"))\n",
    "\n",
    "isPrime = True\n",
    "\n",
    "for i in range(2,num):\n",
    "  if(num % i==0):\n",
    "    isPrime = False\n",
    "    break\n",
    "\n",
    "if isPrime:\n",
    "  print(f\"{num} is a prime number\")\n",
    "else:\n",
    "  print(f\"{num} is not a prime number\")"
   ]
  },
  {
   "cell_type": "markdown",
   "id": "83e5891a-3f08-468d-b038-b6da2c61c297",
   "metadata": {},
   "source": [
    "## MAP :>"
   ]
  },
  {
   "cell_type": "markdown",
   "id": "1bc0edfb-e52b-4fa4-a4b2-354f872110c9",
   "metadata": {},
   "source": [
    "### Q-no/1. Explain the purpose of the `map()` function in Python and provide an example of how it can be used to apply a function to each element of an iterable."
   ]
  },
  {
   "cell_type": "code",
   "execution_count": null,
   "id": "604570e1-13db-479b-8670-544bf4336ba8",
   "metadata": {},
   "outputs": [],
   "source": [
    "The map() function in Python applies a given function to each element in an \n",
    "iterable (list, tuple etc.) and returns a map object. \n",
    "\n",
    "Some key points about map():\n",
    "\n",
    "- It applies the same function to every element of the iterable.\n",
    "- The function takes one parameter for each element.\n",
    "- Returns a map object that supports iteration.\n",
    "\n",
    "A basic example:\n",
    "\n",
    "```python\n",
    "numbers = [1, 2, 3, 4, 5]\n",
    "\n",
    "def square(x):\n",
    "  return x**2\n",
    "\n",
    "squared = map(square, numbers) \n",
    "\n",
    "print(list(squared)) \n",
    "# Output: [1, 4, 9, 16, 25]\n",
    "```\n",
    "\n",
    "Here:\n",
    "\n",
    "- numbers is the iterable \n",
    "- square() function takes one parameter \n",
    "- map() applies square to each element of numbers\n",
    "- Converting map to list displays the output\n",
    "\n",
    "This allows applying a function to all elements in a list/tuple easily in a single line.\n",
    "\n",
    "Some key uses of map() are typecasting, filtering, transforming etc. \n",
    "It is useful for functional-style coding in Python.\n"
   ]
  },
  {
   "cell_type": "markdown",
   "id": "4df4f63f-6eae-43f8-9c76-ad94697f17f9",
   "metadata": {},
   "source": [
    "### Q-no/2. Write a Python program that uses the `map()` function to square each element of a list of numbers."
   ]
  },
  {
   "cell_type": "code",
   "execution_count": 2,
   "id": "54636367-af4f-4087-b252-dcbca68e0e56",
   "metadata": {},
   "outputs": [
    {
     "name": "stdout",
     "output_type": "stream",
     "text": [
      "[1, 4, 9, 16, 25]\n"
     ]
    }
   ],
   "source": [
    "# List of numbers\n",
    "numbers = [1, 2, 3, 4, 5]\n",
    "\n",
    "# Function to square a number  \n",
    "def square(x):\n",
    "  return x**2\n",
    "\n",
    "# Map the square function to \n",
    "# each element of numbers\n",
    "squared_numbers = list(map(square, numbers))\n",
    "\n",
    "print(squared_numbers)"
   ]
  },
  {
   "cell_type": "markdown",
   "id": "237dca24-7861-4535-a73a-bcdbf81f70cc",
   "metadata": {},
   "source": [
    "### Q-no/3. How does the `map()` function differ from a list comprehension in Python, and when would you choose one over the other?\n"
   ]
  },
  {
   "cell_type": "code",
   "execution_count": null,
   "id": "729542cc-6f6d-4241-b7d2-83454d450d36",
   "metadata": {},
   "outputs": [],
   "source": [
    "The `map()` function and list comprehensions are both ways to apply a function to each element of \n",
    "an iterable in Python. However, there are some key differences between the two:\n",
    "\n",
    "* **Syntax:** The `map()` function takes two arguments: a function and an iterable. \n",
    "The function is applied to each element of the iterable, and the results are returned as a map \n",
    "object. List comprehensions are more concise and expressive, but they can be more difficult to \n",
    "read for complex expressions.\n",
    "\n",
    "* **Return type:** The `map()` function returns a map object, which is an iterator that can be \n",
    "iterated over to produce the transformed elements. List comprehensions return a list \n",
    "containing the transformed elements.\n",
    "\n",
    "* **Performance:** The `map()` function is generally faster than list comprehensions, especially \n",
    "for simple expressions. However, list comprehensions can be faster for complex expressions.\n",
    "\n",
    "* **Readability:** List comprehensions are generally more readable and concise than the `map()`\n",
    "function, especially for simple expressions. However, the `map()` function can be more readable\n",
    "for complex expressions.\n",
    "\n",
    "**When to use `map()`:**\n",
    "\n",
    "* When you need to apply a function to each element of an iterable and return a map object.\n",
    "* When you need to apply a function to each element of an iterable and the function is already\n",
    "defined.\n",
    "* When you need to apply a function to each element of an iterable and the expression is simple.\n",
    "* When performance is a critical concern.\n",
    "\n",
    "**When to use a list comprehension:**\n",
    "\n",
    "* When you need to apply a function to each element of an iterable and return a list.\n",
    "* When you need to apply a function to each element of an iterable and the function is not already\n",
    "defined.\n",
    "* When you need to apply a function to each element of an iterable and the expression is complex.\n",
    "* When readability is a critical concern.\n",
    "\n",
    "In general, it is best to use the method that is more readable and concise for your specific needs.\n",
    "If performance is a critical concern, you can always benchmark the two methods to see \n",
    "which one is faster.\n",
    "\n",
    "Here is an example of how to use the `map()` function and a list comprehension to achieve the\n",
    "same result:\n",
    "\n",
    "```python\n",
    "# Using the `map()` function\n",
    "def square(x):\n",
    "  return x * x\n",
    "\n",
    "numbers = [1, 2, 3, 4, 5]\n",
    "\n",
    "squared_numbers = map(square, numbers)\n",
    "\n",
    "# Using a list comprehension\n",
    "squared_numbers = [square(x) for x in numbers]\n",
    "\n",
    "# Print the new list.\n",
    "print(squared_numbers)\n",
    "```\n",
    "\n",
    "Output:\n",
    "\n",
    "```\n",
    "[1, 4, 9, 16, 25]\n",
    "```\n",
    "\n",
    "Which method you choose is a matter of personal preference and the specific needs of your code.\n",
    "However, it is important to understand the differences between the two methods so that you \n",
    "can make the best decision for your situation."
   ]
  },
  {
   "cell_type": "markdown",
   "id": "b23dc3d5-9dc2-4183-9d34-b2b334417dfb",
   "metadata": {},
   "source": [
    "### Q-no/4. Create a Python program that uses the `map()` function to convert a list of names to uppercase."
   ]
  },
  {
   "cell_type": "code",
   "execution_count": 1,
   "id": "d9eb54ab-e823-4be4-8914-a0d1803009c3",
   "metadata": {},
   "outputs": [
    {
     "name": "stdout",
     "output_type": "stream",
     "text": [
      "['ALICE', 'BOB', 'CHARLIE', 'DAVID', 'EVE']\n"
     ]
    }
   ],
   "source": [
    "# List of names\n",
    "names = [\"Alice\", \"Bob\", \"Charlie\", \"David\", \"Eve\"]\n",
    "\n",
    "# Define a function to convert a name to uppercase\n",
    "def convert_to_uppercase(name):\n",
    "    return name.upper()\n",
    "\n",
    "# Use the map function to convert all names to uppercase\n",
    "uppercased_names = map(convert_to_uppercase, names)\n",
    "\n",
    "# Convert the result to a list\n",
    "uppercased_names_list = list(uppercased_names)\n",
    "\n",
    "# Print the uppercase names\n",
    "print(uppercased_names_list)\n"
   ]
  },
  {
   "cell_type": "markdown",
   "id": "04645724-cfce-4f53-aa03-c97908b310c2",
   "metadata": {},
   "source": [
    "### Q-no/5. Write a Python program that uses the `map()` function to calculate the length of each word in a list of strings.\n"
   ]
  },
  {
   "cell_type": "code",
   "execution_count": 2,
   "id": "669db97b-0a38-48dd-8198-60772f5f571d",
   "metadata": {},
   "outputs": [
    {
     "name": "stdout",
     "output_type": "stream",
     "text": [
      "[5, 6, 6, 4, 3]\n"
     ]
    }
   ],
   "source": [
    "# List of strings\n",
    "words = [\"apple\", \"banana\", \"cherry\", \"date\", \"fig\"]\n",
    "\n",
    "# Define a function to calculate the length of a word\n",
    "def word_length(word):\n",
    "    return len(word)\n",
    "\n",
    "# Use the map function to apply the word_length function to each word\n",
    "word_lengths = map(word_length, words)\n",
    "\n",
    "# Convert the result to a list\n",
    "word_lengths_list = list(word_lengths)\n",
    "\n",
    "# Print the word lengths\n",
    "print(word_lengths_list)\n"
   ]
  },
  {
   "cell_type": "markdown",
   "id": "3b0984ca-e137-4616-bdaa-ac9ea61a6e00",
   "metadata": {},
   "source": [
    "### Q-no/6. How can you use the `map()` function to apply a custom function to elements of multiple lists simultaneously in Python?"
   ]
  },
  {
   "cell_type": "code",
   "execution_count": 3,
   "id": "fcfd147b-4d0b-42ed-800c-93f8f7053533",
   "metadata": {},
   "outputs": [
    {
     "name": "stdout",
     "output_type": "stream",
     "text": [
      "[5, 7, 9]\n"
     ]
    }
   ],
   "source": [
    "list1 = [1, 2, 3] \n",
    "list2 = [4, 5, 6]\n",
    "\n",
    "def func(x, y):\n",
    "  return x + y\n",
    "\n",
    "result = list(map(func, list1, list2))\n",
    "\n",
    "print(result)"
   ]
  },
  {
   "cell_type": "markdown",
   "id": "eb7bafa2-22de-42cf-8193-2f5bd964e5a2",
   "metadata": {},
   "source": [
    "### Q-no/7. Create a Python program that uses `map()` to convert a list of temperatures from Celsius to Fahrenheit.\n"
   ]
  },
  {
   "cell_type": "code",
   "execution_count": 4,
   "id": "98eb4a62-0277-4544-a04e-9c9744b2288b",
   "metadata": {},
   "outputs": [
    {
     "name": "stdout",
     "output_type": "stream",
     "text": [
      "[102.56, 97.7, 99.14, 100.4, 100.03999999999999]\n"
     ]
    }
   ],
   "source": [
    "celsius = [39.2, 36.5, 37.3, 38, 37.8]\n",
    "\n",
    "def celsius_to_fahrenheit(temp):\n",
    "  return temp * 9/5 + 32\n",
    "\n",
    "fahrenheit = list(map(celsius_to_fahrenheit, celsius))\n",
    "\n",
    "print(fahrenheit)"
   ]
  },
  {
   "cell_type": "markdown",
   "id": "0abc72c6-759c-4f52-a53d-4e998362d676",
   "metadata": {},
   "source": [
    "### Q-no/8. Write a Python program that uses the `map()` function to round each element of a list of floating-point numbers to the nearest integer."
   ]
  },
  {
   "cell_type": "code",
   "execution_count": 5,
   "id": "d1f4729a-1067-417b-a6bf-e3dbaa191dcc",
   "metadata": {},
   "outputs": [
    {
     "name": "stdout",
     "output_type": "stream",
     "text": [
      "[4, 2, 5, 2, 5]\n"
     ]
    }
   ],
   "source": [
    "# List of floating-point numbers\n",
    "float_numbers = [3.7, 2.2, 4.8, 1.5, 5.2]\n",
    "\n",
    "# Define a function to round a floating-point number to the nearest integer\n",
    "def round_to_nearest_integer(number):\n",
    "    return round(number)\n",
    "\n",
    "# Use the map function to apply the rounding function to the numbers\n",
    "rounded_integers = map(round_to_nearest_integer, float_numbers)\n",
    "\n",
    "# Convert the result to a list\n",
    "rounded_integers_list = list(rounded_integers)\n",
    "\n",
    "# Print the rounded integers\n",
    "print(rounded_integers_list)\n"
   ]
  },
  {
   "cell_type": "markdown",
   "id": "df036e74-601d-43ff-a3ad-15117177f971",
   "metadata": {},
   "source": [
    "## REDUCE"
   ]
  },
  {
   "cell_type": "markdown",
   "id": "86d4cea1-beca-4d80-a89b-74205db03550",
   "metadata": {},
   "source": [
    "### Q-no/1. What is the `reduce()` function in Python, and what module should you import to use it? Provide an example of its basic usage"
   ]
  },
  {
   "cell_type": "code",
   "execution_count": 6,
   "id": "75803f42-b40c-4325-87e4-c6afb8676fbe",
   "metadata": {},
   "outputs": [
    {
     "name": "stdout",
     "output_type": "stream",
     "text": [
      "120\n"
     ]
    }
   ],
   "source": [
    "from functools import reduce\n",
    "\n",
    "# List of numbers\n",
    "numbers = [1, 2, 3, 4, 5]\n",
    "\n",
    "# Define a function that takes two numbers and returns their product\n",
    "def multiply(x, y):\n",
    "    return x * y\n",
    "\n",
    "# Use the reduce function to calculate the product of all numbers in the list\n",
    "result = reduce(multiply, numbers)\n",
    "\n",
    "# Print the result\n",
    "print(result)\n"
   ]
  },
  {
   "cell_type": "markdown",
   "id": "47fe768e-69f8-41ae-9348-5f83853e1790",
   "metadata": {},
   "source": [
    "### Q-no/2. Write a Python program that uses the `reduce()` function to find the product of all elements in a list"
   ]
  },
  {
   "cell_type": "code",
   "execution_count": 7,
   "id": "5cbfe126-cc0e-4f50-b0ae-a86ecfe3318f",
   "metadata": {},
   "outputs": [
    {
     "name": "stdout",
     "output_type": "stream",
     "text": [
      "The product of all elements in the list is: 120\n"
     ]
    }
   ],
   "source": [
    "from functools import reduce\n",
    "\n",
    "# List of numbers\n",
    "numbers = [2, 3, 4, 5]\n",
    "\n",
    "# Define a function to calculate the product of two numbers\n",
    "def multiply(x, y):\n",
    "    return x * y\n",
    "\n",
    "# Use the reduce function to find the product of all numbers in the list\n",
    "product = reduce(multiply, numbers)\n",
    "\n",
    "# Print the product\n",
    "print(f\"The product of all elements in the list is: {product}\")\n"
   ]
  },
  {
   "cell_type": "markdown",
   "id": "e2ab25a0-4b55-43bd-8351-a52573b0fda3",
   "metadata": {},
   "source": [
    "### Q-no/3. Create a Python program that uses `reduce()` to find the maximum element in a list of numbers.\n"
   ]
  },
  {
   "cell_type": "code",
   "execution_count": 8,
   "id": "0e8558be-e401-42ea-95ee-d744a2881597",
   "metadata": {},
   "outputs": [
    {
     "name": "stdout",
     "output_type": "stream",
     "text": [
      "The maximum element in the list is: 90\n"
     ]
    }
   ],
   "source": [
    "from functools import reduce\n",
    "\n",
    "# List of numbers\n",
    "numbers = [23, 45, 12, 67, 5, 90, 42]\n",
    "\n",
    "# Define a function to find the maximum of two numbers\n",
    "def find_maximum(x, y):\n",
    "    return x if x > y else y\n",
    "\n",
    "# Use the reduce function to find the maximum element in the list\n",
    "maximum = reduce(find_maximum, numbers)\n",
    "\n",
    "# Print the maximum element\n",
    "print(f\"The maximum element in the list is: {maximum}\")\n"
   ]
  },
  {
   "cell_type": "markdown",
   "id": "93a1ec23-4490-4551-a180-cdf42988eb72",
   "metadata": {},
   "source": [
    "### Q-no/4. How can you use the `reduce()` function to concatenate a list of strings into a single string?\n"
   ]
  },
  {
   "cell_type": "code",
   "execution_count": 9,
   "id": "ac66573c-4d26-45a5-852c-3833c65fef9d",
   "metadata": {},
   "outputs": [
    {
     "name": "stdout",
     "output_type": "stream",
     "text": [
      "Hello World!\n"
     ]
    }
   ],
   "source": [
    "from functools import reduce\n",
    "\n",
    "# List of strings\n",
    "strings = [\"Hello\", \" \", \"World\", \"!\"]\n",
    "\n",
    "# Define a function to concatenate two strings\n",
    "def concatenate_strings(x, y):\n",
    "    return x + y\n",
    "\n",
    "# Use the reduce function to concatenate the list of strings into a single string\n",
    "result = reduce(concatenate_strings, strings)\n",
    "\n",
    "# Print the concatenated string\n",
    "print(result)\n"
   ]
  },
  {
   "cell_type": "markdown",
   "id": "95ed1039-05c9-4998-a17c-e402a2c080c5",
   "metadata": {},
   "source": [
    "### Q-no/5. Write a Python program that calculates the factorial of a number using the `reduce()` function.\n"
   ]
  },
  {
   "cell_type": "code",
   "execution_count": 10,
   "id": "75fdc4b8-79df-4521-b1e4-c9f8e0ecc3cb",
   "metadata": {},
   "outputs": [
    {
     "name": "stdin",
     "output_type": "stream",
     "text": [
      "Enter a number:  5\n"
     ]
    },
    {
     "name": "stdout",
     "output_type": "stream",
     "text": [
      "The factorial of 5 is: 120\n"
     ]
    }
   ],
   "source": [
    "from functools import reduce\n",
    "\n",
    "# Define a function to calculate the product of two numbers\n",
    "def multiply(x, y):\n",
    "    return x * y\n",
    "\n",
    "# Function to calculate the factorial of a number\n",
    "def factorial(n):\n",
    "    if n == 0:\n",
    "        return 1\n",
    "    else:\n",
    "        return reduce(multiply, range(1, n + 1))\n",
    "\n",
    "# Input: Get the number from the user\n",
    "num = int(input(\"Enter a number: \"))\n",
    "\n",
    "# Calculate the factorial using the factorial function\n",
    "result = factorial(num)\n",
    "\n",
    "# Print the factorial\n",
    "print(f\"The factorial of {num} is: {result}\")\n"
   ]
  },
  {
   "cell_type": "markdown",
   "id": "9532fb17-b8ff-42a7-aaab-b2dd8f6d69cb",
   "metadata": {},
   "source": [
    "### Q-no/6. Create a Python program that uses `reduce()` to find the GCD (Greatest Common Divisor) of a list of numbers.\n"
   ]
  },
  {
   "cell_type": "code",
   "execution_count": 11,
   "id": "340e2ac0-5efc-4d16-b9e5-51044f202bcf",
   "metadata": {},
   "outputs": [
    {
     "name": "stdout",
     "output_type": "stream",
     "text": [
      "The GCD of the numbers is: 12\n"
     ]
    }
   ],
   "source": [
    "from functools import reduce\n",
    "import math\n",
    "\n",
    "# List of numbers\n",
    "numbers = [24, 36, 48, 60]\n",
    "\n",
    "# Use the reduce function to find the GCD of the list of numbers\n",
    "gcd_result = reduce(math.gcd, numbers)\n",
    "\n",
    "# Print the GCD\n",
    "print(f\"The GCD of the numbers is: {gcd_result}\")\n"
   ]
  },
  {
   "cell_type": "markdown",
   "id": "3fe7fc53-2bd3-41fc-bebe-0f4d1c5a3f4c",
   "metadata": {},
   "source": [
    "### Q-no/7. Write a Python program that uses the `reduce()` function to find the sum of the digits of a given number."
   ]
  },
  {
   "cell_type": "code",
   "execution_count": 1,
   "id": "2ca015e4-ec13-42ec-adc0-b6bcd537a480",
   "metadata": {},
   "outputs": [
    {
     "name": "stdin",
     "output_type": "stream",
     "text": [
      "Enter a number:  12345\n"
     ]
    },
    {
     "name": "stdout",
     "output_type": "stream",
     "text": [
      "The sum of the digits in 12345 is: 15\n"
     ]
    }
   ],
   "source": [
    "from functools import reduce\n",
    "\n",
    "# Define a function to add two numbers\n",
    "def add_digits(x, y):\n",
    "    return int(x) + int(y)\n",
    "\n",
    "# Input: Get the number from the user\n",
    "number = int(input(\"Enter a number: \"))\n",
    "\n",
    "# Convert the number to a string, then split it into individual digits\n",
    "digits_as_strings = str(number)\n",
    "list_of_digits = list(digits_as_strings)\n",
    "\n",
    "# Use the reduce function to find the sum of the digits\n",
    "sum_of_digits = reduce(add_digits, list_of_digits)\n",
    "\n",
    "# Print the sum of the digits\n",
    "print(f\"The sum of the digits in {number} is: {sum_of_digits}\")\n"
   ]
  },
  {
   "cell_type": "markdown",
   "id": "f324f0dd-c596-41b7-b9d1-adfd559181bd",
   "metadata": {},
   "source": [
    "## FILTER :>"
   ]
  },
  {
   "cell_type": "markdown",
   "id": "acef32ed-427b-47fb-933a-bbc1cbf595ca",
   "metadata": {},
   "source": [
    "### Q-no/1. Explain the purpose of the `filter()` function in Python and provide an example of how it can be used to filter elements from an iterable"
   ]
  },
  {
   "cell_type": "code",
   "execution_count": null,
   "id": "856b378e-a3b7-46bf-b302-d6bce6de6cf7",
   "metadata": {},
   "outputs": [],
   "source": [
    "The `filter()` function in Python is used to filter elements from an iterable (such as a list,\n",
    "tuple, etc.) based on a specified condition. It constructs an iterator from elements of the \n",
    "iterable for which a function returns `True`.\n",
    "\n",
    "\n",
    "The `filter()` function takes two arguments: a function that returns a boolean value\n",
    "(`True` or `False`), and an iterable. It evaluates each element in the iterable through the given\n",
    "function and returns an iterator containing only the elements for which the function returns `True`\n",
    "\n",
    "Here is an example to illustrate how the `filter()` function works:\n",
    "\n",
    "```python\n",
    "# Define a function to filter even numbers\n",
    "def filter_even(number):\n",
    "    return number % 2 == 0\n",
    "\n",
    "# List of numbers\n",
    "numbers = [1, 2, 3, 4, 5, 6, 7, 8, 9, 10]\n",
    "\n",
    "# Use the filter function to filter even numbers from the list\n",
    "even_numbers = list(filter(filter_even, numbers))\n",
    "\n",
    "# Print the filtered even numbers\n",
    "print(even_numbers)\n",
    "```\n",
    "\n",
    "In this example:\n",
    "\n",
    "1. We define a function `filter_even()` that checks whether a number is even (`True` if the number\n",
    "is divisible by 2 without a remainder).\n",
    "\n",
    "2. We have a list of numbers, `numbers`.\n",
    "\n",
    "3. We use the `filter()` function to apply the `filter_even` function to each element in\n",
    "the `numbers` list. The `filter()` function returns an iterator containing only the elements \n",
    "that satisfy the condition (in this case, even numbers).\n",
    "\n",
    "4. To see the filtered even numbers as a list, we convert the iterator to a list using \n",
    "the `list()` function.\n",
    "\n",
    "5. Finally, we print the filtered even numbers.\n",
    "\n",
    "The output will be:\n",
    "\n",
    "```\n",
    "[2, 4, 6, 8, 10]\n",
    "```\n",
    "\n",
    "This program demonstrates how the `filter()` function filters elements from an iterable based on\n",
    "the condition specified in the provided function (`filter_even` in this case) and creates a new\n",
    "list containing the filtered elements."
   ]
  },
  {
   "cell_type": "markdown",
   "id": "b8384fc7-eb6f-4d56-84fd-60a65da058e3",
   "metadata": {},
   "source": [
    "### Q-no/2. Write a Python program that uses the `filter()` function to select even numbers from a list of integers."
   ]
  },
  {
   "cell_type": "code",
   "execution_count": 2,
   "id": "43a7a3dc-2e28-4135-86be-c8cc9b003d66",
   "metadata": {},
   "outputs": [
    {
     "name": "stdout",
     "output_type": "stream",
     "text": [
      "[2, 4, 6, 8, 10]\n"
     ]
    }
   ],
   "source": [
    "# List of numbers\n",
    "numbers = [1, 2, 3, 4, 5, 6, 7, 8, 9, 10]\n",
    "\n",
    "# Define a function to filter even numbers\n",
    "def filter_even(number):\n",
    "    return number % 2 == 0\n",
    "\n",
    "# Use the filter function to filter even numbers from the list\n",
    "even_numbers = list(filter(filter_even, numbers))\n",
    "\n",
    "# Print the filtered even numbers\n",
    "print(even_numbers)\n"
   ]
  },
  {
   "cell_type": "markdown",
   "id": "f25b6087-fd95-4e45-8b1d-707d00d55fd4",
   "metadata": {},
   "source": [
    "### Q-no/3. Create a Python program that uses the `filter()` function to select names that start with a specific letter from a list of strings.\n"
   ]
  },
  {
   "cell_type": "code",
   "execution_count": 5,
   "id": "f8cc0c9d-4dda-4893-8ff7-c8e22d741d5d",
   "metadata": {},
   "outputs": [
    {
     "name": "stdin",
     "output_type": "stream",
     "text": [
      "Enter a letter:  Bob\n"
     ]
    },
    {
     "name": "stdout",
     "output_type": "stream",
     "text": [
      "Names starting with 'Bob': ['Bob']\n"
     ]
    }
   ],
   "source": [
    "# List of names\n",
    "names = ['Alice', 'Bob', 'Charlie', 'Dave', 'Eva', 'Frank', 'Grace']\n",
    "\n",
    "# Define a function to filter names starting with a specific letter\n",
    "def starts_with_letter(name, letter):\n",
    "    return name.startswith(letter)\n",
    "\n",
    "# Input: Get the specific letter from the user\n",
    "specific_letter = input(\"Enter a letter: \")\n",
    "\n",
    "# Use the filter function to filter names starting with the specific letter\n",
    "filtered_names = list(filter(lambda x: starts_with_letter(x, specific_letter), names))\n",
    "\n",
    "# Print the filtered names\n",
    "print(f\"Names starting with '{specific_letter}': {filtered_names}\")\n"
   ]
  },
  {
   "cell_type": "markdown",
   "id": "2b379420-bd4c-407d-8418-b44dd6a8b6f3",
   "metadata": {},
   "source": [
    "### Q-no/4. Write a Python program that uses the `filter()` function to select prime numbers from a list of integers"
   ]
  },
  {
   "cell_type": "code",
   "execution_count": 1,
   "id": "cdb40370-bc62-4975-9b52-2b5d088a6237",
   "metadata": {},
   "outputs": [
    {
     "name": "stdout",
     "output_type": "stream",
     "text": [
      "Prime numbers in the list: [2, 3, 5, 7, 11, 13]\n"
     ]
    }
   ],
   "source": [
    "# Define a function to check if a number is prime\n",
    "def is_prime(n):\n",
    "    if n < 2:\n",
    "        return False\n",
    "    for i in range(2, int(n ** 0.5) + 1):\n",
    "        if n % i == 0:\n",
    "            return False\n",
    "    return True\n",
    "\n",
    "# List of numbers\n",
    "numbers = [2, 3, 4, 5, 6, 7, 8, 9, 10, 11, 12, 13, 14, 15]\n",
    "\n",
    "# Use the filter function to filter prime numbers from the list\n",
    "prime_numbers = list(filter(is_prime, numbers))\n",
    "\n",
    "# Print the filtered prime numbers\n",
    "print(\"Prime numbers in the list:\", prime_numbers)\n"
   ]
  },
  {
   "cell_type": "markdown",
   "id": "44ac4892-a579-4892-8a2c-9d6d19a60341",
   "metadata": {},
   "source": [
    "### Q-no/5. How can you use the `filter()` function to remove None values from a list in Python?\n"
   ]
  },
  {
   "cell_type": "code",
   "execution_count": 2,
   "id": "a9e1e0fd-3411-49be-9e8f-bdb452ddc799",
   "metadata": {},
   "outputs": [
    {
     "name": "stdout",
     "output_type": "stream",
     "text": [
      "List without None values: [1, 2, 4, 6, 7, 9]\n"
     ]
    }
   ],
   "source": [
    "# List with None values\n",
    "values = [1, 2, None, 4, None, 6, 7, None, 9]\n",
    "\n",
    "# Use the filter function to remove None values from the list\n",
    "filtered_values = list(filter(bool, values))\n",
    "\n",
    "# Print the filtered values\n",
    "print(\"List without None values:\", filtered_values)\n"
   ]
  },
  {
   "cell_type": "markdown",
   "id": "0d7e38d4-3321-4df3-9d3f-fc45bb81f863",
   "metadata": {},
   "source": [
    "### Q-no/6. Create a Python program that uses `filter()` to select words longer than a certain length from a list of strings.\n"
   ]
  },
  {
   "cell_type": "code",
   "execution_count": 7,
   "id": "125a5f1c-fda6-4146-94ee-2e116672f161",
   "metadata": {},
   "outputs": [
    {
     "name": "stdin",
     "output_type": "stream",
     "text": [
      "Enter the minimum length for words:  4\n"
     ]
    },
    {
     "name": "stdout",
     "output_type": "stream",
     "text": [
      "Words longer than 4 characters: ['apple', 'orange', 'banana', 'grape', 'watermelon']\n"
     ]
    }
   ],
   "source": [
    "# List of words\n",
    "words = ['apple', 'orange', 'banana', 'grape', 'watermelon', 'kiwi', 'pear']\n",
    "\n",
    "# Define a function to filter words longer than a certain length\n",
    "def filter_long_words(words, length):\n",
    "    return len(words) > length\n",
    "\n",
    "# Input: Get the minimum length from the user\n",
    "min_length = int(input(\"Enter the minimum length for words: \"))\n",
    "\n",
    "# Use the filter function to filter words longer than the specified length\n",
    "filtered_words = list(filter(lambda x: filter_long_words(x, min_length), words))\n",
    "\n",
    "# Print the filtered words\n",
    "print(f\"Words longer than {min_length} characters: {filtered_words}\")\n"
   ]
  },
  {
   "cell_type": "markdown",
   "id": "198d509b-04f4-4b99-bcc2-87450eb41b65",
   "metadata": {},
   "source": [
    "### Q-no/7. Write a Python program that uses the `filter()` function to select elements greater than a specified threshold from a list of values."
   ]
  },
  {
   "cell_type": "code",
   "execution_count": 8,
   "id": "c4b7d5fb-f6eb-4eef-9a6b-b0ad5c5ee1f7",
   "metadata": {},
   "outputs": [
    {
     "name": "stdout",
     "output_type": "stream",
     "text": [
      "Values greater than 30: [34, 56, 41, 50]\n"
     ]
    }
   ],
   "source": [
    "# List of values\n",
    "values = [12, 34, 23, 56, 8, 41, 29, 50]\n",
    "\n",
    "# Specify the threshold\n",
    "threshold = 30\n",
    "\n",
    "# Use the filter function to select elements greater than the threshold\n",
    "filtered_values = list(filter(lambda x: x > threshold, values))\n",
    "\n",
    "# Print the selected values greater than the threshold\n",
    "print(f\"Values greater than {threshold}: {filtered_values}\")\n"
   ]
  },
  {
   "cell_type": "markdown",
   "id": "15b613e0-1f47-4bd5-82a9-a2bfdc2534fd",
   "metadata": {},
   "source": [
    "## RECURSION :-"
   ]
  },
  {
   "cell_type": "markdown",
   "id": "30da5993-9725-4249-83e2-a37b8b8164cd",
   "metadata": {},
   "source": [
    "### Q-no/1. Explain the concept of recursion in Python. How does it differ from iteration?"
   ]
  },
  {
   "cell_type": "code",
   "execution_count": null,
   "id": "974d1f92-c766-4ec0-a9a9-000ccdd916aa",
   "metadata": {},
   "outputs": [],
   "source": [
    "Recursion and iteration are both fundamental concepts in programming, each used for repetitive\n",
    "tasks or to solve problems by breaking them down into smaller sub-problems.\n",
    "Here's an explanation of recursion and how it differs from iteration:\n",
    "\n",
    "### Recursion in Python:\n",
    "\n",
    "Recursion is a programming technique where a function calls itself to solve a problem by dividing\n",
    "it into smaller, similar sub-problems. A recursive function consists of a base case that provides\n",
    "the solution for the simplest form of the problem and a recursive case that breaks down more\n",
    "complex problems into smaller ones until reaching the base case.\n",
    "\n",
    "In Python, recursion is often used in situations where the problem can be divided into smaller\n",
    "identical sub-problems, such as the calculation of factorials, Fibonacci sequence,\n",
    "traversing trees, or dividing problems into smaller parts in a divide-and-conquer strategy.\n",
    "\n",
    "### Iteration in Python:\n",
    "\n",
    "Iteration involves the repetitive execution of a block of code, usually within a loop, to perform\n",
    "a specific task or solve a problem. It relies on loops (such as for loops and while loops) to\n",
    "repeatedly execute a set of instructions until a certain condition is met.\n",
    "\n",
    "In Python, iteration is commonly used to traverse through data structures \n",
    "(lists, tuples, dictionaries), perform operations on elements within a sequence, or execute a block\n",
    "of code multiple times based on a set condition.\n",
    "\n",
    "### Differences between Recursion and Iteration:\n",
    "\n",
    "1. **Approach:**\n",
    "   - Recursion: Involves breaking down a problem into smaller, similar sub-problems and solving\n",
    "    them.\n",
    "   - Iteration: Utilizes loops to repetitively execute a set of instructions.\n",
    "\n",
    "2. **Termination:**\n",
    "   - Recursion: Relies on a base case to terminate the recursive calls.\n",
    "   - Iteration: Depends on a condition that, when false, ends the loop.\n",
    "\n",
    "3. **Execution:**\n",
    "   - Recursion: Each recursive call creates a new function context, leading to multiple function\n",
    "    calls in memory.\n",
    "   - Iteration: Uses a single block of code and operates within the same function context.\n",
    "\n",
    "4. **Efficiency:**\n",
    "   - Recursion can be elegant and simpler to understand in certain cases but may consume more\n",
    "    memory due to multiple function calls.\n",
    "   - Iteration is often more efficient in terms of memory consumption but may result in more\n",
    "complex code in some cases.\n",
    "\n",
    "### Summary:\n",
    "\n",
    "Recursion and iteration both aim to solve problems through repetitive actions, but they differ\n",
    "in their approach, termination condition, and memory consumption. Choosing between recursion and\n",
    "iteration depends on the nature of the problem and the most efficient way to solve it.\n",
    "In Python, both techniques are valuable and can be applied based on the problem requirements\n",
    "and readability of the code."
   ]
  },
  {
   "cell_type": "markdown",
   "id": "0d101f25-d17f-45e0-bdfc-d9cac2a68253",
   "metadata": {},
   "source": [
    "### Q-no/2. Write a Python program to calculate the factorial of a number using recursion."
   ]
  },
  {
   "cell_type": "code",
   "execution_count": 10,
   "id": "0ad3e386-aa00-44f5-b1f2-3f64a27117ad",
   "metadata": {},
   "outputs": [
    {
     "name": "stdin",
     "output_type": "stream",
     "text": [
      "Enter a number to find its factorial:  4\n"
     ]
    },
    {
     "name": "stdout",
     "output_type": "stream",
     "text": [
      "The factorial of 4 is: 24\n"
     ]
    }
   ],
   "source": [
    "def factorial(n):\n",
    "    if n == 0 or n == 1:\n",
    "        return 1\n",
    "    else:\n",
    "        return n * factorial(n - 1)\n",
    "\n",
    "# Get user input for the number\n",
    "num = int(input(\"Enter a number to find its factorial: \"))\n",
    "\n",
    "if num < 0:\n",
    "    print(\"Factorial is not defined for negative numbers.\")\n",
    "else:\n",
    "    result = factorial(num)\n",
    "    print(f\"The factorial of {num} is: {result}\")\n"
   ]
  },
  {
   "cell_type": "markdown",
   "id": "68619003-53af-46b4-8216-07c0252100ce",
   "metadata": {},
   "source": [
    "### Q-no/3. Create a recursive Python function to find the nth Fibonacci number.\n"
   ]
  },
  {
   "cell_type": "code",
   "execution_count": 11,
   "id": "00c4d719-70a7-463e-9545-42228a1e89cd",
   "metadata": {},
   "outputs": [
    {
     "name": "stdin",
     "output_type": "stream",
     "text": [
      "Enter n:  4\n"
     ]
    },
    {
     "name": "stdout",
     "output_type": "stream",
     "text": [
      "3\n"
     ]
    }
   ],
   "source": [
    "def fibonacci(n):\n",
    "  if n <= 1:\n",
    "    return n\n",
    "  else: \n",
    "    return fibonacci(n-1) + fibonacci(n-2)\n",
    "\n",
    "n = int(input(\"Enter n: \"))\n",
    "print(fibonacci(n))"
   ]
  },
  {
   "cell_type": "markdown",
   "id": "0070ad94-9b08-4d41-80f9-13e4a65bbb94",
   "metadata": {},
   "source": [
    "### Q-no/4. Write a recursive Python function to calculate the sum of all elements in a list."
   ]
  },
  {
   "cell_type": "code",
   "execution_count": 12,
   "id": "e4a8b23f-da1d-41e1-afa1-94172d6f914d",
   "metadata": {},
   "outputs": [
    {
     "name": "stdout",
     "output_type": "stream",
     "text": [
      "The sum of elements in the list is: 15\n"
     ]
    }
   ],
   "source": [
    "def list_sum(arr):\n",
    "    if len(arr) == 0:\n",
    "        return 0\n",
    "    else:\n",
    "        return arr[0] + list_sum(arr[1:])\n",
    "\n",
    "# Example list\n",
    "my_list = [1, 2, 3, 4, 5]\n",
    "\n",
    "result = list_sum(my_list)\n",
    "print(f\"The sum of elements in the list is: {result}\")\n"
   ]
  },
  {
   "cell_type": "markdown",
   "id": "9016a1f9-babf-4ee1-89c0-415ea965317a",
   "metadata": {},
   "source": [
    "### Q-no/5. How can you prevent a recursive function from running indefinitely, causing a stack overflow error?\n"
   ]
  },
  {
   "cell_type": "code",
   "execution_count": 14,
   "id": "3cc4b164-0e5c-4839-b45f-3970e22a4cf9",
   "metadata": {},
   "outputs": [],
   "source": [
    "def recursive_function(n, depth=0, max_depth=1000):\n",
    "    if depth > max_depth:\n",
    "        print(\"Exceeded maximum depth. Terminating.\")\n",
    "        return None  # Returning a value or raising an exception could be used\n",
    "    if n == 0:\n",
    "        return 0  # Base case\n",
    "    else:\n",
    "        return recursive_function(n - 1, depth + 1, max_depth)  # Recursive call\n",
    "\n",
    "result = recursive_function(100)  # Calling the function\n"
   ]
  },
  {
   "cell_type": "code",
   "execution_count": 17,
   "id": "be62db1c-0f81-4a17-bcc0-ca3c59fc77ab",
   "metadata": {},
   "outputs": [
    {
     "data": {
      "text/plain": [
       "0"
      ]
     },
     "execution_count": 17,
     "metadata": {},
     "output_type": "execute_result"
    }
   ],
   "source": [
    "result"
   ]
  },
  {
   "cell_type": "markdown",
   "id": "0c05851b-82ff-4dbd-8c13-900fb5ce4822",
   "metadata": {},
   "source": [
    "### Q-no/6. Create a recursive Python function to find the greatest common divisor (GCD) of two numbers using the Euclidean algorithm."
   ]
  },
  {
   "cell_type": "code",
   "execution_count": 18,
   "id": "9dd437fb-426f-4d03-95a1-7a36e7243df7",
   "metadata": {},
   "outputs": [
    {
     "name": "stdin",
     "output_type": "stream",
     "text": [
      "Enter first number:  4\n",
      "Enter second number:  6\n"
     ]
    },
    {
     "name": "stdout",
     "output_type": "stream",
     "text": [
      "GCD of 4 and 6 is 2\n"
     ]
    }
   ],
   "source": [
    "def gcd(a, b):\n",
    "  if b == 0:\n",
    "    return a\n",
    "  else:\n",
    "    return gcd(b, a%b)\n",
    "\n",
    "num1 = int(input(\"Enter first number: \"))  \n",
    "num2 = int(input(\"Enter second number: \"))\n",
    "\n",
    "print(\"GCD of\", num1, \"and\", num2, \"is\", gcd(num1, num2))"
   ]
  },
  {
   "cell_type": "markdown",
   "id": "b0425592-9f2c-4482-a2ef-e1a2cb56d96c",
   "metadata": {},
   "source": [
    "### Q-no/7.Write a recursive python function to reverse a string."
   ]
  },
  {
   "cell_type": "code",
   "execution_count": 19,
   "id": "4b9d2a04-d718-49c9-be33-a169cd4bbc3d",
   "metadata": {},
   "outputs": [
    {
     "name": "stdin",
     "output_type": "stream",
     "text": [
      "Enter a string:  irfan\n"
     ]
    },
    {
     "name": "stdout",
     "output_type": "stream",
     "text": [
      "The reversed string is: nafri\n"
     ]
    }
   ],
   "source": [
    "def reverse_string(s):\n",
    "    if len(s) == 0:\n",
    "        return s\n",
    "    else:\n",
    "        return reverse_string(s[1:]) + s[0]\n",
    "\n",
    "# Input a string from the user\n",
    "user_input = input(\"Enter a string: \")\n",
    "\n",
    "result = reverse_string(user_input)\n",
    "print(f\"The reversed string is: {result}\")\n"
   ]
  },
  {
   "cell_type": "markdown",
   "id": "bc0849a9-212a-4aff-babb-603a91d89b36",
   "metadata": {},
   "source": [
    "### Q-no/8. Create a recursive Python function to calculate the power of a number (x^n)."
   ]
  },
  {
   "cell_type": "code",
   "execution_count": 20,
   "id": "4a8fe2dc-99fa-478c-a283-f5ba5ee4c4e0",
   "metadata": {},
   "outputs": [
    {
     "name": "stdin",
     "output_type": "stream",
     "text": [
      "Enter the base number:  6\n",
      "Enter the exponent (a non-negative integer):  9\n"
     ]
    },
    {
     "name": "stdout",
     "output_type": "stream",
     "text": [
      "6.0 raised to the power of 9 is: 10077696.0\n"
     ]
    }
   ],
   "source": [
    "def power(x, n):\n",
    "    if n == 0:\n",
    "        return 1\n",
    "    elif n > 0:\n",
    "        return x * power(x, n - 1)\n",
    "    else:  # Handling negative exponent\n",
    "        return 1 / power(x, -n)\n",
    "\n",
    "# Input the base and exponent from the user\n",
    "base = float(input(\"Enter the base number: \"))\n",
    "exponent = int(input(\"Enter the exponent (a non-negative integer): \"))\n",
    "\n",
    "result = power(base, exponent)\n",
    "print(f\"{base} raised to the power of {exponent} is: {result}\")\n"
   ]
  },
  {
   "cell_type": "markdown",
   "id": "612ea81a-f394-4ac2-8d86-29f60aea50b1",
   "metadata": {},
   "source": [
    "### Q-no/9. Write a recursive Python function to find all permutations of a given string.\n"
   ]
  },
  {
   "cell_type": "code",
   "execution_count": 22,
   "id": "76e06bb3-3c1e-4dc0-8d0e-d9331928ff15",
   "metadata": {},
   "outputs": [
    {
     "name": "stdin",
     "output_type": "stream",
     "text": [
      "Enter a string:  a\n"
     ]
    },
    {
     "name": "stdout",
     "output_type": "stream",
     "text": [
      "All permutations of the given string:\n",
      "a\n"
     ]
    }
   ],
   "source": [
    "def permute_string(s, current=\"\"):\n",
    "    if len(s) == 0:\n",
    "        print(current)  # Print the generated permutation\n",
    "    else:\n",
    "        for i in range(len(s)):\n",
    "            remaining = s[:i] + s[i+1:]  # Extract the character at index i\n",
    "            permute_string(remaining, current + s[i])\n",
    "\n",
    "# Input a string from the user\n",
    "user_input = input(\"Enter a string: \")\n",
    "\n",
    "print(\"All permutations of the given string:\")\n",
    "permute_string(user_input)\n",
    "\n"
   ]
  },
  {
   "cell_type": "markdown",
   "id": "45e765c8-4ba1-4f64-ad89-44f565429bab",
   "metadata": {},
   "source": [
    "### Q-no/10. Write a recursive Python function to check if a string is a palindrome."
   ]
  },
  {
   "cell_type": "code",
   "execution_count": 23,
   "id": "7c42599b-5cc1-44e3-b365-304975982dad",
   "metadata": {},
   "outputs": [
    {
     "name": "stdin",
     "output_type": "stream",
     "text": [
      "Enter a string:  irfan\n"
     ]
    },
    {
     "name": "stdout",
     "output_type": "stream",
     "text": [
      "The string 'irfan' is not a palindrome.\n"
     ]
    }
   ],
   "source": [
    "def is_palindrome(s):\n",
    "    s = s.lower().replace(\" \", \"\")  # Convert to lowercase and remove spaces for case-insensitive check\n",
    "    if len(s) <= 1:\n",
    "        return True\n",
    "    elif s[0] != s[-1]:\n",
    "        return False\n",
    "    else:\n",
    "        return is_palindrome(s[1:-1])\n",
    "\n",
    "# Input a string from the user\n",
    "user_input = input(\"Enter a string: \")\n",
    "\n",
    "result = is_palindrome(user_input)\n",
    "if result:\n",
    "    print(f\"The string '{user_input}' is a palindrome.\")\n",
    "else:\n",
    "    print(f\"The string '{user_input}' is not a palindrome.\")\n"
   ]
  },
  {
   "cell_type": "markdown",
   "id": "5898fa46-1c4f-4c6c-93bb-116d547ec9de",
   "metadata": {},
   "source": [
    "### Q-no/11. Create a recursive Python function to generate all possible combinations of a list of elements."
   ]
  },
  {
   "cell_type": "code",
   "execution_count": 24,
   "id": "6a2257f2-ae3e-4ac6-a591-a126a982f711",
   "metadata": {},
   "outputs": [
    {
     "name": "stdin",
     "output_type": "stream",
     "text": [
      "Enter a list of elements separated by spaces:  i r f a n\n",
      "Enter the length of combinations (r):  4\n"
     ]
    },
    {
     "name": "stdout",
     "output_type": "stream",
     "text": [
      "All combinations of length 4 from the given list:\n",
      "['i', 'r', 'f', 'a']\n",
      "['i', 'r', 'f', 'n']\n",
      "['i', 'r', 'a', 'n']\n",
      "['i', 'f', 'a', 'n']\n",
      "['r', 'f', 'a', 'n']\n"
     ]
    }
   ],
   "source": [
    "def generate_combinations(arr, r, current=[]):\n",
    "    if len(current) == r:\n",
    "        print(current)  # Print the generated combination\n",
    "    else:\n",
    "        for i in range(len(arr)):\n",
    "            remaining = arr[i+1:]  # Extract the elements after the current index\n",
    "            generate_combinations(remaining, r, current + [arr[i]])\n",
    "\n",
    "# Input a list of elements from the user\n",
    "user_input = input(\"Enter a list of elements separated by spaces: \").split()\n",
    "r = int(input(\"Enter the length of combinations (r): \"))\n",
    "\n",
    "print(f\"All combinations of length {r} from the given list:\")\n",
    "generate_combinations(user_input, r)\n"
   ]
  },
  {
   "cell_type": "markdown",
   "id": "94e6f06d-75c1-473a-aae7-e6f875049fc7",
   "metadata": {},
   "source": [
    "## BASICS OF FUNCTIONS :-"
   ]
  },
  {
   "cell_type": "markdown",
   "id": "237b8fdc-848f-4410-9221-42e5977ae486",
   "metadata": {},
   "source": [
    "### Q-no/1. What is a function in Python, and why is it used?"
   ]
  },
  {
   "cell_type": "code",
   "execution_count": null,
   "id": "2a38df3c-4ea7-404a-9841-f332d2b24de3",
   "metadata": {},
   "outputs": [],
   "source": [
    "In Python, a function is a block of organized, reusable code that is designed to perform a specific task. Functions provide modularity in programming by breaking down a program into smaller, manageable parts. These smaller parts are encapsulated within functions, allowing them to be easily understood, maintained, and reused.\n",
    "\n",
    "### Key Points about Functions in Python:\n",
    "\n",
    "1. **Modularity:** Functions help break down complex problems into smaller, more manageable parts. This promotes code reusability and makes it easier to understand and maintain the codebase.\n",
    "\n",
    "2. **Abstraction:** Functions allow you to abstract the details of implementation from the caller. The caller doesn't need to know how the function works internally; they only need to know its purpose and how to use it.\n",
    "\n",
    "3. **Code Reusability:** Once a function is defined, it can be used multiple times in the same program or in different programs, reducing redundancy and promoting efficient code reuse.\n",
    "\n",
    "4. **Readability:** Functions enhance the readability of code by providing a clear structure, descriptive names, and the ability to isolate logic for specific tasks.\n",
    "\n",
    "5. **Encapsulation:** Functions encapsulate a set of instructions, allowing the rest of the program to interact with them through well-defined interfaces (arguments and return values).\n",
    "\n",
    "6. **Parameterization:** Functions often take parameters as input, allowing them to work with varying data or different input values, making them versatile and flexible.\n",
    "\n",
    "7. **Return Values:** Functions can produce results and return values, which can be further used in the rest of the program.\n",
    "\n",
    "### Function Syntax in Python:\n",
    "```python\n",
    "def function_name(parameters):\n",
    "    \"\"\"Docstring - Optional documentation describing the function.\"\"\"\n",
    "    # Function body - Set of instructions performing a specific task\n",
    "    # Statements\n",
    "\n",
    "    return value  # Optional return statement\n",
    "```\n",
    "\n",
    "### Usage of Functions in Python:\n",
    "\n",
    "Functions are used for a wide range of purposes, including:\n",
    "- Performing specific tasks or calculations.\n",
    "- Encapsulating code for reusability and maintainability.\n",
    "- Implementing specific algorithms or procedures.\n",
    "- Handling repetitive actions in a program.\n",
    "- Organizing code for better structure and readability.\n",
    "- Promoting modularity in programming.\n",
    "\n",
    "Overall, functions are a core aspect of programming in Python, serving as a fundamental building block for structuring code and promoting good software\n",
    "engineering practices."
   ]
  },
  {
   "cell_type": "markdown",
   "id": "56da90c1-c0de-45d3-951f-42b832950429",
   "metadata": {},
   "source": [
    "### Q-no/2. How do you define a function in Python? Provide an example."
   ]
  },
  {
   "cell_type": "code",
   "execution_count": null,
   "id": "37290f72-a39b-4332-9728-24daeebd1b03",
   "metadata": {},
   "outputs": [],
   "source": [
    "In Python, you define a function using the `def` keyword followed by the function name and a set\n",
    "of parentheses containing optional parameters. Here's an example of defining a simple function\n",
    "that adds two numbers:\n",
    "\n",
    "```python\n",
    "def add_numbers(a, b):\n",
    "    \"\"\"This function adds two numbers and returns the result.\"\"\"\n",
    "    result = a + b\n",
    "    return result\n",
    "```\n",
    "\n",
    "Explanation:\n",
    "\n",
    "- `def` keyword is used to start the function definition.\n",
    "- `add_numbers` is the name of the function.\n",
    "- `(a, b)` in the parentheses are the parameters or inputs to the function.\n",
    "- The triple-quoted string right below the function definition is a docstring, providing a\n",
    "description of what the function does.\n",
    "- The body of the function contains the set of instructions to perform a specific task.\n",
    "- In this case, it calculates the sum of `a` and `b` and assigns the result to the variable\n",
    "`result`.\n",
    "- The `return` statement returns the calculated result back to the caller.\n",
    "\n",
    "This function, when called, will add two numbers provided as arguments and return the result.\n",
    "For instance, `add_numbers(5, 10)` will\n",
    "return `15`."
   ]
  },
  {
   "cell_type": "markdown",
   "id": "76d49692-27cf-4699-b765-9e09f3ed1968",
   "metadata": {},
   "source": [
    "### Q-no/3. Explain the difference between a function definition and a function call."
   ]
  },
  {
   "cell_type": "code",
   "execution_count": null,
   "id": "7897ea52-9af5-4b1a-8da7-99e5fd9120b5",
   "metadata": {},
   "outputs": [],
   "source": [
    "Certainly! The distinction between a function definition and a function call is crucial in\n",
    "understanding how functions operate in Python:\n",
    "\n",
    "### Function Definition:\n",
    "\n",
    "- **What it is:** A function definition is where you define the structure and behavior of a \n",
    "    function. It doesn't execute any code by itself; it merely outlines what the function will do\n",
    "    when it's called.\n",
    "- **Syntax:** Defined using the `def` keyword followed by the function name, parameters (if any),\n",
    "    and a block of code (the function body).\n",
    "\n",
    "Example:\n",
    "```python\n",
    "def add_numbers(a, b):\n",
    "    \"\"\"This function adds two numbers and returns the result.\"\"\"\n",
    "    result = a + b\n",
    "    return result\n",
    "```\n",
    "\n",
    "### Function Call (Invoking a Function):\n",
    "\n",
    "- **What it is:** A function call is when you execute the defined function by using its name along\n",
    "with parentheses and, optionally, passing values (arguments) to the function for it to work on.\n",
    "- **Syntax:** The function name followed by parentheses containing any necessary arguments.\n",
    "\n",
    "Example:\n",
    "```python\n",
    "# Calling the function and passing arguments\n",
    "sum_result = add_numbers(5, 10)\n",
    "```\n",
    "\n",
    "### Key Differences:\n",
    "\n",
    "1. **Purpose:**\n",
    "   - Function Definition: Describes what the function does and how it works.\n",
    "   - Function Call: Executes the code inside the function, passing specific values to achieve the\n",
    "     defined task.\n",
    "\n",
    "2. **Execution:**\n",
    "   - Function Definition: Doesn't execute any code itself, only defines the logic to be executed\n",
    "     when called.\n",
    "   - Function Call: Triggers the execution of the code defined within the function, passing actual\n",
    "     values or arguments for computation.\n",
    "\n",
    "3. **Structure:**\n",
    "   - Function Definition: Contains the structure of the function, including parameters, function\n",
    "     name, and logic.\n",
    "   - Function Call: Calls the function by its name with or without arguments, triggering the\n",
    "     execution of the defined logic.\n",
    "\n",
    "In summary, a function definition sets up the structure and behavior of a function, while a\n",
    "function call is the actual execution or implementation of the defined function, allowing the\n",
    "defined logic to be carried out with specific values provided as\n",
    "arguments."
   ]
  },
  {
   "cell_type": "markdown",
   "id": "282956d5-7d69-405d-a4d7-3eef620c945e",
   "metadata": {},
   "source": [
    "### Q-no/4. Write a Python program that defines a function to calculate the sum of two numbers and then calls the function."
   ]
  },
  {
   "cell_type": "code",
   "execution_count": 25,
   "id": "f356eedb-17bd-4c30-8c8c-e7b2aaada6d9",
   "metadata": {},
   "outputs": [
    {
     "name": "stdout",
     "output_type": "stream",
     "text": [
      "The sum of the numbers is: 20\n"
     ]
    }
   ],
   "source": [
    "def calculate_sum(a, b):\n",
    "    \"\"\"This function calculates the sum of two numbers.\"\"\"\n",
    "    return a + b\n",
    "\n",
    "# Calling the function with arguments and storing the result\n",
    "result = calculate_sum(8, 12)\n",
    "\n",
    "print(\"The sum of the numbers is:\", result)\n"
   ]
  },
  {
   "cell_type": "markdown",
   "id": "60bb90a7-1714-4995-ade6-e9ae3e7ad99a",
   "metadata": {},
   "source": [
    "### Q-no/5. What is a function signature, and what information does it typically include?"
   ]
  },
  {
   "cell_type": "code",
   "execution_count": null,
   "id": "9a67f4ef-6d2d-4aaf-9602-883606bac8c7",
   "metadata": {},
   "outputs": [],
   "source": [
    "A function signature refers to the essential information that defines a function.\n",
    "It typically includes:\n",
    "\n",
    "1. **Function Name:** The unique name used to identify the function.\n",
    "2. **Parameters/Arguments:** The variables or values passed to the function.\n",
    "3. **Return Type:** The data type of the value returned by the function.\n",
    "4. **Return Statement:** The specific operation that returns the result, if any.\n",
    "5. **Function Scope:** The portion of the program where the function is accessible.\n",
    "6. **Documentation/Docstring:** Optional comments providing information about the \n",
    "     function's purpose, usage, and details.\n",
    "\n",
    "The signature doesn't include the function body or implementation details, focusing solely on the\n",
    "function's interface and how it's used.\n",
    "\n",
    "### Example of a Function Signature:\n",
    "\n",
    "Consider a simple function that calculates the square of a number:\n",
    "\n",
    "```python\n",
    "def square_number(x):\n",
    "    \"\"\"Returns the square of a number.\"\"\"\n",
    "    return x ** 2\n",
    "```\n",
    "\n",
    "In this example:\n",
    "- **Function Name:** `square_number`\n",
    "- **Parameters:** `x` (representing the number to be squared)\n",
    "- **Return Type:** The function is expected to return a numeric value (the square of the input).\n",
    "- **Return Statement:** It performs the squaring operation `x ** 2` and returns the result.\n",
    "- **Function Scope:** This function can be called from any part of the program where it's in scope.\n",
    "- **Documentation/Docstring:** A description provided in the triple-quoted string explaining the\n",
    "    purpose of the function.\n",
    "\n",
    "The function signature is the blueprint that specifies how the function should be used and\n",
    "provides essential information for developers using the function without revealing its internal\n",
    "implementation."
   ]
  },
  {
   "cell_type": "markdown",
   "id": "85a5de4c-9ca8-4d07-ac55-aa235cb6702a",
   "metadata": {},
   "source": [
    "### Q-no/6. Create a Python function that takes two arguments and returns their product.\n"
   ]
  },
  {
   "cell_type": "code",
   "execution_count": 26,
   "id": "68dcb9ac-96d4-44cb-9010-07a2a4e43a04",
   "metadata": {},
   "outputs": [
    {
     "name": "stdin",
     "output_type": "stream",
     "text": [
      "Enter first number:  4\n",
      "Enter second number:  7\n"
     ]
    },
    {
     "name": "stdout",
     "output_type": "stream",
     "text": [
      "The product of 4.0 and 7.0 is 28.0\n"
     ]
    }
   ],
   "source": [
    "def multiply(x, y):\n",
    "  return x * y\n",
    "\n",
    "num1 = float(input(\"Enter first number: \"))\n",
    "num2 = float(input(\"Enter second number: \"))\n",
    "\n",
    "product = multiply(num1, num2)\n",
    "\n",
    "print(\"The product of\", num1, \"and\", num2, \"is\", product)"
   ]
  },
  {
   "cell_type": "markdown",
   "id": "a8da8dca-a52c-4492-a604-6b54e15857e4",
   "metadata": {},
   "source": [
    "## Function Parameter And Arguments :-"
   ]
  },
  {
   "cell_type": "markdown",
   "id": "e922ecd6-6244-428d-934d-663dccd3ffd3",
   "metadata": {},
   "source": [
    "### Q-no/1. Explain the concepts of formal parameters and actual arguments in Python functions.\n"
   ]
  },
  {
   "cell_type": "code",
   "execution_count": null,
   "id": "b909980c-f5ec-4e1b-9af3-360b475f116b",
   "metadata": {},
   "outputs": [],
   "source": [
    "In Python functions, the concepts of formal parameters and actual arguments are \n",
    "fundamental to understanding how values are passed into functions and utilized within the\n",
    "function's scope.\n",
    "\n",
    "### Formal Parameters:\n",
    "\n",
    "- **Definition:** Formal parameters are placeholders or variables listed in the function definition.\n",
    "- **Purpose:** They serve as local variables within the function, representing values that will be\n",
    "    passed to the function when it is called.\n",
    "- **Syntax:** Formal parameters are declared within the parentheses of a function's definition.\n",
    "- **Example:** In the function `def function_name(parameter1, parameter2):`, `parameter1` and\n",
    "    `parameter2` are formal parameters.\n",
    "\n",
    "### Actual Arguments (Arguments):\n",
    "\n",
    "- **Definition:** Actual arguments (or arguments) are the values supplied or passed into a function when it's called.\n",
    "- **Purpose:** They represent the real data or variables that are passed to the function and assigned to the formal parameters.\n",
    "- **Syntax:** Arguments are provided within the parentheses when calling the function.\n",
    "- **Example:** In `function_name(value1, value2)`, `value1` and `value2` are actual arguments\n",
    "    passed to the function `function_name`.\n",
    "\n",
    "### Relationship:\n",
    "\n",
    "- **Connection:** When a function is called, the actual arguments are assigned to the formal\n",
    "    parameters in the function definition. The values of the actual arguments are then available\n",
    "    for use as the corresponding formal parameters within the function's code block.\n",
    "- **Data Passing:** The actual arguments provide the data that the function will operate on by\n",
    "    supplying values for the formal parameters.\n",
    "\n",
    "### Example:\n",
    "\n",
    "Consider the following function definition and function call:\n",
    "\n",
    "```python\n",
    "def add_numbers(a, b):\n",
    "    \"\"\"This function adds two numbers.\"\"\"\n",
    "    return a + b\n",
    "\n",
    "result = add_numbers(5, 7)\n",
    "```\n",
    "\n",
    "- In the function definition `add_numbers(a, b)`, `a` and `b` are formal parameters.\n",
    "- In the function call `add_numbers(5, 7)`, `5` and `7` are actual arguments passed to the function.\n",
    "- Within the function, `a` will hold the value `5`, and `b` will hold the value `7` due to the\n",
    "  assignment from the actual arguments.\n",
    "\n",
    "This demonstrates the relationship between formal parameters and actual arguments, where the actual arguments are assigned to the formal parameters when the function is called, allowing the function to operate on specific values \n",
    "passed into it."
   ]
  },
  {
   "cell_type": "markdown",
   "id": "b4d6d783-f6a1-419b-a21e-d22f4a6c8c7b",
   "metadata": {},
   "source": [
    "### Q-no/2. Write a Python program that defines a function with default argument values.\n"
   ]
  },
  {
   "cell_type": "code",
   "execution_count": 28,
   "id": "4718401c-9e8f-40d3-9730-584248f1ce12",
   "metadata": {},
   "outputs": [
    {
     "name": "stdout",
     "output_type": "stream",
     "text": [
      "Hello, Alice!\n",
      "Good morning, Bob!\n"
     ]
    }
   ],
   "source": [
    "def greet(name, message=\"Hello\"):\n",
    "    \"\"\"Greets a person with a message (default is 'Hello').\"\"\"\n",
    "    print(f\"{message}, {name}!\")\n",
    "\n",
    "# Calling the function without providing the message argument\n",
    "greet(\"Alice\")\n",
    "\n",
    "# Calling the function with both name and message arguments\n",
    "greet(\"Bob\", \"Good morning\")\n"
   ]
  },
  {
   "cell_type": "markdown",
   "id": "a29ee11f-5a5e-481b-94e5-7dd0eb93a0af",
   "metadata": {},
   "source": [
    "### Q-no/3. How do you use keyword arguments in Python function calls? Provide an example."
   ]
  },
  {
   "cell_type": "code",
   "execution_count": null,
   "id": "fa711419-b28b-4e4a-b795-4543ced80504",
   "metadata": {},
   "outputs": [],
   "source": [
    "In Python, keyword arguments allow you to specify arguments by their parameter names when calling\n",
    "a function. This method enables you to provide the arguments in any order, explicitly associating\n",
    "values with their corresponding parameters.\n",
    "\n",
    "### Example Using Keyword Arguments:\n",
    "\n",
    "Consider a simple function that calculates the cost of an item by multiplying its price with the\n",
    "quantity:\n",
    "\n",
    "```python\n",
    "def calculate_cost(price, quantity):\n",
    "    return price * quantity\n",
    "```\n",
    "\n",
    "When using keyword arguments, you specify the parameter names along with the corresponding values\n",
    "in the function call:\n",
    "\n",
    "### Example:\n",
    "\n",
    "```python\n",
    "# Calling the function using keyword arguments\n",
    "total_cost = calculate_cost(price=20, quantity=5)\n",
    "```\n",
    "\n",
    "In this case:\n",
    "- `price=20` explicitly associates the value `20` with the `price` parameter.\n",
    "- `quantity=5` explicitly associates the value `5` with the `quantity` parameter.\n",
    "\n",
    "This method allows you to specify arguments in any order, providing a clear understanding of what\n",
    "values correspond to which parameters.\n",
    "\n",
    "### Additional Example with Reordered Keyword Arguments:\n",
    "\n",
    "```python\n",
    "# Calling the function with reordered keyword arguments\n",
    "total_cost = calculate_cost(quantity=5, price=20)\n",
    "```\n",
    "\n",
    "The function is called using the same values, but this time the order of the keyword arguments\n",
    "is reversed. This works because the keyword arguments explicitly mention which parameter they\n",
    "correspond to.\n",
    "\n",
    "### Benefits of Using Keyword Arguments:\n",
    "\n",
    "- **Clarity:** Improves code readability, especially with functions having numerous parameters.\n",
    "- **Flexibility:** Allows you to provide arguments in any order, enhancing code maintainability\n",
    "    and reducing errors due to misplaced arguments.\n",
    "- **Explicitness:** Makes it clear which values correspond to specific parameters, especially when\n",
    "    some parameters have default values and others need explicit assignment.\n",
    "\n",
    "By using keyword arguments, you can enhance the clarity and flexibility of function calls, \n",
    "especially when dealing with functions that have multiple parameters or optional/default values."
   ]
  },
  {
   "cell_type": "markdown",
   "id": "2530dc11-d04e-41b1-ad95-52357cf5004a",
   "metadata": {},
   "source": [
    "### Q-no/4. Create a Python function that accepts a variable number of arguments and calculates their sum.\n"
   ]
  },
  {
   "cell_type": "code",
   "execution_count": 29,
   "id": "7356483c-9237-4baf-84b4-c6af4f481c50",
   "metadata": {},
   "outputs": [
    {
     "name": "stdout",
     "output_type": "stream",
     "text": [
      "The sum of the numbers is: 30\n"
     ]
    }
   ],
   "source": [
    "def calculate_sum(*args):\n",
    "    \"\"\"Calculates the sum of variable arguments.\"\"\"\n",
    "    total = sum(args)\n",
    "    return total\n",
    "\n",
    "# Calculate the sum using the function\n",
    "result = calculate_sum(5, 10, 15)\n",
    "print(\"The sum of the numbers is:\", result)\n"
   ]
  },
  {
   "cell_type": "markdown",
   "id": "6d7a7254-dd15-4d38-8b78-736984a26816",
   "metadata": {},
   "source": [
    "### Q-no/5. What is the purpose of the `*args` and `**kwargs` syntax in function parameter lists?"
   ]
  },
  {
   "cell_type": "code",
   "execution_count": null,
   "id": "082dfa5d-8ed7-40af-bbcf-0472aa69f491",
   "metadata": {},
   "outputs": [],
   "source": [
    "The `*args` and `**kwargs` syntax in Python function parameter lists serve the purpose of handling\n",
    "a variable number of arguments and keyword arguments, respectively.\n",
    "\n",
    "### `*args`:\n",
    "\n",
    "- **Purpose:** `*args` (short for \"arguments\") allows a function to accept an arbitrary number of\n",
    "    positional arguments. It collects these arguments into a tuple within the function.\n",
    "- **Syntax:** The asterisk `*` before `args` signifies that any number of positional arguments can\n",
    "    be passed and accessed through the `args` tuple in the function body.\n",
    "\n",
    "### Example:\n",
    "\n",
    "```python\n",
    "def example_function(*args):\n",
    "    for arg in args:\n",
    "        print(arg)\n",
    "\n",
    "example_function(1, 2, 3, 4)\n",
    "```\n",
    "\n",
    "### `**kwargs`:\n",
    "\n",
    "- **Purpose:** `**kwargs` (short for \"keyword arguments\") allows a function to accept an arbitrary\n",
    "    number of keyword arguments (key-value pairs).It collects these arguments into a dictionary\n",
    "    within thefunction.\n",
    "- **Syntax:** The double asterisks `**` before `kwargs` signify that any number of keyword\n",
    "    arguments can be passed and accessed through the `kwargs` dictionary in the function body.\n",
    "\n",
    "### Example:\n",
    "\n",
    "```python\n",
    "def example_function(**kwargs):\n",
    "    for key, value in kwargs.items():\n",
    "        print(f\"{key}: {value}\")\n",
    "\n",
    "example_function(a=1, b=2, c=3)\n",
    "```\n",
    "\n",
    "### Use Cases:\n",
    "\n",
    "- **Flexibility:** They offer flexibility in function definition, allowing functions to handle a\n",
    "    varying number of arguments without explicitly naming them.\n",
    "- **Handling Unexpected Inputs:** They are useful when a function might receive a wide range of\n",
    "    arguments or when the exact number of arguments is not known beforehand.\n",
    "- **Parameterizing Functions:** They facilitate the creation of more generic or adaptable functions\n",
    "    that can cater to different input scenarios.\n",
    "\n",
    "Both `*args` and `**kwargs` provide a way to work with arbitrary numbers of arguments, giving Python functions a high degree of flexibility and allowing developers to write more versatile and adaptable code."
   ]
  },
  {
   "cell_type": "markdown",
   "id": "8349350e-affe-45a3-9779-1f61e84e816d",
   "metadata": {},
   "source": [
    "## Return Values and Scooping"
   ]
  },
  {
   "cell_type": "markdown",
   "id": "37e07f00-a041-4aa1-8c6a-217f772a0387",
   "metadata": {},
   "source": [
    "### Q-no/1. Describe the role of the `return` statement in Python functions and provide examples."
   ]
  },
  {
   "cell_type": "code",
   "execution_count": null,
   "id": "40ed834b-fccc-4575-9dd7-ff978471b0b5",
   "metadata": {},
   "outputs": [],
   "source": [
    "In Python, the `return` statement is used to exit a function and send a value back to the caller.\n",
    "It serves multiple essential roles:\n",
    "\n",
    "### Role of the `return` Statement:\n",
    "\n",
    "1. **Returning Values:** It allows a function to provide a result or value back to the part of the\n",
    "     program that called the function.\n",
    "2. **Function Termination:** It exits the function, immediately transferring control back to the\n",
    "     calling code.\n",
    "3. **Optional:** A function may not have a `return` statement, or it can have multiple `return`\n",
    "     statements to return different values based on conditions.\n",
    "4. **Returning None:** If no specific value is returned, Python implicitly returns `None` by\n",
    "     default.\n",
    "\n",
    "### Examples:\n",
    "\n",
    "#### Example 1: Function Returning a Calculated Value\n",
    "\n",
    "```python\n",
    "def add(a, b):\n",
    "    return a + b\n",
    "\n",
    "result = add(5, 7)\n",
    "print(\"The sum is:\", result)\n",
    "```\n",
    "\n",
    "In this example, the `add` function returns the sum of two numbers `a` and `b` using the `return` \n",
    "statement. The returned value is stored in the variable `result` and then printed.\n",
    "\n",
    "#### Example 2: Function Without a Return Statement\n",
    "\n",
    "```python\n",
    "def greet(name):\n",
    "    print(\"Hello, \" + name)\n",
    "\n",
    "greet(\"Alice\")\n",
    "```\n",
    "\n",
    "Here, the `greet` function does not have a `return` statement. It simply prints a greeting message.\n",
    "As there's no return value explicitly stated, the function implicitly returns `None`.\n",
    "\n",
    "### Conditional Return Example:\n",
    "\n",
    "```python\n",
    "def absolute_value(num):\n",
    "    if num >= 0:\n",
    "        return num\n",
    "    else:\n",
    "        return -num\n",
    "\n",
    "result = absolute_value(-7)\n",
    "print(\"The absolute value is:\", result)\n",
    "```\n",
    "\n",
    "In this example, the `absolute_value` function returns the absolute value of a number. \n",
    "It demonstrates conditional returns based on the input value. If the number is negative,\n",
    "the function returns its negation, otherwise, it returns the number itself.\n",
    "\n",
    "The `return` statement is fundamental in Python functions as it allows functions to communicate\n",
    "results back to the code that calls them, facilitating the flow of information and providing the\n",
    "ability to perform specific tasks and computations.\n"
   ]
  },
  {
   "cell_type": "markdown",
   "id": "5426fa06-e241-4840-9f68-9855a24783a6",
   "metadata": {},
   "source": [
    "### Q-no/2. Explain the concept of variable scope in Python, including local and global variables"
   ]
  },
  {
   "cell_type": "code",
   "execution_count": null,
   "id": "e360736f-8bbb-4ff3-b172-b6f7ee320c7f",
   "metadata": {},
   "outputs": [],
   "source": [
    "Variable scope in Python defines the parts of a program where a variable is accessible and can be\n",
    "referenced. It consists of local and global scopes.\n",
    "\n",
    "### Local Scope:\n",
    "\n",
    "- **Definition:** A variable defined within a function has a local scope. It is accessible only\n",
    "    within that function.\n",
    "- **Visibility:** It's visible and usable only within the block of code where it's defined \n",
    "    (inside the function).\n",
    "- **Example:**\n",
    "\n",
    "    ```python\n",
    "    def my_function():\n",
    "        local_variable = 10\n",
    "        print(local_variable)\n",
    "\n",
    "    my_function()  # This will print 10\n",
    "  # print(local_variable)  # This will cause an error since 'local_variable' is not accessible here\n",
    "    ```\n",
    "\n",
    "### Global Scope:\n",
    "\n",
    "- **Definition:** A variable defined outside any function has a global scope. It can be accessed\n",
    "    throughout the program.\n",
    "- **Visibility:** It's visible and usable anywhere within the program.\n",
    "- **Example:**\n",
    "\n",
    "    ```python\n",
    "    global_variable = 20\n",
    "\n",
    "    def my_function():\n",
    "        print(global_variable)\n",
    "\n",
    "    my_function()  # This will print 20\n",
    "    print(global_variable)  # This will also print 20\n",
    "    ```\n",
    "\n",
    "### Scoping Rules:\n",
    "\n",
    "- **Local Variables Take Precedence:** If a local variable and a global variable have the same\n",
    "    name, the local variable takes precedence within the local scope.\n",
    "- **Accessing Variables:** A function can access its local variables, variables in the global \n",
    "    scope, and built-in Python functions.\n",
    "\n",
    "### Example with Both Local and Global Variables:\n",
    "\n",
    "```python\n",
    "global_var = 30\n",
    "\n",
    "def my_function():\n",
    "    local_var = 15\n",
    "    print(f\"Local variable: {local_var}\")\n",
    "    print(f\"Global variable: {global_var}\")\n",
    "\n",
    "my_function()\n",
    "print(f\"Global variable (outside function): {global_var}\")\n",
    "# print(local_var)  # This will cause an error since 'local_var' is not accessible here\n",
    "```\n",
    "\n",
    "This example demonstrates both local and global variables. The `local_var` is a local variable\n",
    "within the function `my_function`, while `global_var` is a global variable accessible both inside\n",
    "and outside the function.\n",
    "\n",
    "Understanding variable scope in Python is crucial for managing data within functions and throughout\n",
    "a program,\n",
    "ensuring variables are appropriately accessed and used within their intended scopes."
   ]
  },
  {
   "cell_type": "markdown",
   "id": "0637e651-663e-477a-a95a-9d320d2ffb7a",
   "metadata": {},
   "source": [
    "### Q-no/3. Write a Python program that demonstrates the use of global variables within functions."
   ]
  },
  {
   "cell_type": "code",
   "execution_count": 2,
   "id": "f38340f4-edbc-4e26-861c-081b9c17d626",
   "metadata": {},
   "outputs": [
    {
     "name": "stdout",
     "output_type": "stream",
     "text": [
      "Before calling the function, global_var is: 20\n",
      "Inside the function, global_var is: 20\n",
      "Inside the function, updated global_var is: 30\n",
      "After calling the function, global_var is: 30\n"
     ]
    }
   ],
   "source": [
    "# Global variable\n",
    "global_var = 20\n",
    "\n",
    "def my_function():\n",
    "    # Accessing the global variable inside the function\n",
    "    print(\"Inside the function, global_var is:\", global_var)\n",
    "\n",
    "def update_global():\n",
    "    # Modifying the global variable within a function\n",
    "    global global_var\n",
    "    global_var = 30\n",
    "    print(\"Inside the function, updated global_var is:\", global_var)\n",
    "\n",
    "# Display the initial value of the global variable\n",
    "print(\"Before calling the function, global_var is:\", global_var)\n",
    "\n",
    "# Call the function that displays the global variable\n",
    "my_function()\n",
    "\n",
    "# Call the function that updates the global variable\n",
    "update_global()\n",
    "\n",
    "# Display the updated value of the global variable\n",
    "print(\"After calling the function, global_var is:\", global_var)\n"
   ]
  },
  {
   "cell_type": "markdown",
   "id": "8adafd9d-b393-40ff-9869-c771ed8a6a1a",
   "metadata": {},
   "source": [
    "### Q-no/4. Create a Python function that calculates the factorial of a number and returns it."
   ]
  },
  {
   "cell_type": "code",
   "execution_count": 3,
   "id": "b3a738b1-581f-45be-b32f-5197cab4ab2e",
   "metadata": {},
   "outputs": [],
   "source": [
    "def factorial(n):\n",
    "  \"\"\"Calculates the factorial of a number.\n",
    "\n",
    "  Args:\n",
    "    n: A positive integer.\n",
    "\n",
    "  Returns:\n",
    "    The factorial of n.\n",
    "  \"\"\"\n",
    "\n",
    "  if n < 0:\n",
    "    raise ValueError(\"Factorial is not defined for negative numbers.\")\n",
    "\n",
    "  elif n == 0:\n",
    "    return 1\n",
    "\n",
    "  else:\n",
    "    return n * factorial(n - 1)"
   ]
  },
  {
   "cell_type": "code",
   "execution_count": 4,
   "id": "ba856f60-4577-43dd-be54-7912509a33fe",
   "metadata": {},
   "outputs": [
    {
     "data": {
      "text/plain": [
       "120"
      ]
     },
     "execution_count": 4,
     "metadata": {},
     "output_type": "execute_result"
    }
   ],
   "source": [
    "factorial(5)"
   ]
  },
  {
   "cell_type": "markdown",
   "id": "29d42f06-3f22-48c0-9e34-abe23854b5dc",
   "metadata": {},
   "source": [
    "### Q-no/5. How can you access variables defined outside a function from within the function?"
   ]
  },
  {
   "cell_type": "code",
   "execution_count": 5,
   "id": "13128437-72f0-4464-9920-7ef64b9ffe9d",
   "metadata": {},
   "outputs": [
    {
     "name": "stdout",
     "output_type": "stream",
     "text": [
      "Inside the function, global_var is: 20\n",
      "Outside the function, global_var is: 20\n"
     ]
    }
   ],
   "source": [
    "global_var = 20  # Global variable\n",
    "\n",
    "def my_function():\n",
    "    print(\"Inside the function, global_var is:\", global_var)\n",
    "\n",
    "my_function()  # Call the function\n",
    "print(\"Outside the function, global_var is:\", global_var)\n"
   ]
  },
  {
   "cell_type": "code",
   "execution_count": 6,
   "id": "f8867e77-0b35-47ff-97d1-0235e491728e",
   "metadata": {},
   "outputs": [
    {
     "name": "stdout",
     "output_type": "stream",
     "text": [
      "Inside the function, updated global_var is: 30\n",
      "Outside the function, global_var is: 30\n"
     ]
    }
   ],
   "source": [
    "global_var = 20  # Global variable\n",
    "\n",
    "def update_global():\n",
    "    global global_var  # Use the 'global' keyword to modify the global variable\n",
    "    global_var = 30\n",
    "    print(\"Inside the function, updated global_var is:\", global_var)\n",
    "\n",
    "update_global()  # Call the function\n",
    "print(\"Outside the function, global_var is:\", global_var)\n"
   ]
  },
  {
   "cell_type": "markdown",
   "id": "34b8d1ab-5cf9-4f3f-ac4b-1483d627b49d",
   "metadata": {},
   "source": [
    "## Lambda Functions and Higher Order Functions"
   ]
  },
  {
   "cell_type": "markdown",
   "id": "c835190a-494e-472b-aa4e-32b9f484fc91",
   "metadata": {},
   "source": [
    "### Q-no/1. What are lambda functions in Python, and when are they typically used?"
   ]
  },
  {
   "cell_type": "code",
   "execution_count": null,
   "id": "c64aac3c-c87b-4134-9734-ff4132fe5c56",
   "metadata": {},
   "outputs": [],
   "source": [
    "Lambda functions, also known as anonymous functions in Python, are small, anonymous functions\n",
    "defined with the `lambda` keyword. These functions are capable of taking any number of arguments\n",
    "but can only have one expression. Lambda functions are typically used in situations where a small\n",
    "function is required for a short period or in situations where a full function definition is \n",
    "unnecessary.\n",
    "\n",
    "### Key Characteristics of Lambda Functions:\n",
    "\n",
    "1. **Anonymous:** Lambda functions are anonymous functions, meaning they don't have a name like \n",
    "     'normal functions defined using' `def`.\n",
    "2. **Single Expression:** They are restricted to a single expression and cannot include multiple\n",
    "     lines of code.\n",
    "3. **Syntax:** The syntax of a lambda function is `lambda arguments: expression`.\n",
    "4. **Return Value:** They implicitly return the result of the evaluated expression.\n",
    "\n",
    "### Common Use Cases for Lambda Functions:\n",
    "\n",
    "1. **As Arguments:** Often used as arguments for higher-order functions like `map()`, `filter()`,\n",
    "     and `sorted()`.\n",
    "2. **Short-Lived Functions:** When a simple function is needed temporarily for a short duration.\n",
    "3. **Simplifying Code:** To make code more readable by defining small, inline functions without\n",
    "     naming them.\n",
    "\n",
    "### Example Use Cases:\n",
    "\n",
    "#### Using Lambda with `map()`:\n",
    "\n",
    "```python\n",
    "numbers = [1, 2, 3, 4, 5]\n",
    "squared_numbers = list(map(lambda x: x**2, numbers))\n",
    "print(squared_numbers)\n",
    "```\n",
    "\n",
    "#### Using Lambda with `filter()`:\n",
    "\n",
    "```python\n",
    "numbers = [1, 2, 3, 4, 5, 6, 7, 8]\n",
    "even_numbers = list(filter(lambda x: x % 2 == 0, numbers))\n",
    "print(even_numbers)\n",
    "```\n",
    "\n",
    "Lambda functions are powerful tools that enable concise expression of functionality without the\n",
    "need for a complete function definition. They are particularly useful in situations \n",
    "where a full function definition might be excessive or when brevity and simplicity are favored."
   ]
  },
  {
   "cell_type": "markdown",
   "id": "09e758e1-8dce-4205-8c92-610b868c747e",
   "metadata": {},
   "source": [
    "### Q-no/2. Write a Python program that uses lambda functions to sort a list of tuples based on the second element.\n"
   ]
  },
  {
   "cell_type": "code",
   "execution_count": 7,
   "id": "73d2506b-b89c-492d-bffa-5989a9204f71",
   "metadata": {},
   "outputs": [
    {
     "name": "stdout",
     "output_type": "stream",
     "text": [
      "Sorted list based on the second element:\n",
      "[(3, 2), (1, 5), (4, 6), (2, 7), (8, 10)]\n"
     ]
    }
   ],
   "source": [
    "# List of tuples\n",
    "list_of_tuples = [(1, 5), (3, 2), (8, 10), (4, 6), (2, 7)]\n",
    "\n",
    "# Sorting the list of tuples based on the second element using a lambda function\n",
    "sorted_list = sorted(list_of_tuples, key=lambda x: x[1])\n",
    "\n",
    "# Displaying the sorted list\n",
    "print(\"Sorted list based on the second element:\")\n",
    "print(sorted_list)\n"
   ]
  },
  {
   "cell_type": "markdown",
   "id": "33f273cf-5cfe-4c8c-a12a-5dd5c627d159",
   "metadata": {},
   "source": [
    "### Q-no/3. Explain the concept of higher-order functions in Python, and provide an example.\n"
   ]
  },
  {
   "cell_type": "code",
   "execution_count": null,
   "id": "3297c3fc-ceda-4b41-8d36-f025bc9d387b",
   "metadata": {},
   "outputs": [],
   "source": [
    "Higher-order functions in Python are functions that can either accept other functions as arguments,\n",
    "return functions, or both. Essentially, they treat functions as first-class citizens,\n",
    "allowing them to be manipulated like any other data type. Higher-order functions are fundamental\n",
    "in functional programming paradigms and enable greater flexibility in writing programs.\n",
    "\n",
    "### Key Points about Higher-Order Functions:\n",
    "\n",
    "1. **Functions as Arguments:** Higher-order functions can take other functions as arguments.\n",
    "2. **Functions as Return Values:** They can also return functions as results.\n",
    "3. **Enable Abstraction:** They allow for abstracting actions, allowing more generic and reusable\n",
    "     code.\n",
    "\n",
    "### Example of a Higher-Order Function:\n",
    "\n",
    "```python\n",
    "def apply_operation(operation, a, b):\n",
    "    return operation(a, b)\n",
    "\n",
    "# Functions to be used as arguments\n",
    "def add(x, y):\n",
    "    return x + y\n",
    "\n",
    "def subtract(x, y):\n",
    "    return x - y\n",
    "\n",
    "# Using the higher-order function\n",
    "result_add = apply_operation(add, 5, 3)\n",
    "result_subtract = apply_operation(subtract, 10, 4)\n",
    "\n",
    "print(\"Result of addition:\", result_add)        # Output: 8\n",
    "print(\"Result of subtraction:\", result_subtract) # Output: 6\n",
    "```\n",
    "\n",
    "In this example:\n",
    "\n",
    "- `apply_operation` is a higher-order function that takes an operation (a function) and two\n",
    "   operands.\n",
    "- The `add` and `subtract` functions are passed as arguments to `apply_operation`.\n",
    "- `apply_operation` then executes the passed operation with the given operands, producing the\n",
    "   corresponding results.\n",
    "\n",
    "This example demonstrates a higher-order function, `apply_operation`, which takes other functions\n",
    "as arguments and performs operations based on these functions and operands. The ability to use\n",
    "functions\n",
    "as arguments provides flexibility and abstraction, making the code more versatile and reusable."
   ]
  },
  {
   "cell_type": "markdown",
   "id": "70ac8ac2-3079-4abb-9704-adbf2b2caf74",
   "metadata": {},
   "source": [
    "### Q-no/4. Create a Python function that takes a list of numbers and a function as arguments, applying the function to each element in the list."
   ]
  },
  {
   "cell_type": "code",
   "execution_count": 8,
   "id": "17f52808-167c-4c62-b6f3-03530da3021f",
   "metadata": {},
   "outputs": [
    {
     "name": "stdout",
     "output_type": "stream",
     "text": [
      "Result after squaring each element: [1, 4, 9, 16, 25]\n",
      "Result after doubling each element: [2, 4, 6, 8, 10]\n"
     ]
    }
   ],
   "source": [
    "def apply_function_to_list(numbers, func):\n",
    "    \"\"\"Applies the given function to each element in the list.\"\"\"\n",
    "    result = [func(num) for num in numbers]\n",
    "    return result\n",
    "\n",
    "# Example functions to be used\n",
    "def square(x):\n",
    "    return x ** 2\n",
    "\n",
    "def double(x):\n",
    "    return x * 2\n",
    "\n",
    "# List of numbers\n",
    "numbers_list = [1, 2, 3, 4, 5]\n",
    "\n",
    "# Applying the 'square' function to the list\n",
    "result_square = apply_function_to_list(numbers_list, square)\n",
    "print(\"Result after squaring each element:\", result_square)\n",
    "\n",
    "# Applying the 'double' function to the list\n",
    "result_double = apply_function_to_list(numbers_list, double)\n",
    "print(\"Result after doubling each element:\", result_double)\n"
   ]
  },
  {
   "cell_type": "markdown",
   "id": "f653fd2b-671d-431c-ae31-d7829b18dc51",
   "metadata": {},
   "source": [
    "## Built-in-Functions"
   ]
  },
  {
   "cell_type": "markdown",
   "id": "ede59384-7e7c-408e-9235-97aae53ac928",
   "metadata": {},
   "source": [
    "### Q-no/1. Describe the role of built-in functions like `len()`, `max()`, and `min()` in Python."
   ]
  },
  {
   "cell_type": "code",
   "execution_count": null,
   "id": "e1f06889-9503-4662-b6d6-bed773bf041f",
   "metadata": {},
   "outputs": [],
   "source": [
    "Built-in functions like `len()`, `max()`, and `min()` in Python serve specific purposes and provide\n",
    "convenient functionality for working with data structures, such as lists, tuples, strings,\n",
    "and more.\n",
    "\n",
    "### `len()` Function:\n",
    "\n",
    "- **Purpose:** The `len()` function returns the length or the number of items in an object. \n",
    "    It's commonly used to find the number of elements in sequences like strings, lists, tuples,\n",
    "    and dictionaries.\n",
    "- **Usage Example:**\n",
    "\n",
    "    ```python\n",
    "    my_list = [10, 20, 30, 40, 50]\n",
    "    length = len(my_list)\n",
    "    print(\"Length of the list:\", length)  # Output: 5\n",
    "    ```\n",
    "\n",
    "### `max()` and `min()` Functions:\n",
    "\n",
    "- **`max()`:** This function returns the maximum element from a sequence (e.g., list, tuple, or\n",
    "     string).\n",
    "- **`min()`:** The `min()` function returns the minimum element from a sequence.\n",
    "\n",
    "- **Usage Example:**\n",
    "\n",
    "    ```python\n",
    "    my_numbers = [17, 25, 9, 14, 32]\n",
    "    max_number = max(my_numbers)\n",
    "    min_number = min(my_numbers)\n",
    "\n",
    "    print(\"Maximum number:\", max_number)  # Output: 32\n",
    "    print(\"Minimum number:\", min_number)  # Output: 9\n",
    "    ```\n",
    "\n",
    "### Key Roles of these Functions:\n",
    "\n",
    "1. **Simplicity and Convenience:** They offer a simple and direct way to perform common operations\n",
    "     without requiring additional code.\n",
    "2. **Applicability to Various Data Types:** These functions can work with various data types,\n",
    "     including lists, strings, tuples, and more.\n",
    "3. **Efficiency:** They provide efficient implementations for determining lengths, maximum,\n",
    "     and minimum values, allowing for quick analysis of data structures.\n",
    "\n",
    "These built-in functions are fundamental for data analysis, comparisons, and general manipulation\n",
    "of data structures in Python,\n",
    "making it easier to work with collections and sequences of elements."
   ]
  },
  {
   "cell_type": "markdown",
   "id": "f340a8ab-a1b2-4c09-ac98-3cf825793eb2",
   "metadata": {},
   "source": [
    "### Q-no/2. Write a Python program that uses the `map()` function to apply a function to each element of a list.\n"
   ]
  },
  {
   "cell_type": "code",
   "execution_count": 9,
   "id": "a62ace85-3cab-4252-aa64-2f88013a80d2",
   "metadata": {},
   "outputs": [
    {
     "name": "stdout",
     "output_type": "stream",
     "text": [
      "Original list: [1, 2, 3, 4, 5]\n",
      "List after applying the square function using map(): [1, 4, 9, 16, 25]\n"
     ]
    }
   ],
   "source": [
    "# Function to be applied\n",
    "def square(x):\n",
    "    return x ** 2\n",
    "\n",
    "# List of numbers\n",
    "numbers = [1, 2, 3, 4, 5]\n",
    "\n",
    "# Using map() to apply the 'square' function to each element in the list\n",
    "squared_numbers = list(map(square, numbers))\n",
    "\n",
    "# Displaying the result\n",
    "print(\"Original list:\", numbers)\n",
    "print(\"List after applying the square function using map():\", squared_numbers)\n"
   ]
  },
  {
   "cell_type": "markdown",
   "id": "9927b3c5-ec30-477f-988d-a1dcbee050ba",
   "metadata": {},
   "source": [
    "### Q-no/3. How does the `filter()` function work in Python, and when would you use it?\n"
   ]
  },
  {
   "cell_type": "code",
   "execution_count": null,
   "id": "f40424da-9718-4395-9acd-03d143e840f7",
   "metadata": {},
   "outputs": [],
   "source": [
    "The `filter()` function in Python is used to create a new iterator from elements of an iterable for\n",
    "which a function returns `True`. It filters elements from an iterable (like lists, tuples, etc.)\n",
    "based on a provided function that tests each element, returning only those that satisfy the\n",
    "condition.\n",
    "\n",
    "### Basic Syntax:\n",
    "```python\n",
    "filter(function, iterable)\n",
    "```\n",
    "\n",
    "- `function` is the function that tests whether each element of the iterable satisfies a condition.\n",
    "- `iterable` is the sequence to be filtered.\n",
    "\n",
    "### Working of the `filter()` Function:\n",
    "\n",
    "1. **Iterates Over Each Element:** The `filter()` function goes through each element in the \n",
    "     iterable.\n",
    "2. **Applies the Function:** For each element, it applies the function passed as the first\n",
    "     argument.\n",
    "3. **Returns Elements That Pass the Test:** It returns an iterator with elements where the function\n",
    "     returns `True`.\n",
    "\n",
    "### Example:\n",
    "\n",
    "```python\n",
    "# Function to check if a number is even\n",
    "def is_even(num):\n",
    "    return num % 2 == 0\n",
    "\n",
    "# List of numbers\n",
    "numbers = [1, 2, 3, 4, 5, 6, 7, 8, 9, 10]\n",
    "\n",
    "# Using filter() to get only the even numbers\n",
    "filtered_numbers = list(filter(is_even, numbers))\n",
    "\n",
    "print(\"Original list:\", numbers)\n",
    "print(\"Filtered list of even numbers:\", filtered_numbers)\n",
    "```\n",
    "\n",
    "In this example:\n",
    "\n",
    "- The `is_even` function checks if a number is even by performing a modulo operation.\n",
    "- The `numbers` list contains a sequence of numbers.\n",
    "- The `filter()` function applies the `is_even` function to each element in the `numbers` list.\n",
    "- `list()` is used to convert the filtered iterator into a list.\n",
    "- The resulting `filtered_numbers` list contains only the even numbers from the original list.\n",
    "\n",
    "### When to Use `filter()`:\n",
    "\n",
    "- **Filtering Data:** Use `filter()` when you want to select specific elements from a collection\n",
    "    based on a defined condition or test provided\n",
    "    by a function.\n",
    "- **Removing Unwanted Elements:** It's beneficial for data processing tasks to remove or select\n",
    "    'elements that satisfy certain criteria.\n",
    "\n",
    "The `filter()` function is powerful when you need to manipulate or work with specific elements\n",
    "based on a defined condition within an iterable."
   ]
  },
  {
   "cell_type": "markdown",
   "id": "58b68496-cb9f-4d3a-8216-1d0fb588a405",
   "metadata": {},
   "source": [
    "### Q-no/4. Create a Python program that uses the `reduce()` function to find the product of all elements in a list.\n"
   ]
  },
  {
   "cell_type": "code",
   "execution_count": 10,
   "id": "9d5f1c6b-ef6c-44b8-aa86-574bbaaee48e",
   "metadata": {},
   "outputs": [
    {
     "name": "stdout",
     "output_type": "stream",
     "text": [
      "List of numbers: [2, 3, 4, 5]\n",
      "Product of all elements: 120\n"
     ]
    }
   ],
   "source": [
    "from functools import reduce\n",
    "\n",
    "# Function to multiply two numbers\n",
    "def multiply(x, y):\n",
    "    return x * y\n",
    "\n",
    "# List of numbers\n",
    "numbers = [2, 3, 4, 5]\n",
    "\n",
    "# Finding the product of all elements using reduce()\n",
    "product = reduce(multiply, numbers)\n",
    "\n",
    "# Displaying the result\n",
    "print(\"List of numbers:\", numbers)\n",
    "print(\"Product of all elements:\", product)\n"
   ]
  },
  {
   "cell_type": "markdown",
   "id": "b6de7ccf-bf36-45b5-84e4-6974915ecd6d",
   "metadata": {},
   "source": [
    "## Function Documentation and Best Practices:"
   ]
  },
  {
   "cell_type": "markdown",
   "id": "28dec29a-8cc7-4deb-9d2c-6b717e32181d",
   "metadata": {},
   "source": [
    "### 1. Explain the purpose of docstrings in Python functions and how to write them.\n"
   ]
  },
  {
   "cell_type": "code",
   "execution_count": null,
   "id": "e8d937af-5b63-4056-8a06-20c74f0e0f4e",
   "metadata": {},
   "outputs": [],
   "source": [
    "Docstrings in Python are used to provide documentation or descriptive text about modules,\n",
    "functions, classes, or methods. They serve as a form of inline documentation, helping other\n",
    "developers (and even your future self) understand the purpose, usage, and important details of\n",
    "your code. Writing meaningful docstrings is essential for maintaining well-documented and\n",
    "understandable Python code.\n",
    "\n",
    "### Writing Docstrings:\n",
    "\n",
    "1. **Function Docstrings:**\n",
    "    - Enclosed within triple quotes (`'''...'''` or `\"\"\"...\"\"\"`) as the first statement in a\n",
    "      function.\n",
    "    - Describes what the function does, its parameters, return values, exceptions raised,\n",
    "      and usage examples.\n",
    "\n",
    "2. **General Format:**\n",
    "    ```python\n",
    "    def function_name(parameter1, parameter2):\n",
    "        \"\"\"\n",
    "        Description of the function.\n",
    "\n",
    "        Parameters:\n",
    "        - parameter1 (type): Description of parameter1.\n",
    "        - parameter2 (type): Description of parameter2.\n",
    "\n",
    "        Returns:\n",
    "        (type): Description of the return value.\n",
    "        \"\"\"\n",
    "        # Function body\n",
    "        # ...\n",
    "    ```\n",
    "\n",
    "### Example of a Function with Docstring:\n",
    "\n",
    "```python\n",
    "def calculate_square(n):\n",
    "    \"\"\"\n",
    "    Calculates the square of a number.\n",
    "\n",
    "    Parameters:\n",
    "    - n (int): The number to be squared.\n",
    "\n",
    "    Returns:\n",
    "    int: The square of the input number.\n",
    "    \"\"\"\n",
    "    return n ** 2\n",
    "```\n",
    "\n",
    "### Purpose of Docstrings:\n",
    "\n",
    "1. **Clarity and Documentation:** Describes the purpose and functionality of the function\n",
    "     or method.\n",
    "2. **Readability:** Assists other developers in understanding how to use the function and its\n",
    "     inputs/outputs.\n",
    "3. **Tool Usage:** Helps tools like IDEs, documentation generators, and Python's `help()` function\n",
    "    'provide information about your code.\n",
    "\n",
    "Writing clear and informative docstrings is considered good practice and greatly improves code\n",
    "comprehension and maintainability.It enables better collaboration among team members and enhances\n",
    "the overall quality of your codebase."
   ]
  },
  {
   "cell_type": "markdown",
   "id": "16126b3f-78ef-4c15-84e0-7363f7270922",
   "metadata": {},
   "source": [
    "### Q-no/2.Describe some best practices for naming functions and variables in python,including naming convensions and guidelines."
   ]
  },
  {
   "cell_type": "code",
   "execution_count": null,
   "id": "abaf7182-5c19-4f44-bad0-a458aa20c011",
   "metadata": {},
   "outputs": [],
   "source": [
    "Naming functions and variables in Python should follow certain conventions and best practices for code readability and maintainability. Adhering to consistent naming conventions is essential for creating understandable and maintainable code. Here are some best practices and naming guidelines:\n",
    "\n",
    "### General Naming Guidelines:\n",
    "\n",
    "1. **Descriptive Names:** Use descriptive and meaningful names that convey the purpose or use of the function or variable.\n",
    "\n",
    "2. **Clarity over Conciseness:** Favor clarity in naming over brevity. It's better to have descriptive names even if they're longer.\n",
    "\n",
    "### Function Naming:\n",
    "\n",
    "1. **Lowercase with Underscores:** Use lowercase letters and separate words with underscores for function names. (e.g., `calculate_square`, `process_data`)\n",
    "\n",
    "### Variable Naming:\n",
    "\n",
    "1. **Descriptive:** Choose variable names that clearly describe the stored information.\n",
    "     (e.g., `total_count`, `user_name`, `result_list`)\n",
    "\n",
    "2. **Snake Case:** Variables should be in lowercase with words separated by underscores.\n",
    "     (e.g., `first_name`, `item_count`)\n",
    "\n",
    "### Constants:\n",
    "\n",
    "1. **Uppercase with Underscores:** Constants should be in all uppercase letters with underscores\n",
    "     to separate words. (e.g., `MAX_VALUE`, `PI_VALUE`)\n",
    "\n",
    "### Class Naming:\n",
    "\n",
    "1. **CamelCase:** Use CamelCase (or PascalCase) for class names, capitalizing the first letter\n",
    "     of each word. (e.g., `MyClass`, `UserData`)\n",
    "\n",
    "### Module and Package Names:\n",
    "\n",
    "1. **Short, Lowercase Names:** Use short, lowercase names for modules or packages.\n",
    "     (e.g., `utils`, `math_operations`)\n",
    "\n",
    "### Guidelines:\n",
    "\n",
    "1. **Follow PEP 8:** Adhere to the PEP 8 style guide for Python code. It offers detailed\n",
    "     recommendations for naming conventions and general coding style.\n",
    "\n",
    "2. **Avoid Single-letter Names:** Except for counters or generic iterators, avoid using\n",
    "     single-letter variable names like `i`, `j`, or `k` unless in clear and standard looping\n",
    "     constructs.\n",
    "\n",
    "3. **Be Consistent:** Maintain consistency within your codebase. Use the same style and naming\n",
    "     conventions throughout your project.\n",
    "\n",
    "4. **Use Pronounceable Names:** Select names that are easily pronounceable and understandable\n",
    "     when discussing code with others.\n",
    "\n",
    "5. **Avoid Using Built-in Names:** Avoid using names that conflict with Python built-in functions\n",
    "     or reserved keywords.\n",
    "\n",
    "6. **Contextual Names:** Prefix variable names with their context if it helps clarify\n",
    "     their purpose. For instance, `user_age` or `order_total`.\n",
    "\n",
    "Following these best practices for naming functions, variables, classes, modules, and constants\n",
    "helps improve the readability and comprehension of your codebase,\n",
    "making it easier for you and others to understand and maintain the code."
   ]
  },
  {
   "cell_type": "code",
   "execution_count": null,
   "id": "e30cddf8-cabf-4157-845f-2b16aea73213",
   "metadata": {},
   "outputs": [],
   "source": []
  }
 ],
 "metadata": {
  "kernelspec": {
   "display_name": "Python 3 (ipykernel)",
   "language": "python",
   "name": "python3"
  },
  "language_info": {
   "codemirror_mode": {
    "name": "ipython",
    "version": 3
   },
   "file_extension": ".py",
   "mimetype": "text/x-python",
   "name": "python",
   "nbconvert_exporter": "python",
   "pygments_lexer": "ipython3",
   "version": "3.10.8"
  }
 },
 "nbformat": 4,
 "nbformat_minor": 5
}
