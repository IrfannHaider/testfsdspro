{
 "cells": [
  {
   "cell_type": "markdown",
   "metadata": {},
   "source": [
    "# Q No.1 Declare two variables,x and y and assign them integer values .Swap the values of these variables without using any temperary variable"
   ]
  },
  {
   "cell_type": "code",
   "execution_count": 3,
   "metadata": {},
   "outputs": [
    {
     "name": "stdout",
     "output_type": "stream",
     "text": [
      "Before swap x:5 and y:10\n",
      "After swap x:10 and y:5\n"
     ]
    }
   ],
   "source": [
    "# step 1 declare and initialize variables\n",
    "\n",
    "x=5\n",
    "y=10\n",
    "\n",
    "# creating function to swap the variables\n",
    "\n",
    "def swap_variables(x,y):\n",
    "    print(f\"Before swap x:{x} and y:{y}\")\n",
    "    x,y=y,x\n",
    "    print(f\"After swap x:{x} and y:{y}\")\n",
    "    \n",
    "swap_variables(x,y)"
   ]
  },
  {
   "cell_type": "code",
   "execution_count": 9,
   "metadata": {},
   "outputs": [
    {
     "name": "stdout",
     "output_type": "stream",
     "text": [
      "Before swap x is 10 and y is 20\n",
      "After swap x is 20 and y is 10\n"
     ]
    }
   ],
   "source": [
    "# solution 2\n",
    "x=10\n",
    "y=20\n",
    "print('Before swap x is',x,'and y is',y)\n",
    "x,y=y,x\n",
    "print('After swap x is',x,'and y is',y)"
   ]
  },
  {
   "cell_type": "markdown",
   "metadata": {},
   "source": [
    "# Q N.2 Create a programme that calculates the area of rectangular.Take the length and width as inputs from the user and store them in variables.calculate and display the area."
   ]
  },
  {
   "cell_type": "code",
   "execution_count": 10,
   "metadata": {},
   "outputs": [
    {
     "name": "stdout",
     "output_type": "stream",
     "text": [
      "Enter the length of rectangle: 10\n",
      "Enter the width of rectangle: 15\n",
      "The area of rectangle is   150.0\n"
     ]
    }
   ],
   "source": [
    "#step 1. get input from the user for length and width\n",
    "length = float(input('Enter the length of rectangle: '))\n",
    "width =float(input('Enter the width of rectangle: '))\n",
    "\n",
    "#setp 2.calculate the area of rectangular using the formula:area =length*width\n",
    "\n",
    "area = length * width\n",
    "\n",
    "# Display the calculated area to the user\n",
    "\n",
    "print('The area of rectangle is  ',area)"
   ]
  },
  {
   "cell_type": "markdown",
   "metadata": {},
   "source": [
    "# Q N.3 Write python programme that converts the temperature celsius to fahrenhiet.Take temp in celsius as input,store in a variable,convert it to fahrenhiet,and display the user."
   ]
  },
  {
   "cell_type": "code",
   "execution_count": 15,
   "metadata": {},
   "outputs": [
    {
     "name": "stdout",
     "output_type": "stream",
     "text": [
      "Enter temperature in celsius...  20\n",
      "20.0 Celsius is equal to 68.00 Fahranheit\n"
     ]
    }
   ],
   "source": [
    "# step 1.get the temperature from user in celsius\n",
    "\n",
    "celsius_temp = float(input('Enter temperature in celsius...  '))\n",
    "\n",
    "# step 2.convert celsius to fahrenhiet using formula  celsius = (c*9/5) + 32\n",
    "\n",
    "fahranheit_temp = (celsius_temp * 9/5) + 32\n",
    "\n",
    "#step 3.display the converted temperature in fahranhiet\n",
    "\n",
    "print(f\"{celsius_temp} Celsius is equal to {fahranheit_temp:.2f} Fahranheit\")"
   ]
  },
  {
   "cell_type": "markdown",
   "metadata": {},
   "source": [
    "# String Based Questions\n",
    "# ================================="
   ]
  },
  {
   "cell_type": "markdown",
   "metadata": {},
   "source": [
    "# Q No.1 write a programme that takes a string as input and prints the length of string"
   ]
  },
  {
   "cell_type": "code",
   "execution_count": 17,
   "metadata": {},
   "outputs": [
    {
     "name": "stdout",
     "output_type": "stream",
     "text": [
      "Enter a string: irfan\n",
      "The length of input-string is  5\n"
     ]
    }
   ],
   "source": [
    "# get input from the user\n",
    "input_string=input('Enter a string: ')\n",
    "\n",
    "# calculate the length of giving string using built-in len() function\n",
    "\n",
    "string_length=len(input_string)\n",
    "# print the length of the string\n",
    "\n",
    "print('The length of input-string is ',string_length)"
   ]
  },
  {
   "cell_type": "markdown",
   "metadata": {},
   "source": [
    "# Q N.2 Create a programme that takes the string from user and counts the number of vowels(a,e,i,o,u) in the string."
   ]
  },
  {
   "cell_type": "code",
   "execution_count": 21,
   "metadata": {},
   "outputs": [
    {
     "name": "stdout",
     "output_type": "stream",
     "text": [
      "Enter the sentence:  hello my name is irfan\n",
      "Number of vowels: 7\n"
     ]
    }
   ],
   "source": [
    "# get input from the user\n",
    "\n",
    "sentence=input('Enter the sentence:  ')\n",
    "#initialize a variable to count the vowels\n",
    "vowel_count=0\n",
    "\n",
    "#iterate through each character in the sentence\n",
    "\n",
    "for char in sentence:\n",
    "    char_lower=char.lower()\n",
    "    \n",
    "    if char_lower in 'aeiou':\n",
    "        \n",
    "        \n",
    "        vowel_count +=1\n",
    "        \n",
    "print('Number of vowels:',vowel_count)"
   ]
  },
  {
   "cell_type": "markdown",
   "metadata": {},
   "source": [
    "# Q N.3 Given a string,reverse the order of characters using sting slicing and print the reversed string."
   ]
  },
  {
   "cell_type": "code",
   "execution_count": 23,
   "metadata": {},
   "outputs": [
    {
     "name": "stdout",
     "output_type": "stream",
     "text": [
      "Enter a stringhello\n",
      "Reversed string:  olleh\n"
     ]
    }
   ],
   "source": [
    "input_string =input('Enter a string')\n",
    "\n",
    "reversed_string=input_string[::-1]\n",
    "\n",
    "print('Reversed string: ', reversed_string)\n"
   ]
  },
  {
   "cell_type": "markdown",
   "metadata": {},
   "source": [
    "# Q N.4.Write a programme that takes a string as input and checks if it is a palinderome(reads the same forward and backward)"
   ]
  },
  {
   "cell_type": "code",
   "execution_count": 4,
   "metadata": {},
   "outputs": [
    {
     "name": "stdout",
     "output_type": "stream",
     "text": [
      "Enter a string: banana\n",
      "The input string is not a palindrome\n"
     ]
    }
   ],
   "source": [
    "input_string=input('Enter a string: ')\n",
    "\n",
    "cleaned_string=input_string.replace(\" \",\" \").lower()\n",
    "\n",
    "reversed_string=cleaned_string[::-1]\n",
    "\n",
    "if cleaned_string == reversed_string:\n",
    "    print(\"The input string is palinderome\")\n",
    "else:\n",
    "    print(\"The input string is not a palindrome\")"
   ]
  },
  {
   "cell_type": "markdown",
   "metadata": {},
   "source": [
    "# Q N.5 Create a programme that takes a string as input and removes all the spaces from it.Print the modified string without spaces."
   ]
  },
  {
   "cell_type": "code",
   "execution_count": 11,
   "metadata": {},
   "outputs": [
    {
     "name": "stdout",
     "output_type": "stream",
     "text": [
      "Enter a string:     hello\n",
      "Modified string without spaces: hello\n"
     ]
    }
   ],
   "source": [
    "input_string=input(\"Enter a string: \")\n",
    "\n",
    "modified_string=\"\"\n",
    "\n",
    "for char in input_string:\n",
    "    if char != \" \":\n",
    "        modified_string+=char\n",
    "        \n",
    "print('Modified string without spaces:',modified_string)"
   ]
  },
  {
   "cell_type": "code",
   "execution_count": null,
   "metadata": {},
   "outputs": [],
   "source": []
  }
 ],
 "metadata": {
  "kernelspec": {
   "display_name": "Python 3",
   "language": "python",
   "name": "python3"
  },
  "language_info": {
   "codemirror_mode": {
    "name": "ipython",
    "version": 3
   },
   "file_extension": ".py",
   "mimetype": "text/x-python",
   "name": "python",
   "nbconvert_exporter": "python",
   "pygments_lexer": "ipython3",
   "version": "3.8.3"
  }
 },
 "nbformat": 4,
 "nbformat_minor": 4
}
