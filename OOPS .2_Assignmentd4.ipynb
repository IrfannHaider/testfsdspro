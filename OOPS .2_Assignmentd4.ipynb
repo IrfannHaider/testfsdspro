{
  "cells": [
    {
      "cell_type": "markdown",
      "metadata": {
        "id": "b9oCLgQygLEP"
      },
      "source": [
        "## Q.No:1 What is constructor in python.what is its purpose and its usage?"
      ]
    },
    {
      "cell_type": "markdown",
      "metadata": {
        "id": "M0e47jSkgeHy"
      },
      "source": [
        "Ans:The constructor is an inbuilt function of python and a special method in a class used to create  which is used to create an object and automatically initialize an object of  class.Constructor is invoked automatically when an object of a class is created."
      ]
    },
    {
      "cell_type": "markdown",
      "metadata": {
        "id": "llS7xbcQYfA9"
      },
      "source": [
        "**Q.No:2 Differentiate between parameterless and parameterized constructor in python?**"
      ]
    },
    {
      "cell_type": "markdown",
      "metadata": {
        "id": "dMKjWWw_iWg8"
      },
      "source": [
        "## Ans:\n",
        "## Parameterless Constructor:\n",
        "\n",
        "Definition: A constructor that does not take any arguments beyond the mandatory self reference.\n",
        "\n",
        "## Parameterized Constructor:\n",
        "\n",
        "Definition: A constructor that takes additional arguments besides the self reference to initialize specific instance variables"
      ]
    },
    {
      "cell_type": "markdown",
      "metadata": {
        "id": "S3VN-EE1lYOm"
      },
      "source": [
        "## Q.No:3-How do you define a Constructor in a Python class?Provide an example."
      ]
    },
    {
      "cell_type": "markdown",
      "metadata": {
        "id": "NSpmRftSl7XQ"
      },
      "source": [
        "## Ans:"
      ]
    },
    {
      "cell_type": "code",
      "execution_count": null,
      "metadata": {
        "colab": {
          "base_uri": "https://localhost:8080/"
        },
        "id": "szqg2ghhl-lL",
        "outputId": "d46cba08-fa02-4447-ac63-deeab887f200"
      },
      "outputs": [
        {
          "data": {
            "text/plain": [
              "20"
            ]
          },
          "execution_count": 1,
          "metadata": {},
          "output_type": "execute_result"
        }
      ],
      "source": [
        "class ParameterizedConstructor:\n",
        "    def __init__(self, value):\n",
        "\n",
        "        self.some_attribute = value\n",
        "\n",
        "obj = ParameterizedConstructor(20)\n",
        "\n",
        "obj.some_attribute"
      ]
    },
    {
      "cell_type": "markdown",
      "metadata": {
        "id": "Q0dASceGsh4o"
      },
      "source": [
        "## Q.No:4- Explain the `__init__` method in Python and its role in constructors."
      ]
    },
    {
      "cell_type": "markdown",
      "metadata": {
        "id": "WYP0SZAtyZOt"
      },
      "source": [
        "## ANS:\n",
        "\n",
        "The __init__ method in Python, also known as a constructor, is a special method that gets called automatically whenever you create a new instance (object) of a class. Its main purpose is to initialize the attributes of the object."
      ]
    },
    {
      "cell_type": "markdown",
      "metadata": {
        "id": "Sw3d2sNdy4hV"
      },
      "source": [
        "## Q.No.5: In a class named `Person`, create a constructor that initializes the `name` and `age` attributes. Provide an example of creating an object of this class."
      ]
    },
    {
      "cell_type": "code",
      "execution_count": null,
      "metadata": {
        "colab": {
          "base_uri": "https://localhost:8080/"
        },
        "id": "s3ymMoHyzCbT",
        "outputId": "db1ae53d-3604-4a1e-d784-faad03a075e9"
      },
      "outputs": [
        {
          "name": "stdout",
          "output_type": "stream",
          "text": [
            "Irfan\n",
            "34\n"
          ]
        }
      ],
      "source": [
        "class Person:\n",
        "  def __init__(self,name,age):\n",
        "    self.name=name\n",
        "    self.age=age\n",
        "\n",
        "obj=Person(\"Irfan\",34)\n",
        "print(obj.name)\n",
        "print(obj.age)"
      ]
    },
    {
      "cell_type": "markdown",
      "metadata": {
        "id": "MshXHBcR0_qf"
      },
      "source": [
        "## Q.No.6. How can you call a constructor explicitly in Python? Give an exampl"
      ]
    },
    {
      "cell_type": "code",
      "execution_count": null,
      "metadata": {
        "colab": {
          "base_uri": "https://localhost:8080/"
        },
        "id": "ztjZXsnQ1Jc-",
        "outputId": "3c65ee9d-e926-4110-aff4-68598a6d5fd6"
      },
      "outputs": [
        {
          "name": "stdout",
          "output_type": "stream",
          "text": [
            "10\n",
            "20\n"
          ]
        }
      ],
      "source": [
        "class Parent:\n",
        "    def __init__(self, x):\n",
        "        self.x = x\n",
        "\n",
        "class Child(Parent):\n",
        "    def __init__(self, x, y):\n",
        "        super().__init__(x)\n",
        "        self.y = y\n",
        "\n",
        "\n",
        "child_obj = Child(10, 20)\n",
        "\n",
        "print(child_obj.x)\n",
        "print(child_obj.y)"
      ]
    },
    {
      "cell_type": "markdown",
      "metadata": {
        "id": "u7NgTIRp2e-M"
      },
      "source": [
        "## Q.No.7. What is the significance of the `self` parameter in Python constructors? Explain with an example."
      ]
    },
    {
      "cell_type": "markdown",
      "metadata": {
        "id": "FVZEJPFS9fcH"
      },
      "source": [
        "## ANS:\n",
        "\n",
        "The self parameter in Python constructors is absolutely crucial for accessing and modifying the attributes of the newly created object. It acts as a reference to the current instance of the class, allowing you to bind the initialization data to its specific attributes.It is an object of class which is  a default parameter of constructor."
      ]
    },
    {
      "cell_type": "code",
      "execution_count": null,
      "metadata": {
        "colab": {
          "base_uri": "https://localhost:8080/"
        },
        "id": "SlT48ZzF9jO9",
        "outputId": "29f5ebaa-0bf7-4864-e32e-2d9fc1133037"
      },
      "outputs": [
        {
          "name": "stdout",
          "output_type": "stream",
          "text": [
            "mobile\n",
            "30000\n"
          ]
        }
      ],
      "source": [
        "class Instructor:\n",
        "  def __init__(self,name,price):\n",
        "    self.name=name\n",
        "    self.price=price\n",
        "\n",
        "obj=Instructor(\"mobile\",30000)\n",
        "print(obj.name)\n",
        "print(obj.price)\n"
      ]
    },
    {
      "cell_type": "markdown",
      "metadata": {
        "id": "E4FMmlHl_SeG"
      },
      "source": [
        "## Q.No.8. Discuss the concept of default constructors in Python. When are they used?"
      ]
    },
    {
      "cell_type": "markdown",
      "metadata": {
        "id": "x2GN_ctf_dU1"
      },
      "source": [
        "## ANS:\n",
        "\n",
        "Default constructor also called as empty constructor because it does not have any parameter.if we do not define any constructor the compiler automatically calls the default constructor when the object is created.\n",
        "\n"
      ]
    },
    {
      "cell_type": "code",
      "execution_count": null,
      "metadata": {
        "colab": {
          "base_uri": "https://localhost:8080/"
        },
        "id": "ejdWMLnhvtBb",
        "outputId": "6ca1ad73-9b03-4c1b-ba9d-d8ac9415d1d7"
      },
      "outputs": [
        {
          "name": "stdout",
          "output_type": "stream",
          "text": [
            "irfan\n"
          ]
        }
      ],
      "source": [
        "class A:\n",
        "  def __init__(self):\n",
        "    print(\"irfan\")\n",
        "\n",
        "\n",
        "obj=A()\n",
        "obj"
      ]
    },
    {
      "cell_type": "markdown",
      "metadata": {
        "id": "Jjt01xcNx_DT"
      },
      "source": [
        "## Q.No.9. Create a Python class called `Rectangle` with a constructor that initializes the `width` and `height` attributes. Provide a method to calculate the area of the rectangle."
      ]
    },
    {
      "cell_type": "code",
      "execution_count": null,
      "metadata": {
        "id": "YFdl32hryLKc"
      },
      "outputs": [],
      "source": [
        "class Rectangle:\n",
        "  def __init__(self,width,height):\n",
        "    self.width=width\n",
        "    self.height=height\n",
        "  def cal_area(self):\n",
        "     return self.width*self.height"
      ]
    },
    {
      "cell_type": "code",
      "execution_count": null,
      "metadata": {
        "id": "v--mozU9yhuN"
      },
      "outputs": [],
      "source": [
        "obj=Rectangle(5,10)"
      ]
    },
    {
      "cell_type": "code",
      "execution_count": null,
      "metadata": {
        "id": "tyo0iioIylI6"
      },
      "outputs": [],
      "source": [
        "area=obj.cal_area()"
      ]
    },
    {
      "cell_type": "code",
      "execution_count": null,
      "metadata": {
        "colab": {
          "base_uri": "https://localhost:8080/"
        },
        "id": "NL4h9LfI0O7T",
        "outputId": "3ee773ea-e0da-469d-8490-793b8e1d7066"
      },
      "outputs": [
        {
          "name": "stdout",
          "output_type": "stream",
          "text": [
            "The area of default rectangle is 50\n"
          ]
        }
      ],
      "source": [
        "print(\"The area of default rectangle is\",area)"
      ]
    },
    {
      "cell_type": "markdown",
      "metadata": {
        "id": "zBh-csE61RYX"
      },
      "source": [
        "## Q.No.10. How can you have multiple constructors in a Python class? Explain with an example"
      ]
    },
    {
      "cell_type": "code",
      "execution_count": null,
      "metadata": {
        "colab": {
          "base_uri": "https://localhost:8080/"
        },
        "id": "f9V63u6D1YKv",
        "outputId": "eeaa19b0-e3b1-421f-8a0b-c6a59209a0d0"
      },
      "outputs": [
        {
          "name": "stdout",
          "output_type": "stream",
          "text": [
            "dog\n",
            "mamals\n",
            "8\n"
          ]
        }
      ],
      "source": [
        "class Animal:\n",
        "  def __init__(self,name,species):\n",
        "    self.name=name\n",
        "    self.species=species\n",
        "\n",
        "  def __init__(self,name,species,age):\n",
        "    self.name=name\n",
        "    self.species=species\n",
        "    self.age=age\n",
        "\n",
        "dog=Animal(\"dog\",\"mamals\",8)\n",
        "print(dog.name)\n",
        "print(dog.species)\n",
        "print(dog.age)"
      ]
    },
    {
      "cell_type": "code",
      "execution_count": null,
      "metadata": {
        "colab": {
          "base_uri": "https://localhost:8080/"
        },
        "id": "yodZsy25TjMO",
        "outputId": "83c3726a-cae4-40a7-8c7a-ccd90e139c33"
      },
      "outputs": [
        {
          "name": "stdout",
          "output_type": "stream",
          "text": [
            "cat\n",
            "mamals\n"
          ]
        }
      ],
      "source": [
        "\n",
        "class Animal:\n",
        "  def __init__(self,*args):\n",
        "      if len(args)==1:\n",
        "        self.name=args[0]\n",
        "      elif len(args)==2:\n",
        "        self.name=args[0]\n",
        "        self.species=args[1]\n",
        "      elif len(args)==3:\n",
        "        self.name=args[0]\n",
        "        self.species=args[1]\n",
        "        self.age=args[2]\n",
        "\n",
        "dog=Animal(\"cat\",\"mamals\")\n",
        "print(dog.name)\n",
        "print(dog.species)"
      ]
    },
    {
      "cell_type": "markdown",
      "metadata": {
        "id": "DQXcRM8nX5nF"
      },
      "source": [
        "## Q.No.11. What is method overloading, and how is it related to constructors in Python"
      ]
    },
    {
      "cell_type": "markdown",
      "metadata": {
        "id": "fu_op5y17fnx"
      },
      "source": [
        "## ANS:\n",
        "Over loading is one concept of polymorphysm.\n",
        "It comes under the same method of oops.\n",
        "It is worked under the same method names and different arguments.\n",
        "Argument different will be based on number of arguments and types of arguments."
      ]
    },
    {
      "cell_type": "code",
      "execution_count": null,
      "metadata": {
        "id": "Gr4ubAmr7iV-"
      },
      "outputs": [],
      "source": [
        "class A:\n",
        "  def show(self):\n",
        "    print(\"welcome\")\n",
        "  def show(self,firstname=\"\"):\n",
        "    print(\"welcome\",firstname)\n",
        "  def show(self,firstname=\"\",lastname=\"\"):\n",
        "    print(\"welcome\",firstname,lastname)\n",
        "\n"
      ]
    },
    {
      "cell_type": "code",
      "execution_count": null,
      "metadata": {
        "colab": {
          "base_uri": "https://localhost:8080/"
        },
        "id": "ccEEim1OJsfS",
        "outputId": "0084a4ee-4c61-48be-b1e6-57240480aeb0"
      },
      "outputs": [
        {
          "name": "stdout",
          "output_type": "stream",
          "text": [
            "welcome  \n",
            "welcome irfan \n",
            "welcome irfan haider\n"
          ]
        }
      ],
      "source": [
        "obj=A()\n",
        "obj.show()\n",
        "obj.show(\"irfan\")\n",
        "obj.show(\"irfan\",\"haider\")"
      ]
    },
    {
      "cell_type": "code",
      "execution_count": null,
      "metadata": {
        "id": "eW77YOKjKS_W"
      },
      "outputs": [],
      "source": [
        "class B:\n",
        "  def show(self,x=None,y=None):\n",
        "    if x!=None and y!=None:\n",
        "      print(x*y)\n",
        "    elif x!=None:\n",
        "      print(x*x)\n",
        "    else:\n",
        "      print(\"Nothing\")"
      ]
    },
    {
      "cell_type": "code",
      "execution_count": null,
      "metadata": {
        "colab": {
          "base_uri": "https://localhost:8080/"
        },
        "id": "UUDuchoGK98G",
        "outputId": "7b8614dc-9894-474d-c9dd-cfe6feba6150"
      },
      "outputs": [
        {
          "name": "stdout",
          "output_type": "stream",
          "text": [
            "Nothing\n",
            "16\n",
            "6\n"
          ]
        }
      ],
      "source": [
        "ob=B()\n",
        "ob.show()\n",
        "ob.show(4)\n",
        "ob.show(2,3)"
      ]
    },
    {
      "cell_type": "markdown",
      "metadata": {
        "id": "5r4a8nOYMPXn"
      },
      "source": [
        "## Q.No.12. Explain the use of the `super()` function in Python constructors. Provide an example."
      ]
    },
    {
      "cell_type": "markdown",
      "metadata": {
        "id": "ztDGqdcTWXAk"
      },
      "source": [
        "## Ans:\n",
        "\n",
        "Super is an inbuilt function which is used to invoke the parent class methods and constructor."
      ]
    },
    {
      "cell_type": "code",
      "execution_count": null,
      "metadata": {
        "colab": {
          "base_uri": "https://localhost:8080/"
        },
        "id": "7qnpMgijWZxo",
        "outputId": "dd981b24-8f73-41e3-e46a-c2258859ec48"
      },
      "outputs": [
        {
          "name": "stdout",
          "output_type": "stream",
          "text": [
            "inside smartphone constructor\n",
            "inside phone constructor\n",
            "inside smartphone constructor\n",
            "android\n"
          ]
        }
      ],
      "source": [
        "class Phone:\n",
        "  def __init__(self,price,brand,camera):\n",
        "      print(\"inside phone constructor\")\n",
        "      self.price=price\n",
        "      self.brand=brand\n",
        "      self.camera=camera\n",
        "\n",
        "class Smartphone(Phone):\n",
        "  def __init__(self,price,brand,camera,os,ram):\n",
        "      print(\"inside smartphone constructor\")\n",
        "      super().__init__(price,brand,camera)\n",
        "      self.os=os\n",
        "      self.ram=ram\n",
        "      print(\"inside smartphone constructor\")\n",
        "\n",
        "s=Smartphone(2000,\"oppo\",16,\"android\",4)\n",
        "print(s.os)"
      ]
    },
    {
      "cell_type": "markdown",
      "metadata": {
        "id": "GATV2odWWf67"
      },
      "source": [
        "## Q.No.13. Create a class called `Book` with a constructor that initializes the `title`, `author`, and `published_year` attributes. Provide a method to display book details."
      ]
    },
    {
      "cell_type": "code",
      "execution_count": null,
      "metadata": {
        "id": "06RJZo8iWlZm"
      },
      "outputs": [],
      "source": [
        "class Book:\n",
        "  def __init__(self,title,author,published_year):\n",
        "    self.title=title\n",
        "    self.author=author\n",
        "    self.published_year=published_year\n",
        "  def book_details(self):\n",
        "    print(\"Title::\",self.title)\n",
        "    print(\"Author::\",self.author)\n",
        "    print(\"Published_year::\",self.published_year)\n",
        "\n",
        "s=Book(\"Perfection\",\"Irfan kulachi\",2022)\n"
      ]
    },
    {
      "cell_type": "code",
      "execution_count": null,
      "metadata": {
        "colab": {
          "base_uri": "https://localhost:8080/"
        },
        "id": "XeO1DkRlYMco",
        "outputId": "009aa3f8-390d-480a-fd98-36bd9c4aea81"
      },
      "outputs": [
        {
          "name": "stdout",
          "output_type": "stream",
          "text": [
            "Title:: Perfection\n",
            "Author:: Irfan kulachi\n",
            "Published_year:: 2022\n"
          ]
        }
      ],
      "source": [
        "s.book_details()"
      ]
    },
    {
      "cell_type": "markdown",
      "metadata": {
        "id": "i05UKkyoZG4j"
      },
      "source": [
        "## Q.No.14. Discuss the differences between constructors and regular methods in Python classes."
      ]
    },
    {
      "cell_type": "markdown",
      "metadata": {
        "id": "6HExMfDHe5Ac"
      },
      "source": [
        "## ANS:\n",
        " **Here's a breakdown of the key differences between constructors and regular methods in Python classes:**\n",
        "\n",
        "**Purpose:**\n",
        "\n",
        "- **Constructors:**\n",
        "    - Used for initializing objects when they are created.\n",
        "    - Ensure objects start in a valid and consistent state.\n",
        "- **Regular methods:**\n",
        "    - Perform specific actions or calculations on objects.\n",
        "    - Define the behavior of objects.\n",
        "\n",
        "**Name:**\n",
        "\n",
        "- **Constructors:**\n",
        "    - Always named `__init__` (two underscores before and after).\n",
        "- **Regular methods:**\n",
        "    - Can have any meaningful name, following Python naming conventions.\n",
        "\n",
        "**Execution:**\n",
        "\n",
        "- **Constructors:**\n",
        "    - Automatically called when an object is instantiated using the class name.\n",
        "- **Regular methods:**\n",
        "    - Must be explicitly called on an existing object instance.\n",
        "\n",
        "**Return type:**\n",
        "\n",
        "- **Constructors:**\n",
        "    - Do not have an explicit return type (implicitly return `None`).\n",
        "- **Regular methods:**\n",
        "    - Can have any return type, including `None`.\n",
        "\n",
        "**Arguments:**\n",
        "\n",
        "- **Constructors:**\n",
        "    - Implicitly take `self` as the first argument, referring to the newly created object.\n",
        "    - Can take additional arguments to provide initial values for object attributes.\n",
        "- **Regular methods:**\n",
        "    - Also take `self` as the first argument, but can have any number of additional arguments as needed.\n",
        "\n",
        "**Example:**\n",
        "\n",
        "```python\n",
        "class Person:\n",
        "    def __init__(self, name, age):  # Constructor\n",
        "        self.name = name\n",
        "        self.age = age\n",
        "\n",
        "    def greet(self):  # Regular method\n",
        "        print(\"Hello, my name is\", self.name)\n",
        "\n",
        "person1 = Person(\"Alice\", 30)  # Constructor called automatically\n",
        "person1.greet()  # Regular method called explicitly\n",
        "```\n",
        "\n",
        "**Key points:**\n",
        "\n",
        "- Constructors are essential for object initialization and ensuring data integrity.\n",
        "- Regular methods define the actions and operations that objects can perform.\n",
        "- Understanding these differences is crucial for effective object-oriented programming in Python."
      ]
    },
    {
      "cell_type": "markdown",
      "metadata": {
        "id": "lsAj61gbfNdR"
      },
      "source": [
        "## Q.No.15. Explain the role of the `self` parameter in instance variable initialization within a constructor."
      ]
    },
    {
      "cell_type": "markdown",
      "metadata": {
        "id": "sutbzJ5KoRH7"
      },
      "source": [
        "## ANS:\n",
        " **Here's a clear explanation of the role of the `self` parameter in instance variable initialization within a constructor in Python:**\n",
        "\n",
        "**What is `self`?**\n",
        "\n",
        "- It's a special parameter that is automatically passed to every method within a class, including the constructor (`__init__`).\n",
        "- It represents the current object instance, providing a way for methods to access and modify the object's state (its attributes or data).\n",
        "\n",
        "**Role in Instance Variable Initialization:**\n",
        "\n",
        "- **Within the constructor:**\n",
        "    - `self` is used to create and assign values to instance variables, which are attributes that belong to each individual object of the class.\n",
        "    - These variables store the object's specific data and differentiate it from other instances of the same class.\n",
        "\n",
        "**Example:**\n",
        "\n",
        "```python\n",
        "class Person:\n",
        "    def __init__(self, name, age):\n",
        "        self.name = name  # Assigning values to instance variables using self\n",
        "        self.age = age\n",
        "```\n",
        "\n",
        "**Breakdown:**\n",
        "\n",
        "1. When a `Person` object is created (e.g., `person1 = Person(\"Alice\", 30)`), the constructor `__init__` is automatically called.\n",
        "2. The `self` parameter implicitly receives a reference to the newly created `person1` object.\n",
        "3. Inside the constructor, `self.name = name` creates an instance variable named `name` and assigns the value \"Alice\" to it, specifically for `person1`.\n",
        "4. Similarly, `self.age = age` creates an instance variable named `age` and assigns the value 30 to it for `person1`.\n",
        "\n",
        "**Key Points:**\n",
        "\n",
        "- Without `self`, you couldn't create instance variables that are unique to each object.\n",
        "- `self` is crucial for object-oriented programming, allowing methods to access and modify object-specific data.\n",
        "- It's a convention, not a keyword, but it's strongly recommended to use `self` for clarity and consistency."
      ]
    },
    {
      "cell_type": "markdown",
      "metadata": {
        "id": "QUAvxaa7w8_a"
      },
      "source": [
        "## Q.No.16. How do you prevent a class from having multiple instances by using constructors in Python? Provide an example."
      ]
    },
    {
      "cell_type": "code",
      "execution_count": null,
      "metadata": {
        "colab": {
          "base_uri": "https://localhost:8080/"
        },
        "id": "IgsVJJkgxHWl",
        "outputId": "a1dbf66d-46f3-4d9c-a3ce-35df8756c30f"
      },
      "outputs": [
        {
          "name": "stdout",
          "output_type": "stream",
          "text": [
            "True\n",
            "Different data\n"
          ]
        }
      ],
      "source": [
        "class Singleton:\n",
        "    _instance = None\n",
        "\n",
        "    def __new__(cls, *args):\n",
        "        if not cls._instance:\n",
        "            cls._instance = super().__new__(cls)\n",
        "        return cls._instance\n",
        "\n",
        "    def __init__(self, data):\n",
        "        self.data = data\n",
        "\n",
        "# Attempt to create multiple instances\n",
        "instance1 = Singleton(\"Some data\")\n",
        "instance2 = Singleton(\"Different data\")\n",
        "\n",
        "print(instance1 is instance2)  # Output: True (They are the same instance)\n",
        "print(instance1.data)  # Output: Some data (Instance2 didn't create a new object)"
      ]
    },
    {
      "cell_type": "markdown",
      "metadata": {
        "id": "rQg5Sz4xzZQG"
      },
      "source": [
        "## Q.No.17. Create a Python class called `Student` with a constructor that takes a list of subjects as a parameter and initializes the `subjects` attribute"
      ]
    },
    {
      "cell_type": "code",
      "execution_count": null,
      "metadata": {
        "colab": {
          "base_uri": "https://localhost:8080/"
        },
        "id": "vC6BHfcRzjl9",
        "outputId": "5382c8d7-10a0-4e32-f2b4-ba1d97f8332b"
      },
      "outputs": [
        {
          "name": "stdout",
          "output_type": "stream",
          "text": [
            "['DSA', 'DATA SCIENCE', 'BIG DATA']\n"
          ]
        }
      ],
      "source": [
        "class Student:\n",
        "  def __init__(self,subject):\n",
        "    self.subject = subject\n",
        "\n",
        "subject_list=[\"DSA\",\"DATA SCIENCE\",\"BIG DATA\"]\n",
        "students=Student(subject_list)\n",
        "\n",
        "print(students.subject)\n"
      ]
    },
    {
      "cell_type": "markdown",
      "metadata": {
        "id": "B8iupzzo1bYo"
      },
      "source": [
        "## Q.No.18. What is the purpose of the `__del__` method in Python classes, and how does it relate to constructors?"
      ]
    },
    {
      "cell_type": "markdown",
      "metadata": {
        "id": "HMRbHp5a53RA"
      },
      "source": [
        "## ANS:Destractor is a member method of a class.It deletes the memory of the objects.It can call with object."
      ]
    },
    {
      "cell_type": "code",
      "execution_count": null,
      "metadata": {
        "colab": {
          "background_save": true
        },
        "id": "N3O2Rocw6MrE",
        "outputId": "6221868e-6a67-49c7-b501-7e42956187f0"
      },
      "outputs": [
        {
          "name": "stdout",
          "output_type": "stream",
          "text": [
            "This is constructor method\n",
            "This is normal method\n",
            "Destructed method called.... \n",
            "Object deleted....\n"
          ]
        }
      ],
      "source": [
        "class vpn:\n",
        "  def __init__(self):\n",
        "    print(\"This is constructor method\")\n",
        "\n",
        "  def my(self):\n",
        "    print(\"This is normal method\")\n",
        "\n",
        "  def __del__(self):\n",
        "    print(\"Destructed method called.... \")\n",
        "    print(\"Object deleted....\")\n",
        "\n",
        "obj=vpn()\n",
        "obj.my()\n",
        "obj.del"
      ]
    },
    {
      "cell_type": "markdown",
      "metadata": {
        "id": "QzGxcmRQ0ycy"
      },
      "source": [
        "## Q.No.19. Explain the use of constructor chaining in Python. Provide a practical example."
      ]
    },
    {
      "cell_type": "markdown",
      "metadata": {
        "id": "lB7A_2d1_ku3"
      },
      "source": [
        "## ANS.Constructor chaining refers to the process of calling one constructor from another within the same class or from a parent class. In Python, this is achieved using the super() function to invoke the constructor of the superclass."
      ]
    },
    {
      "cell_type": "code",
      "execution_count": null,
      "metadata": {
        "colab": {
          "base_uri": "https://localhost:8080/"
        },
        "id": "PJ-dA-QM_ovo",
        "outputId": "2174d362-bd0c-4acc-bb54-7f1882cce416"
      },
      "outputs": [
        {
          "name": "stdout",
          "output_type": "stream",
          "text": [
            "Parent constructor called\n",
            "Child constructor called\n"
          ]
        }
      ],
      "source": [
        "class Parent:\n",
        "    def __init__(self, parent_param):\n",
        "        self.parent_param = parent_param\n",
        "        print(\"Parent constructor called\")\n",
        "\n",
        "class Child(Parent):\n",
        "    def __init__(self, parent_param, child_param):\n",
        "        super().__init__(parent_param)\n",
        "        self.child_param = child_param\n",
        "        print(\"Child constructor called\")\n",
        "\n",
        "# Creating an instance of Child\n",
        "child_obj = Child(\"Parent Parameter\", \"Child Parameter\")\n"
      ]
    },
    {
      "cell_type": "markdown",
      "metadata": {
        "id": "9_UXQuDG_7v4"
      },
      "source": [
        "## ANS.calling multiple methods sequentially each call perform an action on the same object and return self."
      ]
    },
    {
      "cell_type": "code",
      "execution_count": null,
      "metadata": {
        "colab": {
          "base_uri": "https://localhost:8080/"
        },
        "id": "xpRtgNhkATCQ",
        "outputId": "a7d26723-679b-44aa-f1fe-89fd6c8baa21"
      },
      "outputs": [
        {
          "name": "stdout",
          "output_type": "stream",
          "text": [
            "start the engine\n",
            "drive the car\n",
            "hold the brake\n"
          ]
        },
        {
          "data": {
            "text/plain": [
              "<__main__.Car at 0x7b5962da83d0>"
            ]
          },
          "execution_count": 5,
          "metadata": {},
          "output_type": "execute_result"
        }
      ],
      "source": [
        "class Car:\n",
        "  def turn_on(self):\n",
        "    print(\"start the engine\")\n",
        "    return self\n",
        "  def drive(self):\n",
        "    print(\"drive the car\")\n",
        "    return self\n",
        "  def brake(self):\n",
        "    print(\"hold the brake\")\n",
        "    return self\n",
        "  def turn_off(self):\n",
        "    print(\"turn off the engine\")\n",
        "    return self\n",
        "\n",
        "car=Car()\n",
        "car.turn_on().drive().brake()"
      ]
    },
    {
      "cell_type": "markdown",
      "metadata": {
        "id": "UCQXjGjhCXjf"
      },
      "source": [
        "## Q.No.20. Create a Python class called `Car` with a default constructor that initializes the `make` and `model` attributes. Provide a method to display car information."
      ]
    },
    {
      "cell_type": "code",
      "execution_count": null,
      "metadata": {
        "colab": {
          "base_uri": "https://localhost:8080/"
        },
        "id": "n65bLNVWCc2N",
        "outputId": "89f51392-0caa-42bc-f9b3-1644881d11c0"
      },
      "outputs": [
        {
          "name": "stdout",
          "output_type": "stream",
          "text": [
            "Car make:Ferreri,Model:1953\n"
          ]
        }
      ],
      "source": [
        "class Car:\n",
        "  def __init__(self,make,model):\n",
        "    self.make=make\n",
        "    self.model=model\n",
        "\n",
        "  def display_details(self):\n",
        "    print(f\"Car make:{self.make},Model:{self.model}\")\n",
        "\n",
        "car=Car(\"Ferreri\",1953)\n",
        "car.display_details()"
      ]
    },
    {
      "cell_type": "markdown",
      "metadata": {
        "id": "V5Y79EnSD6Um"
      },
      "source": [
        "# Inheritance:"
      ]
    },
    {
      "cell_type": "markdown",
      "metadata": {
        "id": "lYb52t-yZBNy"
      },
      "source": [
        "## Q.No.1. What is inheritance in Python? Explain its significance in object-oriented programming."
      ]
    },
    {
      "cell_type": "markdown",
      "metadata": {
        "id": "fZTU_Bgjc1Qp"
      },
      "source": [
        "Here's an explanation of inheritance in Python and its significance in object-oriented programming:\n",
        "\n",
        "Inheritance in Python:\n",
        "\n",
        "It is a mechanism that allows you to create new classes (called subclasses or child classes) that inherit attributes and methods from existing classes (called parent classes or base classes).\n",
        "The subclass inherits all the features of the parent class, while also having the ability to add its own unique attributes and methods, or modify inherited ones.\n",
        "\n",
        "class SubClass(ParentClass):\n",
        "    # SubClass-specific attributes and methods\n",
        "Key Significance in OOP:\n",
        "\n",
        "Code Reusability:\n",
        "\n",
        "Inheritance promotes code reuse by allowing you to create new classes that build upon existing functionality, preventing redundant code.\n",
        "You can create a base class with common attributes and methods, and then create specialized subclasses that inherit those features, adding their own unique characteristics.\n",
        "Hierarchical Modeling:\n",
        "\n",
        "Inheritance enables you to model real-world relationships between objects accurately.\n",
        "For example, you can create a Vehicle class with attributes like wheels and a move() method, and then create subclasses like Car, Truck, and Bike that inherit these features while adding their own specific attributes and behaviors.\n",
        "Polymorphism:\n",
        "\n",
        "Inheritance facilitates polymorphism, which means objects of different classes can be treated as if they were of the same type, as long as they share a common interface.\n",
        "This allows for flexible and adaptable code that can work with different types of objects without requiring explicit knowledge of their exact class.\n",
        "Additional Benefits:\n",
        "\n",
        "Modularity: Breaking down code into smaller, more manageable classes through inheritance improves code organization and maintainability.\n",
        "Extensibility: Adding new features or modifying existing behavior becomes easier by extending existing classes through inheritance.\n",
        "Example:\n",
        "\n",
        "class Animal:\n",
        "    def __init__(self, name, species):\n",
        "        self.name = name\n",
        "        self.species = species\n",
        "\n",
        "    def make_sound(self):\n",
        "        print(\"Generic animal sound\")\n",
        "\n",
        "class Dog(Animal):\n",
        "    def make_sound(self):\n",
        "        print(\"Woof!\")\n",
        "\n",
        "class Cat(Animal):\n",
        "    def make_sound(self):\n",
        "        print(\"Meow!\")"
      ]
    },
    {
      "cell_type": "markdown",
      "metadata": {
        "id": "5MsKRK-FdpPN"
      },
      "source": [
        "class Animal:\n",
        "    def __init__(self, species):\n",
        "        self.species = species\n",
        "\n",
        "    def make_sound(self):\n",
        "        pass  # Placeholder method to be overridden by subclasses\n",
        "\n",
        "class Dog(Animal):  # Dog inherits from Animal\n",
        "    def make_sound(self):  # Method override\n",
        "        return \"Woof!\"\n",
        "\n",
        "class Cat(Animal):  # Cat inherits from Animal\n",
        "    def make_sound(self):  # Method override\n",
        "        return \"Meow!\"\n",
        "\n",
        "# Creating instances\n",
        "dog = Dog(\"Canine\")\n",
        "cat = Cat(\"Feline\")\n",
        "\n",
        "# Accessing inherited method and attributes\n",
        "print(dog.species)  # Output: Canine\n",
        "print(dog.make_sound())  # Output: Woof!\n",
        "\n",
        "print(cat.species)  # Output: Feline\n",
        "print(cat.make_sound())  # Output: Meow!\n"
      ]
    },
    {
      "cell_type": "markdown",
      "metadata": {
        "id": "5SlCqsqndYc7"
      },
      "source": [
        "## Q.No.2. Differentiate between single inheritance and multiple inheritance in Python. Provide examples for each."
      ]
    },
    {
      "cell_type": "markdown",
      "metadata": {
        "id": "bnzB22ZRfTv4"
      },
      "source": [
        "## ANS:\n",
        "## Single inheritence:\n",
        "  Single inheritance refers to a situation where a child class inherits from only one Parent. In Python, a childclass can inherit attributes and methods from a single parent class.\n",
        "\n",
        "  ## Multiple inheritence:\n",
        "   Multiple inheritance refers to a situation where a childclass inherits from multiple parentclasses. In Python, a childclass can inherit attributes and methods from a multiple parent class."
      ]
    },
    {
      "cell_type": "code",
      "execution_count": null,
      "metadata": {
        "id": "vUsgj1CzfV_8"
      },
      "outputs": [],
      "source": [
        "1\n",
        "class A:\n",
        "  def showA(self):\n",
        "    print(\"welcome to pwskills  A\" )\n",
        "\n",
        "class B(A):\n",
        "  def showB(self):\n",
        "     print(\"welcome to pwskills B\")"
      ]
    },
    {
      "cell_type": "code",
      "execution_count": null,
      "metadata": {
        "colab": {
          "base_uri": "https://localhost:8080/"
        },
        "id": "fVuinpywghXf",
        "outputId": "b183a3c7-e21d-4ca1-f416-bf4349703e5c"
      },
      "outputs": [
        {
          "name": "stdout",
          "output_type": "stream",
          "text": [
            "welcome to pwskills  A\n",
            "welcome to pwskills B\n"
          ]
        }
      ],
      "source": [
        "obj=B()\n",
        "obj.showA()\n",
        "obj.showB()"
      ]
    },
    {
      "cell_type": "code",
      "execution_count": null,
      "metadata": {
        "id": "PzIxqPr6gvkt"
      },
      "outputs": [],
      "source": [
        "2\n",
        "class A:\n",
        "  def displayA(self):\n",
        "    print(\"welcome to pwskills A\")\n",
        "\n",
        "class B(A):\n",
        "  def displayB(self):\n",
        "    print(\"welcome to pwskills B\")\n",
        "\n",
        "class c(B):\n",
        "  def displayC(self):\n",
        "    print(\"welcome to pwskills C\")\n"
      ]
    },
    {
      "cell_type": "code",
      "execution_count": null,
      "metadata": {
        "colab": {
          "base_uri": "https://localhost:8080/"
        },
        "id": "7gVpkBf5iPPG",
        "outputId": "9435ea96-3e51-418c-f766-46487d7a9e5d"
      },
      "outputs": [
        {
          "name": "stdout",
          "output_type": "stream",
          "text": [
            "welcome to pwskills A\n",
            "welcome to pwskills B\n",
            "welcome to pwskills C\n"
          ]
        }
      ],
      "source": [
        "objj=c()\n",
        "objj.displayA()\n",
        "objj.displayB()\n",
        "objj.displayC()"
      ]
    },
    {
      "cell_type": "markdown",
      "metadata": {
        "id": "EnDZfh3SmjQT"
      },
      "source": [
        "## Q.No.3. Create a Python class called `Vehicle` with attributes `color` and `speed`. Then, create a child class called `Car` that inherits from `Vehicle` and adds a `brand` attribute. Provide an example of creating a `Car` object."
      ]
    },
    {
      "cell_type": "code",
      "execution_count": null,
      "metadata": {
        "colab": {
          "base_uri": "https://localhost:8080/"
        },
        "id": "KE-zDGUnmnYU",
        "outputId": "d347574e-41b3-4fac-989e-6d7cb4b4eba7"
      },
      "outputs": [
        {
          "name": "stdout",
          "output_type": "stream",
          "text": [
            "red\n",
            "300\n",
            "Toyota\n"
          ]
        }
      ],
      "source": [
        "class Vehicle:\n",
        "  def __init__(self,color,speed):\n",
        "    self.color=color\n",
        "    self.speed=speed\n",
        "\n",
        "class Car(Vehicle):\n",
        "  def __init__(self,color,speed,brand):\n",
        "    super().__init__(color,speed)\n",
        "    self.brand=brand\n",
        "\n",
        "\n",
        "ob=Car(\"red\",300,\"Toyota\")\n",
        "print(ob.color)\n",
        "print(ob.speed)\n",
        "print(ob.brand)"
      ]
    },
    {
      "cell_type": "markdown",
      "metadata": {
        "id": "9a7EEZZAsKt-"
      },
      "source": [
        "## Q.No.4. Explain the concept of method overriding in inheritance. Provide a practical example"
      ]
    },
    {
      "cell_type": "markdown",
      "metadata": {
        "id": "MSJ4wSxuvmKe"
      },
      "source": [
        "## ANS:\n",
        "1.Overriding is a process when same name and argument in parent and child classes are created .It is mostly used in memory reducing processes."
      ]
    },
    {
      "cell_type": "code",
      "execution_count": null,
      "metadata": {
        "colab": {
          "base_uri": "https://localhost:8080/"
        },
        "id": "mG8IZhHXwmLl",
        "outputId": "273f7771-c49b-44f2-f866-e1068f669351"
      },
      "outputs": [
        {
          "name": "stdout",
          "output_type": "stream",
          "text": [
            "I am in class B\n"
          ]
        }
      ],
      "source": [
        "class A:\n",
        "  def showdata(self):\n",
        "    print(\"I am in class A\")\n",
        "\n",
        "class B(A):\n",
        "  def showdata(self):\n",
        "    print(\"I am in class B\")\n",
        "\n",
        "object=B()\n",
        "object.showdata()"
      ]
    },
    {
      "cell_type": "markdown",
      "metadata": {
        "id": "6E8UuVLfzd4w"
      },
      "source": [
        "## Q.No.5. How can you access the methods and attributes of a parent class from a child class in Python? Give an example."
      ]
    },
    {
      "cell_type": "code",
      "execution_count": null,
      "metadata": {
        "colab": {
          "base_uri": "https://localhost:8080/"
        },
        "id": "6X7nH25tziIh",
        "outputId": "f7b93e42-b9e2-4c9c-f0bb-07d5fc35c4e1"
      },
      "outputs": [
        {
          "name": "stdout",
          "output_type": "stream",
          "text": [
            "I am in class A\n",
            "I am in class B\n"
          ]
        }
      ],
      "source": [
        "class A:\n",
        "  def showdata(self):\n",
        "    print(\"I am in class A\")\n",
        "\n",
        "class B(A):\n",
        "  def showdata(self):\n",
        "    super().showdata()\n",
        "    print(\"I am in class B\")\n",
        "\n",
        "object=B()\n",
        "object.showdata()"
      ]
    },
    {
      "cell_type": "code",
      "execution_count": null,
      "metadata": {
        "colab": {
          "base_uri": "https://localhost:8080/"
        },
        "id": "07Ix_AC8zybC",
        "outputId": "b48e9ed7-7b75-4fe3-e975-aea3e4b8c15a"
      },
      "outputs": [
        {
          "name": "stdout",
          "output_type": "stream",
          "text": [
            "red\n",
            "300\n",
            "Toyota\n"
          ]
        }
      ],
      "source": [
        "class Vehicle:\n",
        "  def __init__(self,color,speed):\n",
        "    self.color=color\n",
        "    self.speed=speed\n",
        "\n",
        "class Car(Vehicle):\n",
        "  def __init__(self,color,speed,brand):\n",
        "    super().__init__(color,speed)\n",
        "    self.brand=brand\n",
        "\n",
        "\n",
        "ob=Car(\"red\",300,\"Toyota\")\n",
        "print(ob.color)\n",
        "print(ob.speed)\n",
        "print(ob.brand)"
      ]
    },
    {
      "cell_type": "markdown",
      "metadata": {
        "id": "LAWE5RCO0AM1"
      },
      "source": [
        "## Q.No.6. Discuss the use of the `super()` function in Python inheritance. When and why is it used? Provide an example."
      ]
    },
    {
      "cell_type": "markdown",
      "metadata": {
        "id": "E1Kd4NEb0rFL"
      },
      "source": [
        "## ANS:It's a built-in function that allows a childclass to access and call methods and attributes of its parentclass."
      ]
    },
    {
      "cell_type": "code",
      "execution_count": null,
      "metadata": {
        "colab": {
          "base_uri": "https://localhost:8080/"
        },
        "id": "B__g9BPE05H5",
        "outputId": "a24a7462-0584-4449-e767-6ac77ecb1e85"
      },
      "outputs": [
        {
          "name": "stdout",
          "output_type": "stream",
          "text": [
            "I am in class A\n",
            "I am in class B\n"
          ]
        }
      ],
      "source": [
        "class A:\n",
        "  def showdata(self):\n",
        "    print(\"I am in class A\")\n",
        "\n",
        "class B(A):\n",
        "  def showdata(self):\n",
        "    super().showdata()\n",
        "    print(\"I am in class B\")\n",
        "\n",
        "object=B()\n",
        "object.showdata()"
      ]
    },
    {
      "cell_type": "code",
      "execution_count": null,
      "metadata": {
        "colab": {
          "base_uri": "https://localhost:8080/"
        },
        "id": "l6r5STvb1E7K",
        "outputId": "07cfc8e6-6ef6-4231-e2fd-49cef3102e8f"
      },
      "outputs": [
        {
          "name": "stdout",
          "output_type": "stream",
          "text": [
            "red\n",
            "300\n",
            "Toyota\n"
          ]
        }
      ],
      "source": [
        "class Vehicle:\n",
        "  def __init__(self,color,speed):\n",
        "    self.color=color\n",
        "    self.speed=speed\n",
        "\n",
        "class Car(Vehicle):\n",
        "  def __init__(self,color,speed,brand):\n",
        "    super().__init__(color,speed)\n",
        "    self.brand=brand\n",
        "\n",
        "\n",
        "ob=Car(\"red\",300,\"Toyota\")\n",
        "print(ob.color)\n",
        "print(ob.speed)\n",
        "print(ob.brand)"
      ]
    },
    {
      "cell_type": "markdown",
      "metadata": {
        "id": "wAEBNJeB1QBc"
      },
      "source": [
        "## Q.No.7. Create a Python class called `Animal` with a method `speak()`. Then, create child classes `Dog` and `Cat` that inherit from `Animal` and override the `speak()` method. Provide an exam"
      ]
    },
    {
      "cell_type": "code",
      "execution_count": null,
      "metadata": {
        "colab": {
          "base_uri": "https://localhost:8080/"
        },
        "id": "zgrp4jUW1U5t",
        "outputId": "3ae89c49-f9ce-40a4-84e4-3998e3bc1108"
      },
      "outputs": [
        {
          "name": "stdout",
          "output_type": "stream",
          "text": [
            "This is dog class\n",
            "This is cat class\n"
          ]
        }
      ],
      "source": [
        "class Animal:\n",
        "  def speak(self):\n",
        "     print(\"This is an animal class\")\n",
        "\n",
        "class Dog(Animal):\n",
        "  def speak(self):\n",
        "    print(\"This is dog class\")\n",
        "\n",
        "class Cat(Animal):\n",
        "  def speak(self):\n",
        "    print(\"This is cat class\")\n",
        "\n",
        "ani=Dog()\n",
        "ami=Cat()\n",
        "ani.speak()\n",
        "ami.speak()"
      ]
    },
    {
      "cell_type": "markdown",
      "metadata": {
        "id": "G3ubBRzQ3KRC"
      },
      "source": [
        "## Q.No.8. Explain the role of the `isinstance()` function in Python and how it relates to inheritance."
      ]
    },
    {
      "cell_type": "code",
      "execution_count": null,
      "metadata": {
        "colab": {
          "base_uri": "https://localhost:8080/"
        },
        "id": "8u59Jdxe3NvI",
        "outputId": "58ee9420-f84c-4076-c953-9c6c4d992bee"
      },
      "outputs": [
        {
          "name": "stdout",
          "output_type": "stream",
          "text": [
            "True\n",
            "True\n",
            "False\n",
            "True\n"
          ]
        }
      ],
      "source": [
        "class Animal:\n",
        "    pass\n",
        "\n",
        "class Dog(Animal):\n",
        "    pass\n",
        "\n",
        "class Cat(Animal):\n",
        "    pass\n",
        "\n",
        "dog = Dog()\n",
        "cat = Cat()\n",
        "\n",
        "print(isinstance(dog, Animal))\n",
        "print(isinstance(cat, Animal))\n",
        "print(isinstance(dog, Cat))\n",
        "print(isinstance(dog, (Animal, Dog)))"
      ]
    },
    {
      "cell_type": "markdown",
      "metadata": {
        "id": "_cjFxIuY8zxC"
      },
      "source": [
        "## Q.No.9. What is the purpose of the `issubclass()` function in Python? Provide an example."
      ]
    },
    {
      "cell_type": "markdown",
      "metadata": {
        "id": "H6if2UGP-Hoo"
      },
      "source": [
        "## ANS:\n",
        "\n",
        "- It's used to determine whether a given class is a subclass (or descendant) of another class.\n",
        "- It checks for inheritance relationships within class hierarchies.\n",
        "- It returns a Boolean value: `True` if the class is a subclass, `False` otherwise.\n"
      ]
    },
    {
      "cell_type": "code",
      "execution_count": null,
      "metadata": {
        "colab": {
          "base_uri": "https://localhost:8080/"
        },
        "id": "NcJNDIrb-etL",
        "outputId": "18ae5e44-da2e-4037-fc9d-2e43cb96a62d"
      },
      "outputs": [
        {
          "name": "stdout",
          "output_type": "stream",
          "text": [
            "True\n",
            "True\n",
            "False\n"
          ]
        }
      ],
      "source": [
        "\n",
        "class Animal:\n",
        "    pass\n",
        "\n",
        "class Mammal(Animal):\n",
        "    pass\n",
        "\n",
        "class Dog(Mammal):\n",
        "    pass\n",
        "\n",
        "print(issubclass(Dog, Mammal))\n",
        "\n",
        "print(issubclass(Dog, Animal))\n",
        "\n",
        "print(issubclass(Mammal, Dog))"
      ]
    },
    {
      "cell_type": "markdown",
      "metadata": {
        "id": "ZfD8wrYl-6V2"
      },
      "source": [
        "## Q.No.10. Discuss the concept of constructor inheritance in Python. How are constructors inherited in child classes?"
      ]
    },
    {
      "cell_type": "markdown",
      "metadata": {
        "id": "SB72O0WGEO8t"
      },
      "source": [
        "## ANS:\n",
        "In Python, constructor inheritance refers to how constructors are inherited by child classes from their parent classes. When a child class is created, if it doesn't explicitly define its own constructor (__init__ method), it automatically inherits the constructor of its parent class"
      ]
    },
    {
      "cell_type": "code",
      "execution_count": null,
      "metadata": {
        "colab": {
          "base_uri": "https://localhost:8080/"
        },
        "id": "1IedXSGXEToY",
        "outputId": "054b1192-3f94-4057-e980-4be6284f3065"
      },
      "outputs": [
        {
          "name": "stdout",
          "output_type": "stream",
          "text": [
            "Fido\n",
            "Golden Retriever\n"
          ]
        }
      ],
      "source": [
        "class Animal:\n",
        "    def __init__(self, name):\n",
        "        self.name = name\n",
        "\n",
        "class Dog(Animal):\n",
        "    def __init__(self, name, breed):\n",
        "        super().__init__(name)\n",
        "        self.breed = breed\n",
        "\n",
        "my_dog = Dog(\"Fido\", \"Golden Retriever\")\n",
        "print(my_dog.name)\n",
        "print(my_dog.breed)"
      ]
    },
    {
      "cell_type": "markdown",
      "metadata": {
        "id": "WucdTG0JEz8f"
      },
      "source": [
        "## Q.No.11. Create a Python class called `Shape` with a method `area()` that calculates the area of a shape. Then, create child classes `Circle` and `Rectangle` that inherit from `Shape` and implement the `area()` method accordingly. Provide an example."
      ]
    },
    {
      "cell_type": "code",
      "execution_count": null,
      "metadata": {
        "colab": {
          "base_uri": "https://localhost:8080/"
        },
        "id": "sH-9PKSSE6YV",
        "outputId": "f1913792-138c-42c2-e006-275c8bc3aa33"
      },
      "outputs": [
        {
          "name": "stdout",
          "output_type": "stream",
          "text": [
            "Area of the circle: 78.50\n",
            "Area of the rectangle: 24\n"
          ]
        }
      ],
      "source": [
        "class shape:\n",
        "  def area(self):\n",
        "    pass\n",
        "\n",
        "class Circle(shape):\n",
        "  def __init__(self,radius):\n",
        "    self.radius=radius\n",
        "\n",
        "  def area(self):\n",
        "    return 3.14*self.radius**2\n",
        "class Rectangle(shape):\n",
        "  def __init__(self,width,height):\n",
        "    self.width=width\n",
        "    self.height=height\n",
        "  def area(self):\n",
        "    return self.width*self.height\n",
        "\n",
        "my_circle = Circle(5)\n",
        "my_rectangle = Rectangle(4, 6)\n",
        "\n",
        "print(f\"Area of the circle: {my_circle.area():.2f}\")\n",
        "print(f\"Area of the rectangle: {my_rectangle.area()}\")"
      ]
    },
    {
      "cell_type": "markdown",
      "metadata": {
        "id": "bM_dcLyLZlxH"
      },
      "source": [
        "## Q.No.12. Explain the use of abstract base classes (ABCs) in Python and how they relate to inheritance. Provide an example using the `abc` module."
      ]
    },
    {
      "cell_type": "code",
      "execution_count": null,
      "metadata": {
        "colab": {
          "base_uri": "https://localhost:8080/"
        },
        "id": "v3FBwG6XZxFZ",
        "outputId": "2142ef2c-1515-4ea2-cd7a-acf03bc0536e"
      },
      "outputs": [
        {
          "name": "stdout",
          "output_type": "stream",
          "text": [
            "Every car has 4 wheels\n",
            "Honda has speed of 150km/h\n",
            "Every car has 4 wheels\n",
            "Suzuki has speed of 100km/h\n"
          ]
        }
      ],
      "source": [
        "from abc import ABC ,abstractmethod\n",
        "\n",
        "class Car(ABC):\n",
        "  def show(self):\n",
        "    print(\"Every car has 4 wheels\")\n",
        "  @abstractmethod\n",
        "  def speed(self):\n",
        "      pass\n",
        "\n",
        "class Honda(Car):\n",
        "  def speed(self):\n",
        "    print(\"Honda has speed of 150km/h\")\n",
        "\n",
        "class Suzuki(Car):\n",
        "  def speed(self):\n",
        "    print(\"Suzuki has speed of 100km/h\")\n",
        "\n",
        "car=Honda()\n",
        "car.show()\n",
        "car.speed()\n",
        "car1=Suzuki()\n",
        "car1.show()\n",
        "car1.speed()"
      ]
    },
    {
      "cell_type": "markdown",
      "metadata": {
        "id": "fBUC066lQNjf"
      },
      "source": [
        "## Q.No.13. How can you prevent a child class from modifying certain attributes or methods inherited from a parent class in Python?"
      ]
    },
    {
      "cell_type": "markdown",
      "metadata": {
        "id": "f1DEFWCNYwN6"
      },
      "source": [
        "In Python, you can prevent a child class from modifying certain attributes or methods inherited from a parent class by using **access modifiers**. Access modifiers are used to restrict access to certain attributes or methods of a class. In Python, access modifiers are implemented using **underscores**.\n",
        "\n",
        "- **Single underscore**: A single underscore before an attribute or method name makes it **protected**. Protected attributes and methods can be accessed within the class and its subclasses, but not from outside the class.\n",
        "- **Double underscore**: A double underscore before an attribute or method name makes it **private**. Private attributes and methods can only be accessed within the class.\n",
        "\n",
        "For example, if you want to prevent a child class from modifying a certain attribute of a parent class, you can make that attribute **private** by adding a double underscore before its name. This will prevent the child class from accessing or modifying the attribute.\n",
        "\n",
        "In this example, the `Parent` class has a private attribute called `__attribute`. The `Child` class also has an attribute with the same name, but it is not the same attribute as the one in the `Parent` class. The `Child` class cannot access or modify the `__attribute` attribute of the `Parent` class.\n",
        "\n",
        "I hope this helps! Let me know if you have any other questions."
      ]
    },
    {
      "cell_type": "code",
      "execution_count": null,
      "metadata": {
        "colab": {
          "base_uri": "https://localhost:8080/"
        },
        "id": "tr0ruS4LVjLr",
        "outputId": "b0a32430-8bf7-4a8e-f094-48b7f86305d3"
      },
      "outputs": [
        {
          "name": "stdout",
          "output_type": "stream",
          "text": [
            "10\n",
            "10\n"
          ]
        }
      ],
      "source": [
        "class Parent:\n",
        "    def __init__(self):\n",
        "        self.__attribute = 10\n",
        "\n",
        "class Child(Parent):\n",
        "    def __init__(self):\n",
        "        super().__init__()\n",
        "        self.__attribute = 20\n",
        "\n",
        "parent = Parent()\n",
        "child = Child()\n",
        "\n",
        "print(parent._Parent__attribute)\n",
        "print(child._Parent__attribute)"
      ]
    },
    {
      "cell_type": "markdown",
      "metadata": {
        "id": "M9RZk5ZmY3jC"
      },
      "source": [
        "## Q.No.14. Create a Python class called `Employee` with attributes `name` and `salary`. Then, create a child class `Manager` that inherits from `Employee` and adds an attribute `department`. Provide an example."
      ]
    },
    {
      "cell_type": "code",
      "execution_count": null,
      "metadata": {
        "colab": {
          "base_uri": "https://localhost:8080/"
        },
        "id": "JR0bj4MZY674",
        "outputId": "6f57a4e1-d9a0-4e6a-e22a-862dc9ad4abe"
      },
      "outputs": [
        {
          "name": "stdout",
          "output_type": "stream",
          "text": [
            "data science\n",
            "irfan\n",
            "50000\n"
          ]
        }
      ],
      "source": [
        "class Employee:\n",
        "  def __init__(self,name,salary):\n",
        "    self.name=name\n",
        "    self.salary=salary\n",
        "\n",
        "class Manager(Employee):\n",
        "  def __init__(self,name,salary,department):\n",
        "    super().__init__(name,salary)\n",
        "    self.department=department\n",
        "\n",
        "a=Manager(\"irfan\",50000,\"data science\")\n",
        "print(a.department)\n",
        "print(a.name)\n",
        "print(a.salary)"
      ]
    },
    {
      "cell_type": "markdown",
      "metadata": {
        "id": "PBm3KRIibl_i"
      },
      "source": [
        "## Q.No.15. Discuss the concept of method overloading in Python inheritance. How does it differ from method overriding"
      ]
    },
    {
      "cell_type": "code",
      "execution_count": null,
      "metadata": {
        "colab": {
          "base_uri": "https://localhost:8080/"
        },
        "id": "lvzCEPFdbsAB",
        "outputId": "1ffde131-453e-4471-9d57-25ba444d2ae2"
      },
      "outputs": [
        {
          "name": "stdout",
          "output_type": "stream",
          "text": [
            "Nothing else to found\n",
            "Area of rectangle: 100\n",
            "Area of rectangle: 50\n"
          ]
        }
      ],
      "source": [
        "#Method Overloading:\n",
        "#Definition: Method overloading refers to defining multiple methods in the same class with the same name but with different signatures\n",
        "#(different parameters or different numbers/types of parameters).\n",
        "\n",
        "class Area:\n",
        "  def find_area(self,a=None,b=None):\n",
        "    if a!=None and b!=None:\n",
        "      print(\"Area of rectangle:\",a*b)\n",
        "    elif a!=None:\n",
        "      print(\"Area of rectangle:\",a*a)\n",
        "\n",
        "    else:\n",
        "      print(\"Nothing else to found\")\n",
        "\n",
        "obb=Area()\n",
        "obb.find_area()\n",
        "obb.find_area(10)\n",
        "obb.find_area(10,5)\n",
        "\n"
      ]
    },
    {
      "cell_type": "code",
      "execution_count": null,
      "metadata": {
        "colab": {
          "base_uri": "https://localhost:8080/"
        },
        "id": "DHlXQB3gfO6i",
        "outputId": "850fbcc1-2947-430b-b690-1a68187b0dd5"
      },
      "outputs": [
        {
          "name": "stdout",
          "output_type": "stream",
          "text": [
            "I am in class B\n"
          ]
        }
      ],
      "source": [
        "#Method Overriding:\n",
        "#Definition: Method overriding occurs when a childclass provides a specific implementation for a method that is\n",
        "#already defined in its parentclass.\n",
        "\n",
        "class A:\n",
        "  def showdata(self):\n",
        "    print(\"I am in class A\")\n",
        "\n",
        "class B(A):\n",
        "  def showdata(self):\n",
        "    print(\"I am in class B\")\n",
        "\n",
        "oob=B()\n",
        "oob.showdata()"
      ]
    },
    {
      "cell_type": "markdown",
      "metadata": {
        "id": "04ikdpoYg7wg"
      },
      "source": [
        "## Q.No.16. Explain the purpose of the `__init__()` method in Python inheritance and how it is utilized in child classes."
      ]
    },
    {
      "cell_type": "code",
      "execution_count": null,
      "metadata": {
        "colab": {
          "base_uri": "https://localhost:8080/"
        },
        "id": "DprXFf0ehDpM",
        "outputId": "0c8a86a1-6eeb-487e-d21d-ab64cf52e540"
      },
      "outputs": [
        {
          "name": "stdout",
          "output_type": "stream",
          "text": [
            "Irfan\n",
            "34\n"
          ]
        }
      ],
      "source": [
        "#The __init__() method in Python is a special method used for initializing objects of a class.\n",
        "#It's called a constructor method because it gets automatically invoked when a new instance of the class is created.\n",
        "#In inheritance, the __init__() method plays a crucial role in initializing attributes inherited from the parent class and\n",
        "#adding new attributes specific to the child class\n",
        "class Parent:\n",
        "    def __init__(self, name):\n",
        "        self.name = name\n",
        "\n",
        "class Child(Parent):\n",
        "    def __init__(self, name, age):\n",
        "        super().__init__(name)\n",
        "        self.age = age\n",
        "\n",
        "\n",
        "child = Child(\"Irfan\", 34)\n",
        "print(child.name)\n",
        "print(child.age)\n",
        "\n",
        "\n"
      ]
    },
    {
      "cell_type": "markdown",
      "metadata": {
        "id": "RGgHuhkNkydN"
      },
      "source": [
        "## Q.No.17. Create a Python class called `Bird` with a method `fly()`. Then, create child classes `Eagle` and `Sparrow` that inherit from `Bird` and implement the `fly()` method differently. Provide an example of using these classes"
      ]
    },
    {
      "cell_type": "code",
      "execution_count": null,
      "metadata": {
        "colab": {
          "base_uri": "https://localhost:8080/"
        },
        "id": "C4zGYVizk731",
        "outputId": "aff1d404-6b4c-4ad2-96a8-4608f262cf5d"
      },
      "outputs": [
        {
          "name": "stdout",
          "output_type": "stream",
          "text": [
            "Eagle can fly\n",
            "Sparrow can fly\n"
          ]
        }
      ],
      "source": [
        "class Bird:\n",
        "  def __init__(self):\n",
        "      def fly(self):\n",
        "         pass\n",
        "\n",
        "class Eagle(Bird):\n",
        "  def fly(self):\n",
        "    print(\"Eagle can fly\")\n",
        "\n",
        "class Sparrow(Bird):\n",
        "  def fly(self):\n",
        "    print(\"Sparrow can fly\")\n",
        "\n",
        "obb=Eagle()\n",
        "obb.fly()\n",
        "obb2=Sparrow()\n",
        "obb2.fly()"
      ]
    },
    {
      "cell_type": "markdown",
      "metadata": {
        "id": "eInWSzj9nQJX"
      },
      "source": [
        "## Q.No.18. What is the \"diamond problem\" in multiple inheritance, and how does Python address it?"
      ]
    },
    {
      "cell_type": "code",
      "execution_count": null,
      "metadata": {
        "colab": {
          "background_save": true
        },
        "id": "z_o0c6ObnX7D",
        "outputId": "f2c21e71-b1e2-4a1e-a93d-627bdb5a6787"
      },
      "outputs": [
        {
          "name": "stdout",
          "output_type": "stream",
          "text": [
            "Fly from B\n"
          ]
        }
      ],
      "source": [
        "#The \"diamond problem\" is a potential ambiguity that arises in multiple inheritance when a class inherits from two parent classes\n",
        "# that themselves have a common ancestor.\n",
        "\n",
        "class A:\n",
        "  def fly(self):\n",
        "    print(\"Fly from A\")\n",
        "\n",
        "class B:\n",
        "  def fly(self):\n",
        "    print(\"Fly from B\")\n",
        "\n",
        "class C(A,B):\n",
        "  def fly(self):\n",
        "    pass\n",
        "\n",
        "oob1=C()\n",
        "oob1.fly()"
      ]
    },
    {
      "cell_type": "markdown",
      "source": [
        "## Encapsulation"
      ],
      "metadata": {
        "id": "RrPzVUOO1Sqa"
      }
    },
    {
      "cell_type": "markdown",
      "source": [
        "### Q.No.1 Explain the concept of encapsulation in Python. What is its role in object-oriented programming?."
      ],
      "metadata": {
        "id": "tPi3feOq1-hf"
      }
    },
    {
      "cell_type": "markdown",
      "source": [
        "## ANS\n",
        "When you want to Hiding the internal details or implementations or data is known as encapsulation.It contains three types of encapsulation public,(_)protected,(__)private."
      ],
      "metadata": {
        "id": "GadnbUrMbN8D"
      }
    },
    {
      "cell_type": "code",
      "source": [
        "class A:\n",
        "  def __init__(self):\n",
        "    self.__x=\"irfan\"\n",
        "    self.y=\"khan\"\n",
        "    self.z=\"pwskills\"\n",
        "\n",
        "  def __test_math(self):\n",
        "    return \"This is math test\"\n",
        "  def access_var(self):\n",
        "    return self.__x\n",
        "  def update_var(self,data):\n",
        "    self.__x=data\n",
        "\n",
        "obj=A()\n",
        "obj._A__x\n",
        "obj._A__test_math()\n",
        "obj.y\n",
        "obj.access_var()\n",
        "obj.update_var(3454545)\n",
        "obj.access_var()"
      ],
      "metadata": {
        "colab": {
          "base_uri": "https://localhost:8080/"
        },
        "id": "KX3ge6TVb1zq",
        "outputId": "c0b624f8-625a-4c8c-b658-3de03660c2da"
      },
      "execution_count": null,
      "outputs": [
        {
          "output_type": "execute_result",
          "data": {
            "text/plain": [
              "3454545"
            ]
          },
          "metadata": {},
          "execution_count": 21
        }
      ]
    },
    {
      "cell_type": "markdown",
      "source": [
        "### Q.No.2. Describe the key principles of encapsulation, including access control and data hiding."
      ],
      "metadata": {
        "id": "uuH97xH9mMAn"
      }
    },
    {
      "cell_type": "markdown",
      "source": [
        "### ANS:\n",
        "## Key Principles of Encapsulation: Access Control and Data Hiding\n",
        "\n",
        "Encapsulation in object-oriented programming (OOP) refers to bundling data (attributes) and methods (operations) together into a single unit like a class, hiding the internal implementation details while providing a controlled interface for external interaction. This concept rests on two important pillars: access control and data hiding.\n",
        "\n",
        "**1. Access Control:**\n",
        "\n",
        "* This principle regulates how external entities can access an object's internal data and functionality. By controlling access, we can:\n",
        "    * **Protect data integrity:** By preventing direct manipulation of internal data, we ensure it remains consistent and valid, as only defined methods can modify it.\n",
        "    * **Enhance modularity:** Different parts of the program can only interact with an object through its public interface, simplifying the overall program structure and reducing dependencies.\n",
        "    * **Improve security:** Sensitive data can be hidden from unauthorized access, providing an extra layer of protection.\n",
        "\n",
        "Access control is implemented through:\n",
        "\n",
        "* **Visibility Modifiers:** These keywords like `public`, `private`, and `protected` define which methods and attributes within a class are accessible from outside. Public methods and attributes are accessible to anyone, while private ones are only accessible within the class itself. Protected elements are accessible within the class and its subclasses.\n",
        "* **Getter and Setter Methods:** These methods provide controlled access to private attributes. The getter method allows reading the attribute value, while the setter method allows modifying it while potentially performing validation or other checks.\n",
        "\n",
        "**2. Data Hiding:**\n",
        "\n",
        "* This principle focuses on keeping an object's internal representation hidden from unauthorized parties. By hiding data, we can:\n",
        "    * **Simplify implementation:** The internal workings of an object are abstracted away, making it easier to understand and manage its public interface.\n",
        "    * **Increase flexibility:** Changes to the internal implementation can be made without affecting external users, as long as the public interface remains the same. This promotes code maintainability and reusability.\n",
        "    * **Reduce coupling:** Data hiding minimizes dependencies between objects, as they primarily interact through publicly exposed methods rather than directly accessing each other's internal data.\n",
        "\n",
        "Data hiding is achieved through:\n",
        "\n",
        "* **Private attributes:** These attributes are only accessible within the class and cannot be directly accessed from outside.\n",
        "* **Internal methods:** These methods handle manipulating the private data and are also only accessible within the class.\n",
        "* **Abstraction:** The public interface of an object serves as an abstraction, exposing only essential details and functionalities while hiding the underlying implementation complexity.\n",
        "\n",
        "**Benefits of Encapsulation:**\n",
        "\n",
        "* **Improved code quality:** Encapsulation leads to more modular, maintainable, and secure code.\n",
        "* **Reduced errors:** Controlled access protects data integrity and reduces the risk of accidental or malicious data manipulation.\n",
        "* **Increased flexibility:** Encapsulation allows for easier change and evolution of the internal implementation without breaking external dependencies.\n",
        "* **Enhanced collaboration:** Different developers can work on different parts of the codebase more effectively by relying on defined interfaces rather than manipulating internal details.\n",
        "\n",
        "Overall, encapsulation plays a crucial role in building robust and reliable object-oriented software by promoting clarity, data integrity, and modularity.\n"
      ],
      "metadata": {
        "id": "BPAKiW3FnsJm"
      }
    },
    {
      "cell_type": "markdown",
      "source": [
        "### Q.No.3. How can you achieve encapsulation in Python classes? Provide an example."
      ],
      "metadata": {
        "id": "if8KPx1en2He"
      }
    },
    {
      "cell_type": "markdown",
      "source": [
        "### ANSIn Python, encapsulation can be achieved by declaring the data members and methods of a class either as private or protected. However, Python does not have direct access modifiers like public, private, and protected. Instead, we can use single underscore and double underscores to achieve encapsulation1.To implement proper encapsulation in Python, we need to use getters and setters. The primary purpose of using getters and setters in object-oriented programs is to ensure data encapsulation. We use the getter method to access data members and the setter methods to modify the data members1. Here's an example:"
      ],
      "metadata": {
        "id": "MHtTuCqLpbgz"
      }
    },
    {
      "cell_type": "code",
      "source": [
        "class Person:\n",
        "    def __init__(self, name, age):\n",
        "        self._name = name\n",
        "        self._age = age\n",
        "\n",
        "    def get_name(self):\n",
        "        return self._name\n",
        "\n",
        "    def set_name(self, name):\n",
        "        self._name = name\n",
        "\n",
        "    def get_age(self):\n",
        "        return self._age\n",
        "\n",
        "    def set_age(self, age):\n",
        "        self._age = age\n",
        "\n",
        "person = Person(\"Irfan\", 25)\n",
        "print(person.get_name())\n",
        "print(person.get_age())\n",
        "person.set_name(\"Amir\")\n",
        "person.set_age(20)\n",
        "print(person.get_name())\n",
        "print(person.get_age())"
      ],
      "metadata": {
        "colab": {
          "base_uri": "https://localhost:8080/"
        },
        "id": "677TR_0Ipudt",
        "outputId": "02ab5738-67de-45f3-92b3-31a4f9933e6b"
      },
      "execution_count": null,
      "outputs": [
        {
          "output_type": "stream",
          "name": "stdout",
          "text": [
            "Irfan\n",
            "25\n",
            "Amir\n",
            "20\n"
          ]
        }
      ]
    },
    {
      "cell_type": "markdown",
      "source": [
        "### Detail:\n",
        "In this example, we create a Person class with two data members, name and age. We use the getters and setters to access and modify the data members, respectively. The getters and setters allow us to control the access to the data members and ensure that the data is always valid, which is the essence of encapsulation."
      ],
      "metadata": {
        "id": "-8f19WhrqHlB"
      }
    },
    {
      "cell_type": "markdown",
      "source": [
        "### Q.No.4. Discuss the difference between public, private, and protected access modifiers in Python."
      ],
      "metadata": {
        "id": "Iyatm--JqTmn"
      }
    },
    {
      "cell_type": "code",
      "source": [
        "class Example:\n",
        "    def __init__(self):\n",
        "        self.public_attribute = \"Public\"  # Public attribute\n",
        "        self._protected_attribute = \"Protected\"  # Protected attribute\n",
        "        self.__private_attribute = \"Private\"  # Private attribute\n",
        "\n",
        "    def public_method(self):\n",
        "        print(\"This is a public method\")\n",
        "\n",
        "    def _protected_method(self):\n",
        "        print(\"This is a protected method\")\n",
        "\n",
        "    def __private_method(self):\n",
        "        print(\"This is a private method\")\n",
        "\n",
        "# Creating an instance of Example\n",
        "obj = Example()\n",
        "\n",
        "# Accessing attributes and calling methods\n",
        "print(obj.public_attribute)  # Output: Public\n",
        "print(obj._protected_attribute)  # Output: Protected\n",
        "\n",
        "# Attempting access to private attribute (Name Mangling)\n",
        "print(obj._Example__private_attribute)  # Output: Private\n",
        "\n",
        "# Calling methods\n",
        "obj.public_method()  # Output: This is a public method\n",
        "obj._protected_method()  # Output: This is a protected method\n",
        "\n",
        "# Attempting access to private method (Name Mangling)\n",
        "obj._Example__private_method()  # Output: This is a private method\n"
      ],
      "metadata": {
        "colab": {
          "base_uri": "https://localhost:8080/"
        },
        "id": "WP4G-Hg3qWxD",
        "outputId": "d33aa28b-3db4-4baa-a43d-ab748615c803"
      },
      "execution_count": null,
      "outputs": [
        {
          "output_type": "stream",
          "name": "stdout",
          "text": [
            "Public\n",
            "Protected\n",
            "Private\n",
            "This is a public method\n",
            "This is a protected method\n",
            "This is a private method\n"
          ]
        }
      ]
    },
    {
      "cell_type": "markdown",
      "source": [
        "In Python, access modifiers are not enforced as strictly as in some other languages like Java or C++. Convention and naming conventions play a significant role in indicating the intended level of access to attributes and methods. Here's an overview of public, private, and protected access modifiers in Python:\n",
        "\n",
        "Public, Private, and Protected in Python:\n",
        "Public (No Modifier):\n",
        "\n",
        "Attributes/methods without any underscore prefix are considered public by convention.\n",
        "They can be accessed from within the class, subclasses, and externally.\n",
        "Protected (_ Prefix):\n",
        "\n",
        "Attributes/methods prefixed with a single underscore (_) indicate a protected level of access, but it's more of a convention and not enforced by the language.\n",
        "It's a signal to other programmers that these should be treated as protected (internal use or by subclasses) but can still be accessed externally.\n",
        "Private (__ Double Underscore Prefix):\n",
        "\n",
        "Attributes/methods prefixed with double underscores (__) are considered private and undergo name mangling to prevent direct access from outside the class.\n",
        "Name mangling modifies the attribute's name to include the class name, preventing accidental modification or access.\n",
        "In this example:\n",
        "\n",
        "public_attribute, _protected_attribute, and __private_attribute demonstrate public, protected, and private attributes, respectively.\n",
        "public_method(), _protected_method(), and __private_method() represent public, protected, and private methods, respectively.\n",
        "Access to private attributes and methods from outside the class is possible using name mangling, but it's discouraged due to convention and encapsulation principles."
      ],
      "metadata": {
        "id": "DTrf6V8lrzDZ"
      }
    },
    {
      "cell_type": "markdown",
      "source": [
        "### Q.No.5. Create a Python class called `Person` with a private attribute `__name`. Provide methods to get and set the name attribute"
      ],
      "metadata": {
        "id": "0achalN0sbyw"
      }
    },
    {
      "cell_type": "code",
      "source": [
        "class Person:\n",
        "  def __init__(self,name):\n",
        "    self.__name=name\n",
        "\n",
        "  def get_name(self):\n",
        "    return self.__name\n",
        "\n",
        "  def set_name(self,new_name):\n",
        "    self.__name=new_name\n",
        "\n",
        "person=Person(\"irfan\")\n",
        "print(person.get_name())\n",
        "\n",
        "person.set_name(\"khan\")\n",
        "print(person.get_name())"
      ],
      "metadata": {
        "colab": {
          "base_uri": "https://localhost:8080/"
        },
        "id": "yOG-H5rxshPt",
        "outputId": "96e53f23-bcc1-4cc5-9bc1-e7d8dc8f697f"
      },
      "execution_count": null,
      "outputs": [
        {
          "output_type": "stream",
          "name": "stdout",
          "text": [
            "irfan\n",
            "khan\n"
          ]
        }
      ]
    },
    {
      "cell_type": "markdown",
      "source": [
        "### Q.No.6. Explain the purpose of getter and setter methods in encapsulation. Provide examples"
      ],
      "metadata": {
        "id": "32RB9ZB-wWfh"
      }
    },
    {
      "cell_type": "markdown",
      "source": [
        "ANS:\n",
        "The primary purpose of using getters and setters in object-oriented programming is to ensure data encapsulation. Encapsulation is a fundamental concept in object-oriented programming that bundles data and methods that operate on that data within a single unit, which is the class. It is one of the four fundamental principles of OOP, along with abstraction, inheritance, and polymorphism1.\n",
        "\n",
        "Getters and setters allow us to control the access to the object's state, preventing unauthorized modifications or direct access to the internal data1. By having private fields and exposing them through methods or properties, you immediately gain some advantages, such as access control granularity, possibility to validate input prior to storing the value, and possibility to add logging or other auditing mechanisms2. When calling code wants to retrieve a value, it should not depend on from where the value comes. Internally, the class can store the value in a field or retrieve it from some external resource (such as a file or a database). Perhaps the value is not stored at all, but calculated on-the-fly. This should not matter to the calling code. When you expose the value through a method or property, you shield calling code from such details, which also gives you the possibility to change the implementation, without affecting calling code2.\n",
        "\n",
        "Here's an example of how getters and setters can be used in Python:"
      ],
      "metadata": {
        "id": "8yBf0ylb7ygM"
      }
    },
    {
      "cell_type": "code",
      "source": [
        "class Person:\n",
        "    def __init__(self, name, age):\n",
        "        self._name = name\n",
        "        self._age = age\n",
        "\n",
        "    def get_name(self):\n",
        "        return self._name\n",
        "\n",
        "    def set_name(self, name):\n",
        "        self._name = name\n",
        "\n",
        "    def get_age(self):\n",
        "        return self._age\n",
        "\n",
        "    def set_age(self, age):\n",
        "        self._age = age\n",
        "\n",
        "person = Person(\"Irfan\", 25)\n",
        "print(person.get_name())\n",
        "print(person.get_age())\n",
        "person.set_name(\"Amir\")\n",
        "person.set_age(20)\n",
        "print(person.get_name())\n",
        "print(person.get_age())"
      ],
      "metadata": {
        "colab": {
          "base_uri": "https://localhost:8080/"
        },
        "id": "LmX8JoY473Pw",
        "outputId": "53593707-c671-462b-bb79-aa39814de7c1"
      },
      "execution_count": null,
      "outputs": [
        {
          "output_type": "stream",
          "name": "stdout",
          "text": [
            "Irfan\n",
            "25\n",
            "Amir\n",
            "20\n"
          ]
        }
      ]
    },
    {
      "cell_type": "markdown",
      "source": [
        "### Q.No.7. What is name mangling in Python, and how does it affect encapsulation?"
      ],
      "metadata": {
        "id": "ncAEPGB38QQ5"
      }
    },
    {
      "cell_type": "markdown",
      "source": [
        "ANS:\n",
        "\n",
        "**Name mangling** is a technique used in Python to make an instance variable or method **private** by adding a double underscore prefix to its name. This technique is used to avoid naming conflicts between different parts of a program. When a variable or method is name-mangled, it is not directly accessible from outside the class. Instead, it can only be accessed through a special syntax that includes the class name and the mangled name .\n",
        "\n",
        "**Encapsulation** is the practice of hiding implementation details of an object from the outside world. Name mangling is one way to achieve encapsulation in Python. By making instance variables private, we can prevent them from being accessed or modified from outside the class. This helps to ensure that the object's internal state remains consistent and that the object behaves as expected.\n",
        "\n",
        "However, it's important to note that name mangling is not a foolproof way to achieve encapsulation. It is still possible to access and modify private variables using the special syntax mentioned earlier. Additionally, name mangling can make code harder to read and understand, especially for developers who are not familiar with the technique.\n",
        "\n",
        "In summary, name mangling is a technique used in Python to make instance variables and methods private by adding a double underscore prefix to their names. This technique can help achieve encapsulation by hiding implementation details of an object from the outside world. However, it is not a foolproof way to achieve encapsulation and can make code harder to read and understand."
      ],
      "metadata": {
        "id": "Dz7QwlJQANeO"
      }
    },
    {
      "cell_type": "code",
      "source": [
        "class MyClass:\n",
        "    def __init__(self):\n",
        "        self.__private_attr = 10  # Private attribute with name mangling\n",
        "\n",
        "    def __private_method(self):  # Private method with name mangling\n",
        "        print(\"This is a private method\")\n",
        "\n",
        "# Creating an instance of MyClass\n",
        "obj = MyClass()\n",
        "\n",
        "# Accessing private attribute and method using name mangling (discouraged)\n",
        "print(obj._MyClass__private_attr)  # Output: 10\n",
        "obj._MyClass__private_method()  # Output: This is a private method\n",
        "\n",
        "# Attempting to access private attribute directly (discouraged)\n",
        "print(obj._MyClass__private_attr)  # Throws AttributeError\n",
        "\n"
      ],
      "metadata": {
        "colab": {
          "base_uri": "https://localhost:8080/"
        },
        "id": "gCqpq1OBAP3Q",
        "outputId": "f6dae717-9614-4108-9cbe-43c36862a971"
      },
      "execution_count": null,
      "outputs": [
        {
          "output_type": "stream",
          "name": "stdout",
          "text": [
            "10\n",
            "This is a private method\n",
            "10\n"
          ]
        }
      ]
    },
    {
      "cell_type": "markdown",
      "source": [
        "### Q.No.8. Create a Python class called `BankAccount` with private attributes for the account balance (`__balance`) and account number (`__account_number`). Provide methods for depositing and withdrawing money."
      ],
      "metadata": {
        "id": "VWw1w90vBRIv"
      }
    },
    {
      "cell_type": "code",
      "source": [
        "class BankAccount:\n",
        "    def __init__(self, account_number, initial_balance=0):\n",
        "        self.__account_number = account_number  # Private attribute for account number\n",
        "        self.__balance = initial_balance  # Private attribute for account balance\n",
        "\n",
        "    def deposit(self, amount):\n",
        "        if amount > 0:\n",
        "            self.__balance += amount\n",
        "            print(f\"Deposited ${amount} into account {self.__account_number}\")\n",
        "        else:\n",
        "            print(\"Please deposit an amount greater than 0.\")\n",
        "\n",
        "    def withdraw(self, amount):\n",
        "        if amount > 0 and self.__balance >= amount:\n",
        "            self.__balance -= amount\n",
        "            print(f\"Withdrew ${amount} from account {self.__account_number}\")\n",
        "        else:\n",
        "            print(\"Insufficient funds or invalid withdrawal amount.\")\n",
        "\n",
        "    def get_balance(self):\n",
        "        return self.__balance\n",
        "\n",
        "    def get_account_number(self):\n",
        "        return self.__account_number\n",
        "\n",
        "# Creating an instance of BankAccount\n",
        "account = BankAccount(\"123456789\", 1000)\n",
        "\n",
        "# Depositing and withdrawing money\n",
        "account.deposit(500)\n",
        "account.withdraw(200)\n",
        "account.withdraw(1500)  # This will show insufficient funds message\n",
        "\n",
        "# Retrieving account balance and account number\n",
        "print(f\"Account Number: {account.get_account_number()}\")\n",
        "print(f\"Account Balance: ${account.get_balance()}\")\n"
      ],
      "metadata": {
        "colab": {
          "base_uri": "https://localhost:8080/"
        },
        "id": "ym4oFTJrBYGq",
        "outputId": "2dcbdb01-d142-48e9-a2dd-42b65f94328e"
      },
      "execution_count": null,
      "outputs": [
        {
          "output_type": "stream",
          "name": "stdout",
          "text": [
            "Deposited $500 into account 123456789\n",
            "Withdrew $200 from account 123456789\n",
            "Insufficient funds or invalid withdrawal amount.\n",
            "Account Number: 123456789\n",
            "Account Balance: $1300\n"
          ]
        }
      ]
    },
    {
      "cell_type": "markdown",
      "source": [
        "### Q.No.9. Discuss the advantages of encapsulation in terms of code maintainability and security."
      ],
      "metadata": {
        "id": "B0FqqvogBz_o"
      }
    },
    {
      "cell_type": "markdown",
      "source": [
        "ANS:\n",
        "\n",
        "Encapsulation offers several advantages in terms of code maintainability and security in software development:\n",
        "\n",
        "Advantages of Encapsulation:\n",
        "Modularity and Maintainability:\n",
        "\n",
        "Code Organization: Encapsulation organizes code into logical units (classes), making it easier to understand, maintain, and update.\n",
        "Reduced Complexity: It hides the internal complexity of an object, allowing modifications to be made within the class without affecting external code.\n",
        "Security and Data Protection:\n",
        "\n",
        "Access Control: Encapsulation allows attributes and methods to be designated as private or protected, restricting direct access from outside the class. This prevents unauthorized modifications and enhances security.\n",
        "Preventing Data Corruption: By limiting direct access to data, encapsulation helps maintain the integrity of an object's state, reducing the risk of accidental data corruption.\n",
        "Abstraction and Information Hiding:\n",
        "\n",
        "Implementation Flexibility: Encapsulation facilitates abstraction, allowing the internal implementation details to be hidden while exposing only necessary functionalities. This abstraction shields users from the complexities of the implementation.\n",
        "Encourages Good Practices: It encourages the use of getter and setter methods to access and modify data, promoting better coding practices by incorporating validation and error handling.\n",
        "Code Reusability and Flexibility:\n",
        "\n",
        "Enhanced Reusability: Encapsulation allows classes to be reused in different contexts without requiring changes to external code, as long as the public interface remains consistent.\n",
        "Ease of Maintenance: Changes made within a class don’t affect external code that interacts with the class, minimizing the impact of modifications and simplifying maintenance.\n",
        "Example Scenario:\n",
        "Consider a banking application:\n",
        "\n",
        "Encapsulation would allow the Account class to encapsulate its attributes (balance, account number) and methods (deposit, withdraw) while controlling access to them.\n",
        "Private attributes ensure that only authorized methods within the Account class can modify the account's balance, enhancing security.\n",
        "The public methods provide a controlled interface for interacting with the account, preventing direct manipulation and reducing the chance of errors or unauthorized changes.\n",
        "Overall, encapsulation promotes a cleaner design, strengthens security by controlling access, enhances maintainability by localizing changes, and improves code reliability by abstracting implementation details."
      ],
      "metadata": {
        "id": "UPrfrs2mCA2-"
      }
    },
    {
      "cell_type": "markdown",
      "source": [
        "### Q.No.10. How can you access private attributes in Python? Provide an example demonstrating the use of name mangling."
      ],
      "metadata": {
        "id": "keayyCMMCtNh"
      }
    },
    {
      "cell_type": "code",
      "source": [
        "class MyClass:\n",
        "    def __init__(self):\n",
        "        self.__private_attr = 10\n",
        "\n",
        "\n",
        "obj = MyClass()\n",
        "\n",
        "\n",
        "print(obj._MyClass__private_attr)\n"
      ],
      "metadata": {
        "colab": {
          "base_uri": "https://localhost:8080/"
        },
        "id": "-s7SiNdKCz0x",
        "outputId": "5a529e0f-c431-41bb-8822-efa1155b57a7"
      },
      "execution_count": null,
      "outputs": [
        {
          "output_type": "stream",
          "name": "stdout",
          "text": [
            "10\n"
          ]
        }
      ]
    },
    {
      "cell_type": "markdown",
      "source": [
        "### Q.No.11. Create a Python class hierarchy for a school system, including classes for students, teachers, and courses, and implement encapsulation principles to protect sensitive information."
      ],
      "metadata": {
        "id": "3IJOQjjU4MSJ"
      }
    },
    {
      "cell_type": "code",
      "source": [
        "class Student:\n",
        "    def __init__(self, student_id, name, age, grade):\n",
        "        self.__student_id = student_id  # Private attribute for student ID\n",
        "        self.__name = name\n",
        "        self.__age = age\n",
        "        self.__grade = grade\n",
        "\n",
        "    def get_student_id(self):\n",
        "        return self.__student_id\n",
        "\n",
        "    def get_name(self):\n",
        "        return self.__name\n",
        "\n",
        "    def get_age(self):\n",
        "        return self.__age\n",
        "\n",
        "    def get_grade(self):\n",
        "        return self.__grade\n",
        "\n",
        "\n",
        "class Teacher:\n",
        "    def __init__(self, teacher_id, name, age, subject):\n",
        "        self.__teacher_id = teacher_id\n",
        "        self.__name = name\n",
        "        self.__age = age\n",
        "        self.__subject = subject\n",
        "\n",
        "    def get_teacher_id(self):\n",
        "        return self.__teacher_id\n",
        "\n",
        "    def get_name(self):\n",
        "        return self.__name\n",
        "\n",
        "    def get_age(self):\n",
        "        return self.__age\n",
        "\n",
        "    def get_subject(self):\n",
        "        return self.__subject\n",
        "\n",
        "\n",
        "class Course:\n",
        "    def __init__(self, course_id, name, teacher, students):\n",
        "        self.__course_id = course_id\n",
        "        self.__name = name\n",
        "        self.__teacher = teacher\n",
        "        self.__students = students\n",
        "\n",
        "    def get_course_id(self):\n",
        "        return self.__course_id\n",
        "\n",
        "    def get_name(self):\n",
        "        return self.__name\n",
        "\n",
        "    def get_teacher(self):\n",
        "        return self.__teacher\n",
        "\n",
        "    def get_students(self):\n",
        "        return self.__students\n",
        "\n",
        "\n",
        "\n",
        "student_1 = Student(101, \"Alice\", 16, \"10th\")\n",
        "teacher_1 = Teacher(201, \"Mr. Smith\", 35, \"Mathematics\")\n",
        "course_1 = Course(301, \"Math Course\", teacher_1,[student_1])\n",
        "\n",
        "print(\"Student ID:\", student_1.get_student_id())\n",
        "print(\"Teacher Name:\", teacher_1.get_name())\n",
        "print(\"Course Students:\", course_1.get_students())\n"
      ],
      "metadata": {
        "colab": {
          "base_uri": "https://localhost:8080/"
        },
        "id": "vGDBntgl4WNn",
        "outputId": "8a6b9d22-4aca-49f9-fe0f-1fe057af4ea7"
      },
      "execution_count": null,
      "outputs": [
        {
          "output_type": "stream",
          "name": "stdout",
          "text": [
            "Student ID: 101\n",
            "Teacher Name: Mr. Smith\n",
            "Course Students: [<__main__.Student object at 0x7e332e05c700>]\n"
          ]
        }
      ]
    },
    {
      "cell_type": "markdown",
      "source": [
        "### Q.No.12. Explain the concept of property decorators in Python and how they relate to encapsulation."
      ],
      "metadata": {
        "id": "xTaJbrjlcUhH"
      }
    },
    {
      "cell_type": "markdown",
      "source": [
        "### ANS:\n",
        "In Python, property decorators are a way to implement encapsulation in classes. Encapsulation is the practice of keeping the internal details of a class hidden from the outside world. It is achieved by making the class variables private and providing public methods to access and modify them.\n",
        "\n",
        "The @property decorator is used to define a method as a getter for a class variable. It allows the user to access the variable as if it were a public attribute of the class. The @property decorator can also be used to define a setter method for the variable, which allows the user to modify the variable in a controlled way. The @property decorator can also be used to define a deleter method for the variable, which allows the user to delete the variable.\n",
        "\n",
        "Here's an example of how to use the @property decorator to implement encapsulation:"
      ],
      "metadata": {
        "id": "aaa4y7k5lUkj"
      }
    },
    {
      "cell_type": "code",
      "source": [
        "class Person:\n",
        "    def __init__(self, name):\n",
        "        self._name = name  # Private attribute\n",
        "\n",
        "    @property\n",
        "    def name(self):\n",
        "        return self._name\n",
        "\n",
        "    @name.setter\n",
        "    def name(self, new_name):\n",
        "        if new_name == \"\":\n",
        "            raise ValueError(\"Name cannot be empty\")\n",
        "        self._name = new_name\n",
        "\n",
        "person = Person(\"Irfan\")\n",
        "print(person.name)\n",
        "person.name = \"Bob\""
      ],
      "metadata": {
        "colab": {
          "base_uri": "https://localhost:8080/"
        },
        "id": "_cxsGGKMlbwa",
        "outputId": "01c2d0a9-143d-4824-f891-f843a492e1c6"
      },
      "execution_count": null,
      "outputs": [
        {
          "output_type": "stream",
          "name": "stdout",
          "text": [
            "Irfan\n"
          ]
        }
      ]
    },
    {
      "cell_type": "markdown",
      "source": [
        "Encapsulation:\n",
        "\n",
        "Concept: A core principle of object-oriented programming that involves bundling data (attributes) and the methods that operate on that data within a single unit (class).\n",
        "Goals:\n",
        "Protect sensitive data from direct modification.\n",
        "Control how data is accessed and modified.\n",
        "Simplify the interface of a class.\n",
        "How Property Decorators Relate to Encapsulation:\n",
        "\n",
        "Enforce Data Integrity: Property decorators allow you to add validation logic within setters, ensuring that only valid values are assigned to attributes.\n",
        "Hide Implementation Details: Private attributes can be shielded from direct access, while properties provide a controlled interface, hiding internal implementation choices.\n",
        "Maintain Code Flexibility: You can change the internal representation of data without affecting external code that uses properties, promoting code consistency and maintainability.\n",
        "Key Points:\n",
        "\n",
        "Properties promote a more object-oriented approach by treating attributes as objects with behaviors rather than simple data containers.\n",
        "They enhance encapsulation by providing a clear interface for accessing and modifying attributes while concealing implementation details.\n",
        "This leads to more robust, maintainable, and adaptable code."
      ],
      "metadata": {
        "id": "8H1otFMZl881"
      }
    },
    {
      "cell_type": "markdown",
      "source": [
        "### Q.No.13. What is data hiding, and why is it important in encapsulation? Provide examples."
      ],
      "metadata": {
        "id": "6kEO8rhHmEn6"
      }
    },
    {
      "cell_type": "markdown",
      "source": [
        "### ANS:\n",
        "\n",
        "\n",
        "Data hiding is a concept in object-oriented programming that involves restricting the visibility of certain attributes or methods within a class to prevent direct access from outside the class. This limitation is done to ensure that the internal state and behavior of an object are accessed and modified through defined interfaces (such as getter and setter methods), thus promoting encapsulation.\n",
        "\n",
        "Importance of Data Hiding in Encapsulation:\n",
        "Controlled Access: Data hiding restricts direct access to internal attributes or methods of a class, ensuring that external code interacts with the class through defined interfaces.\n",
        "\n",
        "Security: By hiding internal details, data hiding prevents unauthorized modification or access to sensitive information, enhancing security.\n",
        "\n",
        "Abstraction: Encapsulation, facilitated by data hiding, abstracts the implementation details, allowing users of the class to focus on using the provided interface rather than the internal complexities.\n",
        "\n",
        "Maintainability: Hiding implementation details reduces the coupling between different parts of the code, making modifications within the class less likely to affect external code. This enhances maintainability."
      ],
      "metadata": {
        "id": "eWWBiPIUnDp-"
      }
    },
    {
      "cell_type": "code",
      "source": [
        "class BankAccount:\n",
        "    def __init__(self, account_number, initial_balance):\n",
        "        self._account_number = account_number  # Protected attribute\n",
        "        self.__balance = initial_balance  # Private attribute\n",
        "\n",
        "    def deposit(self, amount):\n",
        "        # Code for depositing money\n",
        "\n",
        "    def withdraw(self, amount):\n",
        "        # Code for withdrawing money\n",
        "\n",
        "    def get_balance(self):  # Getter method for balance\n",
        "        return self.__balance\n",
        "\n",
        "# Creating an instance of BankAccount\n",
        "account = BankAccount(\"123456789\", 1000)\n",
        "\n",
        "# Accessing protected attribute (_account_number)\n",
        "print(account._account_number)  # Output: 123456789\n",
        "\n",
        "# Attempting to access private attribute (__balance) - Not directly accessible\n",
        "print(account.__balance)  # Throws AttributeError: 'BankAccount' object has no attribute '__balance'\n",
        "\n",
        "# Accessing private attribute using name mangling - Discouraged practice for data hiding\n",
        "print(account._BankAccount__balance)  # Output: 1000"
      ],
      "metadata": {
        "id": "qNHSAVeinFze"
      },
      "execution_count": null,
      "outputs": []
    },
    {
      "cell_type": "markdown",
      "source": [
        "In this example:\n",
        "\n",
        "_account_number is a protected attribute, accessible but conventionally treated as protected.\n",
        "__balance is a private attribute, not directly accessible from outside the class, adhering to data hiding principles.\n",
        "Attempting to access the private attribute directly results in an AttributeError, highlighting its hidden nature.\n",
        "Using name mangling to access a private attribute, although possible, is discouraged as it violates data hiding and encapsulation principles."
      ],
      "metadata": {
        "id": "-FaRMSvvonij"
      }
    },
    {
      "cell_type": "markdown",
      "source": [
        "### Q.No.14. Create a Python class called `Employee` with private attributes for salary (`__salary`) and employee ID (`__employee_id`). Provide a method to calculate yearly bonuses"
      ],
      "metadata": {
        "id": "zYqNjDVtosBh"
      }
    },
    {
      "cell_type": "code",
      "source": [
        "class Employee:\n",
        "    def __init__(self, employee_id, salary):\n",
        "        self.__employee_id = employee_id  # Private attribute for employee ID\n",
        "        self.__salary = salary  # Private attribute for salary\n",
        "\n",
        "    def calculate_yearly_bonus(self):\n",
        "        # Assuming a 10% bonus on the salary for yearly bonus calculation\n",
        "        yearly_bonus = 0.1 * self.__salary\n",
        "        return yearly_bonus\n",
        "\n",
        "# Creating an instance of Employee\n",
        "emp = Employee(\"E123\", 50000)\n",
        "\n",
        "# Accessing private attributes (not recommended in practice)\n",
        "print(\"Employee ID:\", emp._Employee__employee_id)  # Output: E123\n",
        "print(\"Employee Salary:\", emp._Employee__salary)  # Output: 50000\n",
        "\n",
        "# Calculating and printing yearly bonus\n",
        "print(\"Yearly Bonus:\", emp.calculate_yearly_bonus())  # Output: 5000\n"
      ],
      "metadata": {
        "colab": {
          "base_uri": "https://localhost:8080/"
        },
        "id": "nJOFJoP5o0vu",
        "outputId": "55258866-7ca4-426d-b107-87789d39f355"
      },
      "execution_count": null,
      "outputs": [
        {
          "output_type": "stream",
          "name": "stdout",
          "text": [
            "Employee ID: E123\n",
            "Employee Salary: 50000\n",
            "Yearly Bonus: 5000.0\n"
          ]
        }
      ]
    },
    {
      "cell_type": "markdown",
      "source": [
        "### Q.No.15. Discuss the use of accessors and mutators in encapsulation. How do they help maintain control over attribute access?"
      ],
      "metadata": {
        "id": "kfZVnkxCpNn5"
      }
    },
    {
      "cell_type": "markdown",
      "source": [
        "### ANS:\n",
        "Accessors and mutators, also known as getters and setters, are methods used to access (get) and modify (set) the values of private attributes within a class. They play a pivotal role in encapsulation by controlling and managing access to class attributes, ensuring data integrity and validation.\n",
        "\n",
        "Accessors (Getters):\n",
        "Purpose: Getters provide controlled access to private attributes by returning their values without directly exposing the attribute.\n",
        "Usage: They retrieve the values of private attributes and allow users to view or utilize these values without directly accessing the attribute.\n",
        "Benefits:\n",
        "Enable read-only access to attributes.\n",
        "Allow validation or computation before returning the value.\n",
        "Promote encapsulation by hiding attribute details and providing a controlled interface.\n",
        "Mutators (Setters):\n",
        "Purpose: Setters modify the values of private attributes based on specified conditions or logic before setting.\n",
        "Usage: They change the values of private attributes based on user input while validating or applying certain rules to the input.\n",
        "Benefits:\n",
        "Enable controlled modification of attributes, allowing validation of input before setting.\n",
        "Implement business logic or constraints before updating attribute values.\n",
        "Facilitate encapsulation by maintaining a controlled interface for attribute modification.\n",
        "Benefits in Maintaining Control over Attribute Access:\n",
        "Data Validation: Accessors and mutators allow validation of data before retrieval or modification, ensuring the integrity and correctness of the data.\n",
        "Encapsulation: By providing controlled access to private attributes, they encapsulate the internal state of an object, preventing direct manipulation and ensuring consistency.\n",
        "Abstraction: Accessors and mutators abstract the underlying implementation details, allowing the internal representation to change without affecting external code that uses these methods.\n",
        "Security: They enable controlled interaction with private attributes, restricting direct access from outside the class and enhancing security"
      ],
      "metadata": {
        "id": "FOiLqKPLp7P_"
      }
    },
    {
      "cell_type": "code",
      "source": [
        "class Student:\n",
        "    def __init__(self, name):\n",
        "        self.__name = name  # Private attribute\n",
        "\n",
        "    def get_name(self):  # Accessor (Getter)\n",
        "        return self.__name\n",
        "\n",
        "    def set_name(self, new_name):  # Mutator (Setter)\n",
        "        if isinstance(new_name, str) and len(new_name) > 0:\n",
        "            self.__name = new_name\n",
        "        else:\n",
        "            print(\"Invalid name format or length\")\n",
        "\n",
        "# Creating an instance of Student\n",
        "student = Student(\"Alice\")\n",
        "\n",
        "# Using accessor to retrieve name\n",
        "print(student.get_name())  # Output: Alice\n",
        "\n",
        "# Using mutator to modify name\n",
        "student.set_name(\"Bob\")\n",
        "print(student.get_name())  # Output: Bob\n"
      ],
      "metadata": {
        "colab": {
          "base_uri": "https://localhost:8080/"
        },
        "id": "xpxMlVQ1p_5W",
        "outputId": "9e33dff2-cc12-470a-e288-ad9cf4988199"
      },
      "execution_count": null,
      "outputs": [
        {
          "output_type": "stream",
          "name": "stdout",
          "text": [
            "Alice\n",
            "Bob\n"
          ]
        }
      ]
    },
    {
      "cell_type": "markdown",
      "source": [
        "### Q.No.16. What are the potential drawbacks or disadvantages of using encapsulation in Python?"
      ],
      "metadata": {
        "id": "VPwO628Nqc-z"
      }
    },
    {
      "cell_type": "markdown",
      "source": [
        "### ANS:\n",
        "While encapsulation in Python offers numerous benefits in terms of data security, maintainability, and code organization, there are some potential drawbacks or considerations to keep in mind:\n",
        "\n",
        "Complexity: Overuse of encapsulation, especially when applied excessively to simple classes, can lead to overly complex code. This complexity might make the code harder to read and understand for others.\n",
        "\n",
        "Increased Code Volume: Implementing encapsulation with getters and setters can increase the volume of code in a class, especially in scenarios where many attributes require such methods. This could lead to larger codebases and more maintenance overhead.\n",
        "\n",
        "Performance Impact: The use of getter and setter methods, compared to direct attribute access, may introduce a slight performance overhead due to method invocation. However, in most cases, this impact is negligible.\n",
        "\n",
        "Encouraging Direct Attribute Access: Python doesn't strictly enforce encapsulation, as it allows accessing private attributes using name mangling or unconventional practices. This might lead developers to access private attributes directly, undermining the intended encapsulation.\n",
        "\n",
        "Over-restriction: Over-encapsulation or excessively hiding attributes/methods might limit the flexibility of classes, making it harder to extend or modify their behavior.\n",
        "\n",
        "Maintenance Challenges: Modifying the internal structure of a class that heavily utilizes encapsulation might require changes across multiple methods or classes that rely on the encapsulated structure. This could potentially lead to maintenance challenges.\n",
        "\n",
        "Debugging Complexity: Encapsulation might obscure the internal state of an object, making it harder to debug issues related to private attributes as their visibility is restricted.\n",
        "\n",
        "Despite these potential drawbacks, encapsulation remains a fundamental principle in object-oriented programming. Balancing the use of encapsulation with other design principles and considering the specific needs of the project can help mitigate these drawbacks and ensure effective use of encapsulation in Python."
      ],
      "metadata": {
        "id": "imCFhXOMtXD6"
      }
    },
    {
      "cell_type": "markdown",
      "source": [
        "### Q.No:17. Create a Python class for a library system that encapsulates book information, including titles, authors, and availability status."
      ],
      "metadata": {
        "id": "k_od5x6QthjB"
      }
    },
    {
      "cell_type": "code",
      "source": [
        "class Book:\n",
        "    def __init__(self, title, author):\n",
        "        self.__title = title  # Private attribute for book title\n",
        "        self.__author = author  # Private attribute for book author\n",
        "        self.__available = True  # Private attribute for book availability status\n",
        "\n",
        "    def get_title(self):  # Getter method for book title\n",
        "        return self.__title\n",
        "\n",
        "    def get_author(self):  # Getter method for book author\n",
        "        return self.__author\n",
        "\n",
        "    def is_available(self):  # Getter method for book availability\n",
        "        return self.__available\n",
        "\n",
        "    def borrow_book(self):\n",
        "        if self.__available:\n",
        "            self.__available = False\n",
        "            print(f\"Book '{self.__title}' by {self.__author} has been borrowed.\")\n",
        "        else:\n",
        "            print(f\"Book '{self.__title}' is currently not available.\")\n",
        "\n",
        "    def return_book(self):\n",
        "        if not self.__available:\n",
        "            self.__available = True\n",
        "            print(f\"Book '{self.__title}' has been returned.\")\n",
        "        else:\n",
        "            print(f\"Book '{self.__title}' was already available.\")\n",
        "\n",
        "# Creating instances of Book\n",
        "book_1 = Book(\"Python Crash Course\", \"Eric Matthes\")\n",
        "book_2 = Book(\"Deep Learning\", \"Ian Goodfellow\")\n",
        "\n",
        "# Accessing book information through getters\n",
        "print(\"Book 1 Title:\", book_1.get_title())  # Output: Python Crash Course\n",
        "print(\"Book 2 Author:\", book_2.get_author())  # Output: Ian Goodfellow\n",
        "\n",
        "# Borrowing and returning books\n",
        "book_1.borrow_book()  # Output: Book 'Python Crash Course' has been borrowed.\n",
        "book_2.borrow_book()  # Output: Book 'Deep Learning' has been borrowed.\n",
        "\n",
        "book_1.borrow_book()  # Output: Book 'Python Crash Course' is currently not available.\n",
        "book_2.return_book()  # Output: Book 'Deep Learning' has been returned.\n"
      ],
      "metadata": {
        "colab": {
          "base_uri": "https://localhost:8080/"
        },
        "id": "xw3yhcSRtmUO",
        "outputId": "989c65ac-fe19-491d-9b31-69c497cdef7c"
      },
      "execution_count": null,
      "outputs": [
        {
          "output_type": "stream",
          "name": "stdout",
          "text": [
            "Book 1 Title: Python Crash Course\n",
            "Book 2 Author: Ian Goodfellow\n",
            "Book 'Python Crash Course' by Eric Matthes has been borrowed.\n",
            "Book 'Deep Learning' by Ian Goodfellow has been borrowed.\n",
            "Book 'Python Crash Course' is currently not available.\n",
            "Book 'Deep Learning' has been returned.\n"
          ]
        }
      ]
    },
    {
      "cell_type": "markdown",
      "source": [
        "### Q.No18. Explain how encapsulation enhances code reusability and modularity in Python programs."
      ],
      "metadata": {
        "id": "Xm45vTH_uO4i"
      }
    },
    {
      "cell_type": "markdown",
      "source": [
        "### ANS:\n",
        "Here's how encapsulation enhances code reusability and modularity in Python programs:\n",
        "\n",
        "Encapsulation is a fundamental concept in object-oriented programming (OOP) that involves bundling data (attributes) and the code that operates on that data (methods) together within a single unit, known as a class. This bundling promotes code reusability and modularity in several ways:\n",
        "\n",
        "1. Reusability:\n",
        "\n",
        "Self-contained modules: Classes act as independent, reusable modules that encapsulate specific functionality. You can create multiple instances of a class to represent different objects with the same behavior, using them in different parts of your program or even across different projects.\n",
        "Abstraction: Encapsulation hides the internal implementation details of a class, exposing only a public interface (methods and properties). This allows you to reuse classes without needing to understand their inner workings, making them more versatile and adaptable to different contexts.\n",
        "2. Modularity:\n",
        "\n",
        "Breaking down complexity: By dividing a program into smaller, self-contained classes, encapsulation makes complex systems more manageable. Each class can be developed and tested independently, reducing code coupling and improving overall organization.\n",
        "Loose coupling: Classes can interact with each other through well-defined interfaces, minimizing dependencies and making code more flexible. Changes to one class are less likely to impact others, enhancing maintainability and reducing the risk of errors.\n",
        "Python-specific features for encapsulation:\n",
        "\n",
        "Private and protected members: Python allows you to control access to class members using underscores (_ and __ prefixes). This helps protect sensitive data and enforce encapsulation principles.\n",
        "Properties: Python's @property decorator provides a way to create methods that behave like attributes, promoting cleaner interfaces and better encapsulation of data access and modification.\n",
        "Example:\n",
        "\n",
        "Consider a BankAccount class:"
      ],
      "metadata": {
        "id": "03g-hOqDu68f"
      }
    },
    {
      "cell_type": "code",
      "source": [
        "class BankAccount:\n",
        "    def __init__(self, name, balance):\n",
        "        self.__name = name  # Private attribute\n",
        "        self.__balance = balance  # Private attribute\n",
        "\n",
        "    def deposit(self, amount):\n",
        "        self.__balance += amount\n",
        "\n",
        "    def withdraw(self, amount):\n",
        "        if self.__balance >= amount:\n",
        "            self.__balance -= amount\n",
        "        else:\n",
        "            print(\"Insufficient funds\")\n",
        "\n",
        "    def get_balance(self):\n",
        "        return self.__balance"
      ],
      "metadata": {
        "id": "_RvoWicFu-dl"
      },
      "execution_count": null,
      "outputs": []
    },
    {
      "cell_type": "markdown",
      "source": [
        "This class encapsulates the concepts of a bank account, hiding its internal data (__name and __balance) and providing a clear interface for interacting with it (deposit, withdraw, get_balance). This makes it reusable in different parts of your program without exposing sensitive information or risking unintended modifications"
      ],
      "metadata": {
        "id": "0w-8z89HvHFq"
      }
    },
    {
      "cell_type": "markdown",
      "source": [
        "### Q.No.19. Describe the concept of information hiding in encapsulation. Why is it essential in software development?"
      ],
      "metadata": {
        "id": "Hrlc35uyvQRt"
      }
    },
    {
      "cell_type": "markdown",
      "source": [
        "### ANS:\n",
        "Information hiding, a key aspect of encapsulation, is the practice of restricting direct access to an object's internal data and operations. It involves creating a **boundary** between the internal implementation details and the public interface that other parts of the program can interact with.\n",
        "\n",
        "**Why is information hiding essential in software development?**\n",
        "\n",
        "1. **Increased Modularity:** Information hiding helps break down complex programs into smaller, self-contained modules or classes. Each module encapsulates its own data and functionality, reducing dependencies and making the code easier to understand, maintain, and modify.\n",
        "\n",
        "2. **Improved Code Reusability:** Well-encapsulated modules can be reused in different parts of a program or even across different projects without needing to worry about the internal implementation details. This promotes code efficiency and saves development time.\n",
        "\n",
        "3. **Enhanced Code Stability:** By shielding internal data and operations from unauthorized access, information hiding protects the core functionality from accidental or malicious modifications. This results in more stable and reliable programs.\n",
        "\n",
        "4. **Simplified Maintenance and Debugging:** When changes need to be made, information hiding ensures that modifications are localized within the specific module, reducing the impact on other parts of the program and simplifying debugging efforts.\n",
        "\n",
        "5. **Enhanced Abstraction:** Information hiding enables developers to create clear and concise interfaces for public access, hiding the complexity of internal operations. This abstraction improves program readability and makes it easier for other developers to understand and use the code.\n",
        "\n",
        "6. **Improved Security:** Restricting access to sensitive data can enhance security by preventing unauthorized users or system components from accessing or modifying it. This is crucial for applications handling confidential information.\n",
        "\n",
        "**Examples of information hiding in practice:**\n",
        "\n",
        "* Declaring variables as `private` in class definitions.\n",
        "* Providing getter and setter methods to control access to and manipulation of data.\n",
        "* Abstracting internal implementation details through public methods with well-defined interfaces.\n",
        "\n",
        "**In conclusion, information hiding is a fundamental principle of good software design. It promotes modularity, reusability, stability, maintainability, abstraction, and even security, making it an essential practice for building robust and reliable software systems.**\n"
      ],
      "metadata": {
        "id": "EoPVX_ZLv0iQ"
      }
    },
    {
      "cell_type": "markdown",
      "source": [
        "### Q.No.20. Create a Python class called `Customer` with private attributes for customer details like name, address, and contact information. Implement encapsulation to ensure data integrity and security."
      ],
      "metadata": {
        "id": "olqP-di8v-48"
      }
    },
    {
      "cell_type": "code",
      "source": [
        "class Customer:\n",
        "    def __init__(self, name, address, contact):\n",
        "        self.__name = name  # Private attribute for customer name\n",
        "        self.__address = address  # Private attribute for customer address\n",
        "        self.__contact = contact  # Private attribute for customer contact information\n",
        "\n",
        "    def get_name(self):  # Getter method for customer name\n",
        "        return self.__name\n",
        "\n",
        "    def get_address(self):  # Getter method for customer address\n",
        "        return self.__address\n",
        "\n",
        "    def get_contact(self):  # Getter method for customer contact\n",
        "        return self.__contact\n",
        "\n",
        "    def update_contact(self, new_contact):  # Setter method for updating contact\n",
        "        self.__contact = new_contact\n",
        "        print(\"Contact information updated successfully.\")\n",
        "\n",
        "# Creating an instance of Customer\n",
        "customer_1 = Customer(\"Alice\", \"123 Main St\", \"alice@email.com\")\n",
        "\n",
        "# Accessing customer information through getters\n",
        "print(\"Customer Name:\", customer_1.get_name())  # Output: Alice\n",
        "print(\"Customer Address:\", customer_1.get_address())  # Output: 123 Main St\n",
        "print(\"Customer Contact:\", customer_1.get_contact())  # Output: alice@email.com\n",
        "\n",
        "# Trying to access private attributes directly (not recommended)\n",
        "print(\"Direct Access to Name:\", customer_1._Customer__name)  # Output: Alice\n",
        "\n",
        "# Trying to update contact information using setter method\n",
        "customer_1.update_contact(\"new_email@email.com\")  # Output: Contact information updated successfully.\n",
        "print(\"Updated Contact:\", customer_1.get_contact())  # Output: new_email@email.com\n"
      ],
      "metadata": {
        "colab": {
          "base_uri": "https://localhost:8080/"
        },
        "id": "oox4yNjdwDVW",
        "outputId": "028c05b0-8bf5-4133-bcf4-32ab6d903919"
      },
      "execution_count": null,
      "outputs": [
        {
          "output_type": "stream",
          "name": "stdout",
          "text": [
            "Customer Name: Alice\n",
            "Customer Address: 123 Main St\n",
            "Customer Contact: alice@email.com\n",
            "Direct Access to Name: Alice\n",
            "Contact information updated successfully.\n",
            "Updated Contact: new_email@email.com\n"
          ]
        }
      ]
    },
    {
      "cell_type": "markdown",
      "source": [
        "## Polymorphism"
      ],
      "metadata": {
        "id": "KDRSEo-Mw3d5"
      }
    },
    {
      "cell_type": "markdown",
      "source": [
        "### Q.No1. What is polymorphism in Python? Explain how it is related to object-oriented programmin."
      ],
      "metadata": {
        "id": "Z6W5c30IxI6X"
      }
    },
    {
      "cell_type": "markdown",
      "source": [
        "### ANS:\n",
        "\n",
        "Polymorphism is a fundamental concept in object-oriented programming that allows objects of different classes to be treated as if they were of the same class. In Python, polymorphism is achieved through method overloading and method overriding. Method overloading is when two or more methods in a class have the same name but different parameters. Method overriding is when a subclass provides a different implementation of a method that is already defined in its superclass.\n",
        "\n",
        "Polymorphism is related to object-oriented programming because it allows for code reuse and flexibility. By using polymorphism, you can write code that works with objects of different classes without having to know the details of each class. This makes it easier to write reusable code and to create complex programs that are easy to maintain.\n",
        "\n",
        "For example, consider a program that needs to calculate the area of different shapes such as circles, rectangles, and triangles. Without polymorphism, you would need to write separate functions for each shape. However, with polymorphism, you can define a single function that takes an object of a shape class as an argument and calculates its area based on its type. This makes the code more flexible and easier to maintain.\n",
        "\n",
        "I hope this helps!"
      ],
      "metadata": {
        "id": "6E99_Dw-8vWg"
      }
    },
    {
      "cell_type": "code",
      "source": [
        "def test(a,b):\n",
        "  return a+b"
      ],
      "metadata": {
        "id": "dkpJZXhwxMr1"
      },
      "execution_count": null,
      "outputs": []
    },
    {
      "cell_type": "code",
      "source": [
        "test(3,4)"
      ],
      "metadata": {
        "colab": {
          "base_uri": "https://localhost:8080/"
        },
        "id": "ErOGjL0RHopf",
        "outputId": "cdda1b9b-b6a9-4c90-cdc3-7eb861c3a40f"
      },
      "execution_count": null,
      "outputs": [
        {
          "output_type": "execute_result",
          "data": {
            "text/plain": [
              "7"
            ]
          },
          "metadata": {},
          "execution_count": 2
        }
      ]
    },
    {
      "cell_type": "code",
      "source": [
        "test(\"irfan\",\"khan\")"
      ],
      "metadata": {
        "colab": {
          "base_uri": "https://localhost:8080/",
          "height": 35
        },
        "id": "CYqODjcEHq76",
        "outputId": "2557cc79-10f8-49d2-ca4f-94d7c725eb6f"
      },
      "execution_count": null,
      "outputs": [
        {
          "output_type": "execute_result",
          "data": {
            "text/plain": [
              "'irfankhan'"
            ],
            "application/vnd.google.colaboratory.intrinsic+json": {
              "type": "string"
            }
          },
          "metadata": {},
          "execution_count": 3
        }
      ]
    },
    {
      "cell_type": "code",
      "source": [
        "#method overriding\n",
        "class pwskills:\n",
        "  def student(self):\n",
        "    pass\n",
        "\n",
        "class datascience(pwskills):\n",
        "  def student(self):\n",
        "    print(\"this is the detail of data science student\")\n",
        "\n",
        "class bigdata(pwskills):\n",
        "  def student(self):\n",
        "    print(\"this is the detail of big data student\")\n",
        "\n",
        "irfan=datascience()\n",
        "amir=bigdata()\n",
        "\n",
        "irfan.student()\n",
        "amir.student()"
      ],
      "metadata": {
        "colab": {
          "base_uri": "https://localhost:8080/"
        },
        "id": "coMniBQ5Hy2P",
        "outputId": "688431bf-56c8-492e-f396-f5f301b74c8e"
      },
      "execution_count": null,
      "outputs": [
        {
          "output_type": "stream",
          "name": "stdout",
          "text": [
            "this is the detail of data science student\n",
            "this is the detail of big data student\n"
          ]
        }
      ]
    },
    {
      "cell_type": "code",
      "source": [
        "#method overloading\n",
        "class bigdata:\n",
        "  def __init__(self,no_of_class,no_of_students):\n",
        "    self.no_of_class=no_of_class\n",
        "    self.no_of_students=no_of_students\n",
        "\n",
        "  def __add__(self,other):\n",
        "    return bigdata(self.no_of_class+other.no_of_class,self.no_of_students+other.no_of_students)\n",
        "\n",
        "c1=bigdata(1,10)\n",
        "c2=bigdata(2,8)\n",
        "result=c1+c2\n",
        "print(result.no_of_class,result.no_of_students)"
      ],
      "metadata": {
        "colab": {
          "base_uri": "https://localhost:8080/"
        },
        "id": "yXSDpnMLK0gx",
        "outputId": "28614b8b-529b-4f9a-9f64-9579c27c705f"
      },
      "execution_count": null,
      "outputs": [
        {
          "output_type": "stream",
          "name": "stdout",
          "text": [
            "3 18\n"
          ]
        }
      ]
    },
    {
      "cell_type": "markdown",
      "source": [
        "### Q.No2. Describe the difference between compile-time polymorphism and runtime polymorphism in Python."
      ],
      "metadata": {
        "id": "wefk5LgYtJUj"
      }
    },
    {
      "cell_type": "code",
      "source": [
        "# Run time polymorphism is a type of polymorphism which achieved wiht method overriding\n",
        "class name:\n",
        "  def bio(self):\n",
        "    print(\"I am a boy\")\n",
        "\n",
        "class person(name):\n",
        "  def bio(self):\n",
        "    print(\"My name is irfan\")\n",
        "\n",
        "obj=name()\n",
        "obj1=person()\n",
        "obj.bio()\n",
        "obj1.bio()"
      ],
      "metadata": {
        "colab": {
          "base_uri": "https://localhost:8080/"
        },
        "id": "R1Y2P0uYtV8_",
        "outputId": "6bf83352-c006-40cf-a541-ddf52a37c363"
      },
      "execution_count": null,
      "outputs": [
        {
          "output_type": "stream",
          "name": "stdout",
          "text": [
            "I am a boy\n",
            "My name is irfan\n"
          ]
        }
      ]
    },
    {
      "cell_type": "code",
      "source": [
        "# Compile-time polymorphism is a type of polymorphism achieved with method overloading.\n",
        "\n",
        "def temp(a,b):\n",
        "  return a+b\n",
        "\n",
        "def temp(a,b,c=23):\n",
        "  return a+b+c\n",
        "\n",
        "a=10\n",
        "b=5\n",
        "\n",
        "print(temp(a,b))"
      ],
      "metadata": {
        "colab": {
          "base_uri": "https://localhost:8080/"
        },
        "id": "EjBRzuVw9gL_",
        "outputId": "92eb2eb8-18d3-4e6f-ec34-c7ccff4fe200"
      },
      "execution_count": null,
      "outputs": [
        {
          "output_type": "stream",
          "name": "stdout",
          "text": [
            "38\n"
          ]
        }
      ]
    },
    {
      "cell_type": "code",
      "source": [
        "class shape:\n",
        "  def area(self,a,b=0):\n",
        "    if b==0:\n",
        "      return 3.14*a*a\n",
        "    else:\n",
        "      return a*b\n",
        "\n",
        "s=shape()\n",
        "print(s.area(2))\n",
        "print(s.area(4,3))"
      ],
      "metadata": {
        "colab": {
          "base_uri": "https://localhost:8080/"
        },
        "id": "9wbSY7X8_fxU",
        "outputId": "3a7c9d95-6955-4bda-d1c7-4acf955e4c77"
      },
      "execution_count": null,
      "outputs": [
        {
          "output_type": "stream",
          "name": "stdout",
          "text": [
            "12.56\n",
            "12\n"
          ]
        }
      ]
    },
    {
      "cell_type": "markdown",
      "source": [
        "### Q.No.3. Create a Python class hierarchy for shapes (e.g., circle, square, triangle) and demonstrate polymorphism through a common method, such as `calculate_area()`."
      ],
      "metadata": {
        "id": "D07vR1T3KmA-"
      }
    },
    {
      "cell_type": "code",
      "source": [
        "class Shape:\n",
        "  def __init__(self):\n",
        "    pass\n",
        "\n",
        "  def calculate_area(self):\n",
        "    raise NotImplementedError\n",
        "\n",
        "class Circle(Shape):\n",
        "  def __init__(self, radius):\n",
        "    self.radius = radius\n",
        "\n",
        "  def calculate_area(self):\n",
        "    return 3.14 * self.radius**2\n",
        "\n",
        "class Square(Shape):\n",
        "  def __init__(self, side):\n",
        "    self.side = side\n",
        "\n",
        "  def calculate_area(self):\n",
        "    return self.side**2\n",
        "\n",
        "class Triangle(Shape):\n",
        "  def __init__(self, base, height):\n",
        "    self.base = base\n",
        "    self.height = height\n",
        "\n",
        "  def calculate_area(self):\n",
        "    return 0.5 * self.base * self.height\n",
        "\n",
        "# Demonstration of polymorphism\n",
        "shapes = [Circle(5), Square(10), Triangle(6, 8)]\n",
        "\n",
        "for shape in shapes:\n",
        "  print(f\"{shape.__class__.__name__} area: {shape.calculate_area()}\")"
      ],
      "metadata": {
        "colab": {
          "base_uri": "https://localhost:8080/"
        },
        "id": "ubiSSMC7KqoK",
        "outputId": "21bc6efe-4d83-4175-cbe8-3236e227b616"
      },
      "execution_count": null,
      "outputs": [
        {
          "output_type": "stream",
          "name": "stdout",
          "text": [
            "Circle area: 78.5\n",
            "Square area: 100\n",
            "Triangle area: 24.0\n"
          ]
        }
      ]
    },
    {
      "cell_type": "markdown",
      "source": [
        "### Q.No.4. Explain the concept of method overriding in polymorphism. Provide an example"
      ],
      "metadata": {
        "id": "BkOCcEhfLPww"
      }
    },
    {
      "cell_type": "code",
      "source": [
        "# When same name used in a single class with different signatures and use inheritence to get the signature of child function signature.\n",
        "class name:\n",
        "  def bio(self):\n",
        "    print(\"I am a boy\")\n",
        "\n",
        "class person(name):\n",
        "  def bio(self):\n",
        "    print(\"My name is irfan\")\n",
        "\n",
        "obj=name()\n",
        "obj1=person()\n",
        "obj.bio()\n",
        "obj1.bio()"
      ],
      "metadata": {
        "colab": {
          "base_uri": "https://localhost:8080/"
        },
        "id": "2U9RltzyLS_C",
        "outputId": "15faf41b-2d82-48f3-cdda-e728acbd49b4"
      },
      "execution_count": null,
      "outputs": [
        {
          "output_type": "stream",
          "name": "stdout",
          "text": [
            "I am a boy\n",
            "My name is irfan\n"
          ]
        }
      ]
    },
    {
      "cell_type": "markdown",
      "source": [
        "### Q.No.5. How is polymorphism different from method overloading in Python? Provide examples for both."
      ],
      "metadata": {
        "id": "uhAHBz0zMF6H"
      }
    },
    {
      "cell_type": "code",
      "source": [
        "#Polymorphism:\n",
        "#Definition: Polymorphism in Python refers to the ability of different objects to be treated as objects of a common superclass.\n",
        "#It allows objects of different classes to be used interchangeably based on a shared interface or superclass,\n",
        "#and the specific method to be executed is determined at runtime.\n",
        "\n",
        "#Example:\n",
        "class Animal:\n",
        "    def sound(self):\n",
        "        pass  # Abstract method\n",
        "\n",
        "class Dog(Animal):\n",
        "    def sound(self):\n",
        "        return \"Woof!\"\n",
        "\n",
        "class Cat(Animal):\n",
        "    def sound(self):\n",
        "        return \"Meow!\"\n",
        "\n",
        "def make_sound(animal):\n",
        "    return animal.sound()\n",
        "\n",
        "dog = Dog()\n",
        "cat = Cat()\n",
        "\n",
        "print(make_sound(dog))  # Output: Woof!\n",
        "print(make_sound(cat))  # Output: Meow!\n"
      ],
      "metadata": {
        "colab": {
          "base_uri": "https://localhost:8080/"
        },
        "id": "iFhWioTnMJrh",
        "outputId": "be204cef-6e03-481f-d51b-3e36179c54b7"
      },
      "execution_count": null,
      "outputs": [
        {
          "output_type": "stream",
          "name": "stdout",
          "text": [
            "Woof!\n",
            "Meow!\n"
          ]
        }
      ]
    },
    {
      "cell_type": "code",
      "source": [
        "#Method Overloading:\n",
        "#Definition: Method overloading refers to the ability to define multiple methods with the same name in the same class\n",
        "#but with different signatures or parameters. However, Python does not support traditional method overloading like some\n",
        "#other statically typed languages, as Python does not consider the number or types of arguments to differentiate methods.\n",
        "\n",
        "#Example:\n",
        "class MathOperations:\n",
        "    def add(self, a, b):\n",
        "        return a + b\n",
        "\n",
        "    def add(self, a, b, c):\n",
        "        return a + b + c\n",
        "\n",
        "math = MathOperations()\n",
        "#print(math.add(2, 3))      # This would raise an error due to no method with 2 arguments\n",
        "print(math.add(2, 3, 4))   # Output: 9\n"
      ],
      "metadata": {
        "colab": {
          "base_uri": "https://localhost:8080/"
        },
        "id": "Q_DdMfPLNHmU",
        "outputId": "d86e3673-f12a-472a-ade6-8dec5122332d"
      },
      "execution_count": null,
      "outputs": [
        {
          "output_type": "stream",
          "name": "stdout",
          "text": [
            "9\n"
          ]
        }
      ]
    },
    {
      "cell_type": "markdown",
      "source": [
        "In Python, the last method definition overwrites the previous one with the same name within the same class. Unlike languages like Java or C++, Python doesn't have native support for method overloading based on the number or types of arguments. You can achieve similar behavior by using default arguments or variable-length arguments in Python.\n",
        "\n",
        "### Differences:\n",
        "Execution Time: Polymorphism decisions are made at runtime based on the actual object type, while method overloading in Python isn't directly supported based on the number or types of arguments at compile-time.\n",
        "\n",
        "Implementation: Polymorphism is more about the behavior of objects based on their types, whereas method overloading, as seen in some other languages, allows the same method name with different parameter lists within the same class.\n",
        "\n",
        "In Python, while traditional method overloading is not directly supported, polymorphism is a fundamental concept where objects of different types can be treated uniformly through a shared interface or superclass."
      ],
      "metadata": {
        "id": "j71wefW3NvdP"
      }
    },
    {
      "cell_type": "markdown",
      "source": [
        "### Q.No.6. Create a Python class called `Animal` with a method `speak()`. Then, create child classes like `Dog`, `Cat`, and `Bird`, each with their own `speak()` method. Demonstrate polymorphism by calling the `speak()` method on objects of different subclasses."
      ],
      "metadata": {
        "id": "SuUPbP7WN7RO"
      }
    },
    {
      "cell_type": "code",
      "source": [
        "class Animal:\n",
        "    def speak(self):\n",
        "        return \"Undefined sound\"  # Abstract method\n",
        "\n",
        "class Dog(Animal):\n",
        "    def speak(self):\n",
        "        return \"Woof!\"\n",
        "\n",
        "class Cat(Animal):\n",
        "    def speak(self):\n",
        "        return \"Meow!\"\n",
        "\n",
        "class Bird(Animal):\n",
        "    def speak(self):\n",
        "        return \"Chirp!\"\n",
        "\n",
        "# Creating instances of different subclasses\n",
        "dog = Dog()\n",
        "cat = Cat()\n",
        "bird = Bird()\n",
        "\n",
        "# Calling the speak() method on different objects\n",
        "print(dog.speak())   # Output: Woof!\n",
        "print(cat.speak())   # Output: Meow!\n",
        "print(bird.speak())  # Output: Chirp!\n"
      ],
      "metadata": {
        "colab": {
          "base_uri": "https://localhost:8080/"
        },
        "id": "fV0V2IQqOAXi",
        "outputId": "7ba425ba-d379-4f32-cc0b-eed5c83d33f8"
      },
      "execution_count": null,
      "outputs": [
        {
          "output_type": "stream",
          "name": "stdout",
          "text": [
            "Woof!\n",
            "Meow!\n",
            "Chirp!\n"
          ]
        }
      ]
    },
    {
      "cell_type": "markdown",
      "source": [
        "### Q.No.7. Discuss the use of abstract methods and classes in achieving polymorphism in Python. Provide an example using the `abc` module."
      ],
      "metadata": {
        "id": "i_YuCwJAOcEH"
      }
    },
    {
      "cell_type": "code",
      "source": [
        "### ANS:\n",
        "#Abstract methods and classes in Python are used to define a blueprint for classes without implementing the actual functionality.\n",
        "#They provide a way to enforce certain methods to be implemented by subclasses, ensuring a common interface.\n",
        "#This mechanism plays a role in achieving polymorphism by ensuring that subclasses have specific methods,\n",
        "# allowing different objects to be treated uniformly through a shared interface.\n",
        "\n",
        "#In Python, the abc (Abstract Base Classes) module provides tools for defining abstract base classes.\n",
        "#Here's an example demonstrating the use of the abc module to create an abstract class and enforce the implementation of abstract methods:\n",
        "\n",
        "from abc import ABC, abstractmethod\n",
        "\n",
        "class Animal(ABC):  # Abstract base class\n",
        "    @abstractmethod\n",
        "    def speak(self):\n",
        "        pass  # Abstract method\n",
        "\n",
        "class Dog(Animal):\n",
        "    def speak(self):\n",
        "        return \"Woof!\"\n",
        "\n",
        "class Cat(Animal):\n",
        "    def speak(self):\n",
        "        return \"Meow!\"\n",
        "\n",
        "class Bird(Animal):\n",
        "    def speak(self):\n",
        "        return \"Chirp!\"\n",
        "\n",
        "# Creating instances of different subclasses\n",
        "dog = Dog()\n",
        "cat = Cat()\n",
        "bird = Bird()\n",
        "\n",
        "# Calling the speak() method on different objects\n",
        "print(dog.speak())   # Output: Woof!\n",
        "print(cat.speak())   # Output: Meow!\n",
        "print(bird.speak())  # Output: Chirp!\n",
        "#In this example:\n",
        "\n",
        "#The Animal class is an abstract base class (subclassing ABC) that defines an abstract method speak() using the @abstractmethod decorator.\n",
        "#Subclasses (Dog, Cat, Bird) inherit from Animal and implement the speak() method.\n",
        "#The abc module ensures that any subclass of Animal must implement the abstract method speak().\n",
        "#Polymorphism is demonstrated as different objects of subclasses\n",
        "#(Dog, Cat, Bird) are treated uniformly through the shared interface defined by the abstract class Animal.\n",
        "#The abc module helps in structuring the code by clearly defining expectations for subclasses and providing a way to\n",
        "#enforce the presence of certain methods, facilitating polymorphism by ensuring a common interface for different objects."
      ],
      "metadata": {
        "colab": {
          "base_uri": "https://localhost:8080/"
        },
        "id": "vHhYmhfIOkWJ",
        "outputId": "51d8b2c6-9b9c-4521-c2fc-85f7149e5b92"
      },
      "execution_count": null,
      "outputs": [
        {
          "output_type": "stream",
          "name": "stdout",
          "text": [
            "Woof!\n",
            "Meow!\n",
            "Chirp!\n"
          ]
        }
      ]
    },
    {
      "cell_type": "markdown",
      "source": [
        "### Q.No.8. Create a Python class hierarchy for a vehicle system (e.g., car, bicycle, boat) and implement a polymorphic `start()` method that prints a message specific to each vehicle type."
      ],
      "metadata": {
        "id": "egnSxzoOVdz4"
      }
    },
    {
      "cell_type": "code",
      "source": [
        "class Vehicle:\n",
        "    def start(self):\n",
        "        pass  # Abstract method\n",
        "\n",
        "class Car(Vehicle):\n",
        "    def start(self):\n",
        "        return \"Car engine started. Vroom!\"\n",
        "\n",
        "class Bicycle(Vehicle):\n",
        "    def start(self):\n",
        "        return \"Pedaling the bicycle to move forward.\"\n",
        "\n",
        "class Boat(Vehicle):\n",
        "    def start(self):\n",
        "        return \"Starting the boat's engine to sail.\"\n",
        "\n",
        "# Creating instances of different vehicle types\n",
        "car = Car()\n",
        "bicycle = Bicycle()\n",
        "boat = Boat()\n",
        "\n",
        "# Calling the start() method on different vehicle objects\n",
        "print(car.start())      # Output: Car engine started. Vroom!\n",
        "print(bicycle.start())  # Output: Pedaling the bicycle to move forward.\n",
        "print(boat.start())     # Output: Starting the boat's engine to sail.\n"
      ],
      "metadata": {
        "colab": {
          "base_uri": "https://localhost:8080/"
        },
        "id": "kydoPLFkVhDw",
        "outputId": "204ddbe5-424d-4171-ec9e-343ced38b494"
      },
      "execution_count": null,
      "outputs": [
        {
          "output_type": "stream",
          "name": "stdout",
          "text": [
            "Car engine started. Vroom!\n",
            "Pedaling the bicycle to move forward.\n",
            "Starting the boat's engine to sail.\n"
          ]
        }
      ]
    },
    {
      "cell_type": "markdown",
      "source": [
        "### Q.No.9. Explain the significance of the `isinstance()` and `issubclass()` functions in Python polymorphism."
      ],
      "metadata": {
        "id": "lba1SD06WCjG"
      }
    },
    {
      "cell_type": "code",
      "source": [
        "\n",
        "#`isinstance()` and `issubclass()` are two built-in functions in Python that are used to check the relationships between classes and objects. They are significant in achieving polymorphism in Python.\n",
        "\n",
        "#`isinstance()` is used to check if an object is an instance of a class or a subclass of a class. It takes two arguments: the object to be checked and the class or tuple of classes to check against. It returns `True` if the object is an instance of the class or any of its subclasses, and `False` otherwise.\n",
        "\n",
        "#'issubclass()` is used to check if a class is a subclass of another class or a tuple of classes. It takes two arguments: the class to be checked and the class or tuple of classes to check against. It returns `True` if the class is a subclass of the class or any of its superclasses, and `False` otherwise.\n",
        "\n",
        "#Here's an example of how to use `isinstance()` and `issubclass()`:\n",
        "\n",
        "class Animal:\n",
        "    pass\n",
        "\n",
        "class Dog(Animal):\n",
        "    pass\n",
        "\n",
        "class Cat(Animal):\n",
        "    pass\n",
        "\n",
        "dog = Dog()\n",
        "cat = Cat()\n",
        "\n",
        "print(isinstance(dog, Animal))  # Output: True\n",
        "print(isinstance(cat, Animal))  # Output: True\n",
        "print(isinstance(dog, Cat))     # Output: False\n",
        "print(isinstance(cat, Dog))     # Output: False\n",
        "\n",
        "print(issubclass(Dog, Animal))  # Output: True\n",
        "print(issubclass(Cat, Animal))  # Output: True\n",
        "print(issubclass(Dog, Cat))     # Output: False\n",
        "print(issubclass(Cat, Dog))     # Output: False\n",
        "\n",
        "\n",
        "#In this example, we define a base class `Animal` and two subclasses `Dog` and `Cat`. We then create instances of\n",
        "# `Dog` and `Cat` and use `isinstance()` to check if they are instances of `Animal`. We also use `isinstance()` to check if `dog` is an instance of `Cat` and if `cat` is an instance of `Dog`, which both return `False`. Finally, we use `issubclass()` to check if `Dog` and `Cat` are subclasses of `Animal`, and if `Dog` is a subclass of `Cat` and vice versa, which all return `False`.\n",
        "\n"
      ],
      "metadata": {
        "colab": {
          "base_uri": "https://localhost:8080/"
        },
        "id": "SBHvKAhcWGIs",
        "outputId": "d341dfef-351d-441e-8cbc-d468d0608124"
      },
      "execution_count": null,
      "outputs": [
        {
          "output_type": "stream",
          "name": "stdout",
          "text": [
            "True\n",
            "True\n",
            "False\n",
            "False\n",
            "True\n",
            "True\n",
            "False\n",
            "False\n"
          ]
        }
      ]
    },
    {
      "cell_type": "markdown",
      "source": [
        "###Q.No.10. What is the role of the `@abstractmethod` decorator in achieving polymorphism in Python? Provide an example."
      ],
      "metadata": {
        "id": "qGbMPyQGXqVc"
      }
    },
    {
      "cell_type": "code",
      "source": [
        "\n",
        "#The @abstractmethod decorator, part of the abc (Abstract Base Classes) module in Python, is crucial in defining\n",
        "#abstract methods within abstract classes. It enforces that subclasses must implement these abstract methods,\n",
        "#ensuring a common interface across different classes and enabling polymorphic behavior.\n",
        "\n",
        "#Role of @abstractmethod:\n",
        "#Forcing Method Implementation: When applied to a method within an abstract class, it signals that any subclass\n",
        "#inheriting from that abstract class must provide an implementation for that method.\n",
        "#This ensures that all subclasses have a specific method, enabling polymorphism by ensuring a common interface.\n",
        "\n",
        "#Achieving a Shared Interface:\n",
        "# Abstract methods defined using @abstractmethod define a blueprint for methods that subclasses must follow, allowing different objects to be treated uniformly through a shared interface.\n",
        "\n",
        "#Facilitating Polymorphic Behaviors:\n",
        " #  By enforcing the implementation of abstract methods, it ensures that subclasses can be used interchangeably, leading to polymorphic behavior where different objects respond to the same method call differently based on their specific implementations.\n",
        "\n",
        "\n",
        "from abc import ABC, abstractmethod\n",
        "\n",
        "class Shape(ABC):  # Abstract base class\n",
        "    @abstractmethod\n",
        "    def calculate_area(self):\n",
        "        pass  # Abstract method\n",
        "\n",
        "class Circle(Shape):\n",
        "    def __init__(self, radius):\n",
        "        self.radius = radius\n",
        "\n",
        "    def calculate_area(self):\n",
        "        return 3.14 * self.radius ** 2\n",
        "\n",
        "class Square(Shape):\n",
        "    def __init__(self, side):\n",
        "        self.side = side\n",
        "\n",
        "    def calculate_area(self):\n",
        "        return self.side ** 2\n",
        "\n",
        "# Creating instances of different shape classes\n",
        "circle = Circle(5)\n",
        "square = Square(4)\n",
        "\n",
        "# Calculating areas using the common interface of calculate_area()\n",
        "print(circle.calculate_area())  # Output: 78.5 (approx.)\n",
        "print(square.calculate_area())  # Output: 16\n",
        "\n",
        "#In this example:\n",
        "\n",
        "#The Shape class is an abstract base class defining an abstract method calculate_area() using the @abstractmethod decorator.\n",
        "#Subclasses (Circle, Square) inherit from Shape and provide their specific implementations of the calculate_area() method.\n",
        "#The abc module ensures that any subclass of Shape must implement the calculate_area() method, ensuring a shared interface across different shapes.\n",
        "#Polymorphic behavior is demonstrated as different objects (circle, square) of subclasses are treated uniformly through the common method calculate_area(), resulting in different area calculations based on their specific shapes.\n",
        "\n",
        "\n",
        "\n",
        "\n",
        "\n"
      ],
      "metadata": {
        "colab": {
          "base_uri": "https://localhost:8080/"
        },
        "id": "n4PrTdxFXvQP",
        "outputId": "9deb5a79-cfd1-424d-b8dd-c42cb2f1d588"
      },
      "execution_count": null,
      "outputs": [
        {
          "output_type": "stream",
          "name": "stdout",
          "text": [
            "78.5\n",
            "16\n"
          ]
        }
      ]
    },
    {
      "cell_type": "markdown",
      "source": [
        "### Q.No11. Create a Python class called `Shape` with a polymorphic method `area()` that calculates the area of different shapes (e.g., circle, rectangle, triangle)."
      ],
      "metadata": {
        "id": "vwrL_IDXBLNV"
      }
    },
    {
      "cell_type": "code",
      "source": [
        "import math\n",
        "\n",
        "class Shape:\n",
        "    def area(self):\n",
        "        pass  # Abstract method\n",
        "\n",
        "class Circle(Shape):\n",
        "    def __init__(self, radius):\n",
        "        self.radius = radius\n",
        "\n",
        "    def area(self):\n",
        "        return math.pi * self.radius ** 2\n",
        "\n",
        "class Rectangle(Shape):\n",
        "    def __init__(self, length, width):\n",
        "        self.length = length\n",
        "        self.width = width\n",
        "\n",
        "    def area(self):\n",
        "        return self.length * self.width\n",
        "\n",
        "class Triangle(Shape):\n",
        "    def __init__(self, base, height):\n",
        "        self.base = base\n",
        "        self.height = height\n",
        "\n",
        "    def area(self):\n",
        "        return 0.5 * self.base * self.height\n",
        "\n",
        "# Creating instances of different shapes\n",
        "circle = Circle(5)\n",
        "rectangle = Rectangle(4, 6)\n",
        "triangle = Triangle(3, 8)\n",
        "\n",
        "# Calculating areas using the polymorphic method area()\n",
        "print(f\"Area of Circle: {circle.area()}\")        # Output: Area of Circle: 78.53981633974483\n",
        "print(f\"Area of Rectangle: {rectangle.area()}\")  # Output: Area of Rectangle: 24\n",
        "print(f\"Area of Triangle: {triangle.area()}\")    # Output: Area of Triangle: 12.0\n"
      ],
      "metadata": {
        "colab": {
          "base_uri": "https://localhost:8080/"
        },
        "id": "jsgDOLyPBa07",
        "outputId": "a29dac67-8285-4ca3-9f1a-d665db2c3978"
      },
      "execution_count": null,
      "outputs": [
        {
          "output_type": "stream",
          "name": "stdout",
          "text": [
            "Area of Circle: 78.53981633974483\n",
            "Area of Rectangle: 24\n",
            "Area of Triangle: 12.0\n"
          ]
        }
      ]
    },
    {
      "cell_type": "markdown",
      "source": [
        "### Q.No.12. Discuss the benefits of polymorphism in terms of code reusability and flexibility in Python programs."
      ],
      "metadata": {
        "id": "I2-aMJ-pDHWO"
      }
    },
    {
      "cell_type": "markdown",
      "source": [
        "### ANS:\n",
        "\n",
        " **Here's a discussion of the benefits of polymorphism in Python programs, focusing on code reusability and flexibility:**\n",
        "\n",
        "**Code Reusability:**\n",
        "\n",
        "- **Common Interface:** Polymorphism allows you to create a common interface (like the `Shape` class in the example) that can be used to interact with different objects, even if they have distinct implementations. This reduces code duplication and promotes code sharing.\n",
        "- **General-Purpose Functions:** You can write functions that work with objects of various types, as long as they share a common interface. This makes code more adaptable and reusable in different contexts.\n",
        "\n",
        "**Flexibility:**\n",
        "\n",
        "- **Extensibility:** New subclasses can be easily added to an existing code base without modifying the functions that use the base class. This makes code more adaptable to future changes and extensions.\n",
        "- **Loose Coupling:** Polymorphism promotes loose coupling between components, as they interact through abstract interfaces rather than concrete implementations. This makes code more modular and easier to maintain.\n",
        "- **Adaptable Behavior:** Polymorphism allows for dynamic behavior based on the specific object type at runtime. This enables code to adapt to different scenarios and requirements without manual intervention.\n",
        "\n",
        "**Specific Examples from the Code:**\n",
        "\n",
        "- **Area Calculation:** The `area()` method in the `Shape` class is polymorphic, allowing different shapes to provide their own implementation for calculating area. This makes the code reusable for various shapes without redundant code.\n",
        "- **New Shape Addition:** You could easily introduce a new shape, like a `Square`, by defining a subclass of `Shape` and implementing its `area()` method. The existing code that uses the `Shape` interface would automatically work with the new shape without modifications.\n",
        "\n",
        "**In summary, polymorphism is a powerful tool in Python that leads to more concise, adaptable, and maintainable code. It's a cornerstone of object-oriented programming that fosters code reusability and flexibility, making it an essential concept for building well-structured and scalable applications.**"
      ],
      "metadata": {
        "id": "eOCGr_YcDuf2"
      }
    },
    {
      "cell_type": "markdown",
      "source": [
        "### Q.No.13. Explain the use of the `super()` function in Python polymorphism. How does it help call methods of parent classes?"
      ],
      "metadata": {
        "id": "orvzk3t7D0nQ"
      }
    },
    {
      "cell_type": "code",
      "source": [
        "# **Here's an explanation of the `super()` function in Python polymorphism and how it helps call methods of parent classes:**\n",
        "\n",
        "#**Purpose:**\n",
        "\n",
        "# **Accessing Parent Class Methods:** The primary purpose of `super()` is to allow a subclass to access and invoke methods of its parent class (superclass).\n",
        "# This facilitates code reuse, method extension, and collaboration between classes in an inheritance hierarchy.\n",
        "\n",
        "#**Functionality:**\n",
        "\n",
        "#1. **Representing the Parent Class:** When you call `super()` within a subclass, it returns a temporary proxy object that represents the parent class.\n",
        "# This proxy object serves as a bridge to interact with the parent class's methods.\n",
        "#2. **Calling Parent Methods:** You can then use `super()` to call any method of the parent class, even if it's overridden in the subclass. This enables you to:\n",
        "#    - **Extend Parent Behavior:** Add additional functionality before or after the parent method's execution.\n",
        "#    - **Modify Parent Behavior:** Change the behavior of the parent method by wrapping it with custom logic in the subclass.\n",
        "\n",
        "\n",
        "class Animal:\n",
        "    def __init__(self, name):\n",
        "        self.name = name\n",
        "\n",
        "    def eat(self):\n",
        "        print(f\"{self.name} is eating.\")\n",
        "\n",
        "class Dog(Animal):\n",
        "    def __init__(self, name, breed):\n",
        "        super().__init__(name)  # Call the parent's __init__()\n",
        "        self.breed = breed\n",
        "\n",
        "    def bark(self):\n",
        "        print(\"Woof!\")\n",
        "\n",
        "    def eat(self):\n",
        "        super().eat()  # Call the parent's eat() method\n",
        "        print(\"Gobbles up the food quickly.\")\n",
        "\n",
        "#**Key Points:**\n",
        "\n",
        "# **Constructor Chaining:** `super()` is often used in the `__init__()` method of subclasses to ensure proper initialization of inherited attributes from\n",
        "# the parent class.\n",
        "#- **Overridden Methods:** It's also used to access the original behavior of overridden methods, allowing for extension or modification of inherited behavior\n",
        "#- **Multiple Inheritance:** `super()` becomes especially useful in managing method calls and resolving potential conflicts in multiple inheritance scenarios\n",
        "\n",
        "#**In essence, `super()` is a valuable tool for managing inheritance and polymorphism in Python.\n",
        "#It enables subclasses to seamlessly interact with their parent classes, promoting code reuse, extensibility,\n",
        "#and flexibility in object-oriented design.**"
      ],
      "metadata": {
        "id": "kR_UBlCqEQyF"
      },
      "execution_count": null,
      "outputs": []
    },
    {
      "cell_type": "markdown",
      "source": [
        "### Q.No.14. Create a Python class hierarchy for a banking system with various account types (e.g., savings, checking, credit card) and demonstrate polymorphism by implementing a common `withdraw()` method."
      ],
      "metadata": {
        "id": "uXRTkX3RFRJn"
      }
    },
    {
      "cell_type": "code",
      "source": [
        "class Account:\n",
        "    def __init__(self, account_number, balance):\n",
        "        self.account_number = account_number\n",
        "        self.balance = balance\n",
        "\n",
        "    def withdraw(self, amount):\n",
        "        pass  # Abstract method\n",
        "\n",
        "class SavingsAccount(Account):\n",
        "    def withdraw(self, amount):\n",
        "        if self.balance >= amount:\n",
        "            self.balance -= amount\n",
        "            return f\"Withdrawn {amount} from Savings Account. Remaining balance: {self.balance}\"\n",
        "        else:\n",
        "            return \"Insufficient funds.\"\n",
        "\n",
        "class CheckingAccount(Account):\n",
        "    def withdraw(self, amount):\n",
        "        if self.balance - amount >= 0:\n",
        "            self.balance -= amount\n",
        "            return f\"Withdrawn {amount} from Checking Account. Remaining balance: {self.balance}\"\n",
        "        else:\n",
        "            return \"Insufficient funds.\"\n",
        "\n",
        "class CreditCardAccount(Account):\n",
        "    def withdraw(self, amount):\n",
        "        withdrawal_fee = 5  # Assume a withdrawal fee for credit cards\n",
        "        total_amount = amount + withdrawal_fee\n",
        "        if self.balance >= total_amount:\n",
        "            self.balance -= total_amount\n",
        "            return f\"Withdrawn {amount} + {withdrawal_fee} fee from Credit Card. Remaining balance: {self.balance}\"\n",
        "        else:\n",
        "            return \"Insufficient funds.\"\n",
        "\n",
        "# Creating instances of different account types\n",
        "savings_account = SavingsAccount(\"SAV123\", 500)\n",
        "checking_account = CheckingAccount(\"CHK789\", 1000)\n",
        "credit_card_account = CreditCardAccount(\"CC456\", 2000)\n",
        "\n",
        "# Using the common withdraw() method on different account objects\n",
        "print(savings_account.withdraw(200))         # Output: Withdrawn 200 from Savings Account. Remaining balance: 300\n",
        "print(checking_account.withdraw(800))       # Output: Insufficient funds.\n",
        "print(credit_card_account.withdraw(1500))   # Output: Withdrawn 1500 + 5 fee from Credit Card. Remaining balance: 495\n"
      ],
      "metadata": {
        "colab": {
          "base_uri": "https://localhost:8080/"
        },
        "id": "QqUNTZsQFYys",
        "outputId": "0d04676e-adeb-4e41-9f20-3cdb48a93bde"
      },
      "execution_count": null,
      "outputs": [
        {
          "output_type": "stream",
          "name": "stdout",
          "text": [
            "Withdrawn 200 from Savings Account. Remaining balance: 300\n",
            "Withdrawn 800 from Checking Account. Remaining balance: 200\n",
            "Withdrawn 1500 + 5 fee from Credit Card. Remaining balance: 495\n"
          ]
        }
      ]
    },
    {
      "cell_type": "markdown",
      "source": [
        "### Q.No.15. Describe the concept of operator overloading in Python and how it relates to polymorphism. Provide examples using operators like `+` and `*`."
      ],
      "metadata": {
        "id": "7NehpCEzF5ck"
      }
    },
    {
      "cell_type": "code",
      "source": [
        "class Point:\n",
        "    def __init__(self, x, y):\n",
        "        self.x = x\n",
        "        self.y = y\n",
        "\n",
        "    # Overloading the + operator\n",
        "    def __add__(self, other):\n",
        "        return Point(self.x + other.x, self.y + other.y)\n",
        "\n",
        "# Creating instances of Point class\n",
        "point1 = Point(2, 3)\n",
        "point2 = Point(4, 1)\n",
        "\n",
        "# Adding two Point objects using +\n",
        "resultant_point = point1 + point2\n",
        "print(f\"Resultant Point: ({resultant_point.x}, {resultant_point.y})\")  # Output: Resultant Point: (6, 4)\n"
      ],
      "metadata": {
        "colab": {
          "base_uri": "https://localhost:8080/"
        },
        "id": "Rnl3zGu_GcBd",
        "outputId": "a624934d-ce96-4c79-bdd6-fe01f724d744"
      },
      "execution_count": null,
      "outputs": [
        {
          "output_type": "stream",
          "name": "stdout",
          "text": [
            "Resultant Point: (6, 4)\n"
          ]
        }
      ]
    },
    {
      "cell_type": "code",
      "source": [
        "class Number:\n",
        "    def __init__(self, value):\n",
        "        self.value = value\n",
        "\n",
        "    # Overloading the * operator\n",
        "    def __mul__(self, other):\n",
        "        return self.value * other.value\n",
        "\n",
        "# Creating instances of Number class\n",
        "num1 = Number(5)\n",
        "num2 = Number(3)\n",
        "\n",
        "# Multiplying two Number objects using *\n",
        "result = num1 * num2\n",
        "print(f\"Result of multiplication: {result}\")  # Output: Result of multiplication: 15\n"
      ],
      "metadata": {
        "colab": {
          "base_uri": "https://localhost:8080/"
        },
        "id": "0TBKvlPLGdL3",
        "outputId": "036c2e0a-6152-4057-d672-445ed70768e2"
      },
      "execution_count": null,
      "outputs": [
        {
          "output_type": "stream",
          "name": "stdout",
          "text": [
            "Result of multiplication: 15\n"
          ]
        }
      ]
    },
    {
      "cell_type": "markdown",
      "source": [
        "### Q.No.16. What is dynamic polymorphism, and how is it achieved in Python?"
      ],
      "metadata": {
        "id": "nyrklvfVHpwK"
      }
    },
    {
      "cell_type": "code",
      "source": [
        "\n",
        "#Dynamic polymorphism, also known as runtime polymorphism, refers to the ability of different objects to be treated uniformly through a common interface, allowing them to exhibit different behaviors based on their specific implementations of methods. This behavior is resolved at runtime, enabling the selection of the appropriate method implementation based on the actual type of the object during program execution.\n",
        "\n",
        "#Achieving Dynamic Polymorphism in Python:\n",
        "#Python achieves dynamic polymorphism through method overriding and the use of inheritance and interfaces (achieved through abstract classes or duck typing).\n",
        "# This allows different objects to be used interchangeably based on their common interface, providing flexibility and adaptability in code.\n",
        "\n",
        "#Method Overriding: Subclasses can override methods inherited from a superclass, providing their specific implementation. When a method is invoked on an object,\n",
        "# Python dynamically selects the appropriate method based on the object's type at runtime.\n",
        "\n",
        "#Inheritance: Objects of derived classes can be used where objects of the base class are expected.\n",
        "#This facilitates dynamic polymorphism, allowing different objects to be treated uniformly.\n",
        "\n",
        "#Duck Typing: Python's duck typing philosophy emphasizes an object's behavior over its explicit type.\n",
        "#If an object behaves like a certain type (supports specific methods or attributes),\n",
        "#it can be used as that type without requiring explicit inheritance from that type.\n",
        "\n",
        "\n",
        "class Animal:\n",
        "    def sound(self):\n",
        "        pass  # Abstract method\n",
        "\n",
        "class Dog(Animal):\n",
        "    def sound(self):\n",
        "        return \"Woof!\"\n",
        "\n",
        "class Cat(Animal):\n",
        "    def sound(self):\n",
        "        return \"Meow!\"\n",
        "\n",
        "# Function using polymorphism\n",
        "def make_sound(animal):\n",
        "    return animal.sound()\n",
        "\n",
        "# Creating instances of different classes\n",
        "dog = Dog()\n",
        "cat = Cat()\n",
        "\n",
        "# Calling the function with different objects\n",
        "print(make_sound(dog))  # Output: Woof!\n",
        "print(make_sound(cat))  # Output: Meow!\n",
        "#In this example:\n",
        "\n",
        "#The Animal class defines an abstract method sound().\n",
        "#Subclasses (Dog, Cat) inherit from Animal and provide their specific implementation of the sound() method.\n",
        "#The make_sound() function accepts an Animal object and calls its sound() method.\n",
        "#At runtime, the appropriate sound() method corresponding to the actual type of the object passed to make_sound() is\n",
        "#selected and executed, demonstrating dynamic polymorphism in Python."
      ],
      "metadata": {
        "colab": {
          "base_uri": "https://localhost:8080/"
        },
        "id": "YP1oiYT9GktB",
        "outputId": "418f3325-8f54-4161-9b7f-1fa1e007e39f"
      },
      "execution_count": null,
      "outputs": [
        {
          "output_type": "stream",
          "name": "stdout",
          "text": [
            "Woof!\n",
            "Meow!\n"
          ]
        }
      ]
    },
    {
      "cell_type": "markdown",
      "source": [
        "### Q.No.17. Create a Python class hierarchy for employees in a company (e.g., manager, developer, designer) and implement polymorphism through a common `calculate_salary()` method."
      ],
      "metadata": {
        "id": "ejeg0qQyH2x2"
      }
    },
    {
      "cell_type": "code",
      "source": [
        "class Employee:\n",
        "    def __init__(self, name, hours_worked, hourly_rate):\n",
        "        self.name = name\n",
        "        self.hours_worked = hours_worked\n",
        "        self.hourly_rate = hourly_rate\n",
        "\n",
        "    def calculate_salary(self):\n",
        "        return self.hours_worked * self.hourly_rate\n",
        "\n",
        "class Manager(Employee):\n",
        "    def __init__(self, name, hours_worked, hourly_rate, bonus):\n",
        "        super().__init__(name, hours_worked, hourly_rate)\n",
        "        self.bonus = bonus\n",
        "\n",
        "    def calculate_salary(self):\n",
        "        base_salary = super().calculate_salary()\n",
        "        return base_salary + self.bonus\n",
        "\n",
        "class Developer(Employee):\n",
        "    def __init__(self, name, hours_worked, hourly_rate, lines_of_code):\n",
        "        super().__init__(name, hours_worked, hourly_rate)\n",
        "        self.lines_of_code = lines_of_code\n",
        "\n",
        "    def calculate_salary(self):\n",
        "        return super().calculate_salary() + (self.lines_of_code * 0.1)\n",
        "\n",
        "class Designer(Employee):\n",
        "    def __init__(self, name, hours_worked, hourly_rate, designs_created):\n",
        "        super().__init__(name, hours_worked, hourly_rate)\n",
        "        self.designs_created = designs_created\n",
        "\n",
        "    def calculate_salary(self):\n",
        "        return super().calculate_salary() + (self.designs_created * 20)\n",
        "\n",
        "# Creating instances of different employee types\n",
        "manager = Manager(\"Alice\", 160, 50, 2000)\n",
        "developer = Developer(\"Bob\", 160, 40, 1000)\n",
        "designer = Designer(\"Eve\", 160, 35, 15)\n",
        "\n",
        "# Calculating salaries using the common calculate_salary() method\n",
        "print(f\"{manager.name}'s Salary: ${manager.calculate_salary()}\")    # Output: Alice's Salary: $12000\n",
        "print(f\"{developer.name}'s Salary: ${developer.calculate_salary()}\")  # Output: Bob's Salary: $5600.0\n",
        "print(f\"{designer.name}'s Salary: ${designer.calculate_salary()}\")  # Output: Eve's Salary: $2800\n"
      ],
      "metadata": {
        "colab": {
          "base_uri": "https://localhost:8080/"
        },
        "id": "IOYYANomH9go",
        "outputId": "33d18f4e-ec8f-48f2-8a5d-de8afc35d8e0"
      },
      "execution_count": null,
      "outputs": [
        {
          "output_type": "stream",
          "name": "stdout",
          "text": [
            "Alice's Salary: $10000\n",
            "Bob's Salary: $6500.0\n",
            "Eve's Salary: $5900\n"
          ]
        }
      ]
    },
    {
      "cell_type": "markdown",
      "source": [
        "### Q.No.18. Discuss the concept of function pointers and how they can be used to achieve polymorphism in Python."
      ],
      "metadata": {
        "id": "tyQbzsaIIg4C"
      }
    },
    {
      "cell_type": "code",
      "source": [
        "#In Python, function pointers are not explicitly defined as in some other programming languages.\n",
        "#However, the concept of function pointers can be emulated using the fact that functions are first-class citizens in Python,\n",
        "# meaning they can be passed around as arguments, assigned to variables, and returned from other functions.\n",
        "\n",
        "#Achieving Polymorphism using Function Pointers (or Callable Objects):\n",
        "#Polymorphism in Python can be achieved by using callable objects (functions, methods, or any object with a __call__ method)\n",
        " #that exhibit different behaviors based on their specific implementations. By passing these callable objects as arguments or storing them in variables,\n",
        " # you can achieve polymorphic behavior.\n",
        "\n",
        "\n",
        "class Operation:\n",
        "    def execute(self, x, y):\n",
        "        pass  # Abstract method\n",
        "\n",
        "class Addition(Operation):\n",
        "    def execute(self, x, y):\n",
        "        return x + y\n",
        "\n",
        "class Multiplication(Operation):\n",
        "    def execute(self, x, y):\n",
        "        return x * y\n",
        "\n",
        "# Using function pointers to achieve polymorphism\n",
        "def calculate(operation, x, y):\n",
        "    return operation.execute(x, y)\n",
        "\n",
        "# Creating instances of different operation types\n",
        "addition = Addition()\n",
        "multiplication = Multiplication()\n",
        "\n",
        "# Using calculate() with different operations\n",
        "result_addition = calculate(addition, 5, 3)  # Passing the addition callable object\n",
        "result_multiplication = calculate(multiplication, 5, 3)  # Passing the multiplication callable object\n",
        "\n",
        "print(f\"Result of addition: {result_addition}\")  # Output: Result of addition: 8\n",
        "print(f\"Result of multiplication: {result_multiplication}\")  # Output: Result of multiplication: 15\n",
        "#In this example:\n",
        "\n",
        "#Operation defines an abstract method execute().\n",
        "#Subclasses (Addition, Multiplication) inherit from Operation and implement the execute() method according to their specific operation.\n",
        "#The calculate() function accepts an operation (a callable object) and performs the operation by calling its execute() method.\n",
        "#By passing different callable objects (addition, multiplication), the calculate() function exhibits polymorphic behavior,\n",
        "# performing different operations based on the passed callable object.\n",
        "#This approach demonstrates how Python's support for first-class functions and callable objects allows achieving polymorphism by passing different\n",
        "# callable objects that behave differently based on their specific implementations."
      ],
      "metadata": {
        "colab": {
          "base_uri": "https://localhost:8080/"
        },
        "id": "kRi5pHORIrtO",
        "outputId": "cc1d08b1-ce22-4b0e-9904-055d2e30ffd1"
      },
      "execution_count": null,
      "outputs": [
        {
          "output_type": "stream",
          "name": "stdout",
          "text": [
            "Result of addition: 8\n",
            "Result of multiplication: 15\n"
          ]
        }
      ]
    },
    {
      "cell_type": "markdown",
      "source": [
        "### Q.No.19. Explain the role of interfaces and abstract classes in polymorphism, drawing comparisons between them."
      ],
      "metadata": {
        "id": "mLwD1EBOJmRs"
      }
    },
    {
      "cell_type": "markdown",
      "source": [
        " **Here's an explanation of interfaces and abstract classes in polymorphism, highlighting their roles and key comparisons:**\n",
        "\n",
        "**Interfaces:**\n",
        "\n",
        "- **Blueprint for Interaction:** An interface defines a contract that specifies the methods a class must implement, without providing any implementation details. It acts as a pure blueprint for how classes should interact with each other.\n",
        "- **Enforcing Common Structure:** Interfaces ensure that different classes can be used interchangeably as long as they adhere to the shared interface, promoting code flexibility and modularity.\n",
        "- **No Implementation:** Interfaces themselves don't contain any code implementation; they only define method signatures.\n",
        "- **Multiple Inheritance:** Classes can implement multiple interfaces, allowing for more adaptable and flexible design patterns.\n",
        "\n",
        "**Abstract Classes:**\n",
        "\n",
        "- **Partial Implementation:** An abstract class is a class that can't be instantiated directly. It may contain some concrete methods, but it also has one or more abstract methods that subclasses must implement.\n",
        "- **Shared Functionality:** Abstract classes provide a shared base for subclasses, offering common functionality and enforcing a specific structure through abstract methods.\n",
        "- **Enforcing Consistency:** They ensure that subclasses adhere to a certain contract, promoting code consistency and maintainability.\n",
        "- **Single Inheritance:** In languages like Python, a class can only inherit from one abstract class directly, limiting code structure compared to interfaces.\n",
        "\n",
        "**Comparison Table:**\n",
        "\n",
        "| Feature       | Interfaces                                       | Abstract Classes                                       |\n",
        "| -------------- | --------------------------------------------------- | --------------------------------------------------- |\n",
        "| Implementation | No implementation, only method signatures         | Can have both concrete and abstract methods           |\n",
        "| Instantiation  | Cannot be instantiated                             | Cannot be instantiated directly, but subclasses can |\n",
        "| Inheritance    | Multiple inheritance allowed                      | Single inheritance in Python (generally)            |\n",
        "| Focus          | Enforces a common interface for interaction       | Provides shared functionality and partial implementation |\n",
        "\n",
        "**In Summary:**\n",
        "\n",
        "- **Interfaces** focus on defining a common communication protocol, ensuring flexibility and loose coupling between components.\n",
        "- **Abstract classes** provide a partial implementation as a foundation for subclasses, enforcing consistency and shared behavior.\n",
        "\n",
        "**Choosing the Right Tool:**\n",
        "\n",
        "- Use interfaces when you want to define a strong contract for interaction without any shared implementation.\n",
        "- Use abstract classes when you need to provide some common functionality or enforce a general structure for subclasses.\n",
        "\n",
        "**Both interfaces and abstract classes play crucial roles in promoting polymorphism, enabling code reusability, adaptability, and maintainability in object-oriented programming.**"
      ],
      "metadata": {
        "id": "ooVC3QhiKS1c"
      }
    },
    {
      "cell_type": "markdown",
      "source": [
        "### Q.No.20. 20. Create a Python class for a zoo simulation, demonstrating polymorphism with different animal types (e.g., mammals, birds, reptiles) and their behavior (e.g., eating, sleeping, making sounds).\n",
        "\n"
      ],
      "metadata": {
        "id": "1r2xigb-Kad8"
      }
    },
    {
      "cell_type": "code",
      "source": [
        "class Animal:\n",
        "    def __init__(self, name):\n",
        "        self.name = name\n",
        "\n",
        "    def make_sound(self):\n",
        "        pass\n",
        "\n",
        "    def eat(self):\n",
        "        pass\n",
        "\n",
        "    def sleep(self):\n",
        "        pass\n",
        "\n",
        "class Mammal(Animal):\n",
        "    def make_sound(self):\n",
        "        return \"Mammal sound\"\n",
        "\n",
        "    def eat(self):\n",
        "        return \"Mammal eating\"\n",
        "\n",
        "    def sleep(self):\n",
        "        return \"Mammal sleeping\"\n",
        "\n",
        "class Bird(Animal):\n",
        "    def make_sound(self):\n",
        "        return \"Bird sound\"\n",
        "\n",
        "    def eat(self):\n",
        "        return \"Bird eating\"\n",
        "\n",
        "    def sleep(self):\n",
        "        return \"Bird sleeping\"\n",
        "\n",
        "class Reptile(Animal):\n",
        "    def make_sound(self):\n",
        "        return \"Reptile sound\"\n",
        "\n",
        "    def eat(self):\n",
        "        return \"Reptile eating\"\n",
        "\n",
        "    def sleep(self):\n",
        "        return \"Reptile sleeping\"\n",
        "\n",
        "# Creating instances of different animal types\n",
        "lion = Mammal(\"Lion\")\n",
        "sparrow = Bird(\"Sparrow\")\n",
        "snake = Reptile(\"Snake\")\n",
        "\n",
        "# Polymorphic behavior demonstrated through method calls\n",
        "print(f\"{lion.name}: {lion.make_sound()}\")  # Output: Lion: Mammal sound\n",
        "print(f\"{sparrow.name}: {sparrow.eat()}\")   # Output: Sparrow: Bird eating\n",
        "print(f\"{snake.name}: {snake.sleep()}\")     # Output: Snake: Reptile sleeping\n"
      ],
      "metadata": {
        "colab": {
          "base_uri": "https://localhost:8080/"
        },
        "id": "4pdsKKa-KjX_",
        "outputId": "c97efac6-2f41-4b00-cc24-c59f87af1914"
      },
      "execution_count": null,
      "outputs": [
        {
          "output_type": "stream",
          "name": "stdout",
          "text": [
            "Lion: Mammal sound\n",
            "Sparrow: Bird eating\n",
            "Snake: Reptile sleeping\n"
          ]
        }
      ]
    },
    {
      "cell_type": "markdown",
      "source": [
        "## Abstraction"
      ],
      "metadata": {
        "id": "YRJZJmItg6ge"
      }
    },
    {
      "cell_type": "markdown",
      "source": [
        "### Q.No.1. What is abstraction in Python, and how does it relate to object-oriented programming"
      ],
      "metadata": {
        "id": "Hg7vgpULhAIj"
      }
    },
    {
      "cell_type": "markdown",
      "source": [
        "### ANS:\n",
        "\n",
        "\n",
        "Abstraction is a fundamental concept of object-oriented programming that enables programmers to hide complex implementation details while just showing users the most crucial data and functions. In Python, data abstraction is used to hide irrelevant details from the user and show only the details that are relevant to the users . For example, a car has an accelerator, clutch, and brake, and we all know that pressing an accelerator will increase the speed of the car and applying the brake can stop the car, but we don’t know the internal mechanism of the car and how these functionalities can work. This detail hiding is known as data abstraction.\n",
        "\n",
        "In Python, data abstraction can be achieved by using abstract classes and abstract classes can be created using the `abc` (abstract base class) module and `abstractmethod` of the `abc` module . Abstract class is a class in which one or more abstract methods are defined. When a method is declared inside the class without its implementation, it is known as an abstract method . Abstract methods of the base class force its child class to write the implementation of all abstract methods defined in the base class. If we do not implement the abstract methods of the base class in the child class, then our code will give an error\n",
        "\n",
        "I hope this helps! Let me know if you have any other questions."
      ],
      "metadata": {
        "id": "_S2HJFvSqlRD"
      }
    },
    {
      "cell_type": "markdown",
      "source": [
        "### Q.No.2. Describe the benefits of abstraction in terms of code organization and complexity reduction."
      ],
      "metadata": {
        "id": "X5OQRTPwrFDG"
      }
    },
    {
      "cell_type": "markdown",
      "source": [
        "### ANS:\n",
        "**Here's a description of the benefits of abstraction in terms of code organization and complexity reduction:**\n",
        "\n",
        "**1. Code Organization:**\n",
        "\n",
        "- **Modularization:** Abstraction encourages breaking down code into well-defined, self-contained modules with clear interfaces. This improves code structure and readability.\n",
        "- **Separation of Concerns:** It promotes focusing on specific functionalities within each module, making code easier to understand, test, and maintain.\n",
        "- **Logical Grouping:** Abstractions group related concepts together, creating a more coherent and organized code structure.\n",
        "\n",
        "**2. Complexity Reduction:**\n",
        "\n",
        "- **Hiding Implementation Details:** By concealing complex inner workings behind a simplified interface, abstraction makes code less overwhelming and easier to comprehend.\n",
        "- **Managing Interdependencies:** It reduces the need for direct knowledge of how different parts of the code interact, minimizing mental overhead and potential errors.\n",
        "- **Focus on Essential Concepts:** Abstraction allows developers to focus on the \"what\" rather than the \"how,\" making design, comprehension, and collaboration more efficient.\n",
        "\n",
        "**Specific Examples:**\n",
        "\n",
        "- **Abstract Data Types:** Representing data structures and operations abstractly hides underlying implementation details, promoting code flexibility and reusability.\n",
        "- **Design Patterns:** Proven solutions to common design problems often rely on abstraction to create flexible and reusable code structures.\n",
        "\n",
        "**Consequently:**\n",
        "\n",
        "- Abstraction leads to cleaner, more maintainable, and adaptable code.\n",
        "- It facilitates collaboration among developers by providing clear interfaces and reducing the need for in-depth knowledge of every code section.\n",
        "- It enables easier code evolution and adaptation to changing requirements without extensive code rewrites.\n",
        "\n",
        "**In conclusion:**\n",
        "\n",
        "Abstraction is a powerful tool for managing code complexity, promoting organization, and enhancing long-term code quality and maintainability. It's a fundamental principle in software development, especially within object-oriented programming."
      ],
      "metadata": {
        "id": "ZsdA8BQSrjpC"
      }
    },
    {
      "cell_type": "markdown",
      "source": [
        "### Q.No.3. Create a Python class called `Shape` with an abstract method `calculate_area()`. Then, create child classes (e.g., `Circle`, `Rectangle`) that implement the `calculate_area()` method. Provide an example of using these classes."
      ],
      "metadata": {
        "id": "FQwpJcCSrtkS"
      }
    },
    {
      "cell_type": "code",
      "source": [
        "from abc import ABC, abstractmethod\n",
        "import math\n",
        "\n",
        "class Shape(ABC):\n",
        "    @abstractmethod\n",
        "    def calculate_area(self):\n",
        "        pass\n",
        "\n",
        "class Circle(Shape):\n",
        "    def __init__(self, radius):\n",
        "        self.radius = radius\n",
        "\n",
        "    def calculate_area(self):\n",
        "        return math.pi * self.radius ** 2\n",
        "\n",
        "class Rectangle(Shape):\n",
        "    def __init__(self, length, width):\n",
        "        self.length = length\n",
        "        self.width = width\n",
        "\n",
        "    def calculate_area(self):\n",
        "        return self.length * self.width\n",
        "\n",
        "# Using the Shape subclasses\n",
        "circle = Circle(5)\n",
        "rectangle = Rectangle(4, 6)\n",
        "\n",
        "# Calculating areas\n",
        "print(f\"Area of Circle: {circle.calculate_area()}\")       # Output: Area of Circle: 78.53981633974483\n",
        "print(f\"Area of Rectangle: {rectangle.calculate_area()}\") # Output: Area of Rectangle: 24\n"
      ],
      "metadata": {
        "colab": {
          "base_uri": "https://localhost:8080/"
        },
        "id": "Ju4KoslRry2W",
        "outputId": "d089aed7-740b-46ce-9258-14c541337cad"
      },
      "execution_count": null,
      "outputs": [
        {
          "output_type": "stream",
          "name": "stdout",
          "text": [
            "Area of Circle: 78.53981633974483\n",
            "Area of Rectangle: 24\n"
          ]
        }
      ]
    },
    {
      "cell_type": "markdown",
      "source": [
        "### Q.No.4. Explain the concept of abstract classes in Python and how they are defined using the `abc` module. Provide an example."
      ],
      "metadata": {
        "id": "YovV3RfptkUz"
      }
    },
    {
      "cell_type": "code",
      "source": [
        "#Abstract classes in Python are classes that cannot be instantiated on their own and are designed to serve as blueprints for other classes.\n",
        "#They contain one or more abstract methods, which are methods without implementations.\n",
        "#Abstract classes define methods that must be implemented by their subclasses.\n",
        "\n",
        "#Python's abc (Abstract Base Classes) module allows the creation of abstract classes and abstract methods,\n",
        "# ensuring that subclasses provide concrete implementations for these methods.\n",
        "\n",
        "#Example of Abstract Class Using abc Module:\n",
        "\n",
        "from abc import ABC, abstractmethod\n",
        "\n",
        "# Defining an abstract class using ABC\n",
        "class Shape(ABC):\n",
        "    @abstractmethod\n",
        "    def calculate_area(self):\n",
        "        pass\n",
        "\n",
        "# Concrete subclass implementing the abstract method\n",
        "class Circle(Shape):\n",
        "    def __init__(self, radius):\n",
        "        self.radius = radius\n",
        "\n",
        "    def calculate_area(self):\n",
        "        return 3.14 * self.radius ** 2\n",
        "\n",
        "# Creating an instance of the concrete subclass\n",
        "circle = Circle(5)\n",
        "\n",
        "# Calling the abstract method from the concrete subclass\n",
        "print(circle.calculate_area())  # Output: 78.5\n",
        "\n",
        "#Shape is an abstract class that inherits from ABC provided by the abc module.\n",
        "#Shape contains an abstract method calculate_area() without any implementation.\n",
        "#Circle is a concrete subclass of Shape that provides a concrete implementation for the abstract method calculate_area().\n",
        "#The Circle class implements the calculate_area() method, enabling the instantiation of Circle objects and allowing the method to be called on these instances.\n",
        "#The abc module ensures that any attempt to instantiate an abstract class directly or subclass without implementing all abstract methods results in a TypeError.\n",
        "#This mechanism ensures that subclasses adhere to the structure defined by the abstract class.\n",
        "\n",
        "\n",
        "\n",
        "\n"
      ],
      "metadata": {
        "colab": {
          "base_uri": "https://localhost:8080/"
        },
        "id": "_zpEgjyYsOrJ",
        "outputId": "893e0415-889d-41a0-c8b4-bb4f655b2f4e"
      },
      "execution_count": null,
      "outputs": [
        {
          "output_type": "stream",
          "name": "stdout",
          "text": [
            "78.5\n"
          ]
        }
      ]
    },
    {
      "cell_type": "markdown",
      "source": [
        "### Q.No.5. How do abstract classes differ from regular classes in Python? Discuss their use cases."
      ],
      "metadata": {
        "id": "l72ACxUctvcK"
      }
    },
    {
      "cell_type": "markdown",
      "source": [
        "### ANS:\n",
        "**Here's a comparison of abstract classes and regular classes in Python:**\n",
        "\n",
        "**Abstract Classes:**\n",
        "\n",
        "- **Cannot be instantiated:** They exist as blueprints for other classes.\n",
        "- **Contain abstract methods:** Methods without implementation that subclasses must override.\n",
        "- **Defined using the `abc` module:** Inherit from `ABC` and use `@abstractmethod` decorator.\n",
        "- **Enforce a contract:** Subclasses must adhere to the defined interface.\n",
        "\n",
        "**Regular Classes:**\n",
        "\n",
        "- **Can be instantiated:** They can create objects with their own state and behavior.\n",
        "- **Contain concrete methods:** Methods with full implementation.\n",
        "- **Defined directly:** No special module or decorator required.\n",
        "- **Provide concrete functionality:** They represent specific entities or concepts.\n",
        "\n",
        "**Use Cases for Abstract Classes:**\n",
        "\n",
        "- **Enforcing common interfaces:** Ensure consistency across related classes (e.g., shapes, vehicles).\n",
        "- **Preventing incomplete implementations:** Avoid accidental instantiation of partially defined classes.\n",
        "- **Building adaptable frameworks:** Allow for flexibility and extensibility in class hierarchies.\n",
        "- **Modeling abstract concepts:** Represent entities that don't have direct physical representations (e.g., strategies, algorithms).\n",
        "\n",
        "**When to Use Which:**\n",
        "\n",
        "- Use **abstract classes** when defining a common blueprint or contract for a group of related classes, emphasizing consistency and preventing incomplete implementations.\n",
        "- Use **regular classes** when creating concrete objects with specific attributes and behaviors."
      ],
      "metadata": {
        "id": "nwcjUkLZuZNi"
      }
    },
    {
      "cell_type": "markdown",
      "source": [
        "### Q.No.6. Create a Python class for a bank account and demonstrate abstraction by hiding the account balance and providing methods to deposit and withdraw funds."
      ],
      "metadata": {
        "id": "nivvjt-Ouiax"
      }
    },
    {
      "cell_type": "code",
      "source": [
        "class BankAccount:\n",
        "    def __init__(self, initial_balance=0):\n",
        "        self._balance = initial_balance  # Encapsulated balance\n",
        "\n",
        "    def deposit(self, amount):\n",
        "        if amount > 0:\n",
        "            self._balance += amount\n",
        "            print(f\"Deposited: ${amount}\")\n",
        "        else:\n",
        "            print(\"Invalid amount for deposit.\")\n",
        "\n",
        "    def withdraw(self, amount):\n",
        "        if 0 < amount <= self._balance:\n",
        "            self._balance -= amount\n",
        "            print(f\"Withdrawn: ${amount}\")\n",
        "        else:\n",
        "            print(\"Insufficient funds or invalid amount for withdrawal.\")\n",
        "\n",
        "    def get_balance(self):\n",
        "        return self._balance  # Getter method for balance\n",
        "\n",
        "# Creating an instance of the BankAccount class\n",
        "account = BankAccount(initial_balance=1000)\n",
        "\n",
        "# Demonstration of deposit, withdrawal, and balance inquiry\n",
        "print(\"Initial Balance:\", account.get_balance())  # Output: Initial Balance: 1000\n",
        "\n",
        "account.deposit(500)  # Deposited: $500\n",
        "print(\"Balance after deposit:\", account.get_balance())  # Output: Balance after deposit: 1500\n",
        "\n",
        "account.withdraw(200)  # Withdrawn: $200\n",
        "print(\"Balance after withdrawal:\", account.get_balance())  # Output: Balance after withdrawal: 1300\n",
        "\n",
        "account.withdraw(2000)  # Insufficient funds or invalid amount for withdrawal.\n"
      ],
      "metadata": {
        "colab": {
          "base_uri": "https://localhost:8080/"
        },
        "id": "szvWXDYuum32",
        "outputId": "c8ee6680-423c-449c-99b8-72f11a1141b3"
      },
      "execution_count": null,
      "outputs": [
        {
          "output_type": "stream",
          "name": "stdout",
          "text": [
            "Initial Balance: 1000\n",
            "Deposited: $500\n",
            "Balance after deposit: 1500\n",
            "Withdrawn: $200\n",
            "Balance after withdrawal: 1300\n",
            "Insufficient funds or invalid amount for withdrawal.\n"
          ]
        }
      ]
    },
    {
      "cell_type": "markdown",
      "source": [
        "### Q.No.7. Discuss the concept of interface classes in Python and their role in achieving abstraction."
      ],
      "metadata": {
        "id": "yYtyPGFDu_-O"
      }
    },
    {
      "cell_type": "code",
      "source": [
        "#In Python, interface classes are classes that define a set of methods or properties that must be implemented by their subclasses.\n",
        "# Unlike some strictly-typed languages (e.g., Java), Python does not have a specific syntax for interfaces,\n",
        "# but the concept can be achieved using abstract classes or through informal agreements.\n",
        "\n",
        "#Role in Achieving Abstraction:\n",
        "\n",
        "#Defining Contract: Interface classes establish a contract, specifying a set of methods that must be implemented by their subclasses.\n",
        "# This contract ensures that subclasses adhere to a specific structure or behavior.\n",
        "\n",
        "#Enforcing Structure: By defining an interface, they enforce a structure or blueprint that subclasses must follow.\n",
        "# This promotes consistency in implementing specific functionalities across different classes.\n",
        "\n",
        "#Hiding Implementations: Interface classes help abstract away the implementation details by focusing on the methods or properties that must\n",
        "# be provided without specifying the exact implementation.\n",
        "\n",
        "#Achieving Interfaces Using Abstract Classes:\n",
        "#In Python, interfaces are typically achieved using abstract classes and the abc (Abstract Base Classes) module.\n",
        "#Abstract classes contain one or more abstract methods that subclasses must implement.\n",
        "#While Python doesn't enforce the implementation of abstract methods in the same way as strictly-typed languages,\n",
        "#using abstract classes provides a blueprint for expected behavior.\n",
        "\n",
        "\n",
        "from abc import ABC, abstractmethod\n",
        "\n",
        "# Interface-like abstract class defining methods that must be implemented\n",
        "class Shape(ABC):\n",
        "    @abstractmethod\n",
        "    def calculate_area(self):\n",
        "        pass\n",
        "\n",
        "    @abstractmethod\n",
        "    def display(self):\n",
        "        pass\n",
        "\n",
        "# Concrete classes implementing the \"interface\"\n",
        "class Circle(Shape):\n",
        "    def calculate_area(self):\n",
        "        # Implement area calculation for Circle\n",
        "        pass\n",
        "\n",
        "    def display(self):\n",
        "        # Implement display method for Circle\n",
        "        pass\n",
        "\n",
        "class Rectangle(Shape):\n",
        "    def calculate_area(self):\n",
        "        # Implement area calculation for Rectangle\n",
        "        pass\n",
        "\n",
        "    def display(self):\n",
        "        # Implement display method for Rectangle\n",
        "        pass\n",
        "\n",
        "\n",
        "#Shape serves as an interface-like abstract class that defines the methods calculate_area() and display() as abstract methods.\n",
        "#Circle and Rectangle are concrete subclasses that implement the methods specified by the Shape interface,\n",
        "#ensuring adherence to the structure defined by the abstract class.\n",
        "# Although Python doesn't strictly enforce method implementation,\n",
        "#using abstract classes sets an expectation for subclasses to provide these methods."
      ],
      "metadata": {
        "id": "vIrOVQj0vHu2"
      },
      "execution_count": null,
      "outputs": []
    },
    {
      "cell_type": "markdown",
      "source": [
        "### Q.No.8. Create a Python class hierarchy for animals and implement abstraction by defining common methods (e.g., `eat()`, `sleep()`) in an abstract base class."
      ],
      "metadata": {
        "id": "7UZguk7Hwfcv"
      }
    },
    {
      "cell_type": "code",
      "source": [
        "from abc import ABC, abstractmethod\n",
        "\n",
        "# Abstract class defining common animal behavior\n",
        "class Animal(ABC):\n",
        "    def __init__(self, name):\n",
        "        self.name = name\n",
        "\n",
        "    @abstractmethod\n",
        "    def eat(self):\n",
        "        pass\n",
        "\n",
        "    @abstractmethod\n",
        "    def sleep(self):\n",
        "        pass\n",
        "\n",
        "# Concrete subclasses implementing the Animal behavior\n",
        "class Dog(Animal):\n",
        "    def eat(self):\n",
        "        return f\"{self.name} is eating like a dog.\"\n",
        "\n",
        "    def sleep(self):\n",
        "        return f\"{self.name} is sleeping like a dog.\"\n",
        "\n",
        "class Cat(Animal):\n",
        "    def eat(self):\n",
        "        return f\"{self.name} is eating like a cat.\"\n",
        "\n",
        "    def sleep(self):\n",
        "        return f\"{self.name} is sleeping like a cat.\"\n",
        "\n",
        "\n",
        "dog = Dog(\"Buddy\")\n",
        "cat = Cat(\"Whiskers\")\n",
        "\n",
        "\n",
        "print(dog.eat())\n",
        "print(cat.sleep())\n"
      ],
      "metadata": {
        "colab": {
          "base_uri": "https://localhost:8080/"
        },
        "id": "Q2Gr5B4cwqNk",
        "outputId": "47650256-cb51-417c-d6b2-d47aad91d8b8"
      },
      "execution_count": null,
      "outputs": [
        {
          "output_type": "stream",
          "name": "stdout",
          "text": [
            "Buddy is eating like a dog.\n",
            "Whiskers is sleeping like a cat.\n"
          ]
        }
      ]
    },
    {
      "cell_type": "markdown",
      "source": [
        "### Q.No.9. Explain the significance of encapsulation in achieving abstraction. Provide examples."
      ],
      "metadata": {
        "id": "YrWFJVdvxH-q"
      }
    },
    {
      "cell_type": "code",
      "source": [
        " #**Encapsulation plays a crucial role in achieving abstraction in object-oriented programming. Here's why it's significant:**\n",
        "\n",
        "#**1. Controlling Access and Hiding Implementation Details:**\n",
        "\n",
        "#- Encapsulation restricts direct access to an object's internal data and methods, making them private or protected.\n",
        "#- It exposes only a well-defined public interface, representing the essential operations and properties of the object.\n",
        "#- This hides implementation details, allowing changes to the internal workings without affecting users of the object.\n",
        "\n",
        "\n",
        "\n",
        "\n",
        "class Student:\n",
        "    def __init__(self, name, age):\n",
        "        self._name = name    # Encapsulated attribute\n",
        "        self._age = age      # Encapsulated attribute\n",
        "\n",
        "    # Getter methods to access encapsulated attributes\n",
        "    def get_name(self):\n",
        "        return self._name\n",
        "\n",
        "    def get_age(self):\n",
        "        return self._age\n",
        "\n",
        "    # Setter methods to modify encapsulated attributes\n",
        "    def set_name(self, name):\n",
        "        self._name = name\n",
        "\n",
        "    def set_age(self, age):\n",
        "        if age > 0:\n",
        "            self._age = age\n",
        "\n",
        "# Creating an instance of the Student class\n",
        "student = Student(\"Alice\", 20)\n",
        "\n",
        "# Using getter and setter methods to interact with encapsulated data\n",
        "print(student.get_name())  # Output: Alice\n",
        "print(student.get_age())   # Output: 20\n",
        "\n",
        "student.set_name(\"Bob\")\n",
        "student.set_age(22)\n",
        "\n",
        "print(student.get_name())  # Output: Bob\n",
        "print(student.get_age())   # Output: 22\n",
        "\n",
        "\n",
        "\n",
        "#**2. Promoting Modularity and Maintainability:**\n",
        "\n",
        "#- Encapsulation encourages breaking down code into self-contained, reusable modules (classes) with clear responsibilities.\n",
        "#- Changes within a module are less likely to impact other parts of the code, as interactions occur through the public interface.\n",
        "#- This improves code maintainability, reduces coupling, and simplifies debugging.\n",
        "\n",
        "#**3. Enhancing Data Integrity:**\n",
        "\n",
        "#- Encapsulation safeguards data by controlling how it's accessed and modified.\n",
        "#- Validation and error handling can be incorporated within the object's methods, ensuring data consistency and preventing invalid operations.\n",
        "\n",
        "#**4. Facilitating Abstraction:**\n",
        "\n",
        "#- Encapsulation enables focusing on the essential characteristics of an object without getting bogged down in implementation details.\n",
        "#- Users interact with the object through a simplified, meaningful interface, promoting code clarity and understanding.\n",
        "\n",
        "#**5. Allowing for Polymorphism:**\n",
        "\n",
        "#- Encapsulation supports polymorphism, the ability to treat objects of different classes uniformly through a shared interface.\n",
        "#- This is because encapsulated objects interact through their public methods, regardless of their specific implementation details.\n",
        "\n",
        "#**In summary, encapsulation is a fundamental pillar of abstraction, contributing to:\n",
        "\n",
        "#- Clearer and more maintainable code\n",
        "#- Improved data integrity\n",
        "#- Flexible design patterns\n",
        "#- Enhanced code reusability\n",
        "#- Achieving a higher level of abstraction in object-oriented programming"
      ],
      "metadata": {
        "colab": {
          "base_uri": "https://localhost:8080/"
        },
        "id": "a46FVUkRxOzO",
        "outputId": "ba05159f-fcb6-4fb4-ce55-fef7ac4b1a4f"
      },
      "execution_count": null,
      "outputs": [
        {
          "output_type": "stream",
          "name": "stdout",
          "text": [
            "Alice\n",
            "20\n",
            "Bob\n",
            "22\n"
          ]
        }
      ]
    },
    {
      "cell_type": "markdown",
      "source": [
        "### Q.No.10. What is the purpose of abstract methods, and how do they enforce abstraction in Python classes?"
      ],
      "metadata": {
        "id": "yX_U004qy2cZ"
      }
    },
    {
      "cell_type": "code",
      "source": [
        "#Abstract methods in Python serve the purpose of defining a method signature (declaration) without providing its implementation within the abstract class.\n",
        "# They enforce a structure that must be implemented by subclasses, promoting abstraction by defining a blueprint for required behaviors without specifying\n",
        "#the exact implementation details.\n",
        "\n",
        "#Purpose of Abstract Methods:\n",
        "\n",
        "#Defining Structure: Abstract methods define a set of methods that must be implemented by any concrete subclass.\n",
        "\n",
        "#Enforcing Contract: They create a contract or an interface that subclasses must adhere to.\n",
        "#This ensures that all subclasses provide a specific set of functionalities.\n",
        "\n",
        "#Forcing Implementation: Abstract methods require subclasses to implement these methods, providing concrete functionality.\n",
        "# This enforces consistency and ensures that all subclasses have these required methods.\n",
        "\n",
        "#Enforcing Abstraction in Python Classes:\n",
        "#Use of abstractmethod Decorator: In Python, abstract methods are defined using the @abstractmethod decorator from the abc (Abstract Base Classes) module.\n",
        "\n",
        "#Must Be Implemented by Subclasses: When a method is marked as abstract in an abstract class,\n",
        "# any subclass that doesn't provide an implementation for these abstract methods will raise a TypeError upon instantiation.\n",
        "# This compels subclasses to implement these methods.\n",
        "\n",
        "from abc import ABC, abstractmethod\n",
        "\n",
        "# Abstract class defining an abstract method\n",
        "class Animal(ABC):\n",
        "    @abstractmethod\n",
        "    def sound(self):\n",
        "        pass\n",
        "\n",
        "# Concrete subclass implementing the abstract method\n",
        "class Dog(Animal):\n",
        "    def sound(self):\n",
        "        return \"Woof!\"\n",
        "\n",
        "class Cat(Animal):\n",
        "    pass  # Cat class doesn't provide an implementation for 'sound'\n",
        "\n",
        "# Creating instances of the concrete subclasses\n",
        "dog = Dog()\n",
        "#cat = Cat()  # This will raise a TypeError since Cat doesn't implement 'sound'\n",
        "\n",
        "print(dog.sound())  # Output: Woof!\n",
        "#In this example, Animal is an abstract class with an abstract method sound().\n",
        "#Dog provides an implementation for the sound() method, while Cat does not, violating the contract specified by the\n",
        "#abstract class. Attempting to instantiate Cat will result in a TypeError because of the unimplemented abstract method.\n",
        "#Abstract methods in Python enforce abstraction by requiring concrete subclasses to provide their implementations, ensuring a specific structure or set of behaviors across different classes. This enforces consistency and allows for the unified treatment of different subclasses\n",
        "#through their common abstract interface."
      ],
      "metadata": {
        "colab": {
          "base_uri": "https://localhost:8080/"
        },
        "id": "XFwqxeb8y5-R",
        "outputId": "5dfdd556-57e8-47dd-c21a-9ce5e5be161c"
      },
      "execution_count": null,
      "outputs": [
        {
          "output_type": "stream",
          "name": "stdout",
          "text": [
            "Woof!\n"
          ]
        }
      ]
    },
    {
      "cell_type": "markdown",
      "source": [
        "### Q.No.11. Create a Python class for a vehicle system and demonstrate abstraction by defining common methods (e.g., `start()`, `stop()`) in an abstract base class"
      ],
      "metadata": {
        "id": "jnRH3S1x3zuX"
      }
    },
    {
      "cell_type": "code",
      "source": [
        "from abc import ABC, abstractmethod\n",
        "\n",
        "# Abstract class defining common vehicle behavior\n",
        "class Vehicle(ABC):\n",
        "    def __init__(self, brand):\n",
        "        self.brand = brand\n",
        "\n",
        "    @abstractmethod\n",
        "    def start(self):\n",
        "        pass\n",
        "\n",
        "    @abstractmethod\n",
        "    def stop(self):\n",
        "        pass\n",
        "\n",
        "# Concrete subclasses implementing the Vehicle behavior\n",
        "class Car(Vehicle):\n",
        "    def start(self):\n",
        "        return f\"Starting the {self.brand} car engine.\"\n",
        "\n",
        "    def stop(self):\n",
        "        return f\"Stopping the {self.brand} car engine.\"\n",
        "\n",
        "class Motorcycle(Vehicle):\n",
        "    def start(self):\n",
        "        return f\"Starting the {self.brand} motorcycle engine.\"\n",
        "\n",
        "    def stop(self):\n",
        "        return f\"Stopping the {self.brand} motorcycle engine.\"\n",
        "\n",
        "# Creating instances of the concrete subclasses\n",
        "car = Car(\"Toyota\")\n",
        "motorcycle = Motorcycle(\"Harley Davidson\")\n",
        "\n",
        "# Demonstrating common behavior via abstraction\n",
        "print(car.start())        # Output: Starting the Toyota car engine.\n",
        "print(motorcycle.stop())  # Output: Stopping the Harley Davidson motorcycle engine.\n"
      ],
      "metadata": {
        "colab": {
          "base_uri": "https://localhost:8080/"
        },
        "id": "gVybczul332o",
        "outputId": "13683de5-be58-426b-ba8c-02c75eb9d8dc"
      },
      "execution_count": null,
      "outputs": [
        {
          "output_type": "stream",
          "name": "stdout",
          "text": [
            "Starting the Toyota car engine.\n",
            "Stopping the Harley Davidson motorcycle engine.\n"
          ]
        }
      ]
    },
    {
      "cell_type": "markdown",
      "source": [
        "### Q.No.12. Describe the use of abstract properties in Python and how they can be employed in abstract classes"
      ],
      "metadata": {
        "id": "_Evyk_g85JLC"
      }
    },
    {
      "cell_type": "code",
      "source": [
        "#Abstract properties in Python are properties defined in abstract classes that enforce the presence of specific properties in\n",
        "# subclasses without specifying their implementation. They are declared using the @property decorator along with @abstractmethod from the\n",
        "# abc (Abstract Base Classes) module. Abstract properties ensure that subclasses provide concrete implementations for those properties.\n",
        "\n",
        "#Usage of Abstract Properties in Abstract Classes:\n",
        "\n",
        "#Declaration: Abstract properties are defined in abstract classes using the @property decorator along with @abstractmethod.\n",
        "\n",
        "#Enforcing Implementation: Subclasses of the abstract class must provide concrete implementations for these abstract properties,\n",
        "# ensuring that these properties are available in all subclasses.\n",
        "\n",
        "from abc import ABC, abstractmethod\n",
        "\n",
        "# Abstract class defining an abstract property\n",
        "class Shape(ABC):\n",
        "    @property\n",
        "    @abstractmethod\n",
        "    def area(self):\n",
        "        pass\n",
        "\n",
        "# Concrete subclass implementing the abstract property\n",
        "class Circle(Shape):\n",
        "    def __init__(self, radius):\n",
        "        self.radius = radius\n",
        "\n",
        "    @property\n",
        "    def area(self):\n",
        "        return 3.14 * self.radius ** 2\n",
        "\n",
        "# Creating an instance of the concrete subclass\n",
        "circle = Circle(5)\n",
        "\n",
        "print(circle.area)  # Output: 78.5\n",
        "#In this example, Shape is an abstract class with an abstract property area.\n",
        "#Circle is a concrete subclass of Shape that provides a concrete implementation for the area property by defining a getter method using the @property decorator.\n",
        "#The @abstractmethod decorator in the abstract class ensures that any subclass of Shape must implement the area property,\n",
        "#ensuring a consistent structure across different shapes.\n",
        "#Abstract properties in abstract classes enforce the presence of specific properties in subclasses while allowing each subclass to define its implementation. This mechanism ensures that classes adhere to a specified structure,\n",
        "#promoting consistency and abstraction across different implementations"
      ],
      "metadata": {
        "colab": {
          "base_uri": "https://localhost:8080/"
        },
        "id": "io3y4rYo4KL3",
        "outputId": "b5ac959f-8179-4dea-b324-f5a12ebbb1a9"
      },
      "execution_count": null,
      "outputs": [
        {
          "output_type": "stream",
          "name": "stdout",
          "text": [
            "78.5\n"
          ]
        }
      ]
    },
    {
      "cell_type": "markdown",
      "source": [
        "### Q.No.13. Create a Python class hierarchy for employees in a company (e.g., manager, developer, designer) and implement abstraction by defining a common `get_salary()` method"
      ],
      "metadata": {
        "id": "aS38_CM85WmO"
      }
    },
    {
      "cell_type": "code",
      "source": [
        "from abc import ABC, abstractmethod\n",
        "\n",
        "# Abstract base class for employees\n",
        "class Employee(ABC):\n",
        "    def __init__(self, name, salary):\n",
        "        self.name = name\n",
        "        self.salary = salary\n",
        "\n",
        "    @abstractmethod\n",
        "    def get_salary(self):\n",
        "        pass\n",
        "\n",
        "# Concrete subclasses representing different roles of employees\n",
        "class Manager(Employee):\n",
        "    def get_salary(self):\n",
        "        return f\"{self.name} - Manager's Salary: ${self.salary}\"\n",
        "\n",
        "class Developer(Employee):\n",
        "    def get_salary(self):\n",
        "        return f\"{self.name} - Developer's Salary: ${self.salary}\"\n",
        "\n",
        "class Designer(Employee):\n",
        "    def get_salary(self):\n",
        "        return f\"{self.name} - Designer's Salary: ${self.salary}\"\n",
        "\n",
        "# Creating instances of the concrete subclasses\n",
        "manager = Manager(\"John\", 80000)\n",
        "developer = Developer(\"Alice\", 65000)\n",
        "designer = Designer(\"Eva\", 60000)\n",
        "\n",
        "# Demonstrating the common get_salary() method through abstraction\n",
        "print(manager.get_salary())   # Output: John - Manager's Salary: $80000\n",
        "print(developer.get_salary()) # Output: Alice - Developer's Salary: $65000\n",
        "print(designer.get_salary())  # Output: Eva - Designer's Salary: $60000\n"
      ],
      "metadata": {
        "colab": {
          "base_uri": "https://localhost:8080/"
        },
        "id": "NbZdEsxl5Zvf",
        "outputId": "df2ad9f7-95a7-4aeb-cc69-9fcb01890225"
      },
      "execution_count": null,
      "outputs": [
        {
          "output_type": "stream",
          "name": "stdout",
          "text": [
            "John - Manager's Salary: $80000\n",
            "Alice - Developer's Salary: $65000\n",
            "Eva - Designer's Salary: $60000\n"
          ]
        }
      ]
    },
    {
      "cell_type": "markdown",
      "source": [
        "### Q.No.14. Discuss the differences between abstract classes and concrete classes in Python, including their instantiation."
      ],
      "metadata": {
        "id": "nGd79xSi55ns"
      }
    },
    {
      "cell_type": "code",
      "source": [
        "#Abstract classes and concrete classes in Python differ primarily in their purpose, structure, and instantiation. Here are the key differences:\n",
        "\n",
        "#Abstract Classes:\n",
        "#Purpose:\n",
        "\n",
        "#Purpose: Abstract classes are designed to serve as a blueprint or template for other classes.\n",
        "#They often contain abstract methods or properties that must be implemented by their subclasses.\n",
        "#Incomplete: They may contain one or more abstract methods that lack implementation details, and they cannot be instantiated directly.\n",
        "#Structure:\n",
        "\n",
        "#@abstractmethod: Abstract classes use the @abstractmethod decorator from the abc module to define abstract methods.\n",
        "#Incomplete Implementation: They may have some methods without implementation (abstract methods) alongside concrete methods.\n",
        "#Instantiation:\n",
        "\n",
        "#Cannot Be Instantiated: Abstract classes cannot be instantiated directly; attempting to create an instance of an abstract class will raise a TypeError.\n",
        "#Concrete Classes:\n",
        "#Purpose:\n",
        "\n",
        "#Complete Implementation: Concrete classes provide complete implementations for all their methods, including any inherited abstract methods.\n",
        "#Direct Instantiation: They can be instantiated directly, and their instances can be created.\n",
        "\n",
        "#Structure:\n",
        "\n",
        "#Full Implementation: Concrete classes implement all the methods and properties defined in the abstract or base class.\n",
        "#No Abstract Methods: Concrete classes do not contain any abstract methods that need implementation.\n",
        "#Instantiation:\n",
        "\n",
        "#Directly Instantiated: They can be instantiated directly by calling their constructors, creating instances of these classes.\n",
        "#Example:\n",
        "from abc import ABC, abstractmethod\n",
        "\n",
        "# Abstract class\n",
        "class AbstractClass(ABC):\n",
        "    @abstractmethod\n",
        "    def abstract_method(self):\n",
        "        pass\n",
        "\n",
        "    def concrete_method(self):\n",
        "        return \"This is a concrete method in the abstract class.\"\n",
        "\n",
        "# Concrete subclass\n",
        "class ConcreteClass(AbstractClass):\n",
        "    def abstract_method(self):\n",
        "        return \"This is the implementation of the abstract method.\"\n",
        "\n",
        "# Trying to instantiate abstract class (results in TypeError)\n",
        "# abstract_instance = AbstractClass()\n",
        "\n",
        "# Instantiating concrete class\n",
        "concrete_instance = ConcreteClass()\n",
        "\n",
        "# Output from concrete class method\n",
        "print(concrete_instance.abstract_method())  # Output: This is the implementation of the abstract method.\n",
        "print(concrete_instance.concrete_method()) # Output: This is a concrete method in the abstract class.\n",
        "#In this example, AbstractClass is an abstract class with an abstract method abstract_method() and a concrete method concrete_method().\n",
        "#ConcreteClass is a concrete subclass that provides an implementation for the abstract method and inherits the\n",
        "#concrete method from the abstract class.\n",
        "#Attempting to instantiate the abstract class directly (AbstractClass()) will result in a TypeError,\n",
        "#while the concrete subclass (ConcreteClass()) can be instantiated without any issues."
      ],
      "metadata": {
        "colab": {
          "base_uri": "https://localhost:8080/"
        },
        "id": "fCW8M4UM6BZi",
        "outputId": "25856460-2fea-4e57-8abd-307e6798405c"
      },
      "execution_count": null,
      "outputs": [
        {
          "output_type": "stream",
          "name": "stdout",
          "text": [
            "This is the implementation of the abstract method.\n",
            "This is a concrete method in the abstract class.\n"
          ]
        }
      ]
    },
    {
      "cell_type": "markdown",
      "source": [
        "### Q.No.15. Explain the concept of abstract data types (ADTs) and their role in achieving abstraction in Python."
      ],
      "metadata": {
        "id": "pys01Hpj-PFC"
      }
    },
    {
      "cell_type": "code",
      "source": [
        "#Abstract Data Types (ADTs) are theoretical data types that define a set of values and operations on those values without specifying the\n",
        "#implementation details. They emphasize the behavior of data structures rather than the implementation.\n",
        "# ADTs are essential in achieving abstraction by allowing users to work with data structures based on their defined operations without concerning themselves\n",
        "# with the internal implementation.\n",
        "\n",
        "#Role of ADTs in Achieving Abstraction:\n",
        "\n",
        "#Defined Operations: ADTs define a set of operations that can be performed on data, such as insertion, deletion, searching, etc.\n",
        "\n",
        "#Hiding Implementation Details: They hide the internal implementation of data structures and focus on the interface provided to users,\n",
        "#promoting encapsulation and data hiding.\n",
        "\n",
        "#Unified Interface: ADTs provide a unified interface or contract for using data structures,\n",
        "# allowing users to interact with the data structure using defined methods without knowing how those methods are implemented.\n",
        "\n",
        "#Flexibility: Users can use ADTs without worrying about the underlying implementation. This facilitates code reuse,\n",
        "# as changes in the implementation of an ADT don't affect the code using it, as long as the interface remains the same.\n",
        "\n",
        "#Example:\n",
        "#In Python, built-in data structures like lists, sets, dictionaries, etc., represent ADTs. For instance,\n",
        "# a list in Python is an abstract data type that allows operations like appending, removing, indexing, etc.,\n",
        "# without exposing its internal structure (e.g., how the elements are stored in memory).\n",
        "\n",
        "\n",
        "# Example of using a Python list as an abstract data type (ADT)\n",
        "my_list = [1, 2, 3, 4, 5]  # Creating a list\n",
        "\n",
        "# Using list operations without knowing the internal implementation\n",
        "my_list.append(6)   # Operation: Append\n",
        "my_list.remove(3)   # Operation: Remove\n",
        "\n",
        "print(my_list)  # Output: [1, 2, 4, 5, 6]\n",
        "#In this example, the user interacts with the list through defined operations (append() and remove()) without knowing how the list is internally implemented\n",
        "# in Python. The list abstracts away the implementation details and provides a standardized interface for manipulating data.\n",
        "\n",
        "#ADTs play a crucial role in achieving abstraction by defining the behavior and operations of data structures without\n",
        "#revealing their internal workings. This allows for a clear separation between the use of data structures and their\n",
        "# implementations, promoting code maintainability, reusability, and modularity."
      ],
      "metadata": {
        "colab": {
          "base_uri": "https://localhost:8080/"
        },
        "id": "o89fkfk3-TBx",
        "outputId": "7faa9db8-d25b-4e7b-92f6-7fa197733b01"
      },
      "execution_count": null,
      "outputs": [
        {
          "output_type": "stream",
          "name": "stdout",
          "text": [
            "[1, 2, 4, 5, 6]\n"
          ]
        }
      ]
    },
    {
      "cell_type": "markdown",
      "source": [
        "### Q.No.16. Create a Python class for a computer system, demonstrating abstraction by defining common methods (e.g., `power_on()`, `shutdown()`) in an abstract base class."
      ],
      "metadata": {
        "id": "LGXTKsmX_uBy"
      }
    },
    {
      "cell_type": "code",
      "source": [
        "from abc import ABC, abstractmethod\n",
        "\n",
        "# Abstract base class for computer systems\n",
        "class ComputerSystem(ABC):\n",
        "    @abstractmethod\n",
        "    def power_on(self):\n",
        "        pass\n",
        "\n",
        "    @abstractmethod\n",
        "    def shutdown(self):\n",
        "        pass\n",
        "\n",
        "# Concrete subclass representing a desktop computer\n",
        "class Desktop(ComputerSystem):\n",
        "    def power_on(self):\n",
        "        return \"Desktop computer is powering on...\"\n",
        "\n",
        "    def shutdown(self):\n",
        "        return \"Desktop computer is shutting down...\"\n",
        "\n",
        "# Concrete subclass representing a laptop computer\n",
        "class Laptop(ComputerSystem):\n",
        "    def power_on(self):\n",
        "        return \"Laptop computer is powering on...\"\n",
        "\n",
        "    def shutdown(self):\n",
        "        return \"Laptop computer is shutting down...\"\n",
        "\n",
        "# Creating instances of the concrete subclasses\n",
        "desktop = Desktop()\n",
        "laptop = Laptop()\n",
        "\n",
        "# Demonstrating the common methods through abstraction\n",
        "print(desktop.power_on())  # Output: Desktop computer is powering on...\n",
        "print(laptop.shutdown())   # Output: Laptop computer is shutting down...\n"
      ],
      "metadata": {
        "colab": {
          "base_uri": "https://localhost:8080/"
        },
        "id": "rJ3JGaXJ_0vN",
        "outputId": "00b278b6-efef-448c-869d-95fd83d633fb"
      },
      "execution_count": null,
      "outputs": [
        {
          "output_type": "stream",
          "name": "stdout",
          "text": [
            "Desktop computer is powering on...\n",
            "Laptop computer is shutting down...\n"
          ]
        }
      ]
    },
    {
      "cell_type": "markdown",
      "source": [
        "### Q.No.17. Discuss the benefits of using abstraction in large-scale software development projects."
      ],
      "metadata": {
        "id": "onRC4ac1AJuh"
      }
    },
    {
      "cell_type": "markdown",
      "source": [
        "### ANS:\n",
        "\n",
        "## Benefits of using abstraction in large-scale software development projects:\n",
        "\n",
        "Abstraction is a powerful tool in large-scale software development projects, offering numerous benefits for developers and the overall project structure. Here are some key advantages:\n",
        "\n",
        "**1. Increased Modularity and Maintainability:**\n",
        "\n",
        "* By hiding complex implementation details behind well-defined interfaces, abstraction allows developers to focus on specific modules without worrying about the intricate workings of other parts. This modularity simplifies code understanding, maintenance, and updates.\n",
        "* Changes in one module can be made without affecting others, as long as the interface remains consistent. This increases overall project maintainability and reduces the risk of introducing cascading bugs.\n",
        "\n",
        "**2. Improved Code Reusability:**\n",
        "\n",
        "* Abstract classes and interfaces can be designed to capture common functionalities across different parts of the system. This allows developers to reuse existing code components instead of writing the same logic repeatedly, saving time and effort.\n",
        "* By focusing on behavior instead of specific implementations, abstraction enables code to be reused across different contexts and platforms, further enhancing efficiency.\n",
        "\n",
        "**3. Enhanced Developer Productivity:**\n",
        "\n",
        "* Abstraction simplifies the development process by reducing cognitive load. Developers don't need to delve into low-level details, allowing them to think at a higher level and focus on the essential logic of their tasks.\n",
        "* This makes development faster and more efficient, especially in large teams where multiple developers are working on different parts of the project.\n",
        "\n",
        "**4. Improved Scalability and Flexibility:**\n",
        "\n",
        "* Abstract interfaces allow for changes in underlying implementations without affecting other parts of the system. This makes the software more flexible and adaptable to future changes in requirements or technologies.\n",
        "* As new technologies emerge, developers can easily swap out specific implementations while maintaining compatibility with the overall system thanks to the well-defined interfaces provided by abstraction.\n",
        "\n",
        "**5. Enhanced Communication and Collaboration:**\n",
        "\n",
        "* By providing a common language and understanding of the system's components, abstraction facilitates effective communication between developers. Shared interfaces and clear boundaries between modules make it easier to discuss and plan work without getting bogged down in implementation details.\n",
        "* This improves team collaboration and coordination, leading to a more efficient and productive development process.\n",
        "\n",
        "**Examples of Abstraction in Large Projects:**\n",
        "\n",
        "* Using abstract classes or interfaces to define common behavior for UI components in a complex user interface framework.\n",
        "* Creating an abstract data type for a data structure like a queue or stack, allowing different implementations (linked lists, arrays) to be used interchangeably.\n",
        "* Defining an API with clear interfaces for interacting with external services or databases, decoupling the core system from specific technological choices.\n",
        "\n",
        "Overall, abstraction is a crucial concept in large-scale software development, contributing to improved modularity, maintainability, reusability, scalability, and collaboration. By effectively employing abstraction techniques, developers can build large, complex systems that are efficient, adaptable, and easier to manage.\n"
      ],
      "metadata": {
        "id": "rsxDkh2UAre2"
      }
    },
    {
      "cell_type": "markdown",
      "source": [
        "### Q.No.18. Explain how abstraction enhances code reusability and modularity in Python programs."
      ],
      "metadata": {
        "id": "kk4GyF2wAxkx"
      }
    },
    {
      "cell_type": "markdown",
      "source": [
        "### ANS:\n",
        "\n",
        "Abstraction enhances code reusability and modularity in Python programs by facilitating the creation of components with well-defined interfaces that can be easily reused and integrated across different parts of the codebase. Here's how abstraction contributes to these aspects:\n",
        "\n",
        "1. Code Reusability:\n",
        "Componentization: Abstraction allows developers to encapsulate common functionalities or patterns into reusable components or modules.\n",
        "Reuse of Interfaces: Abstracting common functionalities into well-defined interfaces allows different parts of the codebase to interact with these functionalities without concerning themselves with the underlying implementation details.\n",
        "Promotes DRY Principle: The \"Don't Repeat Yourself\" (DRY) principle is encouraged as developers can reuse abstracted components instead of duplicating code.\n",
        "2. Modularity:\n",
        "Clear Interfaces: Abstraction provides clear and well-defined interfaces for modules or components, hiding complex implementations behind these interfaces.\n",
        "Independent Modules: Abstracted components are designed to function independently. They can be easily swapped or replaced without affecting the rest of the system, promoting modularity.\n",
        "Separation of Concerns: Abstracting functionalities into separate modules or layers allows for a clearer separation of concerns, making the codebase easier to understand and maintain.\n",
        "3. Encapsulation and Information Hiding:\n",
        "Encapsulation: Abstraction facilitates encapsulation by exposing only necessary details and hiding the internal complexities of implementations. This protects components from unintended interference and reduces dependencies.\n",
        "Reduced Dependencies: Well-abstracted components reduce dependencies between different parts of the system, promoting loose coupling and enhancing modularity.\n",
        "4. Flexibility and Adaptability:\n",
        "Easier Modifications: Abstracted components can be modified or updated without impacting other parts of the system. This flexibility allows for easier adaptations to changes in requirements or technology.\n",
        "5. Testing and Debugging:\n",
        "Isolated Testing: Abstracted components can be tested independently, ensuring that they function correctly before integration, thus simplifying testing and debugging processes.\n",
        "Debugging Simplification: Abstraction isolates bugs or issues to specific components, making the debugging process more manageable.\n",
        "6. Collaboration and Teamwork:\n",
        "Shared Understanding: Abstraction provides a shared understanding of interfaces and functionalities, facilitating collaboration among team members working on different parts of the system.\n",
        "In Python, abstraction is often achieved using abstract classes, interfaces, or defining well-structured APIs. By abstracting common functionalities into reusable and independent components, code becomes more modular, easier to maintain, and highly reusable, enabling efficient development and enhancement of software systems."
      ],
      "metadata": {
        "id": "NLOGsLiHBWI-"
      }
    },
    {
      "cell_type": "markdown",
      "source": [
        "### Q.No.19. Create a Python class for a library system, implementing abstraction by defining common methods (e.g., `add_book."
      ],
      "metadata": {
        "id": "5kTarL6GBb3t"
      }
    },
    {
      "cell_type": "code",
      "source": [
        "from abc import ABC, abstractmethod\n",
        "\n",
        "# Abstract class for Library\n",
        "class LibrarySystem(ABC):\n",
        "    def __init__(self):\n",
        "        self.books = []\n",
        "\n",
        "    @abstractmethod\n",
        "    def add_book(self, book):\n",
        "        pass\n",
        "\n",
        "    @abstractmethod\n",
        "    def remove_book(self, book):\n",
        "        pass\n",
        "\n",
        "    @abstractmethod\n",
        "    def display_books(self):\n",
        "        pass\n",
        "\n",
        "# Concrete class implementing LibrarySystem\n",
        "class MyLibrary(LibrarySystem):\n",
        "    def add_book(self, book):\n",
        "        self.books.append(book)\n",
        "        print(f\"Book '{book}' added to the library.\")\n",
        "\n",
        "    def remove_book(self, book):\n",
        "        if book in self.books:\n",
        "            self.books.remove(book)\n",
        "            print(f\"Book '{book}' removed from the library.\")\n",
        "        else:\n",
        "            print(f\"Book '{book}' not found in the library.\")\n",
        "\n",
        "    def display_books(self):\n",
        "        if self.books:\n",
        "            print(\"Books available in the library:\")\n",
        "            for book in self.books:\n",
        "                print(f\"- {book}\")\n",
        "        else:\n",
        "            print(\"No books available in the library.\")\n",
        "\n",
        "# Creating an instance of MyLibrary\n",
        "library = MyLibrary()\n",
        "\n",
        "# Adding books to the library\n",
        "library.add_book(\"Python Crash Course\")\n",
        "library.add_book(\"Design Patterns\")\n",
        "library.add_book(\"Data Structures and Algorithms\")\n",
        "\n",
        "# Displaying books\n",
        "library.display_books()\n",
        "\n",
        "# Removing a book\n",
        "library.remove_book(\"Design Patterns\")\n",
        "\n",
        "# Displaying books after removal\n",
        "library.display_books()\n"
      ],
      "metadata": {
        "colab": {
          "base_uri": "https://localhost:8080/"
        },
        "id": "XGJIAEnbBi3k",
        "outputId": "69efe0a5-7f98-4b9a-b3f4-cdb3f3d994a2"
      },
      "execution_count": null,
      "outputs": [
        {
          "output_type": "stream",
          "name": "stdout",
          "text": [
            "Book 'Python Crash Course' added to the library.\n",
            "Book 'Design Patterns' added to the library.\n",
            "Book 'Data Structures and Algorithms' added to the library.\n",
            "Books available in the library:\n",
            "- Python Crash Course\n",
            "- Design Patterns\n",
            "- Data Structures and Algorithms\n",
            "Book 'Design Patterns' removed from the library.\n",
            "Books available in the library:\n",
            "- Python Crash Course\n",
            "- Data Structures and Algorithms\n"
          ]
        }
      ]
    },
    {
      "cell_type": "markdown",
      "source": [
        "### Q.No.20. Describe the concept of method abstraction in Python and how it relates to polymorphism."
      ],
      "metadata": {
        "id": "JnScZHSDCBBB"
      }
    },
    {
      "cell_type": "code",
      "source": [
        "#Method abstraction in Python refers to the practice of defining abstract methods in a class without implementing them. These methods serve as placeholders,\n",
        "# providing a blueprint for subclasses to implement their specific behavior. It's closely related to polymorphism,\n",
        "# as it enables different objects to be treated uniformly through a common interface, allowing for various implementations of the same method.\n",
        "\n",
        "#Key Points:\n",
        "#Abstract Methods:\n",
        "\n",
        "#Abstract methods are defined in an abstract base class (ABC) using the @abstractmethod decorator from the abc module.\n",
        "#They lack implementation details and serve as a contract, ensuring that subclasses provide their implementation.\n",
        "\n",
        "#Common Interface:\n",
        "\n",
        "#Abstract methods define a common interface for subclasses, outlining the methods they must implement.\n",
        "#This abstraction allows different subclasses to have their implementations for the same method.\n",
        "\n",
        "#Polymorphism and Common Interface:\n",
        "\n",
        "#Through method abstraction, different objects can be treated uniformly based on the common interface provided by abstract methods.\n",
        "#Polymorphism enables the use of these objects interchangeably, allowing different implementations of the same method to be called based on the object's\n",
        "# actual type.\n",
        "\n",
        "#Flexibility and Adaptability:\n",
        "\n",
        "#Method abstraction facilitates flexibility by allowing subclasses to provide their specific implementations while adhering to a common interface.\n",
        "#This flexibility promotes adaptability, as new subclasses can be created with different behaviors while maintaining the same method signature.\n",
        "\n",
        "#Example:\n",
        "\n",
        "from abc import ABC, abstractmethod\n",
        "\n",
        "# Abstract class defining method abstraction\n",
        "class Shape(ABC):\n",
        "    @abstractmethod\n",
        "    def calculate_area(self):\n",
        "        pass\n",
        "\n",
        "# Concrete subclasses implementing abstract method\n",
        "class Circle(Shape):\n",
        "    def __init__(self, radius):\n",
        "        self.radius = radius\n",
        "\n",
        "    def calculate_area(self):\n",
        "        return 3.14 * self.radius ** 2\n",
        "\n",
        "class Rectangle(Shape):\n",
        "    def __init__(self, length, width):\n",
        "        self.length = length\n",
        "        self.width = width\n",
        "\n",
        "    def calculate_area(self):\n",
        "        return self.length * self.width\n",
        "\n",
        "# Using polymorphism through method abstraction\n",
        "shapes = [Circle(5), Rectangle(4, 6)]\n",
        "\n",
        "for shape in shapes:\n",
        "    print(f\"Area of shape: {shape.calculate_area()}\")\n",
        "#Shape is an abstract class defining an abstract method calculate_area().\n",
        "#Circle and Rectangle are concrete subclasses implementing their specific calculate_area() methods.\n",
        "#The shapes list contains instances of both subclasses, showcasing polymorphism as they are treated uniformly through the common calculate_area() method.\n",
        "#In essence, method abstraction allows for a common interface across different subclasses, enabling polymorphism by\n",
        "#allowing objects of different types to be manipulated through the same methods,\n",
        "#albeit with their specific implementations. This fosters code reuse, flexibility, and adaptability in object-oriented programming in Python."
      ],
      "metadata": {
        "colab": {
          "base_uri": "https://localhost:8080/"
        },
        "id": "bKqFWFJSCEdV",
        "outputId": "7b953bc1-c489-4b1e-9788-17dbac553af1"
      },
      "execution_count": null,
      "outputs": [
        {
          "output_type": "stream",
          "name": "stdout",
          "text": [
            "Area of shape: 78.5\n",
            "Area of shape: 24\n"
          ]
        }
      ]
    },
    {
      "cell_type": "markdown",
      "source": [
        "Q.No.1. Explain the concept of composition in Python and how it is used to build complex objects from simpler ones."
      ],
      "metadata": {
        "id": "TTJ4mdInrnzQ"
      }
    },
    {
      "cell_type": "code",
      "source": [
        "#Composition in Python refers to the practice of creating complex objects by combining simpler objects or components.\n",
        "# It involves constructing an object by including other objects as its parts or components, thereby creating a relationship between the containing object\n",
        "# (the composite) and the contained objects (the components). This concept enables the creation of more complex and flexible structures while promoting code\n",
        "# reuse and maintainability.\n",
        "\n",
        "#Key Points:\n",
        "#Relationship Between Objects:\n",
        "\n",
        "#Composition establishes a \"has-a\" relationship between objects, where one object contains or is composed of other objects.\n",
        "#The containing object (composite) holds references to its component objects, leveraging their functionalities to build a more complex entity.\n",
        "\n",
        "#Building Complex Objects:\n",
        "\n",
        "#Complex objects are constructed by assembling simpler objects as their parts or components.\n",
        "#Each component can encapsulate its functionalities, allowing the composite object to access and utilize them.\n",
        "\n",
        "#Encapsulation and Modularity:\n",
        "\n",
        "#Composition promotes encapsulation by allowing objects to hide their internal workings, exposing only necessary functionalities to the composite object.\n",
        "#It encourages modularity by breaking down complex systems into smaller, more manageable parts.\n",
        "\n",
        "#Code Reusability:\n",
        "\n",
        "#Components used in composition can be reused in multiple composite objects, fostering code reusability and reducing redundancy.\n",
        "\n",
        "#Flexibility and Adaptability:\n",
        "\n",
        "#Composition allows for flexibility in constructing objects. Components can be easily replaced or modified without affecting the composite object's structure.\n",
        "#It facilitates adaptability as the composite object can be composed of different combinations of components to achieve various behaviors.\n",
        "#Example:\n",
        "\n",
        "class Engine:\n",
        "    def start(self):\n",
        "        return \"Engine starting...\"\n",
        "\n",
        "    def stop(self):\n",
        "        return \"Engine stopping...\"\n",
        "\n",
        "class Wheels:\n",
        "    def rotate(self):\n",
        "        return \"Wheels rotating...\"\n",
        "\n",
        "class Car:\n",
        "    def __init__(self):\n",
        "        self.engine = Engine()\n",
        "        self.wheels = Wheels()\n",
        "\n",
        "    def start_car(self):\n",
        "        return self.engine.start() + \" \" + self.wheels.rotate()\n",
        "\n",
        "    def stop_car(self):\n",
        "        return self.engine.stop() + \" \" + self.wheels.rotate()\n",
        "\n",
        "# Creating a Car using composition\n",
        "my_car = Car()\n",
        "\n",
        "# Using the Car object\n",
        "print(my_car.start_car())  # Output: Engine starting... Wheels rotating...\n",
        "print(my_car.stop_car())   # Output: Engine stopping... Wheels rotating...\n",
        "#In this example, Engine and Wheels are simpler objects representing components.\n",
        "#The Car object is constructed using composition by including Engine and Wheels as its components.\n",
        "#Car utilizes the functionalities of its components (Engine and Wheels) to perform actions like starting and stopping.\n",
        "#Composition allows for the creation of complex objects like the Car by combining simpler objects (Engine and Wheels).\n",
        "# This modular approach enables the construction of more versatile and maintainable systems in Python.\n",
        "\n",
        "\n",
        "\n",
        "\n",
        "\n",
        "\n"
      ],
      "metadata": {
        "colab": {
          "base_uri": "https://localhost:8080/"
        },
        "id": "J6nA_Sl3taED",
        "outputId": "faccd564-e82e-4aac-88d5-8dfa30cb6e92"
      },
      "execution_count": null,
      "outputs": [
        {
          "output_type": "stream",
          "name": "stdout",
          "text": [
            "Engine starting... Wheels rotating...\n",
            "Engine stopping... Wheels rotating...\n"
          ]
        }
      ]
    },
    {
      "cell_type": "markdown",
      "source": [
        "### Q.No.2. Describe the difference between composition and inheritance in object-oriented programming."
      ],
      "metadata": {
        "id": "98rWN_BLug-7"
      }
    },
    {
      "cell_type": "markdown",
      "source": [
        "### ANS:\n",
        "\n",
        "\n",
        "Certainly! Here are the key differences between composition and inheritance in object-oriented programming:\n",
        "\n",
        "Composition:\n",
        "Relationship:\n",
        "\n",
        "Has-a Relationship: Composition establishes a \"has-a\" relationship between objects, where one object contains or is composed of other objects.\n",
        "Objects are combined to create a new object, and the contained objects are often referred to as components or parts.\n",
        "Code Reusability:\n",
        "\n",
        "Promotes Code Reusability: Composition promotes code reusability by allowing the reuse of existing components in different contexts.\n",
        "Components can be shared among multiple composite objects, reducing redundancy and promoting modular design.\n",
        "Flexibility and Modularity:\n",
        "\n",
        "Enhances Flexibility: Composition offers greater flexibility, allowing objects to change their composition dynamically during runtime.\n",
        "Modifications to components or their arrangement in a composite object do not affect other parts of the system.\n",
        "Encapsulation:\n",
        "\n",
        "Supports Encapsulation: Composition encourages encapsulation as components can hide their internal details, exposing only necessary functionalities to the composite object.\n",
        "Example:\n",
        "\n",
        "An example of composition is a Car object composed of Engine, Wheels, and Chassis objects. The Car has-a Engine, Wheels, and Chassis.\n",
        "Inheritance:\n",
        "Relationship:\n",
        "\n",
        "Is-a Relationship: Inheritance establishes an \"is-a\" relationship between classes, where one class (subclass) inherits properties and behaviors from another class (superclass).\n",
        "Subclasses inherit attributes and methods from their parent classes.\n",
        "Code Reusability:\n",
        "\n",
        "Promotes Code Reusability: Inheritance allows subclasses to reuse and extend the functionality of their parent classes.\n",
        "Subclasses inherit attributes and behaviors, reducing the need for redundant code.\n",
        "Rigid Hierarchy:\n",
        "\n",
        "Implies a Fixed Hierarchy: Inheritance establishes a fixed hierarchy, where subclasses are tightly coupled to their parent classes.\n",
        "Changes in the superclass can potentially affect all its subclasses.\n",
        "Single vs. Multiple Inheritance:\n",
        "\n",
        "Single or Multiple Inheritance: Languages like Python support both single and multiple inheritance, enabling a class to inherit from one or multiple parent classes.\n",
        "Example:\n",
        "\n",
        "An example of inheritance is a Vehicle superclass with attributes and methods common to all vehicles. Car and Motorcycle subclasses inherit from Vehicle.\n",
        "Summary:\n",
        "Composition focuses on object assembly, creating new objects by combining simpler objects or components.\n",
        "Inheritance focuses on class hierarchies, allowing subclasses to inherit properties and behaviors from parent classes, establishing an \"is-a\" relationship.\n",
        "Both composition and inheritance offer different approaches to code organization and design. Composition emphasizes flexibility and code reuse, while inheritance establishes hierarchies and promotes code sharing among related classes. The choice between them depends on the design goals and the nature of the relationship between objects or classes in a given scenario.\n",
        "\n",
        "\n",
        "\n",
        "\n",
        "\n"
      ],
      "metadata": {
        "id": "JuOuIZk8v8LB"
      }
    },
    {
      "cell_type": "markdown",
      "source": [
        "### Q.No.3. Create a Python class called `Author` with attributes for name and birthdate. Then, create a `Book` class that contains an instance of `Author` as a composition. Provide an example of creating a `Book` object."
      ],
      "metadata": {
        "id": "bf1ZgAPPwKz0"
      }
    },
    {
      "cell_type": "code",
      "source": [
        "class Author:\n",
        "    def __init__(self, name, birthdate):\n",
        "        self.name = name\n",
        "        self.birthdate = birthdate\n",
        "\n",
        "class Book:\n",
        "    def __init__(self, title, author, publication_date):\n",
        "        self.title = title\n",
        "        self.author = author  # Composition: a Book object contains an Author object\n",
        "        self.publication_date = publication_date\n",
        "\n",
        "# Example of creating a Book object\n",
        "author = Author(\"Alice Walker\", \"1944-02-09\")\n",
        "book = Book(\"The Color Purple\", author, \"1982-12-20\")\n",
        "\n",
        "print(book.title)   # Output: The Color Purple\n",
        "print(book.author.name)  # Output: Alice Walker"
      ],
      "metadata": {
        "colab": {
          "base_uri": "https://localhost:8080/"
        },
        "id": "zwH5JJpXxGGw",
        "outputId": "84ddfe0c-42f8-429e-c583-d1def10f3519"
      },
      "execution_count": null,
      "outputs": [
        {
          "output_type": "stream",
          "name": "stdout",
          "text": [
            "The Color Purple\n",
            "Alice Walker\n"
          ]
        }
      ]
    },
    {
      "cell_type": "markdown",
      "source": [
        "###Q.No.4. Discuss the benefits of using composition over inheritance in Python, especially in terms of code flexibility and reusability."
      ],
      "metadata": {
        "id": "xH_tQ6M7xWhS"
      }
    },
    {
      "cell_type": "markdown",
      "source": [
        "### ANS:\n",
        "\n",
        " **Here are the key benefits of using composition over inheritance in Python, particularly in terms of code flexibility and reusability:**\n",
        "\n",
        "**1. Loose Coupling:**\n",
        "\n",
        "- Composition promotes **loose coupling** between classes, meaning they are more independent and less tangled.\n",
        "- Changes to one class are less likely to affect other classes, making the code more maintainable and adaptable.\n",
        "- Inheritance, on the other hand, can create tight coupling between parent and child classes, making changes more difficult and potentially creating ripple effects.\n",
        "\n",
        "**2. Runtime Flexibility:**\n",
        "\n",
        "- Composition allows you to **change the behavior of an object at runtime** by swapping out its component objects.\n",
        "- This can be very useful for configuration, testing, or adapting to different scenarios.\n",
        "- Inheritance, in contrast, typically fixes the behavior at compile time, making it less adaptable.\n",
        "\n",
        "**3. Code Reusability:**\n",
        "\n",
        "- Composition allows you to **reuse components in different contexts** without creating a rigid class hierarchy.\n",
        "- This can lead to more modular and reusable code, as components can be easily plugged into different objects.\n",
        "- Inheritance can sometimes limit reusability, as classes are tied to a specific hierarchy.\n",
        "\n",
        "**4. Avoiding the \"Liskov Substitution Principle\" Violation:**\n",
        "\n",
        "- The Liskov Substitution Principle states that objects of a subclass should be substitutable for objects of their superclass without altering the program's correctness.\n",
        "- Inheritance can sometimes lead to violations of this principle, causing unexpected behavior.\n",
        "- Composition is less prone to these violations, as it doesn't create a strict \"is-a\" relationship.\n",
        "\n",
        "**5. Easier Testing:**\n",
        "\n",
        "- Classes that use composition are often easier to test in isolation, as their dependencies can be mocked or replaced with test doubles.\n",
        "- Inheritance can make testing more challenging, as it can be difficult to isolate a subclass from its parent class's behavior.\n",
        "\n",
        "**6. Better Mapping to Real-World Relationships:**\n",
        "\n",
        "- Composition often mirrors real-world relationships more accurately than inheritance.\n",
        "- For example, a car \"has-an\" engine, not \"is-an\" engine.\n",
        "- Modeling these relationships with composition can lead to more intuitive and understandable code.\n",
        "\n",
        "**In summary, composition often leads to more flexible, reusable, and maintainable code in Python. While inheritance has its place, composition is generally preferred for its benefits in creating loosely coupled and adaptable systems.**"
      ],
      "metadata": {
        "id": "8vCfVtwjyIUZ"
      }
    },
    {
      "cell_type": "markdown",
      "source": [
        "### Q.No.5. How can you implement composition in Python classes? Provide examples of using composition to create complex objects."
      ],
      "metadata": {
        "id": "W9VF2SmAyNNU"
      }
    },
    {
      "cell_type": "code",
      "source": [
        "class Engine:\n",
        "    def start(self):\n",
        "        print(\"Engine started\")\n",
        "\n",
        "class Wheel:\n",
        "    def inflate(self):\n",
        "        print(\"Wheel inflated\")\n",
        "\n",
        "class Car:\n",
        "    def __init__(self):\n",
        "        self.engine = Engine()  # Composition: Car has-an Engine\n",
        "        self.wheels = [Wheel() for _ in range(4)]  # List of composed Wheels\n",
        "\n",
        "    def drive(self):\n",
        "        self.engine.start()\n",
        "        print(\"Car is driving\")\n",
        "\n",
        "car = Car()\n",
        "car.drive()  # Output: Engine started\\nCar is driving"
      ],
      "metadata": {
        "colab": {
          "base_uri": "https://localhost:8080/"
        },
        "id": "aPjLgIsgyYBP",
        "outputId": "f819130d-bdba-4a40-f261-a21ad4157a26"
      },
      "execution_count": null,
      "outputs": [
        {
          "output_type": "stream",
          "name": "stdout",
          "text": [
            "Engine started\n",
            "Car is driving\n"
          ]
        }
      ]
    },
    {
      "cell_type": "markdown",
      "source": [
        "### Q.No.6. Create a Python class hierarchy for a music player system, using composition to represent playlists and songs."
      ],
      "metadata": {
        "id": "Ivco-8oByw-w"
      }
    },
    {
      "cell_type": "code",
      "source": [
        "class Song:\n",
        "    def __init__(self, title, artist):\n",
        "        self.title = title\n",
        "        self.artist = artist\n",
        "\n",
        "    def play(self):\n",
        "        return f\"Playing '{self.title}' by {self.artist}\"\n",
        "\n",
        "class Playlist:\n",
        "    def __init__(self, name):\n",
        "        self.name = name\n",
        "        self.songs = []  # List to hold Song instances as components\n",
        "\n",
        "    def add_song(self, song):\n",
        "        if isinstance(song, Song):\n",
        "            self.songs.append(song)\n",
        "            return f\"'{song.title}' added to '{self.name}' playlist\"\n",
        "        else:\n",
        "            return \"Invalid song. Please provide a valid Song object.\"\n",
        "\n",
        "    def play_playlist(self):\n",
        "        if not self.songs:\n",
        "            return f\"'{self.name}' playlist is empty\"\n",
        "        else:\n",
        "            playlist_info = [song.play() for song in self.songs]\n",
        "            return f\"Playing '{self.name}' playlist:\\n\" + '\\n'.join(playlist_info)\n",
        "\n",
        "# Creating Song instances\n",
        "song1 = Song(\"Shape of You\", \"Ed Sheeran\")\n",
        "song2 = Song(\"Believer\", \"Imagine Dragons\")\n",
        "song3 = Song(\"Dance Monkey\", \"Tones and I\")\n",
        "\n",
        "# Creating a Playlist and adding songs using composition\n",
        "my_playlist = Playlist(\"My Favorites\")\n",
        "print(my_playlist.add_song(song1))  # Output: 'Shape of You' added to 'My Favorites' playlist\n",
        "print(my_playlist.add_song(song2))  # Output: 'Believer' added to 'My Favorites' playlist\n",
        "print(my_playlist.add_song(song3))  # Output: 'Dance Monkey' added to 'My Favorites' playlist\n",
        "\n",
        "# Playing the playlist\n",
        "print(my_playlist.play_playlist())\n",
        "# Output:\n",
        "# Playing 'My Favorites' playlist:\n",
        "# Playing 'Shape of You' by Ed Sheeran\n",
        "# Playing 'Believer' by Imagine Dragons\n",
        "# Playing 'Dance Monkey' by Tones and I\n"
      ],
      "metadata": {
        "colab": {
          "base_uri": "https://localhost:8080/"
        },
        "id": "ekbu0ubfy6vv",
        "outputId": "e64b9ac8-10f1-4eee-cb91-9ae9c0ed84a4"
      },
      "execution_count": null,
      "outputs": [
        {
          "output_type": "stream",
          "name": "stdout",
          "text": [
            "'Shape of You' added to 'My Favorites' playlist\n",
            "'Believer' added to 'My Favorites' playlist\n",
            "'Dance Monkey' added to 'My Favorites' playlist\n",
            "Playing 'My Favorites' playlist:\n",
            "Playing 'Shape of You' by Ed Sheeran\n",
            "Playing 'Believer' by Imagine Dragons\n",
            "Playing 'Dance Monkey' by Tones and I\n"
          ]
        }
      ]
    },
    {
      "cell_type": "markdown",
      "source": [
        "### Q.No.7. Explain the concept of \"has-a\" relationships in composition and how it helps design software systems."
      ],
      "metadata": {
        "id": "heJIyXLMz0Zi"
      }
    },
    {
      "cell_type": "markdown",
      "source": [
        "### ANS:\n",
        "\n",
        "The \"has-a\" relationship in composition refers to an object having another object as a part or component. It's a fundamental principle in object-oriented programming where one class contains an instance of another class as one of its attributes, representing a composition relationship. This relationship aids in designing software systems by allowing complex objects to be constructed from simpler parts or components.\n",
        "\n",
        "How \"Has-a\" Relationship Helps in Software Design:\n",
        "Modularity and Reusability:\n",
        "\n",
        "Composition promotes modularity by breaking down complex systems into smaller, reusable parts or components.\n",
        "Components can be reused in multiple contexts, reducing redundancy and facilitating easier maintenance.\n",
        "Flexibility and Adaptability:\n",
        "\n",
        "Objects can change their composition dynamically during runtime, offering flexibility in creating different configurations from the same set of components.\n",
        "Modifications to components or their arrangement in a composite object do not affect other parts of the system, enhancing adaptability.\n",
        "Encapsulation and Abstraction:\n",
        "\n",
        "Encapsulated components hide their internal workings, exposing only necessary functionalities to the composite object.\n",
        "The composite object interacts with the components through well-defined interfaces, promoting abstraction and reducing dependencies.\n",
        "Code Organization and Maintainability:\n",
        "\n",
        "Objects are organized hierarchically, making the codebase more manageable and easier to understand.\n",
        "Changes or updates to specific components can be localized, leading to easier maintenance and reducing the risk of unintended consequences.\n",
        "Reduced Coupling and Dependency:\n",
        "\n",
        "The composite object depends on interfaces rather than concrete implementations, reducing coupling between objects.\n",
        "Components can be replaced or modified without affecting the overall structure or behavior of the composite object, minimizing dependencies.\n",
        "Example:\n",
        "Consider a Car class having components like Engine, Wheels, and Transmission. The Car \"has-a\" relationship with these components through composition. This design allows different types of cars to be created by combining different configurations of the same components.\n",
        "\n",
        "Overall, the \"has-a\" relationship through composition provides a modular, flexible, and maintainable approach to designing software systems by enabling the construction of complex objects from simpler components. It promotes code reuse, encapsulation, and a clearer organization of object relationships, contributing to more manageable and adaptable software architectures.\n",
        "\n",
        "\n",
        "\n",
        "\n",
        "\n",
        "\n"
      ],
      "metadata": {
        "id": "R1ddl71n0V70"
      }
    },
    {
      "cell_type": "markdown",
      "source": [
        "### Q.No.8. Create a Python class for a computer system, using composition to represent components like CPU, RAM, and storage devices."
      ],
      "metadata": {
        "id": "0fEH3TOM0afw"
      }
    },
    {
      "cell_type": "code",
      "source": [
        "class CPU:\n",
        "    def __init__(self, cores, clock_speed):\n",
        "        self.cores = cores\n",
        "        self.clock_speed = clock_speed\n",
        "\n",
        "    def process_data(self, data):\n",
        "        print(f\"Processing data with {self.cores} cores at {self.clock_speed} GHz\")\n",
        "\n",
        "class RAM:\n",
        "    def __init__(self, size, speed):\n",
        "        self.size = size\n",
        "        self.speed = speed\n",
        "\n",
        "    def load_data(self, data):\n",
        "        print(f\"Loading data into RAM with {self.size} GB at {self.speed} MHz\")\n",
        "\n",
        "class Storage:\n",
        "    def __init__(self, type, capacity):\n",
        "        self.type = type  # e.g., \"SSD\", \"HDD\"\n",
        "        self.capacity = capacity\n",
        "\n",
        "    def read_data(self, file_path):\n",
        "        print(f\"Reading data from {self.type} storage with {self.capacity} GB capacity\")\n",
        "\n",
        "class Computer:\n",
        "    def __init__(self, cpu, ram, storage):\n",
        "        self.cpu = cpu  # Composition: Computer has-a CPU\n",
        "        self.ram = ram  # Composition: Computer has-a RAM\n",
        "        self.storage = storage  # Composition: Computer has-a Storage\n",
        "\n",
        "    def boot_up(self):\n",
        "        print(\"Booting up computer...\")\n",
        "        self.cpu.process_data(\"boot instructions\")\n",
        "        self.ram.load_data(\"operating system\")\n",
        "        self.storage.read_data(\"user files\")\n",
        "\n",
        "# Example usage\n",
        "cpu = CPU(4, 3.5)\n",
        "ram = RAM(8, 3200)\n",
        "storage = Storage(\"SSD\", 512)\n",
        "computer = Computer(cpu, ram, storage)\n",
        "computer.boot_up()"
      ],
      "metadata": {
        "colab": {
          "base_uri": "https://localhost:8080/"
        },
        "id": "wfOBGiW40leP",
        "outputId": "b58770f3-9dc7-4670-b2b0-a2820daa4baf"
      },
      "execution_count": null,
      "outputs": [
        {
          "output_type": "stream",
          "name": "stdout",
          "text": [
            "Booting up computer...\n",
            "Processing data with 4 cores at 3.5 GHz\n",
            "Loading data into RAM with 8 GB at 3200 MHz\n",
            "Reading data from SSD storage with 512 GB capacity\n"
          ]
        }
      ]
    },
    {
      "cell_type": "markdown",
      "source": [
        "### Q.No.9. Describe the concept of \"delegation\" in composition and how it simplifies the design of complex systems."
      ],
      "metadata": {
        "id": "n4KhTBNV0-rw"
      }
    },
    {
      "cell_type": "markdown",
      "source": [
        "### ANS:\n",
        "\n",
        "Delegation in composition refers to the act of passing the responsibility of a particular task or functionality from one object to another through composition. It simplifies the design of complex systems by allowing objects to rely on the functionalities of their component objects, rather than implementing those functionalities themselves.\n",
        "\n",
        "How Delegation Simplifies System Design:\n",
        "Task Distribution:\n",
        "\n",
        "Delegation allows distributing tasks or responsibilities among different objects, promoting a more granular and manageable division of labor.\n",
        "Each object handles specific functionalities or tasks it specializes in, leading to a clearer and more organized design.\n",
        "Modularity and Reusability:\n",
        "\n",
        "Delegation facilitates modularity by encapsulating specialized behaviors within components.\n",
        "Components can be reused across different objects or systems, enhancing code reusability and minimizing redundancy.\n",
        "Encapsulation and Abstraction:\n",
        "\n",
        "Objects delegate tasks to their components while hiding their internal workings, promoting encapsulation.\n",
        "Delegated functionalities are accessed through well-defined interfaces, abstracting the complexity of the underlying implementation.\n",
        "Reduced Complexity:\n",
        "\n",
        "Delegation reduces the complexity of individual objects by allowing them to focus on their primary responsibilities.\n",
        "Objects become simpler and more specialized, leading to a clearer understanding of their roles within the system.\n",
        "Flexible Composition:\n",
        "\n",
        "Delegation enables flexible composition, where objects can change their behavior or extend functionalities by modifying or substituting their components.\n",
        "It allows dynamic changes in behavior during runtime, enhancing adaptability.\n",
        "Easy Maintenance and Testing:\n",
        "\n",
        "Delegation promotes easier maintenance as changes or updates are often localized to specific components or objects, reducing the risk of unintended consequences.\n",
        "Testing becomes more manageable as components can be tested independently, facilitating better isolation of issues.\n",
        "Example:\n",
        "Consider a Manager class that delegates specific tasks to its components like TaskCoordinator, EmployeeDatabase, and ProjectScheduler. The Manager class focuses on high-level decision-making, while its components handle detailed tasks related to task coordination, employee management, and project scheduling.\n",
        "\n",
        "By using delegation, the Manager class can effectively delegate responsibilities to its components, allowing for a more organized, modular, and maintainable design of a complex system.\n",
        "\n",
        "Overall, delegation simplifies system design by enabling a more focused and modular approach, promoting encapsulation, reusability, and easier maintenance of software systems. It allows objects to collaborate effectively while maintaining a clear separation of concerns and responsibilities.\n",
        "\n",
        "\n",
        "\n",
        "\n",
        "\n"
      ],
      "metadata": {
        "id": "6p7nN0uh1jTg"
      }
    },
    {
      "cell_type": "markdown",
      "source": [
        "### Q.No.10. Create a Python class for a car, using composition to represent components like the engine, wheels, and transmission."
      ],
      "metadata": {
        "id": "awIOFwe21rUl"
      }
    },
    {
      "cell_type": "code",
      "source": [
        "class Engine:\n",
        "    def start(self):\n",
        "        return \"Engine starting...\"\n",
        "\n",
        "    def stop(self):\n",
        "        return \"Engine stopping...\"\n",
        "\n",
        "class Wheels:\n",
        "    def rotate(self):\n",
        "        return \"Wheels rotating...\"\n",
        "\n",
        "class Transmission:\n",
        "    def shift_gear(self):\n",
        "        return \"Gear shifting...\"\n",
        "\n",
        "class Car:\n",
        "    def __init__(self):\n",
        "        self.engine = Engine()  # Engine instance as a component\n",
        "        self.wheels = Wheels()  # Wheels instance as a component\n",
        "        self.transmission = Transmission()  # Transmission instance as a component\n",
        "\n",
        "    def start_car(self):\n",
        "        return self.engine.start() + \" \" + self.transmission.shift_gear() + \" \" + self.wheels.rotate()\n",
        "\n",
        "    def stop_car(self):\n",
        "        return self.engine.stop() + \" \" + self.wheels.rotate()\n",
        "\n",
        "# Creating a Car object using composition\n",
        "my_car = Car()\n",
        "\n",
        "# Using the Car object\n",
        "print(my_car.start_car())\n",
        "# Output: Engine starting... Gear shifting... Wheels rotating...\n",
        "\n",
        "print(my_car.stop_car())\n",
        "# Output: Engine stopping... Wheels rotating...\n"
      ],
      "metadata": {
        "colab": {
          "base_uri": "https://localhost:8080/"
        },
        "id": "arK8J1Kl1wcg",
        "outputId": "58f0d401-3fba-4e91-b222-006ca7222eb8"
      },
      "execution_count": null,
      "outputs": [
        {
          "output_type": "stream",
          "name": "stdout",
          "text": [
            "Engine starting... Gear shifting... Wheels rotating...\n",
            "Engine stopping... Wheels rotating...\n"
          ]
        }
      ]
    },
    {
      "cell_type": "markdown",
      "source": [
        "### Q.No.11. How can you encapsulate and hide the details of composed objects in Python classes to maintain abstraction?"
      ],
      "metadata": {
        "id": "xtIU0Jx42XCo"
      }
    },
    {
      "cell_type": "code",
      "source": [
        "\n",
        "#Encapsulation in Python involves hiding the internal details of objects, allowing access only through well-defined interfaces.\n",
        "# When using composition in Python classes to represent composed objects, encapsulation can be maintained to hide the details of these composed objects by:\n",
        "\n",
        "#1. Limiting Access:\n",
        "\n",
        "#Private Attributes: Declare attributes within the class as private by prefixing their names with double underscores (__).\n",
        "#This restricts direct access from outside the class.\n",
        "\n",
        "#2. Providing Controlled Access:\n",
        "\n",
        "#Accessor and Mutator Methods (Getters and Setters): Create methods within the class to access and modify the attributes of the composed objects.\n",
        "# These methods provide controlled access to the object's internal components, allowing manipulation while encapsulating the details.\n",
        "#Example:\n",
        "#Consider the Car class with a composed object, Engine. Encapsulation can be achieved by:\n",
        "\n",
        "class Engine:\n",
        "    def __init__(self):\n",
        "        self.__fuel_type = \"Petrol\"  # Private attribute\n",
        "\n",
        "    def get_fuel_type(self):\n",
        "        return self.__fuel_type  # Accessor method\n",
        "\n",
        "class Car:\n",
        "    def __init__(self):\n",
        "        self.__engine = Engine()  # Composition - Engine as a component\n",
        "\n",
        "    def get_engine_fuel_type(self):\n",
        "        return self.__engine.get_fuel_type()  # Delegated accessor method\n",
        "\n",
        "# Using the Car class\n",
        "my_car = Car()\n",
        "print(my_car.get_engine_fuel_type())  # Output: Petrol\n",
        "\n",
        "# Attempting to directly access a private attribute - leads to an error\n",
        "# print(my_car.__engine)  # AttributeError: 'Car' object has no attribute '__engine'\n",
        "#The Engine class has a private attribute __fuel_type and an accessor method get_fuel_type() to retrieve the fuel type.\n",
        "#The Car class includes an instance of Engine as a private attribute __engine.\n",
        "#The Car class provides a method get_engine_fuel_type() to access the fuel type indirectly through the Engine object's method.\n",
        "#By using encapsulation techniques like private attributes and controlled access methods, the details of composed objects are hidden within the classes,\n",
        "# maintaining abstraction and preventing direct access to internal components from outside the class.\n",
        "\n",
        "\n",
        "\n",
        "\n",
        "\n"
      ],
      "metadata": {
        "colab": {
          "base_uri": "https://localhost:8080/"
        },
        "id": "ZMX-Ix-M2gen",
        "outputId": "b8eead6b-12fb-41c3-d1bf-786f2a53feb0"
      },
      "execution_count": null,
      "outputs": [
        {
          "output_type": "stream",
          "name": "stdout",
          "text": [
            "Petrol\n"
          ]
        }
      ]
    },
    {
      "cell_type": "markdown",
      "source": [
        "### Q.No.12. Create a Python class for a university course, using composition to represent students, instructors, and course materials."
      ],
      "metadata": {
        "id": "LnsJV2ZI3cIr"
      }
    },
    {
      "cell_type": "code",
      "source": [
        "class Student:\n",
        "    def __init__(self, name, student_id):\n",
        "        self.name = name\n",
        "        self.student_id = student_id\n",
        "\n",
        "    def get_info(self):\n",
        "        return f\"Student: {self.name}, ID: {self.student_id}\"\n",
        "\n",
        "class Instructor:\n",
        "    def __init__(self, name, employee_id):\n",
        "        self.name = name\n",
        "        self.employee_id = employee_id\n",
        "\n",
        "    def get_info(self):\n",
        "        return f\"Instructor: {self.name}, Employee ID: {self.employee_id}\"\n",
        "\n",
        "class CourseMaterials:\n",
        "    def __init__(self, textbooks, lecture_notes):\n",
        "        self.textbooks = textbooks\n",
        "        self.lecture_notes = lecture_notes\n",
        "\n",
        "    def get_materials(self):\n",
        "        return f\"Textbooks: {', '.join(self.textbooks)}\\nLecture Notes: {', '.join(self.lecture_notes)}\"\n",
        "\n",
        "class UniversityCourse:\n",
        "    def __init__(self, students, instructor, course_materials):\n",
        "        self.students = students  # List of Student instances as components\n",
        "        self.instructor = instructor  # Instructor instance as a component\n",
        "        self.course_materials = course_materials  # CourseMaterials instance as a component\n",
        "\n",
        "    def course_info(self):\n",
        "        students_info = [student.get_info() for student in self.students]\n",
        "        instructor_info = self.instructor.get_info()\n",
        "        materials_info = self.course_materials.get_materials()\n",
        "\n",
        "        return f\"Students:\\n\" + '\\n'.join(students_info) + f\"\\n\\nInstructor: {instructor_info}\\n\\nCourse Materials:\\n{materials_info}\"\n",
        "\n",
        "# Creating Student, Instructor, and CourseMaterials instances\n",
        "student1 = Student(\"Alice\", \"S001\")\n",
        "student2 = Student(\"Bob\", \"S002\")\n",
        "\n",
        "instructor = Instructor(\"Dr. Smith\", \"I001\")\n",
        "\n",
        "materials = CourseMaterials([\"Python Programming\", \"Data Structures\"], [\"Week 1 Lecture\", \"Week 2 Lecture\"])\n",
        "\n",
        "# Creating a UniversityCourse object using composition\n",
        "course = UniversityCourse([student1, student2], instructor, materials)\n",
        "\n",
        "# Getting course information\n",
        "print(course.course_info())\n"
      ],
      "metadata": {
        "colab": {
          "base_uri": "https://localhost:8080/"
        },
        "id": "ezO-lS2c3k7X",
        "outputId": "78fe9504-9da1-4085-b8e7-dd122c646873"
      },
      "execution_count": null,
      "outputs": [
        {
          "output_type": "stream",
          "name": "stdout",
          "text": [
            "Students:\n",
            "Student: Alice, ID: S001\n",
            "Student: Bob, ID: S002\n",
            "\n",
            "Instructor: Instructor: Dr. Smith, Employee ID: I001\n",
            "\n",
            "Course Materials:\n",
            "Textbooks: Python Programming, Data Structures\n",
            "Lecture Notes: Week 1 Lecture, Week 2 Lecture\n"
          ]
        }
      ]
    },
    {
      "cell_type": "markdown",
      "source": [
        "###Q.No.13. Discuss the challenges and drawbacks of composition, such as increased complexity and potential for tight coupling between objects."
      ],
      "metadata": {
        "id": "fpnXeFgL4RKf"
      }
    },
    {
      "cell_type": "markdown",
      "source": [
        "### ANS:\n",
        "\n",
        "While composition offers many benefits for software design, it's important to acknowledge its potential drawbacks and challenges:\n",
        "\n",
        "**1. Increased Complexity:**\n",
        "\n",
        "- Large systems built with numerous composed objects can become complex, making it difficult to understand the overall structure and relationships between components.\n",
        "- Debugging and tracing issues can be challenging due to the distributed nature of functionality across multiple objects.\n",
        "\n",
        "**2. Tight Coupling:**\n",
        "\n",
        "- While composition often promotes loose coupling, some designs can unintentionally create tight coupling between objects.\n",
        "- Objects might become overly dependent on specific details of their composed components, making them less adaptable and difficult to modify or reuse independently.\n",
        "\n",
        "**3. Boilerplate Code:**\n",
        "\n",
        "- Implementing composition sometimes requires additional boilerplate code to define methods for interacting with and managing composed objects.\n",
        "- This can increase the initial development time and code size, especially for complex systems with many interacting components.\n",
        "\n",
        "**4. Overuse of Interfaces:**\n",
        "\n",
        "- Overreliance on interfaces to abstract interactions between composed objects can introduce additional complexity and lead to a proliferation of classes just to provide specific access methods.\n",
        "- Finding the right balance between abstraction and concrete implementation is crucial.\n",
        "\n",
        "**5. Testability:**\n",
        "\n",
        "- Testing classes with complex composition can be challenging. You might need to mock or isolate individual components to effectively test the functionality of the whole system.\n",
        "\n",
        "**6. Potential for Circular Dependencies:**\n",
        "\n",
        "- In intricate object networks, circular dependencies can arise where two objects depend on each other's functionality.\n",
        "- These dependencies can be difficult to manage and can lead to runtime errors if not carefully planned and avoided.\n",
        "\n",
        "**To mitigate these challenges, consider these recommendations:**\n",
        "\n",
        "- **Start small and favor simplicity:** Avoid unnecessarily complex compositions and build your system incrementally to maintain understanding.\n",
        "- **Use clear design patterns:** Employ established design patterns like Dependency Injection to promote loose coupling and manage dependencies effectively.\n",
        "- **Focus on interfaces for abstraction:** Define clear interfaces for interactions between components while avoiding excessive over-abstraction.\n",
        "- **Prioritize modularity and isolation:** Aim for component independence and testability to simplify maintenance and testing.\n",
        "- **Document your design:** Maintain clear documentation to explain the relationships and responsibilities within your composed system.\n",
        "\n",
        "By understanding the potential drawbacks and employing best practices, you can utilize composition effectively to build maintainable, flexible, and well-architected software systems.\n",
        "\n",
        "Remember, composition is a powerful tool, but like any tool, it requires careful consideration and responsible use to reap its full benefits while minimizing potential downsides.\n"
      ],
      "metadata": {
        "id": "DfTevJA85EHK"
      }
    },
    {
      "cell_type": "markdown",
      "source": [
        "### Q.No.14. Create a Python class hierarchy for a restaurant system, using composition to represent menus, dishes, and ingredients."
      ],
      "metadata": {
        "id": "DwGhlD3E5KD5"
      }
    },
    {
      "cell_type": "code",
      "source": [
        "class Ingredient:\n",
        "    def __init__(self, name, quantity):\n",
        "        self.name = name\n",
        "        self.quantity = quantity\n",
        "\n",
        "    def get_info(self):\n",
        "        return f\"{self.name}: {self.quantity}\"\n",
        "\n",
        "class Dish:\n",
        "    def __init__(self, name, ingredients):\n",
        "        self.name = name\n",
        "        self.ingredients = ingredients  # List of Ingredient instances as components\n",
        "\n",
        "    def get_ingredients(self):\n",
        "        return \", \".join([ingredient.get_info() for ingredient in self.ingredients])\n",
        "\n",
        "    def get_dish_info(self):\n",
        "        return f\"{self.name} - Ingredients: {self.get_ingredients()}\"\n",
        "\n",
        "class Menu:\n",
        "    def __init__(self, name, dishes):\n",
        "        self.name = name\n",
        "        self.dishes = dishes  # List of Dish instances as components\n",
        "\n",
        "    def get_menu_info(self):\n",
        "        return f\"Menu: {self.name}\\n\" + '\\n'.join([dish.get_dish_info() for dish in self.dishes])\n",
        "\n",
        "class Restaurant:\n",
        "    def __init__(self, menu):\n",
        "        self.menu = menu  # Menu instance as a component\n",
        "\n",
        "    def get_restaurant_info(self):\n",
        "        return self.menu.get_menu_info()\n",
        "\n",
        "# Creating Ingredient instances\n",
        "ingredient1 = Ingredient(\"Tomato\", \"2\")\n",
        "ingredient2 = Ingredient(\"Cheese\", \"300g\")\n",
        "\n",
        "# Creating Dish instances\n",
        "dish1 = Dish(\"Margherita Pizza\", [ingredient1, ingredient2])\n",
        "\n",
        "# Creating Menu instance with dishes\n",
        "menu = Menu(\"Italian Cuisine\", [dish1])\n",
        "\n",
        "# Creating Restaurant instance with a menu\n",
        "restaurant = Restaurant(menu)\n",
        "\n",
        "# Displaying restaurant information\n",
        "print(restaurant.get_restaurant_info())\n"
      ],
      "metadata": {
        "colab": {
          "base_uri": "https://localhost:8080/"
        },
        "id": "Tyk3NMDs5UZf",
        "outputId": "4ae15f98-6462-4056-f885-1ca942e3e494"
      },
      "execution_count": null,
      "outputs": [
        {
          "output_type": "stream",
          "name": "stdout",
          "text": [
            "Menu: Italian Cuisine\n",
            "Margherita Pizza - Ingredients: Tomato: 2, Cheese: 300g\n"
          ]
        }
      ]
    },
    {
      "cell_type": "markdown",
      "source": [
        "### Q.No.15. Explain how composition enhances code maintainability and modularity in Python programs."
      ],
      "metadata": {
        "id": "U_bPFJE351pp"
      }
    },
    {
      "cell_type": "markdown",
      "source": [
        "### ANS:\n",
        "\n",
        "[1]: https://www.geeksforgeeks.org/understanding-code-reuse-modularity-python-3/ \"\"\n",
        "[2]: https://dev.to/jgfranco17/writing-python-code-like-a-pro-best-practices-for-clean-readable-and-maintainable-programming-13m3 \"\"\n",
        "[3]: https://studygyaan.com/python-programming/python-functions \"\"\n",
        "[4]: https://www.scaler.com/topics/abstraction-in-oop/ \"\"\n",
        "[5]: https://ieeexplore.ieee.org/document/6032595 \"\"\n",
        "\n",
        "In Python, **composition** is a powerful technique for creating complex objects by combining simpler objects together. Composition enhances code maintainability and modularity in Python programs in several ways:\n",
        "\n",
        "1. **Code reuse**: Composition allows us to reuse existing code by composing objects from other objects. This promotes code reuse and makes it easier to adapt to changing requirements.\n",
        "\n",
        "2. **Modularity**: Composition allows us to create modular code by breaking down complex objects into smaller, more manageable components. This makes it easier to test, debug, and maintain the codebase.\n",
        "\n",
        "3. **Flexibility**: Composition allows us to create flexible code that can be easily modified or extended. By composing objects from other objects, we can create loosely coupled components that can be easily modified or replaced without affecting the entire codebase.\n",
        "\n",
        "4. **Abstraction**: Composition allows us to create abstract interfaces that hide the details of composed objects from outside the class. This helps to maintain abstraction and prevent accidental modification of data.\n",
        "\n",
        "5. **Encapsulation**: Composition allows us to encapsulate and hide the details of composed objects in classes. Access modifiers can be used to control the visibility of class members and hide the details of composed objects from outside the class. This helps to maintain abstraction and prevent accidental modification of data.\n",
        "\n",
        "In summary, composition is a powerful technique for creating complex objects by combining simpler objects together. Composition enhances code maintainability and modularity in Python programs by promoting code reuse, modularity, flexibility, abstraction, and encapsulation.\n",
        "\n",
        "I hope this helps! Let me know if you have any other questions."
      ],
      "metadata": {
        "id": "QYyotr8U6gvL"
      }
    },
    {
      "cell_type": "markdown",
      "source": [
        "### Q.No.16. Create a Python class for a computer game character, using composition to represent attributes like weapons, armor, and inventory."
      ],
      "metadata": {
        "id": "8bYw4XCaW2oY"
      }
    },
    {
      "cell_type": "code",
      "source": [
        "class Weapon:\n",
        "    def __init__(self, name, damage):\n",
        "        self.name = name\n",
        "        self.damage = damage\n",
        "\n",
        "    def get_weapon_info(self):\n",
        "        return f\"Weapon: {self.name}, Damage: {self.damage}\"\n",
        "\n",
        "class Armor:\n",
        "    def __init__(self, name, defense):\n",
        "        self.name = name\n",
        "        self.defense = defense\n",
        "\n",
        "    def get_armor_info(self):\n",
        "        return f\"Armor: {self.name}, Defense: {self.defense}\"\n",
        "\n",
        "class Inventory:\n",
        "    def __init__(self, items):\n",
        "        self.items = items  # List of items as components\n",
        "\n",
        "    def get_inventory_info(self):\n",
        "        return \"Inventory: \" + ', '.join([str(item) for item in self.items])\n",
        "\n",
        "class GameCharacter:\n",
        "    def __init__(self, name, weapon, armor, inventory):\n",
        "        self.name = name\n",
        "        self.weapon = weapon  # Weapon instance as a component\n",
        "        self.armor = armor  # Armor instance as a component\n",
        "        self.inventory = inventory  # Inventory instance as a component\n",
        "\n",
        "    def get_character_info(self):\n",
        "        weapon_info = self.weapon.get_weapon_info()\n",
        "        armor_info = self.armor.get_armor_info()\n",
        "        inventory_info = self.inventory.get_inventory_info()\n",
        "\n",
        "        return f\"Character: {self.name}\\n{weapon_info}\\n{armor_info}\\n{inventory_info}\"\n",
        "\n",
        "# Creating Weapon and Armor instances\n",
        "sword = Weapon(\"Sword\", 20)\n",
        "shield = Armor(\"Shield\", 15)\n",
        "\n",
        "# Creating Inventory instance with items\n",
        "items = [\"Health Potion\", \"Mana Potion\", \"Gold Coin\"]\n",
        "inventory = Inventory(items)\n",
        "\n",
        "# Creating a GameCharacter object with composition\n",
        "game_character = GameCharacter(\"Hero\", sword, shield, inventory)\n",
        "\n",
        "# Displaying character information\n",
        "print(game_character.get_character_info())\n"
      ],
      "metadata": {
        "colab": {
          "base_uri": "https://localhost:8080/"
        },
        "id": "8BAyjvcAW6ZV",
        "outputId": "5cb13123-78bc-483b-d744-2980eae7b9e2"
      },
      "execution_count": null,
      "outputs": [
        {
          "output_type": "stream",
          "name": "stdout",
          "text": [
            "Character: Hero\n",
            "Weapon: Sword, Damage: 20\n",
            "Armor: Shield, Defense: 15\n",
            "Inventory: Health Potion, Mana Potion, Gold Coin\n"
          ]
        }
      ]
    },
    {
      "cell_type": "markdown",
      "source": [
        "### Q.No.17. Describe the concept of \"aggregation\" in composition and how it differs from simple composition."
      ],
      "metadata": {
        "id": "zgzmrOoDXkoe"
      }
    },
    {
      "cell_type": "markdown",
      "source": [
        "### ANS:\n",
        "\n",
        "Both aggregation and composition are ways to represent relationships between objects in object-oriented programming, but they differ in terms of ownership and dependency:\n",
        "\n",
        "**Composition:**\n",
        "\n",
        "* Represents a strong \"part-of\" relationship.\n",
        "* The child object (part) cannot exist independently of the parent object (whole).\n",
        "* When the parent object is destroyed, the child object is also destroyed.\n",
        "* The parent object has complete ownership and control over the child object.\n",
        "* Example: A car engine is a part of a car and cannot exist independently. When the car is scrapped, the engine is also scrapped.\n",
        "\n",
        "**Aggregation:**\n",
        "\n",
        "* Represents a weaker \"has-a\" relationship.\n",
        "* The child object can exist independently of the parent object.\n",
        "* Deleting the parent object does not necessarily affect the child object.\n",
        "* The parent object does not have complete ownership of the child object.\n",
        "* Example: A university has students, but the students can exist and study elsewhere. Deleting the university wouldn't automatically remove the students.\n",
        "\n",
        "**Key Differences:**\n",
        "\n",
        "- **Dependency:** In composition, the child object is dependent on the parent, while in aggregation, the child object is independent.\n",
        "- **Ownership:** In composition, the parent object owns the child object, while in aggregation, the parent doesn't have complete ownership.\n",
        "- **Lifetime:** In composition, the child object's lifetime is tied to the parent object's. In aggregation, the child object can have its own independent lifetime.\n",
        "\n",
        "**Think of it this way:**\n",
        "\n",
        "* **Composition:** Like a Lego brick attached to a bigger Lego structure. If you remove the structure, the brick cannot exist by itself.\n",
        "* **Aggregation:** Like a book kept on a shelf. You can remove the book from the shelf and it still exists.\n",
        "\n",
        "The choice between composition and aggregation depends on the specific relationship between the objects in your program. If the child object can't exist without the parent, use composition. If the child object can exist independently, use aggregation.\n",
        "\n",
        "I hope this clarifies the concept of aggregation and its differences from simple composition!"
      ],
      "metadata": {
        "id": "Gf_FnJMqYAux"
      }
    },
    {
      "cell_type": "markdown",
      "source": [
        "### Q.No.18. Create a Python class for a house, using composition to represent rooms, furniture, and appliances."
      ],
      "metadata": {
        "id": "8etBONM2YFlZ"
      }
    },
    {
      "cell_type": "code",
      "source": [
        "class House:\n",
        "    def __init__(self, rooms):\n",
        "        self.rooms = rooms\n",
        "\n",
        "class Room:\n",
        "    def __init__(self, name, furniture, appliances):\n",
        "        self.name = name\n",
        "        self.furniture = furniture\n",
        "        self.appliances = appliances\n",
        "\n",
        "class Furniture:\n",
        "    def __init__(self, name, material):\n",
        "        self.name = name\n",
        "        self.material = material\n",
        "\n",
        "class Appliance:\n",
        "    def __init__(self, name, power_consumption):\n",
        "        self.name = name\n",
        "        self.power_consumption = power_consumption"
      ],
      "metadata": {
        "id": "owFc000KYMt5"
      },
      "execution_count": null,
      "outputs": []
    },
    {
      "cell_type": "code",
      "source": [
        "sofa = Furniture('Sofa', 'Leather')\n",
        "tv = Appliance('TV', 100)\n",
        "bed = Furniture('Bed', 'Wood')\n",
        "lamp = Appliance('Lamp', 50)\n",
        "kitchen_appliances = [Appliance('Oven', 200), Appliance('Refrigerator', 150)]\n",
        "kitchen_furniture = [Furniture('Table', 'Wood'), Furniture('Chairs', 'Plastic')]\n",
        "kitchen = Room('Kitchen', kitchen_furniture, kitchen_appliances)\n",
        "bedroom = Room('Bedroom', [bed, sofa], [tv, lamp])\n",
        "rooms = [kitchen, bedroom]\n",
        "\n",
        "house = House(rooms)"
      ],
      "metadata": {
        "id": "eclve4F9YsFj"
      },
      "execution_count": null,
      "outputs": []
    },
    {
      "cell_type": "markdown",
      "source": [
        "### Q.No.19. How can you achieve flexibility in composed objects by allowing them to be replaced or modified dynamically at runtime."
      ],
      "metadata": {
        "id": "hieUUgC5eY8C"
      }
    },
    {
      "cell_type": "markdown",
      "source": [
        "### ANS:\n",
        "\n",
        " **Here are several techniques to achieve flexibility in composed objects by enabling dynamic replacement or modification at runtime:**\n",
        "\n",
        "**1. Dependency Injection:**\n",
        "\n",
        "- **Definition:** Objects are provided with their dependencies (other objects they need) from external sources, rather than creating them internally.\n",
        "- **Benefits:**\n",
        "    - Loose coupling between objects, promoting flexibility and testability.\n",
        "    - Easy to swap different implementations of dependencies at runtime.\n",
        "    - Facilitates configuration and testing by injecting mock objects.\n",
        "\n",
        "**2. Strategy Pattern:**\n",
        "\n",
        "- **Definition:** Encapsulates algorithms or behaviors within interchangeable objects, allowing the selection of a specific strategy at runtime.\n",
        "- **Benefits:**\n",
        "    - Separates behavior from the context in which it's used, promoting reusability and flexibility.\n",
        "    - Changes in behavior can be made without modifying client code.\n",
        "    - Enables dynamic switching of algorithms or policies.\n",
        "\n",
        "**3. Decorator Pattern:**\n",
        "\n",
        "- **Definition:** Dynamically adds or modifies behavior of an object by wrapping it in a decorator object.\n",
        "- **Benefits:**\n",
        "    - Extends functionality without altering original object's structure.\n",
        "    - Multiple decorators can be stacked to compose behaviors.\n",
        "\n",
        "**4. Reflection (Language-Specific):**\n",
        "\n",
        "- **Definition:** Inspects or modifies the structure and behavior of objects at runtime.\n",
        "- **Benefits:**\n",
        "    - Powerful for dynamic object manipulation and metaprogramming.\n",
        "    - Can be used to change properties, invoke methods, or create new objects at runtime.\n",
        "\n",
        "**5. Proxy Pattern:**\n",
        "\n",
        "- **Definition:** Provides a surrogate or placeholder for another object, controlling access to it.\n",
        "- **Benefits:**\n",
        "    - Can intercept calls to the original object, enabling dynamic behavior changes or additional logic.\n",
        "    - Useful for lazy loading, access control, or logging.\n",
        "\n",
        "**6. Interceptors/Aspect-Oriented Programming (AOP):**\n",
        "\n",
        "- **Definition:** Intercepts calls to objects, allowing for cross-cutting concerns to be addressed transparently.\n",
        "- **Benefits:**\n",
        "    - Separates concerns like logging, security, or transaction management from core business logic.\n",
        "    - Can dynamically weave behavior into objects at runtime.\n",
        "\n",
        "**Choice of technique depends on:**\n",
        "\n",
        "- Programming language capabilities\n",
        "- Specific use case\n",
        "- Desired level of flexibility and maintainability"
      ],
      "metadata": {
        "id": "Y_NnCiB4lKF5"
      }
    },
    {
      "cell_type": "markdown",
      "source": [
        "### Q.No.20. Create a Python class for a social media application, using composition to represent users, posts, and comments."
      ],
      "metadata": {
        "id": "U1ZZU2tnlPn2"
      }
    },
    {
      "cell_type": "code",
      "source": [
        "class Comment:\n",
        "    def __init__(self, text, user):\n",
        "        self.text = text\n",
        "        self.user = user\n",
        "\n",
        "    def get_comment_info(self):\n",
        "        return f\"Comment: '{self.text}' by {self.user.name}\"\n",
        "\n",
        "class Post:\n",
        "    def __init__(self, content, user):\n",
        "        self.content = content\n",
        "        self.user = user\n",
        "        self.comments = []  # List of Comment instances as components\n",
        "\n",
        "    def add_comment(self, comment):\n",
        "        self.comments.append(comment)\n",
        "\n",
        "    def get_post_info(self):\n",
        "        return f\"Post: '{self.content}' by {self.user.name}\\nComments: \" + ', '.join([comment.get_comment_info() for comment in self.comments])\n",
        "\n",
        "class User:\n",
        "    def __init__(self, name):\n",
        "        self.name = name\n",
        "\n",
        "class SocialMediaApp:\n",
        "    def __init__(self):\n",
        "        self.users = []  # List of User instances as components\n",
        "        self.posts = []  # List of Post instances as components\n",
        "\n",
        "    def add_user(self, user):\n",
        "        self.users.append(user)\n",
        "\n",
        "    def add_post(self, post):\n",
        "        self.posts.append(post)\n",
        "\n",
        "    def get_app_info(self):\n",
        "        return '\\n'.join([post.get_post_info() for post in self.posts])\n",
        "\n",
        "# Creating User instances\n",
        "user1 = User(\"Alice\")\n",
        "user2 = User(\"Bob\")\n",
        "\n",
        "# Creating Comment instances\n",
        "comment1 = Comment(\"Great post!\", user2)\n",
        "comment2 = Comment(\"Interesting content\", user1)\n",
        "\n",
        "# Creating Post instances and adding comments\n",
        "post1 = Post(\"Hello, world!\", user1)\n",
        "post1.add_comment(comment1)\n",
        "post2 = Post(\"Python programming is awesome!\", user2)\n",
        "post2.add_comment(comment2)\n",
        "\n",
        "# Creating a SocialMediaApp object with composition\n",
        "social_media_app = SocialMediaApp()\n",
        "social_media_app.add_user(user1)\n",
        "social_media_app.add_user(user2)\n",
        "social_media_app.add_post(post1)\n",
        "social_media_app.add_post(post2)\n",
        "\n",
        "# Displaying app information\n",
        "print(social_media_app.get_app_info())\n"
      ],
      "metadata": {
        "colab": {
          "base_uri": "https://localhost:8080/"
        },
        "id": "7tyNtMDFlqKV",
        "outputId": "d2cba6e5-a149-4da5-f7b3-ae479836c4fa"
      },
      "execution_count": 6,
      "outputs": [
        {
          "output_type": "stream",
          "name": "stdout",
          "text": [
            "Post: 'Hello, world!' by Alice\n",
            "Comments: Comment: 'Great post!' by Bob\n",
            "Post: 'Python programming is awesome!' by Bob\n",
            "Comments: Comment: 'Interesting content' by Alice\n"
          ]
        }
      ]
    },
    {
      "cell_type": "code",
      "source": [],
      "metadata": {
        "id": "dEd0NTLemrB7"
      },
      "execution_count": null,
      "outputs": []
    }
  ],
  "metadata": {
    "colab": {
      "provenance": []
    },
    "kernelspec": {
      "display_name": "Python 3",
      "name": "python3"
    },
    "language_info": {
      "name": "python"
    }
  },
  "nbformat": 4,
  "nbformat_minor": 0
}