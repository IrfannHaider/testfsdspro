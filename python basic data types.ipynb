{
 "cells": [
  {
   "cell_type": "code",
   "execution_count": 1,
   "id": "0b66b23b-adf6-40e1-9aa2-ef6ced1a19de",
   "metadata": {},
   "outputs": [],
   "source": [
    "l=[]"
   ]
  },
  {
   "cell_type": "code",
   "execution_count": 2,
   "id": "b183c41b-44ff-47f8-9bdb-04142acc78f5",
   "metadata": {},
   "outputs": [
    {
     "name": "stdout",
     "output_type": "stream",
     "text": [
      "[]\n"
     ]
    }
   ],
   "source": [
    "print(l)"
   ]
  },
  {
   "cell_type": "code",
   "execution_count": 3,
   "id": "8cd2f93f-63ea-48fe-9e42-f9c2dda6d392",
   "metadata": {},
   "outputs": [
    {
     "data": {
      "text/plain": [
       "list"
      ]
     },
     "execution_count": 3,
     "metadata": {},
     "output_type": "execute_result"
    }
   ],
   "source": [
    "type(l)"
   ]
  },
  {
   "cell_type": "code",
   "execution_count": 4,
   "id": "bde506d7-4fa8-4a4f-bf35-33b029558177",
   "metadata": {},
   "outputs": [],
   "source": [
    "l1=[22,34.5,3+5j,'irfan',True,[1,2,3,4]]"
   ]
  },
  {
   "cell_type": "code",
   "execution_count": 5,
   "id": "56c6961a-bb9e-46d0-9274-48dcbab0d317",
   "metadata": {},
   "outputs": [
    {
     "data": {
      "text/plain": [
       "[22, 34.5, (3+5j), 'irfan', True, [1, 2, 3, 4]]"
      ]
     },
     "execution_count": 5,
     "metadata": {},
     "output_type": "execute_result"
    }
   ],
   "source": [
    "l1"
   ]
  },
  {
   "cell_type": "code",
   "execution_count": 6,
   "id": "0123974e-18ca-4ae1-9344-2e6ecd4be14a",
   "metadata": {},
   "outputs": [],
   "source": [
    "s='^^^32@#'"
   ]
  },
  {
   "cell_type": "code",
   "execution_count": 7,
   "id": "62b1d222-1d92-4d81-b9ef-631e596590fd",
   "metadata": {},
   "outputs": [
    {
     "data": {
      "text/plain": [
       "'^^^32@#'"
      ]
     },
     "execution_count": 7,
     "metadata": {},
     "output_type": "execute_result"
    }
   ],
   "source": [
    "s"
   ]
  },
  {
   "cell_type": "code",
   "execution_count": 10,
   "id": "37a31a4d-0b6a-4569-b3d4-8b1f2a701bd3",
   "metadata": {},
   "outputs": [
    {
     "data": {
      "text/plain": [
       "22"
      ]
     },
     "execution_count": 10,
     "metadata": {},
     "output_type": "execute_result"
    }
   ],
   "source": [
    "l1[0]"
   ]
  },
  {
   "cell_type": "code",
   "execution_count": 12,
   "id": "c2c47e7e-65e0-4f19-aee2-83bb56e27af1",
   "metadata": {},
   "outputs": [
    {
     "data": {
      "text/plain": [
       "4"
      ]
     },
     "execution_count": 12,
     "metadata": {},
     "output_type": "execute_result"
    }
   ],
   "source": [
    "l1[-1][3]"
   ]
  },
  {
   "cell_type": "code",
   "execution_count": 13,
   "id": "34937cda-46f0-4764-8239-cbd7846ad957",
   "metadata": {},
   "outputs": [
    {
     "data": {
      "text/plain": [
       "[22, 34.5, (3+5j), 'irfan', True]"
      ]
     },
     "execution_count": 13,
     "metadata": {},
     "output_type": "execute_result"
    }
   ],
   "source": [
    "l1[0:5]"
   ]
  },
  {
   "cell_type": "code",
   "execution_count": 14,
   "id": "f8a95755-578d-4118-88a2-dcffafcaeeb5",
   "metadata": {},
   "outputs": [],
   "source": [
    "l2=[3,4,5,'pwskills','irfan']"
   ]
  },
  {
   "cell_type": "code",
   "execution_count": 15,
   "id": "c4c70b01-dfbd-4b41-90b1-25ada3bbba9a",
   "metadata": {},
   "outputs": [
    {
     "data": {
      "text/plain": [
       "[22, 34.5, (3+5j), 'irfan', True, [1, 2, 3, 4], 3, 4, 5, 'pwskills', 'irfan']"
      ]
     },
     "execution_count": 15,
     "metadata": {},
     "output_type": "execute_result"
    }
   ],
   "source": [
    "l1+l2"
   ]
  },
  {
   "cell_type": "code",
   "execution_count": 16,
   "id": "3fece95b-175b-4eae-a5ec-fd841f823c2d",
   "metadata": {},
   "outputs": [
    {
     "data": {
      "text/plain": [
       "['i', 'r', 'f', 'a', 'n']"
      ]
     },
     "execution_count": 16,
     "metadata": {},
     "output_type": "execute_result"
    }
   ],
   "source": [
    "list('irfan')"
   ]
  },
  {
   "cell_type": "code",
   "execution_count": 17,
   "id": "1076d267-4a4c-496e-a65d-0691fc7bc50a",
   "metadata": {},
   "outputs": [
    {
     "ename": "TypeError",
     "evalue": "'int' object is not iterable",
     "output_type": "error",
     "traceback": [
      "\u001b[0;31m---------------------------------------------------------------------------\u001b[0m",
      "\u001b[0;31mTypeError\u001b[0m                                 Traceback (most recent call last)",
      "Cell \u001b[0;32mIn[17], line 1\u001b[0m\n\u001b[0;32m----> 1\u001b[0m \u001b[38;5;28;43mlist\u001b[39;49m\u001b[43m(\u001b[49m\u001b[38;5;241;43m345\u001b[39;49m\u001b[43m)\u001b[49m\n",
      "\u001b[0;31mTypeError\u001b[0m: 'int' object is not iterable"
     ]
    }
   ],
   "source": [
    "list(345)"
   ]
  },
  {
   "cell_type": "code",
   "execution_count": 18,
   "id": "6c849ffa-bf0d-4fd3-8308-3d2fad8cd7d3",
   "metadata": {},
   "outputs": [
    {
     "data": {
      "text/plain": [
       "[3, 4, 5, 'pwskills', 'irfan', 3, 4, 5, 'pwskills', 'irfan']"
      ]
     },
     "execution_count": 18,
     "metadata": {},
     "output_type": "execute_result"
    }
   ],
   "source": [
    "l2*2"
   ]
  },
  {
   "cell_type": "code",
   "execution_count": 19,
   "id": "ed770a1d-8011-4390-b65e-7d6d2a1fde30",
   "metadata": {},
   "outputs": [
    {
     "data": {
      "text/plain": [
       "[3, 4, 5, 'pwskills', 'irfan']"
      ]
     },
     "execution_count": 19,
     "metadata": {},
     "output_type": "execute_result"
    }
   ],
   "source": [
    "l2"
   ]
  },
  {
   "cell_type": "code",
   "execution_count": 20,
   "id": "eacc27ff-972b-457e-a7b0-4c791a6946ac",
   "metadata": {},
   "outputs": [
    {
     "data": {
      "text/plain": [
       "3"
      ]
     },
     "execution_count": 20,
     "metadata": {},
     "output_type": "execute_result"
    }
   ],
   "source": [
    "l2[0]"
   ]
  },
  {
   "cell_type": "code",
   "execution_count": 21,
   "id": "557286cc-b631-421a-b255-eb6c046c2d2e",
   "metadata": {},
   "outputs": [],
   "source": [
    "l2[0]=300"
   ]
  },
  {
   "cell_type": "code",
   "execution_count": 22,
   "id": "7b2ee3a5-be48-4496-8745-d4ca3b3a87f8",
   "metadata": {},
   "outputs": [
    {
     "data": {
      "text/plain": [
       "[300, 4, 5, 'pwskills', 'irfan']"
      ]
     },
     "execution_count": 22,
     "metadata": {},
     "output_type": "execute_result"
    }
   ],
   "source": [
    "l2"
   ]
  },
  {
   "cell_type": "code",
   "execution_count": 23,
   "id": "b1362afc-3a55-46d6-acdc-9459fcc5f7b8",
   "metadata": {},
   "outputs": [],
   "source": [
    "t=(1,2,3,4,'irfan','pwskills',4+6j,True)"
   ]
  },
  {
   "cell_type": "code",
   "execution_count": 24,
   "id": "8153fe69-24ed-422e-9167-256091f0432c",
   "metadata": {},
   "outputs": [
    {
     "data": {
      "text/plain": [
       "tuple"
      ]
     },
     "execution_count": 24,
     "metadata": {},
     "output_type": "execute_result"
    }
   ],
   "source": [
    "type(t)"
   ]
  },
  {
   "cell_type": "code",
   "execution_count": 25,
   "id": "bd3ca99b-41ed-40be-8086-98bcc9c32f7b",
   "metadata": {},
   "outputs": [
    {
     "data": {
      "text/plain": [
       "1"
      ]
     },
     "execution_count": 25,
     "metadata": {},
     "output_type": "execute_result"
    }
   ],
   "source": [
    "t[0]"
   ]
  },
  {
   "cell_type": "code",
   "execution_count": 26,
   "id": "e8b404f6-11db-4f69-a8dc-3e859ae9dbce",
   "metadata": {},
   "outputs": [
    {
     "data": {
      "text/plain": [
       "(True, (4+6j), 'pwskills', 'irfan', 4, 3, 2, 1)"
      ]
     },
     "execution_count": 26,
     "metadata": {},
     "output_type": "execute_result"
    }
   ],
   "source": [
    "t[::-1]"
   ]
  },
  {
   "cell_type": "code",
   "execution_count": 27,
   "id": "a721aff5-603b-4c5e-b86a-08b7d685e0cd",
   "metadata": {},
   "outputs": [
    {
     "ename": "TypeError",
     "evalue": "'tuple' object does not support item assignment",
     "output_type": "error",
     "traceback": [
      "\u001b[0;31m---------------------------------------------------------------------------\u001b[0m",
      "\u001b[0;31mTypeError\u001b[0m                                 Traceback (most recent call last)",
      "Cell \u001b[0;32mIn[27], line 1\u001b[0m\n\u001b[0;32m----> 1\u001b[0m \u001b[43mt\u001b[49m\u001b[43m[\u001b[49m\u001b[38;5;241;43m0\u001b[39;49m\u001b[43m]\u001b[49m\u001b[38;5;241m=\u001b[39m\u001b[38;5;124m'\u001b[39m\u001b[38;5;124mirfan\u001b[39m\u001b[38;5;124m'\u001b[39m\n",
      "\u001b[0;31mTypeError\u001b[0m: 'tuple' object does not support item assignment"
     ]
    }
   ],
   "source": [
    "t[0]='irfan'"
   ]
  },
  {
   "cell_type": "code",
   "execution_count": 28,
   "id": "5e3e6ab2-31b2-408e-935b-25f6929db915",
   "metadata": {},
   "outputs": [],
   "source": [
    "l2[0]='irfan'"
   ]
  },
  {
   "cell_type": "code",
   "execution_count": 29,
   "id": "b970558f-6e5a-4072-b5a6-85e701501a39",
   "metadata": {},
   "outputs": [
    {
     "data": {
      "text/plain": [
       "['irfan', 4, 5, 'pwskills', 'irfan']"
      ]
     },
     "execution_count": 29,
     "metadata": {},
     "output_type": "execute_result"
    }
   ],
   "source": [
    "l2"
   ]
  },
  {
   "cell_type": "code",
   "execution_count": 30,
   "id": "82b364ac-6538-432c-b475-7ed4ef752f61",
   "metadata": {},
   "outputs": [],
   "source": [
    "t1=(5,6,7,8,9)"
   ]
  },
  {
   "cell_type": "code",
   "execution_count": 31,
   "id": "00349a14-2b8f-4d62-b262-192478b356c6",
   "metadata": {},
   "outputs": [
    {
     "data": {
      "text/plain": [
       "(1, 2, 3, 4, 'irfan', 'pwskills', (4+6j), True, 5, 6, 7, 8, 9)"
      ]
     },
     "execution_count": 31,
     "metadata": {},
     "output_type": "execute_result"
    }
   ],
   "source": [
    "t+t1"
   ]
  },
  {
   "cell_type": "code",
   "execution_count": 32,
   "id": "1a672349-47f9-456d-aff2-1922d3aa4602",
   "metadata": {},
   "outputs": [
    {
     "data": {
      "text/plain": [
       "(5, 6, 7, 8, 9, 5, 6, 7, 8, 9)"
      ]
     },
     "execution_count": 32,
     "metadata": {},
     "output_type": "execute_result"
    }
   ],
   "source": [
    "t1*2"
   ]
  },
  {
   "cell_type": "code",
   "execution_count": 33,
   "id": "33406ace-58fd-4c21-a866-c6d8ee2cb5f4",
   "metadata": {},
   "outputs": [
    {
     "data": {
      "text/plain": [
       "('irfan', 4, 5, 'pwskills', 'irfan')"
      ]
     },
     "execution_count": 33,
     "metadata": {},
     "output_type": "execute_result"
    }
   ],
   "source": [
    "tuple(l2)"
   ]
  },
  {
   "cell_type": "code",
   "execution_count": 34,
   "id": "3b9dbbbc-ab08-4278-ac8f-97de290b2f54",
   "metadata": {},
   "outputs": [
    {
     "data": {
      "text/plain": [
       "[5, 6, 7, 8, 9]"
      ]
     },
     "execution_count": 34,
     "metadata": {},
     "output_type": "execute_result"
    }
   ],
   "source": [
    "list(t1)"
   ]
  },
  {
   "cell_type": "code",
   "execution_count": 35,
   "id": "b2becb00-159f-4f1f-ac5f-abff6a66f929",
   "metadata": {},
   "outputs": [
    {
     "data": {
      "text/plain": [
       "8"
      ]
     },
     "execution_count": 35,
     "metadata": {},
     "output_type": "execute_result"
    }
   ],
   "source": [
    "len(t)"
   ]
  },
  {
   "cell_type": "code",
   "execution_count": 37,
   "id": "55208b93-6092-49d0-bc82-07b42f80d0be",
   "metadata": {},
   "outputs": [
    {
     "data": {
      "text/plain": [
       "5"
      ]
     },
     "execution_count": 37,
     "metadata": {},
     "output_type": "execute_result"
    }
   ],
   "source": [
    "len('irfan')"
   ]
  },
  {
   "cell_type": "code",
   "execution_count": 38,
   "id": "8c745daa-ae8f-45c4-b3bb-b28e8f7e49cb",
   "metadata": {},
   "outputs": [],
   "source": [
    "s={}"
   ]
  },
  {
   "cell_type": "code",
   "execution_count": 39,
   "id": "617507c7-21ab-4cde-8b55-a2d1a371a5ae",
   "metadata": {},
   "outputs": [
    {
     "data": {
      "text/plain": [
       "dict"
      ]
     },
     "execution_count": 39,
     "metadata": {},
     "output_type": "execute_result"
    }
   ],
   "source": [
    "type(s)"
   ]
  },
  {
   "cell_type": "code",
   "execution_count": 40,
   "id": "a61ea7d1-761f-4280-954c-48e65b2a1478",
   "metadata": {},
   "outputs": [],
   "source": [
    "s1={1,2,3,4,5,5}"
   ]
  },
  {
   "cell_type": "code",
   "execution_count": 41,
   "id": "573e4b10-e345-4c9e-b4fc-75c7a79758d6",
   "metadata": {},
   "outputs": [
    {
     "data": {
      "text/plain": [
       "{1, 2, 3, 4, 5}"
      ]
     },
     "execution_count": 41,
     "metadata": {},
     "output_type": "execute_result"
    }
   ],
   "source": [
    "s1"
   ]
  },
  {
   "cell_type": "code",
   "execution_count": 42,
   "id": "d376e574-d32b-4c17-ac3c-b8df6406108d",
   "metadata": {},
   "outputs": [
    {
     "data": {
      "text/plain": [
       "set"
      ]
     },
     "execution_count": 42,
     "metadata": {},
     "output_type": "execute_result"
    }
   ],
   "source": [
    "type(s1)"
   ]
  },
  {
   "cell_type": "code",
   "execution_count": 43,
   "id": "963b9915-5801-42cf-a14e-8955320e0dc4",
   "metadata": {},
   "outputs": [
    {
     "data": {
      "text/plain": [
       "{1, 2, 3, 4, 5}"
      ]
     },
     "execution_count": 43,
     "metadata": {},
     "output_type": "execute_result"
    }
   ],
   "source": [
    "s1"
   ]
  },
  {
   "cell_type": "code",
   "execution_count": 44,
   "id": "ff1a1510-e002-4f7a-9861-b9af0d9a0cd2",
   "metadata": {},
   "outputs": [],
   "source": [
    "s2={'irfan','irfan','khan','khan'}"
   ]
  },
  {
   "cell_type": "code",
   "execution_count": 45,
   "id": "9555b501-aee4-4ce2-aca9-d30c081f1c75",
   "metadata": {},
   "outputs": [
    {
     "data": {
      "text/plain": [
       "{'irfan', 'khan'}"
      ]
     },
     "execution_count": 45,
     "metadata": {},
     "output_type": "execute_result"
    }
   ],
   "source": [
    "s2"
   ]
  },
  {
   "cell_type": "code",
   "execution_count": 46,
   "id": "0fc522db-7de5-498f-b7d2-9c25216aab68",
   "metadata": {},
   "outputs": [
    {
     "data": {
      "text/plain": [
       "['khan', 'irfan']"
      ]
     },
     "execution_count": 46,
     "metadata": {},
     "output_type": "execute_result"
    }
   ],
   "source": [
    "list(s2)"
   ]
  },
  {
   "cell_type": "code",
   "execution_count": 48,
   "id": "2d90913e-9235-4e17-a9ba-4919a8b645b7",
   "metadata": {},
   "outputs": [
    {
     "data": {
      "text/plain": [
       "{4, 5, 'irfan', 'pwskills'}"
      ]
     },
     "execution_count": 48,
     "metadata": {},
     "output_type": "execute_result"
    }
   ],
   "source": [
    "set(l2)"
   ]
  },
  {
   "cell_type": "code",
   "execution_count": 49,
   "id": "e5b9f97f-1fc1-43ff-abb2-278438dbb5d5",
   "metadata": {},
   "outputs": [
    {
     "data": {
      "text/plain": [
       "['irfan', 4, 5, 'pwskills', 'irfan']"
      ]
     },
     "execution_count": 49,
     "metadata": {},
     "output_type": "execute_result"
    }
   ],
   "source": [
    "l2"
   ]
  },
  {
   "cell_type": "code",
   "execution_count": 50,
   "id": "cd663e10-2361-4a78-aa27-3ecccb827638",
   "metadata": {},
   "outputs": [
    {
     "data": {
      "text/plain": [
       "[22, 34.5, (3+5j), 'irfan', True, [1, 2, 3, 4]]"
      ]
     },
     "execution_count": 50,
     "metadata": {},
     "output_type": "execute_result"
    }
   ],
   "source": [
    "l1"
   ]
  },
  {
   "cell_type": "code",
   "execution_count": 51,
   "id": "65753c72-cb5e-4a19-972d-ae0099831857",
   "metadata": {},
   "outputs": [
    {
     "ename": "TypeError",
     "evalue": "unhashable type: 'list'",
     "output_type": "error",
     "traceback": [
      "\u001b[0;31m---------------------------------------------------------------------------\u001b[0m",
      "\u001b[0;31mTypeError\u001b[0m                                 Traceback (most recent call last)",
      "Cell \u001b[0;32mIn[51], line 1\u001b[0m\n\u001b[0;32m----> 1\u001b[0m \u001b[38;5;28;43mset\u001b[39;49m\u001b[43m(\u001b[49m\u001b[43ml1\u001b[49m\u001b[43m)\u001b[49m\n",
      "\u001b[0;31mTypeError\u001b[0m: unhashable type: 'list'"
     ]
    }
   ],
   "source": [
    "set(l1)"
   ]
  },
  {
   "cell_type": "code",
   "execution_count": 52,
   "id": "1935debc-dce8-4d27-8a4a-bce81ffc69c9",
   "metadata": {},
   "outputs": [
    {
     "data": {
      "text/plain": [
       "('khan', 'irfan')"
      ]
     },
     "execution_count": 52,
     "metadata": {},
     "output_type": "execute_result"
    }
   ],
   "source": [
    "tuple(s2)"
   ]
  },
  {
   "cell_type": "code",
   "execution_count": 53,
   "id": "5534a976-cf54-4c05-9a7b-b3f380c73c7c",
   "metadata": {},
   "outputs": [
    {
     "data": {
      "text/plain": [
       "('irfan', 4, 5, 'pwskills', 'irfan')"
      ]
     },
     "execution_count": 53,
     "metadata": {},
     "output_type": "execute_result"
    }
   ],
   "source": [
    "tuple(l2)"
   ]
  },
  {
   "cell_type": "code",
   "execution_count": 54,
   "id": "0e5baa7d-c603-4fe6-904f-38c932576307",
   "metadata": {},
   "outputs": [
    {
     "ename": "TypeError",
     "evalue": "'set' object is not subscriptable",
     "output_type": "error",
     "traceback": [
      "\u001b[0;31m---------------------------------------------------------------------------\u001b[0m",
      "\u001b[0;31mTypeError\u001b[0m                                 Traceback (most recent call last)",
      "Cell \u001b[0;32mIn[54], line 1\u001b[0m\n\u001b[0;32m----> 1\u001b[0m \u001b[43ms2\u001b[49m\u001b[43m[\u001b[49m\u001b[38;5;241;43m0\u001b[39;49m\u001b[43m]\u001b[49m\n",
      "\u001b[0;31mTypeError\u001b[0m: 'set' object is not subscriptable"
     ]
    }
   ],
   "source": [
    "s2[0]"
   ]
  },
  {
   "cell_type": "code",
   "execution_count": 55,
   "id": "54e5b810-abba-4274-a0e7-f6ed0b83d3a7",
   "metadata": {},
   "outputs": [],
   "source": [
    "d={1,2,3,4,'irfan'}"
   ]
  },
  {
   "cell_type": "code",
   "execution_count": 56,
   "id": "957872e2-d4e0-4ae5-bf18-d207d17e6806",
   "metadata": {},
   "outputs": [
    {
     "data": {
      "text/plain": [
       "{1, 2, 3, 4, 'irfan'}"
      ]
     },
     "execution_count": 56,
     "metadata": {},
     "output_type": "execute_result"
    }
   ],
   "source": [
    "d"
   ]
  },
  {
   "cell_type": "code",
   "execution_count": 57,
   "id": "ed78551b-875e-4fe2-a43b-c147c87801c1",
   "metadata": {},
   "outputs": [],
   "source": [
    "d={'name':'irfan','age':33}"
   ]
  },
  {
   "cell_type": "code",
   "execution_count": 58,
   "id": "e692a423-3b66-438b-9a74-21f990d2ca99",
   "metadata": {},
   "outputs": [
    {
     "data": {
      "text/plain": [
       "{'name': 'irfan', 'age': 33}"
      ]
     },
     "execution_count": 58,
     "metadata": {},
     "output_type": "execute_result"
    }
   ],
   "source": [
    "d"
   ]
  },
  {
   "cell_type": "code",
   "execution_count": 59,
   "id": "f9652453-e27d-4d65-a1dd-3b74ba9aa90f",
   "metadata": {},
   "outputs": [
    {
     "data": {
      "text/plain": [
       "dict"
      ]
     },
     "execution_count": 59,
     "metadata": {},
     "output_type": "execute_result"
    }
   ],
   "source": [
    "type(d)"
   ]
  },
  {
   "cell_type": "code",
   "execution_count": 82,
   "id": "f6f6bc1b-5de9-4250-b5fc-3942be41f631",
   "metadata": {},
   "outputs": [],
   "source": [
    "d2={'name':'irfan','name':'amir','phone':3466}"
   ]
  },
  {
   "cell_type": "code",
   "execution_count": 83,
   "id": "5e8ff534-0e18-4989-a307-0bfe8201cbcd",
   "metadata": {},
   "outputs": [
    {
     "data": {
      "text/plain": [
       "{'name': 'amir', 'phone': 3466}"
      ]
     },
     "execution_count": 83,
     "metadata": {},
     "output_type": "execute_result"
    }
   ],
   "source": [
    "d2"
   ]
  },
  {
   "cell_type": "code",
   "execution_count": 84,
   "id": "e7b364c7-cd4d-455b-bd78-14484e425669",
   "metadata": {},
   "outputs": [
    {
     "ename": "TypeError",
     "evalue": "unhashable type: 'list'",
     "output_type": "error",
     "traceback": [
      "\u001b[0;31m---------------------------------------------------------------------------\u001b[0m",
      "\u001b[0;31mTypeError\u001b[0m                                 Traceback (most recent call last)",
      "Cell \u001b[0;32mIn[84], line 1\u001b[0m\n\u001b[0;32m----> 1\u001b[0m d3\u001b[38;5;241m=\u001b[39m{[\u001b[38;5;241m1\u001b[39m,\u001b[38;5;241m2\u001b[39m,\u001b[38;5;241m3\u001b[39m]:\u001b[38;5;124m'\u001b[39m\u001b[38;5;124mirfan\u001b[39m\u001b[38;5;124m'\u001b[39m}\n",
      "\u001b[0;31mTypeError\u001b[0m: unhashable type: 'list'"
     ]
    }
   ],
   "source": [
    "d3={[1,2,3]:'irfan'}"
   ]
  },
  {
   "cell_type": "code",
   "execution_count": 85,
   "id": "6724ed43-dcb2-457c-8486-d031ae8d333a",
   "metadata": {},
   "outputs": [],
   "source": [
    "d3={(1,2,3):'irfan'}"
   ]
  },
  {
   "cell_type": "code",
   "execution_count": 86,
   "id": "96ddbb69-7cd2-4e7b-8d23-77eed286b297",
   "metadata": {},
   "outputs": [
    {
     "data": {
      "text/plain": [
       "{(1, 2, 3): 'irfan'}"
      ]
     },
     "execution_count": 86,
     "metadata": {},
     "output_type": "execute_result"
    }
   ],
   "source": [
    "d3"
   ]
  },
  {
   "cell_type": "code",
   "execution_count": 87,
   "id": "c4f17607-b0c2-4b5e-a179-52736bddac18",
   "metadata": {},
   "outputs": [
    {
     "ename": "TypeError",
     "evalue": "unhashable type: 'set'",
     "output_type": "error",
     "traceback": [
      "\u001b[0;31m---------------------------------------------------------------------------\u001b[0m",
      "\u001b[0;31mTypeError\u001b[0m                                 Traceback (most recent call last)",
      "Cell \u001b[0;32mIn[87], line 1\u001b[0m\n\u001b[0;32m----> 1\u001b[0m d3\u001b[38;5;241m=\u001b[39m{{\u001b[38;5;241m1\u001b[39m,\u001b[38;5;241m2\u001b[39m,\u001b[38;5;241m3\u001b[39m}:\u001b[38;5;124m'\u001b[39m\u001b[38;5;124mirfan\u001b[39m\u001b[38;5;124m'\u001b[39m}\n",
      "\u001b[0;31mTypeError\u001b[0m: unhashable type: 'set'"
     ]
    }
   ],
   "source": [
    "d3={{1,2,3}:'irfan'}"
   ]
  },
  {
   "cell_type": "code",
   "execution_count": 88,
   "id": "5086d53a-0f21-48c1-985e-76b0d53489c2",
   "metadata": {},
   "outputs": [],
   "source": [
    "d3={'%fsd':'sudh'}"
   ]
  },
  {
   "cell_type": "code",
   "execution_count": 96,
   "id": "7518903a-cf02-49d3-9a6a-3aecb6551704",
   "metadata": {},
   "outputs": [
    {
     "ename": "SyntaxError",
     "evalue": "closing parenthesis '}' does not match opening parenthesis '[' (3841144416.py, line 2)",
     "output_type": "error",
     "traceback": [
      "\u001b[0;36m  Cell \u001b[0;32mIn[96], line 2\u001b[0;36m\u001b[0m\n\u001b[0;31m    'price':{35000,20000,15000,11000,1500},'duration':1,'access':1,'syllabus':{'python'['core python','mongodb','ml':['supervised','unsupervised','semis']}\u001b[0m\n\u001b[0m                                                                                                                                                          ^\u001b[0m\n\u001b[0;31mSyntaxError\u001b[0m\u001b[0;31m:\u001b[0m closing parenthesis '}' does not match opening parenthesis '['\n"
     ]
    }
   ],
   "source": [
    "d4={'course':['java','dsa','cloud','ds'],'mentor':('sudh','krish','kiswa','surganshu','sunny'),\n",
    "  'price':{35000,20000,15000,11000,1500},'duration':1,'access':1,'syllabus':{'python'['core python','mongodb','ml':['supervised','unsupervised','semis']}"
   ]
  },
  {
   "cell_type": "code",
   "execution_count": 90,
   "id": "883f685c-6578-494d-b259-f990e90fd9f7",
   "metadata": {},
   "outputs": [
    {
     "data": {
      "text/plain": [
       "{'course': ['java', 'dsa', 'cloud', 'ds'],\n",
       " 'mentor': ('sudh', 'krish', 'kiswa', 'surganshu', 'sunny'),\n",
       " 'price': {1500, 11000, 15000, 20000, 35000},\n",
       " 'duration': 1,\n",
       " 'access': 1}"
      ]
     },
     "execution_count": 90,
     "metadata": {},
     "output_type": "execute_result"
    }
   ],
   "source": [
    "d4"
   ]
  },
  {
   "cell_type": "code",
   "execution_count": 91,
   "id": "59c2551b-e3e9-48b2-8255-9dde3d2800f2",
   "metadata": {},
   "outputs": [
    {
     "data": {
      "text/plain": [
       "['java', 'dsa', 'cloud', 'ds']"
      ]
     },
     "execution_count": 91,
     "metadata": {},
     "output_type": "execute_result"
    }
   ],
   "source": [
    "\n",
    "d4['course']"
   ]
  },
  {
   "cell_type": "code",
   "execution_count": 92,
   "id": "0592a050-2605-40f7-84ca-c3b834e17341",
   "metadata": {},
   "outputs": [
    {
     "data": {
      "text/plain": [
       "('sudh', 'krish', 'kiswa', 'surganshu', 'sunny')"
      ]
     },
     "execution_count": 92,
     "metadata": {},
     "output_type": "execute_result"
    }
   ],
   "source": [
    "d4['mentor']"
   ]
  },
  {
   "cell_type": "code",
   "execution_count": 93,
   "id": "bbbe39db-a5dd-4cc4-a0df-4e37f1135ad9",
   "metadata": {},
   "outputs": [
    {
     "data": {
      "text/plain": [
       "{'name': 'amir', 'phone': 3466}"
      ]
     },
     "execution_count": 93,
     "metadata": {},
     "output_type": "execute_result"
    }
   ],
   "source": [
    "d2"
   ]
  },
  {
   "cell_type": "code",
   "execution_count": 94,
   "id": "28303326-a162-4285-832b-549a12a216da",
   "metadata": {},
   "outputs": [],
   "source": [
    "d2['name']='sudhanshu'"
   ]
  },
  {
   "cell_type": "code",
   "execution_count": 95,
   "id": "bd2cdf56-9c23-40de-a769-92deaa5d604b",
   "metadata": {},
   "outputs": [
    {
     "data": {
      "text/plain": [
       "{'name': 'sudhanshu', 'phone': 3466}"
      ]
     },
     "execution_count": 95,
     "metadata": {},
     "output_type": "execute_result"
    }
   ],
   "source": [
    "d2"
   ]
  },
  {
   "cell_type": "code",
   "execution_count": 97,
   "id": "9cf0972e-ed94-4e7f-a809-9780719e42d3",
   "metadata": {},
   "outputs": [
    {
     "ename": "SyntaxError",
     "evalue": "invalid decimal literal (1770607092.py, line 1)",
     "output_type": "error",
     "traceback": [
      "\u001b[0;36m  Cell \u001b[0;32mIn[97], line 1\u001b[0;36m\u001b[0m\n\u001b[0;31m    1.string 2.list 3.tuple 4.set 5.dict\u001b[0m\n\u001b[0m     ^\u001b[0m\n\u001b[0;31mSyntaxError\u001b[0m\u001b[0;31m:\u001b[0m invalid decimal literal\n"
     ]
    }
   ],
   "source": [
    "1.string 2.list 3.tuple 4.set 5.dict"
   ]
  },
  {
   "cell_type": "code",
   "execution_count": 99,
   "id": "66e2bd3f-348f-489a-bade-9a16a814b07b",
   "metadata": {},
   "outputs": [],
   "source": [
    "s1='pwskills'"
   ]
  },
  {
   "cell_type": "code",
   "execution_count": 102,
   "id": "bfd0aaf7-11c4-4e6f-a3cc-2fff3a409130",
   "metadata": {},
   "outputs": [
    {
     "data": {
      "text/plain": [
       "2"
      ]
     },
     "execution_count": 102,
     "metadata": {},
     "output_type": "execute_result"
    }
   ],
   "source": [
    "s1.count('l')"
   ]
  },
  {
   "cell_type": "code",
   "execution_count": 103,
   "id": "3b787ecb-e300-496c-956e-e2a852300675",
   "metadata": {},
   "outputs": [
    {
     "data": {
      "text/plain": [
       "4"
      ]
     },
     "execution_count": 103,
     "metadata": {},
     "output_type": "execute_result"
    }
   ],
   "source": [
    "s1.find('i')"
   ]
  },
  {
   "cell_type": "code",
   "execution_count": 104,
   "id": "bc8ae12d-22ed-4140-858c-3cafdfc1e1b7",
   "metadata": {},
   "outputs": [
    {
     "data": {
      "text/plain": [
       "2"
      ]
     },
     "execution_count": 104,
     "metadata": {},
     "output_type": "execute_result"
    }
   ],
   "source": [
    "s1.index('s')"
   ]
  },
  {
   "cell_type": "code",
   "execution_count": 106,
   "id": "96c15b28-eea5-4834-ae09-8ba36900e0ee",
   "metadata": {},
   "outputs": [
    {
     "data": {
      "text/plain": [
       "-1"
      ]
     },
     "execution_count": 106,
     "metadata": {},
     "output_type": "execute_result"
    }
   ],
   "source": [
    "s1.find('z')"
   ]
  },
  {
   "cell_type": "code",
   "execution_count": 107,
   "id": "8ac8562b-4308-4e38-9b8c-19c7702ec295",
   "metadata": {},
   "outputs": [
    {
     "data": {
      "text/plain": [
       "'PWSKILLS'"
      ]
     },
     "execution_count": 107,
     "metadata": {},
     "output_type": "execute_result"
    }
   ],
   "source": [
    "s1.upper()"
   ]
  },
  {
   "cell_type": "code",
   "execution_count": 108,
   "id": "4b910a1f-05c8-4494-8332-4a6796921893",
   "metadata": {},
   "outputs": [
    {
     "data": {
      "text/plain": [
       "'pwskills'"
      ]
     },
     "execution_count": 108,
     "metadata": {},
     "output_type": "execute_result"
    }
   ],
   "source": [
    "s1.lower()"
   ]
  },
  {
   "cell_type": "code",
   "execution_count": 109,
   "id": "3a9ba1a6-99a2-4109-9b9a-5a54deeb2624",
   "metadata": {},
   "outputs": [
    {
     "data": {
      "text/plain": [
       "'Pwskills'"
      ]
     },
     "execution_count": 109,
     "metadata": {},
     "output_type": "execute_result"
    }
   ],
   "source": [
    "s1.title()"
   ]
  },
  {
   "cell_type": "code",
   "execution_count": 111,
   "id": "d7b393e7-090e-4c81-a756-a7e673e82347",
   "metadata": {},
   "outputs": [],
   "source": [
    "s2='My Name is Irfan haider'"
   ]
  },
  {
   "cell_type": "code",
   "execution_count": 112,
   "id": "27ec8ae8-8c09-401f-b24f-d9bd4e01c47c",
   "metadata": {},
   "outputs": [
    {
     "data": {
      "text/plain": [
       "'My Name Is Irfan Haider'"
      ]
     },
     "execution_count": 112,
     "metadata": {},
     "output_type": "execute_result"
    }
   ],
   "source": [
    "s2.title()"
   ]
  },
  {
   "cell_type": "code",
   "execution_count": 114,
   "id": "2df90fcf-adb4-4046-97ec-5169c829ebab",
   "metadata": {},
   "outputs": [
    {
     "data": {
      "text/plain": [
       "['My', 'Name', 'is', 'Irfan', 'haider']"
      ]
     },
     "execution_count": 114,
     "metadata": {},
     "output_type": "execute_result"
    }
   ],
   "source": [
    "s2.split()"
   ]
  },
  {
   "cell_type": "code",
   "execution_count": 115,
   "id": "67634ed9-bdab-423c-9c4c-e1ad90171220",
   "metadata": {},
   "outputs": [],
   "source": [
    "s3='My,name,is,irfan,haider'"
   ]
  },
  {
   "cell_type": "code",
   "execution_count": 117,
   "id": "1e16d358-23c1-438d-83e0-451c1f2c8d88",
   "metadata": {},
   "outputs": [
    {
     "data": {
      "text/plain": [
       "['My,name,', 's,', 'rfan,ha', 'der']"
      ]
     },
     "execution_count": 117,
     "metadata": {},
     "output_type": "execute_result"
    }
   ],
   "source": [
    "s3.split('i')"
   ]
  },
  {
   "cell_type": "code",
   "execution_count": 119,
   "id": "ce7f16cd-2bb8-4573-bb15-7f3c1bb9c016",
   "metadata": {},
   "outputs": [],
   "source": [
    "s4='this is my fst pyt class,i attempting this 4th time'"
   ]
  },
  {
   "cell_type": "code",
   "execution_count": 120,
   "id": "a935496c-5377-4a5a-840f-12fa33a297ec",
   "metadata": {},
   "outputs": [
    {
     "data": {
      "text/plain": [
       "'thi'"
      ]
     },
     "execution_count": 120,
     "metadata": {},
     "output_type": "execute_result"
    }
   ],
   "source": [
    "s4.split('s')[0]"
   ]
  },
  {
   "cell_type": "code",
   "execution_count": 121,
   "id": "ea796bcd-5118-4f06-a9a9-86562c5ac945",
   "metadata": {},
   "outputs": [
    {
     "data": {
      "text/plain": [
       "'My Aame is Irfan haider'"
      ]
     },
     "execution_count": 121,
     "metadata": {},
     "output_type": "execute_result"
    }
   ],
   "source": [
    "s2.replace('N','A')"
   ]
  },
  {
   "cell_type": "code",
   "execution_count": 122,
   "id": "ec308504-4b6f-4a3d-8389-4887d065faa1",
   "metadata": {},
   "outputs": [
    {
     "data": {
      "text/plain": [
       "'My Name is Irfan haider'"
      ]
     },
     "execution_count": 122,
     "metadata": {},
     "output_type": "execute_result"
    }
   ],
   "source": [
    "s2"
   ]
  },
  {
   "cell_type": "code",
   "execution_count": 124,
   "id": "6bd11f53-3034-49aa-b3e9-b9b468877f9d",
   "metadata": {},
   "outputs": [
    {
     "data": {
      "text/plain": [
       "'ffpwskillsf'"
      ]
     },
     "execution_count": 124,
     "metadata": {},
     "output_type": "execute_result"
    }
   ],
   "source": [
    "s1.center(11,'f')"
   ]
  },
  {
   "cell_type": "code",
   "execution_count": 127,
   "id": "42bcd872-1433-4f8b-b912-c1e2b3867c93",
   "metadata": {},
   "outputs": [],
   "source": [
    "s5='      pwskills'"
   ]
  },
  {
   "cell_type": "code",
   "execution_count": 128,
   "id": "7e34bf07-f3f5-4fb8-8ec1-b5866fe8af1f",
   "metadata": {},
   "outputs": [
    {
     "data": {
      "text/plain": [
       "'      pwskills'"
      ]
     },
     "execution_count": 128,
     "metadata": {},
     "output_type": "execute_result"
    }
   ],
   "source": [
    "s5.rstrip()"
   ]
  },
  {
   "cell_type": "code",
   "execution_count": 129,
   "id": "d50a3f3e-44e5-413a-9036-b457db52d2e9",
   "metadata": {},
   "outputs": [
    {
     "data": {
      "text/plain": [
       "'pwskills'"
      ]
     },
     "execution_count": 129,
     "metadata": {},
     "output_type": "execute_result"
    }
   ],
   "source": [
    "s5.lstrip()"
   ]
  },
  {
   "cell_type": "code",
   "execution_count": 130,
   "id": "bf666ba8-6a3a-478e-abef-7442d0b0ddb1",
   "metadata": {},
   "outputs": [
    {
     "data": {
      "text/plain": [
       "'pwskills'"
      ]
     },
     "execution_count": 130,
     "metadata": {},
     "output_type": "execute_result"
    }
   ],
   "source": [
    "s1"
   ]
  },
  {
   "cell_type": "code",
   "execution_count": 131,
   "id": "1989969f-ca5d-4302-a9b3-5e641a442977",
   "metadata": {},
   "outputs": [
    {
     "data": {
      "text/plain": [
       "True"
      ]
     },
     "execution_count": 131,
     "metadata": {},
     "output_type": "execute_result"
    }
   ],
   "source": [
    "s1.isalnum()"
   ]
  },
  {
   "cell_type": "code",
   "execution_count": 132,
   "id": "5f4fdc57-ba33-45b4-bd80-1247329ce382",
   "metadata": {},
   "outputs": [
    {
     "data": {
      "text/plain": [
       "True"
      ]
     },
     "execution_count": 132,
     "metadata": {},
     "output_type": "execute_result"
    }
   ],
   "source": [
    "s1.isalpha()"
   ]
  },
  {
   "cell_type": "code",
   "execution_count": 133,
   "id": "9733911c-090d-44bb-9fdf-88c73fe0c8fd",
   "metadata": {},
   "outputs": [
    {
     "data": {
      "text/plain": [
       "False"
      ]
     },
     "execution_count": 133,
     "metadata": {},
     "output_type": "execute_result"
    }
   ],
   "source": [
    "s1.isnumeric()\n"
   ]
  },
  {
   "cell_type": "code",
   "execution_count": 134,
   "id": "50dfe023-3dee-47d3-a382-0393d270a51f",
   "metadata": {},
   "outputs": [
    {
     "data": {
      "text/plain": [
       "[22, 34.5, (3+5j), 'irfan', True, [1, 2, 3, 4]]"
      ]
     },
     "execution_count": 134,
     "metadata": {},
     "output_type": "execute_result"
    }
   ],
   "source": [
    "l1"
   ]
  },
  {
   "cell_type": "code",
   "execution_count": 135,
   "id": "d72dec67-b446-476a-b4b6-169d792a041b",
   "metadata": {},
   "outputs": [
    {
     "data": {
      "text/plain": [
       "['irfan', 4, 5, 'pwskills', 'irfan']"
      ]
     },
     "execution_count": 135,
     "metadata": {},
     "output_type": "execute_result"
    }
   ],
   "source": [
    "l2"
   ]
  },
  {
   "cell_type": "code",
   "execution_count": 136,
   "id": "9f1c6f0e-df4c-4117-8bed-5b33b7ba293f",
   "metadata": {},
   "outputs": [],
   "source": [
    "l1.append('khan')"
   ]
  },
  {
   "cell_type": "code",
   "execution_count": 137,
   "id": "a1ec81c1-1d22-4683-a452-1df41e9ca459",
   "metadata": {},
   "outputs": [
    {
     "data": {
      "text/plain": [
       "[22, 34.5, (3+5j), 'irfan', True, [1, 2, 3, 4], 'khan']"
      ]
     },
     "execution_count": 137,
     "metadata": {},
     "output_type": "execute_result"
    }
   ],
   "source": [
    "l1"
   ]
  },
  {
   "cell_type": "code",
   "execution_count": 138,
   "id": "8395b7e4-6648-434f-89ea-9a23970163e7",
   "metadata": {},
   "outputs": [],
   "source": [
    "l1.insert(2,'pwskills')"
   ]
  },
  {
   "cell_type": "code",
   "execution_count": 139,
   "id": "7e9f69ee-778d-4379-afa3-c56174f55766",
   "metadata": {},
   "outputs": [
    {
     "data": {
      "text/plain": [
       "[22, 34.5, 'pwskills', (3+5j), 'irfan', True, [1, 2, 3, 4], 'khan']"
      ]
     },
     "execution_count": 139,
     "metadata": {},
     "output_type": "execute_result"
    }
   ],
   "source": [
    "l1"
   ]
  },
  {
   "cell_type": "code",
   "execution_count": 140,
   "id": "a1f2ef20-0c54-443b-b510-9248b1d4aea9",
   "metadata": {},
   "outputs": [],
   "source": [
    "l2.extend(l1)"
   ]
  },
  {
   "cell_type": "code",
   "execution_count": 141,
   "id": "a52a709c-36e9-4541-a1ad-e7cb18ab2751",
   "metadata": {},
   "outputs": [
    {
     "data": {
      "text/plain": [
       "['irfan',\n",
       " 4,\n",
       " 5,\n",
       " 'pwskills',\n",
       " 'irfan',\n",
       " 22,\n",
       " 34.5,\n",
       " 'pwskills',\n",
       " (3+5j),\n",
       " 'irfan',\n",
       " True,\n",
       " [1, 2, 3, 4],\n",
       " 'khan']"
      ]
     },
     "execution_count": 141,
     "metadata": {},
     "output_type": "execute_result"
    }
   ],
   "source": [
    "l2"
   ]
  },
  {
   "cell_type": "code",
   "execution_count": 142,
   "id": "1061db72-5247-4333-868d-e285700310a7",
   "metadata": {},
   "outputs": [],
   "source": [
    "l2.extend('khan')"
   ]
  },
  {
   "cell_type": "code",
   "execution_count": 143,
   "id": "50bda593-815b-40bc-9e5c-39b1532ba312",
   "metadata": {},
   "outputs": [
    {
     "data": {
      "text/plain": [
       "['irfan',\n",
       " 4,\n",
       " 5,\n",
       " 'pwskills',\n",
       " 'irfan',\n",
       " 22,\n",
       " 34.5,\n",
       " 'pwskills',\n",
       " (3+5j),\n",
       " 'irfan',\n",
       " True,\n",
       " [1, 2, 3, 4],\n",
       " 'khan',\n",
       " 'k',\n",
       " 'h',\n",
       " 'a',\n",
       " 'n']"
      ]
     },
     "execution_count": 143,
     "metadata": {},
     "output_type": "execute_result"
    }
   ],
   "source": [
    "l2"
   ]
  },
  {
   "cell_type": "code",
   "execution_count": 144,
   "id": "37525af3-db38-4b96-9416-491ddded61d7",
   "metadata": {},
   "outputs": [],
   "source": [
    "l2.append('hay')"
   ]
  },
  {
   "cell_type": "code",
   "execution_count": 145,
   "id": "2a0f4e98-a10b-4fb2-9cbd-a5a4d7e659ac",
   "metadata": {},
   "outputs": [
    {
     "data": {
      "text/plain": [
       "['irfan',\n",
       " 4,\n",
       " 5,\n",
       " 'pwskills',\n",
       " 'irfan',\n",
       " 22,\n",
       " 34.5,\n",
       " 'pwskills',\n",
       " (3+5j),\n",
       " 'irfan',\n",
       " True,\n",
       " [1, 2, 3, 4],\n",
       " 'khan',\n",
       " 'k',\n",
       " 'h',\n",
       " 'a',\n",
       " 'n',\n",
       " 'hay']"
      ]
     },
     "execution_count": 145,
     "metadata": {},
     "output_type": "execute_result"
    }
   ],
   "source": [
    "l2"
   ]
  },
  {
   "cell_type": "code",
   "execution_count": 146,
   "id": "45210533-7452-4d8f-93ca-c59094e7baaf",
   "metadata": {},
   "outputs": [],
   "source": [
    "l3=[1,2,3,4]\n"
   ]
  },
  {
   "cell_type": "code",
   "execution_count": 148,
   "id": "54034ad4-ec6d-45f4-b270-8fa103f3c7b0",
   "metadata": {},
   "outputs": [],
   "source": [
    "\n",
    "l3.append([1,2,3])"
   ]
  },
  {
   "cell_type": "code",
   "execution_count": 149,
   "id": "70467c85-3017-4c16-801b-9364be03c01c",
   "metadata": {},
   "outputs": [
    {
     "data": {
      "text/plain": [
       "[1, 2, 3, 4, [1, 2, 3]]"
      ]
     },
     "execution_count": 149,
     "metadata": {},
     "output_type": "execute_result"
    }
   ],
   "source": [
    "l3"
   ]
  },
  {
   "cell_type": "code",
   "execution_count": 150,
   "id": "f1f97232-e082-447f-b4db-360c95dfc27c",
   "metadata": {},
   "outputs": [
    {
     "data": {
      "text/plain": [
       "[1, 2, 3]"
      ]
     },
     "execution_count": 150,
     "metadata": {},
     "output_type": "execute_result"
    }
   ],
   "source": [
    "l3.pop()"
   ]
  },
  {
   "cell_type": "code",
   "execution_count": 151,
   "id": "5c849180-935f-44ff-bb0e-b7bbf3e0c34f",
   "metadata": {},
   "outputs": [
    {
     "data": {
      "text/plain": [
       "[1, 2, 3, 4]"
      ]
     },
     "execution_count": 151,
     "metadata": {},
     "output_type": "execute_result"
    }
   ],
   "source": [
    "l3"
   ]
  },
  {
   "cell_type": "code",
   "execution_count": 152,
   "id": "cfc54937-2183-44d6-a6fb-7673ba9ab812",
   "metadata": {},
   "outputs": [
    {
     "data": {
      "text/plain": [
       "2"
      ]
     },
     "execution_count": 152,
     "metadata": {},
     "output_type": "execute_result"
    }
   ],
   "source": [
    "l3.pop(1)"
   ]
  },
  {
   "cell_type": "code",
   "execution_count": 153,
   "id": "a4a5a151-dba8-4771-999e-bb0a2a99f775",
   "metadata": {},
   "outputs": [],
   "source": [
    "del l3"
   ]
  },
  {
   "cell_type": "code",
   "execution_count": 154,
   "id": "a74b122e-626a-43b5-b393-a48df53d4f97",
   "metadata": {},
   "outputs": [
    {
     "ename": "NameError",
     "evalue": "name 'l3' is not defined",
     "output_type": "error",
     "traceback": [
      "\u001b[0;31m---------------------------------------------------------------------------\u001b[0m",
      "\u001b[0;31mNameError\u001b[0m                                 Traceback (most recent call last)",
      "Cell \u001b[0;32mIn[154], line 1\u001b[0m\n\u001b[0;32m----> 1\u001b[0m \u001b[43ml3\u001b[49m\n",
      "\u001b[0;31mNameError\u001b[0m: name 'l3' is not defined"
     ]
    }
   ],
   "source": [
    "l3"
   ]
  },
  {
   "cell_type": "code",
   "execution_count": 155,
   "id": "8feec1d5-9d37-4602-a087-eb17af674b9f",
   "metadata": {},
   "outputs": [
    {
     "data": {
      "text/plain": [
       "['irfan',\n",
       " 4,\n",
       " 5,\n",
       " 'pwskills',\n",
       " 'irfan',\n",
       " 22,\n",
       " 34.5,\n",
       " 'pwskills',\n",
       " (3+5j),\n",
       " 'irfan',\n",
       " True,\n",
       " [1, 2, 3, 4],\n",
       " 'khan',\n",
       " 'k',\n",
       " 'h',\n",
       " 'a',\n",
       " 'n',\n",
       " 'hay']"
      ]
     },
     "execution_count": 155,
     "metadata": {},
     "output_type": "execute_result"
    }
   ],
   "source": [
    "l2"
   ]
  },
  {
   "cell_type": "code",
   "execution_count": null,
   "id": "086682c4-95ea-4029-9611-f6a571341760",
   "metadata": {},
   "outputs": [],
   "source": []
  },
  {
   "cell_type": "code",
   "execution_count": 162,
   "id": "9e58c624-5898-41fb-8989-4a07d2d0278d",
   "metadata": {},
   "outputs": [],
   "source": [
    "l2.remove(4)"
   ]
  },
  {
   "cell_type": "code",
   "execution_count": 163,
   "id": "a3a5cefb-450c-48d3-ba6f-020a610c5897",
   "metadata": {},
   "outputs": [
    {
     "data": {
      "text/plain": [
       "['irfan',\n",
       " 5,\n",
       " 'pwskills',\n",
       " 'irfan',\n",
       " 22,\n",
       " 34.5,\n",
       " 'pwskills',\n",
       " (3+5j),\n",
       " 'irfan',\n",
       " True,\n",
       " [1, 2, 3, 4],\n",
       " 'khan',\n",
       " 'k',\n",
       " 'h',\n",
       " 'a',\n",
       " 'n',\n",
       " 'hay']"
      ]
     },
     "execution_count": 163,
     "metadata": {},
     "output_type": "execute_result"
    }
   ],
   "source": [
    "l2"
   ]
  },
  {
   "cell_type": "code",
   "execution_count": 159,
   "id": "411b05a2-a1fc-4af1-af82-3df0a8f91e63",
   "metadata": {},
   "outputs": [
    {
     "data": {
      "text/plain": [
       "[22, 34.5, 'pwskills', (3+5j), 'irfan', True, [1, 2, 3, 4], 'khan']"
      ]
     },
     "execution_count": 159,
     "metadata": {},
     "output_type": "execute_result"
    }
   ],
   "source": [
    "l1"
   ]
  },
  {
   "cell_type": "code",
   "execution_count": 160,
   "id": "14321751-d211-471a-b831-8e224a1e7e11",
   "metadata": {},
   "outputs": [],
   "source": [
    "l1.clear()"
   ]
  },
  {
   "cell_type": "code",
   "execution_count": 161,
   "id": "099b6bbf-d356-4722-8245-461f842282ef",
   "metadata": {},
   "outputs": [
    {
     "data": {
      "text/plain": [
       "[]"
      ]
     },
     "execution_count": 161,
     "metadata": {},
     "output_type": "execute_result"
    }
   ],
   "source": [
    "l1"
   ]
  },
  {
   "cell_type": "code",
   "execution_count": 164,
   "id": "46354fda-1107-4b38-b646-c155f1feffe3",
   "metadata": {},
   "outputs": [
    {
     "data": {
      "text/plain": [
       "1"
      ]
     },
     "execution_count": 164,
     "metadata": {},
     "output_type": "execute_result"
    }
   ],
   "source": [
    "l2.count('k')"
   ]
  },
  {
   "cell_type": "code",
   "execution_count": 167,
   "id": "a8c255ae-f0fb-461f-af0f-d9ae9a0047a4",
   "metadata": {},
   "outputs": [
    {
     "data": {
      "text/plain": [
       "4"
      ]
     },
     "execution_count": 167,
     "metadata": {},
     "output_type": "execute_result"
    }
   ],
   "source": [
    "l2.index(22)"
   ]
  },
  {
   "cell_type": "code",
   "execution_count": 182,
   "id": "b72a9538-d6e8-4685-b5cf-f3d00a99cfd4",
   "metadata": {},
   "outputs": [],
   "source": [
    "l5=[3,5,1,6,4,7,0,3,4,6]"
   ]
  },
  {
   "cell_type": "code",
   "execution_count": 169,
   "id": "ca5dd2af-9735-47f1-a92b-5d6df96c724e",
   "metadata": {},
   "outputs": [],
   "source": [
    "l5.sort()"
   ]
  },
  {
   "cell_type": "code",
   "execution_count": 170,
   "id": "a9b1f879-0739-4b86-8e96-5548510205db",
   "metadata": {},
   "outputs": [
    {
     "data": {
      "text/plain": [
       "[0, 1, 3, 4, 5, 6, 7]"
      ]
     },
     "execution_count": 170,
     "metadata": {},
     "output_type": "execute_result"
    }
   ],
   "source": [
    "l5"
   ]
  },
  {
   "cell_type": "code",
   "execution_count": 174,
   "id": "43704587-e3b7-4d71-ade5-e0c2872b19c6",
   "metadata": {},
   "outputs": [],
   "source": [
    "l6=['irfan','khan','haider','kulachi']"
   ]
  },
  {
   "cell_type": "code",
   "execution_count": 176,
   "id": "fdd33a34-bd94-479c-8b9d-12e5c693265c",
   "metadata": {},
   "outputs": [],
   "source": [
    "l6.sort(reverse=True)"
   ]
  },
  {
   "cell_type": "code",
   "execution_count": 177,
   "id": "b7e724ba-c3da-4351-ad6d-9f29c2e0db5f",
   "metadata": {},
   "outputs": [
    {
     "data": {
      "text/plain": [
       "['kulachi', 'khan', 'irfan', 'haider']"
      ]
     },
     "execution_count": 177,
     "metadata": {},
     "output_type": "execute_result"
    }
   ],
   "source": [
    "l6"
   ]
  },
  {
   "cell_type": "code",
   "execution_count": 178,
   "id": "51169372-55cd-467d-bf28-c1e319191edc",
   "metadata": {},
   "outputs": [
    {
     "data": {
      "text/plain": [
       "['kulachi', 'khan', 'irfan', 'haider']"
      ]
     },
     "execution_count": 178,
     "metadata": {},
     "output_type": "execute_result"
    }
   ],
   "source": [
    "l6"
   ]
  },
  {
   "cell_type": "code",
   "execution_count": 183,
   "id": "f8cf9acb-3f61-4a3c-ba69-a18b776a4793",
   "metadata": {},
   "outputs": [
    {
     "data": {
      "text/plain": [
       "[3, 5, 1, 6, 4, 7, 0, 3, 4, 6]"
      ]
     },
     "execution_count": 183,
     "metadata": {},
     "output_type": "execute_result"
    }
   ],
   "source": [
    "l5"
   ]
  },
  {
   "cell_type": "code",
   "execution_count": 188,
   "id": "ba4354b3-d81e-4329-9999-38b165a9f364",
   "metadata": {},
   "outputs": [],
   "source": [
    "list(set(l5)).sort()"
   ]
  },
  {
   "cell_type": "code",
   "execution_count": 190,
   "id": "8663bd8c-d8ad-4d5a-9a73-00b15c23c7a8",
   "metadata": {},
   "outputs": [
    {
     "data": {
      "text/plain": [
       "[3, 5, 1, 6, 4, 7, 0, 3, 4, 6]"
      ]
     },
     "execution_count": 190,
     "metadata": {},
     "output_type": "execute_result"
    }
   ],
   "source": [
    "l5"
   ]
  },
  {
   "cell_type": "code",
   "execution_count": 191,
   "id": "624158d8-dddb-4143-85b4-5f1afb6372a3",
   "metadata": {},
   "outputs": [],
   "source": [
    "l7=list(l5)"
   ]
  },
  {
   "cell_type": "code",
   "execution_count": 192,
   "id": "9021fb0d-4abb-45f8-bfd5-cee6476541ef",
   "metadata": {},
   "outputs": [],
   "source": [
    "l7.sort()"
   ]
  },
  {
   "cell_type": "code",
   "execution_count": 193,
   "id": "363cdbaa-3b6e-43a3-ba31-e652e875bf7f",
   "metadata": {},
   "outputs": [
    {
     "data": {
      "text/plain": [
       "[0, 1, 3, 3, 4, 4, 5, 6, 6, 7]"
      ]
     },
     "execution_count": 193,
     "metadata": {},
     "output_type": "execute_result"
    }
   ],
   "source": [
    "l7"
   ]
  },
  {
   "cell_type": "code",
   "execution_count": 195,
   "id": "54de5c75-04c4-448e-b4f3-eaacc8182b41",
   "metadata": {},
   "outputs": [],
   "source": [
    "l1=[2,3,4,5]"
   ]
  },
  {
   "cell_type": "code",
   "execution_count": 196,
   "id": "6e90b7cb-f3f1-46ff-8bd7-ba7eb4818994",
   "metadata": {},
   "outputs": [
    {
     "data": {
      "text/plain": [
       "[2, 3, 4, 5]"
      ]
     },
     "execution_count": 196,
     "metadata": {},
     "output_type": "execute_result"
    }
   ],
   "source": [
    "l1"
   ]
  },
  {
   "cell_type": "code",
   "execution_count": 207,
   "id": "11d1e53b-1b3b-4858-9b36-5b9ec156d675",
   "metadata": {},
   "outputs": [],
   "source": [
    "l0=l1"
   ]
  },
  {
   "cell_type": "code",
   "execution_count": 208,
   "id": "79c9c4e9-3606-46c1-bc07-d5b1754d4cfd",
   "metadata": {},
   "outputs": [
    {
     "data": {
      "text/plain": [
       "[2, 3, 4, 5]"
      ]
     },
     "execution_count": 208,
     "metadata": {},
     "output_type": "execute_result"
    }
   ],
   "source": [
    "l1"
   ]
  },
  {
   "cell_type": "code",
   "execution_count": 209,
   "id": "fec19d42-8952-4260-9101-b00f70389a8a",
   "metadata": {},
   "outputs": [
    {
     "data": {
      "text/plain": [
       "[2, 3, 4, 5]"
      ]
     },
     "execution_count": 209,
     "metadata": {},
     "output_type": "execute_result"
    }
   ],
   "source": [
    "l0"
   ]
  },
  {
   "cell_type": "code",
   "execution_count": 210,
   "id": "07f9c1d6-1533-46d4-9d84-8f526772a9e7",
   "metadata": {},
   "outputs": [],
   "source": [
    "l0[0]=400"
   ]
  },
  {
   "cell_type": "code",
   "execution_count": 211,
   "id": "c46b35a7-6c07-4157-9470-1c3d277336d7",
   "metadata": {},
   "outputs": [
    {
     "data": {
      "text/plain": [
       "[400, 3, 4, 5]"
      ]
     },
     "execution_count": 211,
     "metadata": {},
     "output_type": "execute_result"
    }
   ],
   "source": [
    "l0"
   ]
  },
  {
   "cell_type": "code",
   "execution_count": 212,
   "id": "367b0f40-0eb0-4191-9566-428c4efb53d9",
   "metadata": {},
   "outputs": [
    {
     "data": {
      "text/plain": [
       "[400, 3, 4, 5]"
      ]
     },
     "execution_count": 212,
     "metadata": {},
     "output_type": "execute_result"
    }
   ],
   "source": [
    "l1"
   ]
  },
  {
   "cell_type": "code",
   "execution_count": 213,
   "id": "a0edbde6-26d9-46d7-aa61-041245e75145",
   "metadata": {},
   "outputs": [],
   "source": [
    "l2=l0.copy()"
   ]
  },
  {
   "cell_type": "code",
   "execution_count": 214,
   "id": "740d1907-0de1-4233-8fc1-b909dde510e9",
   "metadata": {},
   "outputs": [
    {
     "data": {
      "text/plain": [
       "[400, 3, 4, 5]"
      ]
     },
     "execution_count": 214,
     "metadata": {},
     "output_type": "execute_result"
    }
   ],
   "source": [
    "l1"
   ]
  },
  {
   "cell_type": "code",
   "execution_count": 215,
   "id": "6f2ce3b5-16ac-47e8-82a9-79157f768a2f",
   "metadata": {},
   "outputs": [
    {
     "data": {
      "text/plain": [
       "[400, 3, 4, 5]"
      ]
     },
     "execution_count": 215,
     "metadata": {},
     "output_type": "execute_result"
    }
   ],
   "source": [
    "l0"
   ]
  },
  {
   "cell_type": "code",
   "execution_count": 216,
   "id": "473eaf56-3caf-4eff-b1f2-efa61d01adf2",
   "metadata": {},
   "outputs": [],
   "source": [
    "l0[1]=300"
   ]
  },
  {
   "cell_type": "code",
   "execution_count": 217,
   "id": "8b08488b-bbdb-4fa5-b77a-987732ed4a07",
   "metadata": {},
   "outputs": [
    {
     "data": {
      "text/plain": [
       "[400, 300, 4, 5]"
      ]
     },
     "execution_count": 217,
     "metadata": {},
     "output_type": "execute_result"
    }
   ],
   "source": [
    "l0"
   ]
  },
  {
   "cell_type": "code",
   "execution_count": 218,
   "id": "bcbca86a-50d5-4915-a6eb-67a8999b60e3",
   "metadata": {},
   "outputs": [
    {
     "data": {
      "text/plain": [
       "[400, 300, 4, 5]"
      ]
     },
     "execution_count": 218,
     "metadata": {},
     "output_type": "execute_result"
    }
   ],
   "source": [
    "l1"
   ]
  },
  {
   "cell_type": "code",
   "execution_count": 219,
   "id": "02fd9b13-3955-4eb0-886c-0ab52bd18076",
   "metadata": {},
   "outputs": [
    {
     "data": {
      "text/plain": [
       "[400, 3, 4, 5]"
      ]
     },
     "execution_count": 219,
     "metadata": {},
     "output_type": "execute_result"
    }
   ],
   "source": [
    "l2"
   ]
  },
  {
   "cell_type": "code",
   "execution_count": 220,
   "id": "332abe2d-2ffb-45b8-ab1b-842b277d4c81",
   "metadata": {},
   "outputs": [
    {
     "data": {
      "text/plain": [
       "(1, 2, 3, 4, 'irfan', 'pwskills', (4+6j), True)"
      ]
     },
     "execution_count": 220,
     "metadata": {},
     "output_type": "execute_result"
    }
   ],
   "source": [
    "t"
   ]
  },
  {
   "cell_type": "code",
   "execution_count": 221,
   "id": "aeabaaf5-2390-463c-9e0d-2963ce4948b1",
   "metadata": {},
   "outputs": [
    {
     "data": {
      "text/plain": [
       "1"
      ]
     },
     "execution_count": 221,
     "metadata": {},
     "output_type": "execute_result"
    }
   ],
   "source": [
    "t.count(4)"
   ]
  },
  {
   "cell_type": "code",
   "execution_count": 222,
   "id": "df6edfba-46a8-47dd-a412-bc2aac04bf2b",
   "metadata": {},
   "outputs": [
    {
     "data": {
      "text/plain": [
       "2"
      ]
     },
     "execution_count": 222,
     "metadata": {},
     "output_type": "execute_result"
    }
   ],
   "source": [
    "t.index(3)"
   ]
  },
  {
   "cell_type": "code",
   "execution_count": 223,
   "id": "2a2dd77d-02e8-406c-812d-6d66ef7b2962",
   "metadata": {},
   "outputs": [
    {
     "data": {
      "text/plain": [
       "'pwskills'"
      ]
     },
     "execution_count": 223,
     "metadata": {},
     "output_type": "execute_result"
    }
   ],
   "source": [
    "s1"
   ]
  },
  {
   "cell_type": "code",
   "execution_count": 227,
   "id": "11aa51e5-0786-46a0-b43d-0df604b2987b",
   "metadata": {},
   "outputs": [],
   "source": [
    "s={3,3,4,5,77,88,9,53,3,4,5,}"
   ]
  },
  {
   "cell_type": "code",
   "execution_count": 228,
   "id": "6344033c-74d2-46fb-8bf9-71c65afd6ffa",
   "metadata": {},
   "outputs": [],
   "source": [
    "s.add(4)"
   ]
  },
  {
   "cell_type": "code",
   "execution_count": 229,
   "id": "af3dd0c2-f9c3-454b-9328-65e92ca88504",
   "metadata": {},
   "outputs": [
    {
     "data": {
      "text/plain": [
       "{3, 4, 5, 9, 53, 77, 88}"
      ]
     },
     "execution_count": 229,
     "metadata": {},
     "output_type": "execute_result"
    }
   ],
   "source": [
    "s"
   ]
  },
  {
   "cell_type": "code",
   "execution_count": 232,
   "id": "7003c0d2-b7a7-48d2-ae2d-3f141d8d97b9",
   "metadata": {},
   "outputs": [],
   "source": [
    "s.discard(3)"
   ]
  },
  {
   "cell_type": "code",
   "execution_count": 233,
   "id": "85c528e3-a0fb-443c-b8ec-f200c420c8c6",
   "metadata": {},
   "outputs": [
    {
     "data": {
      "text/plain": [
       "{4, 5, 9, 53, 77, 88}"
      ]
     },
     "execution_count": 233,
     "metadata": {},
     "output_type": "execute_result"
    }
   ],
   "source": [
    "s"
   ]
  },
  {
   "cell_type": "code",
   "execution_count": 234,
   "id": "a0bb3d98-d2a1-4c90-ad36-6c74c58a3f90",
   "metadata": {},
   "outputs": [],
   "source": [
    "s.remove(53)"
   ]
  },
  {
   "cell_type": "code",
   "execution_count": 235,
   "id": "23d98cd6-cce6-4798-9c6d-e82732fc250e",
   "metadata": {},
   "outputs": [
    {
     "data": {
      "text/plain": [
       "{4, 5, 9, 77, 88}"
      ]
     },
     "execution_count": 235,
     "metadata": {},
     "output_type": "execute_result"
    }
   ],
   "source": [
    "s"
   ]
  },
  {
   "cell_type": "code",
   "execution_count": 240,
   "id": "c80bf911-d0e5-400c-af57-b43c09321da7",
   "metadata": {},
   "outputs": [
    {
     "data": {
      "text/plain": [
       "{'course': ['java', 'dsa', 'cloud', 'ds'],\n",
       " 'mentor': ('sudh', 'krish', 'kiswa', 'surganshu', 'sunny'),\n",
       " 'price': {1500, 11000, 15000, 20000, 35000},\n",
       " 'duration': 1,\n",
       " 'access': 1}"
      ]
     },
     "execution_count": 240,
     "metadata": {},
     "output_type": "execute_result"
    }
   ],
   "source": [
    "d4"
   ]
  },
  {
   "cell_type": "code",
   "execution_count": 242,
   "id": "fa9ee488-ae6a-499c-87bd-85df15e2e519",
   "metadata": {},
   "outputs": [
    {
     "data": {
      "text/plain": [
       "['course', 'mentor', 'price', 'duration', 'access']"
      ]
     },
     "execution_count": 242,
     "metadata": {},
     "output_type": "execute_result"
    }
   ],
   "source": [
    "list(d4.keys())"
   ]
  },
  {
   "cell_type": "code",
   "execution_count": 243,
   "id": "64f60333-a079-440c-a9c6-63c5a01b647e",
   "metadata": {},
   "outputs": [
    {
     "data": {
      "text/plain": [
       "[['java', 'dsa', 'cloud', 'ds'],\n",
       " ('sudh', 'krish', 'kiswa', 'surganshu', 'sunny'),\n",
       " {1500, 11000, 15000, 20000, 35000},\n",
       " 1,\n",
       " 1]"
      ]
     },
     "execution_count": 243,
     "metadata": {},
     "output_type": "execute_result"
    }
   ],
   "source": [
    "list(d4.values())"
   ]
  },
  {
   "cell_type": "code",
   "execution_count": 244,
   "id": "876b9cb8-b70c-44d8-8e44-a08039eb90d2",
   "metadata": {},
   "outputs": [
    {
     "data": {
      "text/plain": [
       "[('course', ['java', 'dsa', 'cloud', 'ds']),\n",
       " ('mentor', ('sudh', 'krish', 'kiswa', 'surganshu', 'sunny')),\n",
       " ('price', {1500, 11000, 15000, 20000, 35000}),\n",
       " ('duration', 1),\n",
       " ('access', 1)]"
      ]
     },
     "execution_count": 244,
     "metadata": {},
     "output_type": "execute_result"
    }
   ],
   "source": [
    "list(d4.items())"
   ]
  },
  {
   "cell_type": "code",
   "execution_count": 247,
   "id": "e561aa30-af4c-49b5-80bb-2ef58f7ad9b5",
   "metadata": {},
   "outputs": [
    {
     "data": {
      "text/plain": [
       "('sudh', 'krish', 'kiswa', 'surganshu', 'sunny')"
      ]
     },
     "execution_count": 247,
     "metadata": {},
     "output_type": "execute_result"
    }
   ],
   "source": [
    "d4.get('mentor')"
   ]
  },
  {
   "cell_type": "code",
   "execution_count": 249,
   "id": "441dd425-ce47-44ba-9253-d1787cafb23f",
   "metadata": {},
   "outputs": [
    {
     "data": {
      "text/plain": [
       "('sudh', 'krish', 'kiswa', 'surganshu', 'sunny')"
      ]
     },
     "execution_count": 249,
     "metadata": {},
     "output_type": "execute_result"
    }
   ],
   "source": [
    "d4['mentor']"
   ]
  },
  {
   "cell_type": "code",
   "execution_count": null,
   "id": "e3c410c0-65d8-4b99-8084-5ee070891ea8",
   "metadata": {},
   "outputs": [],
   "source": []
  }
 ],
 "metadata": {
  "kernelspec": {
   "display_name": "Python 3 (ipykernel)",
   "language": "python",
   "name": "python3"
  },
  "language_info": {
   "codemirror_mode": {
    "name": "ipython",
    "version": 3
   },
   "file_extension": ".py",
   "mimetype": "text/x-python",
   "name": "python",
   "nbconvert_exporter": "python",
   "pygments_lexer": "ipython3",
   "version": "3.10.8"
  }
 },
 "nbformat": 4,
 "nbformat_minor": 5
}
