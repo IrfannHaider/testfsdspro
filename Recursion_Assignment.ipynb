{
  "nbformat": 4,
  "nbformat_minor": 0,
  "metadata": {
    "colab": {
      "provenance": []
    },
    "kernelspec": {
      "name": "python3",
      "display_name": "Python 3"
    },
    "language_info": {
      "name": "python"
    }
  },
  "cells": [
    {
      "cell_type": "markdown",
      "source": [
        "## Q.1 Can you explain the logic and working of the Tower of Hanoi algorithm by writing a Java program? How does the recursion work, and how are the movements of disks between rods accomplished?"
      ],
      "metadata": {
        "id": "jQYSHNlF3L7l"
      }
    },
    {
      "cell_type": "code",
      "source": [
        "public class TowerOfHanoi {\n",
        "\n",
        "    public static void main(String[] args) {\n",
        "        int numDisks = 3; // Change this to adjust the number of disks\n",
        "        towerOfHanoi(numDisks, 'A', 'C', 'B');\n",
        "    }\n",
        "\n",
        "    static void towerOfHanoi(int n, char fromRod, char toRod, char auxRod) {\n",
        "        if (n == 1) {\n",
        "            System.out.println(\"Move disk 1 from \" + fromRod + \" to \" + toRod);\n",
        "            return;\n",
        "        }\n",
        "\n",
        "        // Move n-1 disks from the source rod to the auxiliary rod using the destination rod as auxiliary\n",
        "        towerOfHanoi(n - 1, fromRod, auxRod, toRod);\n",
        "\n",
        "        // Move the largest disk (disk n) from the source rod to the destination rod\n",
        "        System.out.println(\"Move disk \" + n + \" from \" + fromRod + \" to \" + toRod);\n",
        "\n",
        "        // Move n-1 disks from the auxiliary rod to the destination rod using the source rod as auxiliary\n",
        "        towerOfHanoi(n - 1, auxRod, toRod, fromRod);\n",
        "    }\n",
        "}\n"
      ],
      "metadata": {
        "id": "ycJzb5Bo0vJk"
      },
      "execution_count": null,
      "outputs": []
    },
    {
      "cell_type": "code",
      "source": [],
      "metadata": {
        "id": "Hj27tvL41kJT"
      },
      "execution_count": null,
      "outputs": []
    },
    {
      "cell_type": "markdown",
      "source": [
        "## Q.2 Given two strings word1 and word2, return the minimum number of operations required to convert word1 to word2."
      ],
      "metadata": {
        "id": "HswZLoRz3W-z"
      }
    },
    {
      "cell_type": "code",
      "source": [
        "def minDistance(word1: str, word2: str) -> int:\n",
        "    m, n = len(word1), len(word2)\n",
        "\n",
        "    # Create a table to store results of subproblems\n",
        "    dp = [[0] * (n + 1) for _ in range(m + 1)]\n",
        "\n",
        "    # Fill dp[][] in bottom-up manner\n",
        "    for i in range(m + 1):\n",
        "        for j in range(n + 1):\n",
        "            # If first string is empty, only option is to insert all characters of second string\n",
        "            if i == 0:\n",
        "                dp[i][j] = j\n",
        "            # If second string is empty, only option is to remove all characters of first string\n",
        "            elif j == 0:\n",
        "                dp[i][j] = i\n",
        "            # If last characters are same, ignore last characters and recur for remaining strings\n",
        "            elif word1[i - 1] == word2[j - 1]:\n",
        "                dp[i][j] = dp[i - 1][j - 1]\n",
        "            # If last characters are different, consider all possibilities and find minimum\n",
        "            else:\n",
        "                dp[i][j] = 1 + min(dp[i][j - 1],   # Insert\n",
        "                                   dp[i - 1][j],   # Remove\n",
        "                                   dp[i - 1][j - 1])  # Replace\n",
        "\n",
        "    return dp[m][n]\n",
        "\n",
        "# Example usage\n",
        "word1 = \"horse\"\n",
        "word2 = \"ros\"\n",
        "min_ops = minDistance(word1, word2)\n",
        "print(\"Minimum number of operations required:\", min_ops)\n"
      ],
      "metadata": {
        "colab": {
          "base_uri": "https://localhost:8080/"
        },
        "id": "oVz6AdGG2G2w",
        "outputId": "0d52b3b8-15cd-4ed8-92b1-a05e41bbf04d"
      },
      "execution_count": 4,
      "outputs": [
        {
          "output_type": "stream",
          "name": "stdout",
          "text": [
            "Minimum number of operations required: 3\n"
          ]
        }
      ]
    },
    {
      "cell_type": "markdown",
      "source": [
        "## Q. 3 Print the max value of the array [ 13, 1, -3, 22, 5]."
      ],
      "metadata": {
        "id": "68dACVPf36ak"
      }
    },
    {
      "cell_type": "code",
      "source": [
        "arr = [13,1,-3,22,5]\n",
        "max_value = max(arr)\n",
        "print(\"The maximum value in the array is : \",max_value)"
      ],
      "metadata": {
        "colab": {
          "base_uri": "https://localhost:8080/"
        },
        "id": "4BhCwPF32DLG",
        "outputId": "2a8e5de6-a418-48e8-822a-864bc97ec640"
      },
      "execution_count": 5,
      "outputs": [
        {
          "output_type": "stream",
          "name": "stdout",
          "text": [
            "The maximum value in the array is :  22\n"
          ]
        }
      ]
    },
    {
      "cell_type": "markdown",
      "source": [
        "## Q.4 Find the sum of the values of the array [92, 23, 15, -20, 10]."
      ],
      "metadata": {
        "id": "yQ5XM0kQ4TiO"
      }
    },
    {
      "cell_type": "code",
      "source": [
        "arr =[92,23,25,-20,10]\n",
        "sum_values = sum(arr)\n",
        "print(\"There  is sum of arr : \",sum_values)"
      ],
      "metadata": {
        "colab": {
          "base_uri": "https://localhost:8080/"
        },
        "id": "ECY4nEOW2Eta",
        "outputId": "42afd3ed-abc3-4541-f14d-3b63d44d2acc"
      },
      "execution_count": 6,
      "outputs": [
        {
          "output_type": "stream",
          "name": "stdout",
          "text": [
            "There  is sum of arr :  130\n"
          ]
        }
      ]
    },
    {
      "cell_type": "markdown",
      "source": [
        "## Q.5 Given a number n. Print if it is an armstrong number or not.An armstrong number is a number if the sum of every digit in that number raised to the power of total digits in that number is equal to the number."
      ],
      "metadata": {
        "id": "yrTnPBxe445J"
      }
    },
    {
      "cell_type": "code",
      "source": [
        "def is_armstrong_number(num):\n",
        "  \"\"\"\n",
        "  This function checks if a given number is an Armstrong number.\n",
        "\n",
        "  Args:\n",
        "      num: The number to check.\n",
        "\n",
        "  Returns:\n",
        "      True if the number is an Armstrong number, False otherwise.\n",
        "  \"\"\"\n",
        "\n",
        "  original_num = num  # Store the original number for comparison\n",
        "  num_of_digits = 0\n",
        "\n",
        "  # Count the number of digits\n",
        "  while num > 0:\n",
        "    num_of_digits += 1\n",
        "    num //= 10\n",
        "\n",
        "  sum = 0\n",
        "  num = original_num  # Reset num to the original value\n",
        "\n",
        "  # Calculate the sum of digits raised to the power of number of digits\n",
        "  while num > 0:\n",
        "    digit = num % 10\n",
        "    sum += digit ** num_of_digits\n",
        "    num //= 10\n",
        "\n",
        "  return sum == original_num\n",
        "\n",
        "# Example usage\n",
        "number = 153\n",
        "if is_armstrong_number(number):\n",
        "  print(number, \"is an Armstrong number.\")\n",
        "else:\n",
        "  print(number, \"is not an Armstrong number.\")\n"
      ],
      "metadata": {
        "colab": {
          "base_uri": "https://localhost:8080/"
        },
        "id": "mPqCxYkf2Fa-",
        "outputId": "8522f766-2128-4a63-d2cc-33b492636e96"
      },
      "execution_count": 7,
      "outputs": [
        {
          "output_type": "stream",
          "name": "stdout",
          "text": [
            "153 is an Armstrong number.\n"
          ]
        }
      ]
    },
    {
      "cell_type": "code",
      "source": [],
      "metadata": {
        "id": "32ZXH0lA2Dqw"
      },
      "execution_count": null,
      "outputs": []
    }
  ]
}