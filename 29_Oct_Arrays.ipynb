{
  "nbformat": 4,
  "nbformat_minor": 0,
  "metadata": {
    "colab": {
      "provenance": []
    },
    "kernelspec": {
      "name": "python3",
      "display_name": "Python 3"
    },
    "language_info": {
      "name": "python"
    }
  },
  "cells": [
    {
      "cell_type": "markdown",
      "source": [
        "## Q.No.11. Given an array, check if it contains any duplicates or not.\n",
        "\n",
        "arr = [1, 2, 4, 2, 5, 9]"
      ],
      "metadata": {
        "id": "rTFAl-u9pxa9"
      }
    },
    {
      "cell_type": "code",
      "source": [
        "def have_duplicates(arr):\n",
        "  seen = set()\n",
        "  for i in arr:\n",
        "    if i in seen:\n",
        "      return True\n",
        "    else:\n",
        "         seen.add(i)\n",
        "  return False\n",
        "\n",
        "arr = [1, 2, 4, 2, 5, 9]\n",
        "\n",
        "result = have_duplicates(arr)\n",
        "print(result)"
      ],
      "metadata": {
        "colab": {
          "base_uri": "https://localhost:8080/"
        },
        "id": "Hm79rUz0p6GN",
        "outputId": "e6042dbc-7372-47d1-9f88-06af208a6a2f"
      },
      "execution_count": null,
      "outputs": [
        {
          "output_type": "stream",
          "name": "stdout",
          "text": [
            "True\n"
          ]
        }
      ]
    },
    {
      "cell_type": "markdown",
      "source": [
        "## 2. Given an array and an integer k, rotate the array to the right by k steps.\n",
        "\n",
        "arr = [1, 2, 3, 4, 5, 6, 7] k = 3"
      ],
      "metadata": {
        "id": "iCHQB_MiGXUv"
      }
    },
    {
      "cell_type": "code",
      "source": [
        "def rotate_array(arr, k):\n",
        "    n = len(arr)\n",
        "    k = k % n  # Handle the case where k is larger than the array size\n",
        "\n",
        "    # Reverse the entire array\n",
        "    arr.reverse()\n",
        "\n",
        "    # Reverse the first k elements\n",
        "    arr[:k] = reversed(arr[:k])\n",
        "\n",
        "    # Reverse the remaining elements\n",
        "    arr[k:] = reversed(arr[k:])\n",
        "\n",
        "# Given array\n",
        "arr = [1, 2, 3, 4, 5, 6, 7]\n",
        "k = 3\n",
        "\n",
        "# Rotate the array\n",
        "rotate_array(arr, k)\n",
        "\n",
        "# Print the rotated array\n",
        "print(arr)\n"
      ],
      "metadata": {
        "id": "uaySWoj_qU98",
        "colab": {
          "base_uri": "https://localhost:8080/"
        },
        "outputId": "3b69859e-4118-49c3-842c-9fd45e4591cf"
      },
      "execution_count": 1,
      "outputs": [
        {
          "output_type": "stream",
          "name": "stdout",
          "text": [
            "[5, 6, 7, 1, 2, 3, 4]\n"
          ]
        }
      ]
    },
    {
      "cell_type": "markdown",
      "source": [
        "## 3. Reverse the given array in-place, means without using any extra data structure.\n",
        "\n",
        "arr = [2, 4, 5, 7, 9, 12]"
      ],
      "metadata": {
        "id": "B2JZAlv6Gn1q"
      }
    },
    {
      "cell_type": "code",
      "source": [
        "def reverse_array_in_place(arr):\n",
        "    left = 0\n",
        "    right = len(arr) - 1\n",
        "\n",
        "    while left < right:\n",
        "        # Swap elements at left and right pointers\n",
        "        arr[left], arr[right] = arr[right], arr[left]\n",
        "\n",
        "        # Move pointers towards the center\n",
        "        left += 1\n",
        "        right -= 1\n",
        "\n",
        "# Given array\n",
        "arr = [2, 4, 5, 7, 9, 12]\n",
        "\n",
        "# Reverse the array in-place\n",
        "reverse_array_in_place(arr)\n",
        "\n",
        "# Print the reversed array\n",
        "print(arr)\n"
      ],
      "metadata": {
        "colab": {
          "base_uri": "https://localhost:8080/"
        },
        "id": "030EZyP9Gp36",
        "outputId": "ab95a376-f06e-44b1-cbb4-365c31d0aff2"
      },
      "execution_count": 2,
      "outputs": [
        {
          "output_type": "stream",
          "name": "stdout",
          "text": [
            "[12, 9, 7, 5, 4, 2]\n"
          ]
        }
      ]
    },
    {
      "cell_type": "markdown",
      "source": [
        "## 4. Given an array of integers, find the maximum element in an array\n",
        "\n",
        " arr = [10, 5, 20, 8, 15]"
      ],
      "metadata": {
        "id": "jw95Dxt3IekI"
      }
    },
    {
      "cell_type": "code",
      "source": [
        "def find_max(arr):\n",
        "  \"\"\"\n",
        "  Finds the maximum element in an array.\n",
        "\n",
        "  Args:\n",
        "    arr: The input array.\n",
        "\n",
        "  Returns:\n",
        "    The maximum element in the array.\n",
        "  \"\"\"\n",
        "  # Start with the first element as the biggest one we've seen so far.\n",
        "  max_element = arr[0]\n",
        "\n",
        "  # Loop through the entire array.\n",
        "  for element in arr:\n",
        "    # If the current element is bigger than the current biggest one, update the biggest one.\n",
        "    if element > max_element:\n",
        "      max_element = element\n",
        "\n",
        "  # Return the maximum element found.\n",
        "  return max_element\n",
        "\n",
        "# Example usage\n",
        "arr = [10, 5, 20, 8, 15]\n",
        "max_value = find_max(arr)\n",
        "print(\"The maximum element in the array is:\", max_value)  # Output: The maximum element in the array is: 20\n"
      ],
      "metadata": {
        "colab": {
          "base_uri": "https://localhost:8080/"
        },
        "id": "JoCKH8A9Ih6C",
        "outputId": "9535f6a5-1261-47ca-dff7-af44ab2f8b97"
      },
      "execution_count": 3,
      "outputs": [
        {
          "output_type": "stream",
          "name": "stdout",
          "text": [
            "The maximum element in the array is: 20\n"
          ]
        }
      ]
    },
    {
      "cell_type": "markdown",
      "source": [
        "## 5. Given a sorted array, remove the duplicate element without using any extra data structure.\n",
        "\n",
        "arr = [1, 1, 2, 2, 2, 3, 3, 4, 4, 4, 5, 5]"
      ],
      "metadata": {
        "id": "CF8ztuTHJqz1"
      }
    },
    {
      "cell_type": "code",
      "source": [
        "def remove_duplicates(arr):\n",
        "  \"\"\"\n",
        "  Removes duplicate elements from a sorted array in-place.\n",
        "\n",
        "  Args:\n",
        "    arr: The input array.\n",
        "\n",
        "  Returns:\n",
        "    The number of unique elements in the array.\n",
        "  \"\"\"\n",
        "  # If the array is empty or has only one element, there are no duplicates.\n",
        "  if len(arr) <= 1:\n",
        "    return len(arr)\n",
        "\n",
        "  # Keep track of the index where the next unique element should be placed.\n",
        "  i = 1\n",
        "\n",
        "  # Loop through the array starting from the second element.\n",
        "  for j in range(1, len(arr)):\n",
        "    # If the current element is different from the previous element,\n",
        "    # it's unique, so copy it to the next unique element index.\n",
        "    if arr[j] != arr[j - 1]:\n",
        "      arr[i] = arr[j]\n",
        "      i += 1\n",
        "\n",
        "  # Return the number of unique elements (the index of the last unique element + 1).\n",
        "  return i\n",
        "\n",
        "# Example usage\n",
        "arr = [1, 1, 2, 2, 2, 3, 3, 4, 4, 4, 5, 5]\n",
        "unique_length = remove_duplicates(arr)\n",
        "print(\"The array after removing duplicates:\", arr[:unique_length])  # Output: The array after removing duplicates: [1, 2, 3, 4, 5]\n"
      ],
      "metadata": {
        "colab": {
          "base_uri": "https://localhost:8080/"
        },
        "id": "yAEP7_jlJ0xB",
        "outputId": "1853542a-5777-4139-966b-12542ff09903"
      },
      "execution_count": 4,
      "outputs": [
        {
          "output_type": "stream",
          "name": "stdout",
          "text": [
            "The array after removing duplicates: [1, 2, 3, 4, 5]\n"
          ]
        }
      ]
    },
    {
      "cell_type": "code",
      "source": [],
      "metadata": {
        "id": "cNMYcDGTLEXr"
      },
      "execution_count": null,
      "outputs": []
    }
  ]
}