{
 "cells": [
  {
   "cell_type": "code",
   "execution_count": 2,
   "id": "54461109-ca92-4e6d-89c4-ea37206e6080",
   "metadata": {},
   "outputs": [],
   "source": [
    "import numpy as np"
   ]
  },
  {
   "cell_type": "markdown",
   "id": "726a8517-4b93-463e-8bfe-36bad50b718d",
   "metadata": {},
   "source": [
    "## 1. What is a Python library? Why we use Python libraries?"
   ]
  },
  {
   "cell_type": "markdown",
   "id": "df1721fd-40b2-4723-8389-c04f3902021d",
   "metadata": {},
   "source": [
    "## ANS.\n",
    "Python library is a set of collection of functions.In which user have advantge to perform specific functions in very low time and reduce memory.\n"
   ]
  },
  {
   "cell_type": "markdown",
   "id": "4e392a8d-52d1-4d49-b490-7fb9ecc8f730",
   "metadata": {},
   "source": [
    "## 2. What is the difference between Numpy array and List?"
   ]
  },
  {
   "cell_type": "markdown",
   "id": "bd006a41-9521-454a-bb50-921f35255eab",
   "metadata": {},
   "source": [
    "## ANS.\n",
    "## NUMPY ARRAY\n",
    "Numpy arrays are multidimensional.\n",
    "\n",
    "Numpy arrays come with a wide range of mathematical operations \n",
    "\n",
    "Numpy arrays are homogenous.\n",
    "\n",
    "Numpy arrays offer advanced indexing and slicing capabilities, including boolean and fancy indexing.\n",
    "\n",
    "If you dealing with numerical data and need efficient compution the numpy arrays are the best choice.\n",
    "\n",
    "NUmpy arrays are more memory efficient because they use the same data type in a continuous location.\n",
    "\n",
    "## NUMPY LIST\n",
    "\n",
    "They are more general-purpose, have slow speed, and are not best for numerical purposes.\n",
    "\n",
    "They are less memory efficient.\n",
    "\n",
    "They do not natively support element-wise operations or broadcasting. You would need to use loops or list comprehensions for similar functionality, which is less efficient.\n",
    "\n",
    "They are heterogeneous, allowing elements of different data types to be stored in the same list.\n",
    "\n",
    "They can be nested to create multidimensional structures, but operations on them are less straightforward and less efficient.\n",
    "\n",
    "They support basic slicing and indexing but lack the advanced capabilities of NumPy arrays."
   ]
  },
  {
   "cell_type": "markdown",
   "id": "bff8c734-1835-4cd6-981c-9e1180f5604d",
   "metadata": {},
   "source": [
    "## 3. Find the shape, size and dimension of the following array?\r\n",
    "\r\n",
    "[[1, 2, 3, 4]\r\n",
    "\r\n",
    "[5, 6, 7, 8],\r\n",
    "\r\n",
    "[9, 10, 11, 12]]"
   ]
  },
  {
   "cell_type": "code",
   "execution_count": 4,
   "id": "9ac62dcc-63c7-495b-a184-46f693924e5b",
   "metadata": {},
   "outputs": [
    {
     "data": {
      "text/plain": [
       "array([[ 1,  2,  3,  4],\n",
       "       [ 5,  6,  7,  8],\n",
       "       [ 9, 10, 11, 12]])"
      ]
     },
     "execution_count": 4,
     "metadata": {},
     "output_type": "execute_result"
    }
   ],
   "source": [
    "arr=np.array([[1,2,3,4],[5,6,7,8],[9,10,11,12]])\n",
    "arr"
   ]
  },
  {
   "cell_type": "code",
   "execution_count": 5,
   "id": "237a26fd-ce39-4423-a228-fe096c6f6abb",
   "metadata": {},
   "outputs": [
    {
     "data": {
      "text/plain": [
       "12"
      ]
     },
     "execution_count": 5,
     "metadata": {},
     "output_type": "execute_result"
    }
   ],
   "source": [
    "arr.size"
   ]
  },
  {
   "cell_type": "code",
   "execution_count": 6,
   "id": "2385ec9a-300a-4fc6-b592-f616d93e4e61",
   "metadata": {},
   "outputs": [
    {
     "data": {
      "text/plain": [
       "(3, 4)"
      ]
     },
     "execution_count": 6,
     "metadata": {},
     "output_type": "execute_result"
    }
   ],
   "source": [
    "arr.shape"
   ]
  },
  {
   "cell_type": "code",
   "execution_count": 7,
   "id": "56614d44-7fc8-4dc1-aae6-c2a0dc6890fd",
   "metadata": {},
   "outputs": [
    {
     "data": {
      "text/plain": [
       "2"
      ]
     },
     "execution_count": 7,
     "metadata": {},
     "output_type": "execute_result"
    }
   ],
   "source": [
    "arr.ndim"
   ]
  },
  {
   "cell_type": "markdown",
   "id": "6695222b-966a-40b1-8294-ae1350f3e4d3",
   "metadata": {},
   "source": [
    "## 4. Write python code to access the first row of the following array?\r\n",
    "\r\n",
    "[[1, 2, 3, 4]\r\n",
    "\r\n",
    "[5, 6, 7, 8],\r\n",
    "\r\n",
    "[9, 10, 11, 12]]"
   ]
  },
  {
   "cell_type": "code",
   "execution_count": 8,
   "id": "847b801c-be1d-4252-8938-1a03bc0a002b",
   "metadata": {},
   "outputs": [
    {
     "data": {
      "text/plain": [
       "array([1, 2, 3, 4])"
      ]
     },
     "execution_count": 8,
     "metadata": {},
     "output_type": "execute_result"
    }
   ],
   "source": [
    "arr[0]"
   ]
  },
  {
   "cell_type": "markdown",
   "id": "ec9770eb-d054-4836-8520-ef091b263268",
   "metadata": {},
   "source": [
    "## 5. How do you access the element at the third row and fourth column from the given numpy array?\r\n",
    "\r\n",
    "[[1, 2, 3, 4]\r\n",
    "\r\n",
    "[5, 6, 7, 8],\r\n",
    "\r\n",
    "[9, 10, 11, 12]]"
   ]
  },
  {
   "cell_type": "code",
   "execution_count": 22,
   "id": "1e540bb2-c512-4777-b144-2b8db2a7e253",
   "metadata": {},
   "outputs": [
    {
     "data": {
      "text/plain": [
       "12"
      ]
     },
     "execution_count": 22,
     "metadata": {},
     "output_type": "execute_result"
    }
   ],
   "source": [
    "arr[2,3]"
   ]
  },
  {
   "cell_type": "markdown",
   "id": "883b6fca-fd6f-4891-8aba-b4fc0b4ad6e4",
   "metadata": {},
   "source": [
    "## 6. Write code to extract all odd-indexed elements from the given numpy array.\r\n",
    "\r\n",
    "[[1, 2, 3, 4]\r\n",
    "\r\n",
    "[5, 6, 7, 8],\r\n",
    "\r\n",
    "[9, 10, 11, 12]]"
   ]
  },
  {
   "cell_type": "code",
   "execution_count": 23,
   "id": "cbf89329-c9c6-45ee-803b-8c684f0dd543",
   "metadata": {},
   "outputs": [
    {
     "name": "stdout",
     "output_type": "stream",
     "text": [
      "[[6 8]]\n"
     ]
    }
   ],
   "source": [
    "import numpy as np\n",
    "\n",
    "# Creating the NumPy array\n",
    "array = np.array([\n",
    "    [1, 2, 3, 4],\n",
    "    [5, 6, 7, 8],\n",
    "    [9, 10, 11, 12]\n",
    "])\n",
    "\n",
    "# Extracting elements at odd-indexed rows and columns\n",
    "odd_indexed_elements = array[1::2, 1::2]\n",
    "\n",
    "print(odd_indexed_elements)\n"
   ]
  },
  {
   "cell_type": "markdown",
   "id": "5accfb15-b7bb-4e9d-97ff-2227fba8b030",
   "metadata": {},
   "source": [
    "## 7. How can you generate a random 3x3 matrix with values between 0 and 1?"
   ]
  },
  {
   "cell_type": "code",
   "execution_count": 24,
   "id": "0aca140c-bdef-4835-8808-55e7a28b45f6",
   "metadata": {},
   "outputs": [
    {
     "name": "stdout",
     "output_type": "stream",
     "text": [
      "[[0.89902536 0.82326342 0.89745978]\n",
      " [0.26326087 0.75324681 0.35509688]\n",
      " [0.07657373 0.20172925 0.66817184]]\n"
     ]
    }
   ],
   "source": [
    "random_matrix = np.random.rand(3, 3)\n",
    "\n",
    "print(random_matrix)"
   ]
  },
  {
   "cell_type": "markdown",
   "id": "51da391d-b773-4536-a0f8-11aaa204deae",
   "metadata": {},
   "source": [
    "## 8. Describe the difference between np.random.rand and np.random.randn?"
   ]
  },
  {
   "cell_type": "markdown",
   "id": "1bc43dec-086b-4157-b60f-5853b68daffb",
   "metadata": {},
   "source": [
    "## ANS:\n",
    "random. rand() produces random numbers from a uniform distribution over the interval [0, 1), while np. random. randn() generates random numbers from a standard normal distribution"
   ]
  },
  {
   "cell_type": "markdown",
   "id": "57f5342f-1593-4c7e-992a-2b47881d883f",
   "metadata": {},
   "source": [
    "## 9. Write code to increase the dimension of the following array.\r\n",
    "\r\n",
    "[[1, 2, 3, 4]\r\n",
    "\r\n",
    "[5, 6, 7, 8],\r\n",
    "\r\n",
    "[9, 10, 11, 12]]"
   ]
  },
  {
   "cell_type": "code",
   "execution_count": 25,
   "id": "4ce279f8-e72f-4bb3-8a38-30fdb0774d6f",
   "metadata": {},
   "outputs": [],
   "source": [
    "arr=np.array([[1,2,3,4],[5,6,7,8],[9,10,11,12]])"
   ]
  },
  {
   "cell_type": "code",
   "execution_count": 26,
   "id": "b54c829b-bf0f-45e1-a857-1d77226f5ed5",
   "metadata": {},
   "outputs": [
    {
     "data": {
      "text/plain": [
       "array([[ 1,  2,  3,  4],\n",
       "       [ 5,  6,  7,  8],\n",
       "       [ 9, 10, 11, 12]])"
      ]
     },
     "execution_count": 26,
     "metadata": {},
     "output_type": "execute_result"
    }
   ],
   "source": [
    "arr"
   ]
  },
  {
   "cell_type": "code",
   "execution_count": 27,
   "id": "686c6875-c05d-48c5-a978-b8d710278999",
   "metadata": {},
   "outputs": [],
   "source": [
    "arr=np.expand_dims(arr,axis=0)"
   ]
  },
  {
   "cell_type": "code",
   "execution_count": 28,
   "id": "3f41ec6e-dc4d-4947-a305-40425c70305d",
   "metadata": {},
   "outputs": [
    {
     "data": {
      "text/plain": [
       "array([[[ 1,  2,  3,  4],\n",
       "        [ 5,  6,  7,  8],\n",
       "        [ 9, 10, 11, 12]]])"
      ]
     },
     "execution_count": 28,
     "metadata": {},
     "output_type": "execute_result"
    }
   ],
   "source": [
    "arr"
   ]
  },
  {
   "cell_type": "code",
   "execution_count": 31,
   "id": "d3a69930-80b4-4be6-808c-5d6197e32f5f",
   "metadata": {},
   "outputs": [],
   "source": [
    "arr1=np.expand_dims(arr,axis=1)"
   ]
  },
  {
   "cell_type": "code",
   "execution_count": 32,
   "id": "0372d891-df68-449d-826b-1c59a7e7a244",
   "metadata": {},
   "outputs": [
    {
     "data": {
      "text/plain": [
       "array([[[[[ 1,  2,  3,  4],\n",
       "          [ 5,  6,  7,  8],\n",
       "          [ 9, 10, 11, 12]]]]])"
      ]
     },
     "execution_count": 32,
     "metadata": {},
     "output_type": "execute_result"
    }
   ],
   "source": [
    "arr1"
   ]
  },
  {
   "cell_type": "markdown",
   "id": "63d69482-fc0d-475d-91d0-ac20da5b38f7",
   "metadata": {},
   "source": [
    "## 10. How to transpose the following array in NumPy?"
   ]
  },
  {
   "cell_type": "code",
   "execution_count": 34,
   "id": "499eac0e-c1cb-49e0-9944-6de5f8ac9cc7",
   "metadata": {},
   "outputs": [],
   "source": [
    "arr=np.array([[1,2,3,4],[5,6,7,8],[9,10,11,12]])"
   ]
  },
  {
   "cell_type": "code",
   "execution_count": 35,
   "id": "c5043160-6cb2-4f66-aafc-77eff8edea4b",
   "metadata": {},
   "outputs": [
    {
     "data": {
      "text/plain": [
       "array([[ 1,  2,  3,  4],\n",
       "       [ 5,  6,  7,  8],\n",
       "       [ 9, 10, 11, 12]])"
      ]
     },
     "execution_count": 35,
     "metadata": {},
     "output_type": "execute_result"
    }
   ],
   "source": [
    "arr"
   ]
  },
  {
   "cell_type": "code",
   "execution_count": 36,
   "id": "14b835dc-2958-46ec-aee9-009907713d2b",
   "metadata": {},
   "outputs": [
    {
     "data": {
      "text/plain": [
       "array([[ 1,  5,  9],\n",
       "       [ 2,  6, 10],\n",
       "       [ 3,  7, 11],\n",
       "       [ 4,  8, 12]])"
      ]
     },
     "execution_count": 36,
     "metadata": {},
     "output_type": "execute_result"
    }
   ],
   "source": [
    "arr.T"
   ]
  },
  {
   "cell_type": "markdown",
   "id": "0903b1d9-8f5c-49a4-9d54-b1b4bd0de728",
   "metadata": {},
   "source": [
    "## 11. Consider the following matrix:\r\n",
    "\r\n",
    "Matrix A2 [[1, 2, 3, 4] [5, 6, 7, 8],[9, 10, 11, 12]]\r\n",
    "\r\n",
    "Matrix B2 [[1, 2, 3, 4] [5, 6, 7, 8],[9, 10, 11, 12]]"
   ]
  },
  {
   "cell_type": "code",
   "execution_count": 61,
   "id": "0bb42e33-28e3-4cac-b51a-5dd067cd354e",
   "metadata": {},
   "outputs": [],
   "source": [
    "\n",
    "Matrix_A2=np.array([[1, 2, 3, 4] ,[5, 6, 7, 8],[9, 10, 11, 12]])\n",
    "\n",
    "Matrix_B2 =np.array([[1, 2, 3,4], [5,6,7,8],[9,10,11,12]])"
   ]
  },
  {
   "cell_type": "code",
   "execution_count": 62,
   "id": "b4199a7d-8d80-4efc-9eb9-e2e2ce456495",
   "metadata": {},
   "outputs": [
    {
     "data": {
      "text/plain": [
       "array([[  1,   4,   9,  16],\n",
       "       [ 25,  36,  49,  64],\n",
       "       [ 81, 100, 121, 144]])"
      ]
     },
     "execution_count": 62,
     "metadata": {},
     "output_type": "execute_result"
    }
   ],
   "source": [
    "#1.index wise multiplication\n",
    "Matrix_A2 * Matrix_B2"
   ]
  },
  {
   "cell_type": "code",
   "execution_count": 63,
   "id": "580b776c-8175-4e72-8014-61cb4d731186",
   "metadata": {},
   "outputs": [
    {
     "data": {
      "text/plain": [
       "array([[ 70,  80,  90],\n",
       "       [158, 184, 210],\n",
       "       [246, 288, 330]])"
      ]
     },
     "execution_count": 63,
     "metadata": {},
     "output_type": "execute_result"
    }
   ],
   "source": [
    "#2.matrix multiplication\n",
    "Matrix_A2=  np.array([[1, 2, 3, 4] ,[5, 6, 7, 8],[9, 10, 11, 12]])\n",
    "\n",
    "Matrix_B2 = np.array([[1, 2, 3], [4,5,6],[7,8,9],[ 10, 11, 12]])\n",
    "Matrix_A2 @ Matrix_B2"
   ]
  },
  {
   "cell_type": "code",
   "execution_count": 64,
   "id": "32f5b89d-9085-45d1-9ff2-0642aa32a92a",
   "metadata": {},
   "outputs": [
    {
     "data": {
      "text/plain": [
       "array([[ 2,  4,  6,  8],\n",
       "       [10, 12, 14, 16],\n",
       "       [18, 20, 22, 24]])"
      ]
     },
     "execution_count": 64,
     "metadata": {},
     "output_type": "execute_result"
    }
   ],
   "source": [
    "# add both the matrix\n",
    "Matrix_A2=np.array([[1, 2, 3, 4] ,[5, 6, 7, 8],[9, 10, 11, 12]])\n",
    "\n",
    "Matrix_B2 =np.array([[1, 2, 3,4], [5,6,7,8],[9,10,11,12]])\n",
    "\n",
    "Matrix_A2 + Matrix_B2"
   ]
  },
  {
   "cell_type": "code",
   "execution_count": 66,
   "id": "4acb8fb9-dad1-44fc-9a1f-096f0333bc69",
   "metadata": {},
   "outputs": [
    {
     "data": {
      "text/plain": [
       "array([[0, 0, 0, 0],\n",
       "       [0, 0, 0, 0],\n",
       "       [0, 0, 0, 0]])"
      ]
     },
     "execution_count": 66,
     "metadata": {},
     "output_type": "execute_result"
    }
   ],
   "source": [
    "#Subtract matrix B from A\n",
    "Matrix_A2=np.array([[1, 2, 3, 4] ,[5, 6, 7, 8],[9, 10, 11, 12]])\n",
    "\n",
    "Matrix_B2 =np.array([[1, 2, 3,4], [5,6,7,8],[9,10,11,12]])\n",
    "Matrix_B2 - Matrix_A2"
   ]
  },
  {
   "cell_type": "code",
   "execution_count": 67,
   "id": "69af3dda-d05a-4a4c-8480-2a6a3dc8c769",
   "metadata": {},
   "outputs": [
    {
     "data": {
      "text/plain": [
       "array([[0, 0, 0, 0],\n",
       "       [0, 0, 0, 0],\n",
       "       [0, 0, 0, 0]])"
      ]
     },
     "execution_count": 67,
     "metadata": {},
     "output_type": "execute_result"
    }
   ],
   "source": [
    "Matrix_A2 - Matrix_B2"
   ]
  },
  {
   "cell_type": "code",
   "execution_count": 68,
   "id": "be1a80c3-569e-499f-b59b-b85b99831444",
   "metadata": {},
   "outputs": [
    {
     "data": {
      "text/plain": [
       "array([[1., 1., 1., 1.],\n",
       "       [1., 1., 1., 1.],\n",
       "       [1., 1., 1., 1.]])"
      ]
     },
     "execution_count": 68,
     "metadata": {},
     "output_type": "execute_result"
    }
   ],
   "source": [
    "# Di\u0012ide Mat\u001bix B by A\n",
    "Matrix_A2 / Matrix_B2"
   ]
  },
  {
   "cell_type": "code",
   "execution_count": 69,
   "id": "c10014c5-4db3-4ab9-97ac-be501d1bf167",
   "metadata": {},
   "outputs": [
    {
     "data": {
      "text/plain": [
       "array([[0, 0, 0, 0],\n",
       "       [0, 0, 0, 0],\n",
       "       [0, 0, 0, 0]])"
      ]
     },
     "execution_count": 69,
     "metadata": {},
     "output_type": "execute_result"
    }
   ],
   "source": [
    "Matrix_B2 - Matrix_A2"
   ]
  },
  {
   "cell_type": "markdown",
   "id": "5ab696db-b57b-42d8-bfa2-358152c66e62",
   "metadata": {},
   "source": [
    "## 12.  Which function in Numpy can be used to swap the byte order of an array?"
   ]
  },
  {
   "cell_type": "code",
   "execution_count": 70,
   "id": "bdfaa2a5-d37e-4cb2-9f74-3c120558c1a5",
   "metadata": {},
   "outputs": [
    {
     "name": "stdout",
     "output_type": "stream",
     "text": [
      "Original array: [    1   256 65536]\n",
      "Byte-swapped array: [16777216    65536      256]\n",
      "Original array (after swap): [    1   256 65536]\n"
     ]
    }
   ],
   "source": [
    "import numpy as np\n",
    "\n",
    "# Create an array with a specific byte order\n",
    "array = np.array([1, 256, 65536], dtype=np.int32)\n",
    "print(\"Original array:\", array)\n",
    "\n",
    "# Swap the byte order\n",
    "swapped_array = array.byteswap()\n",
    "print(\"Byte-swapped array:\", swapped_array)\n",
    "\n",
    "# Verify the byte order has been swapped\n",
    "print(\"Original array (after swap):\", array)\n"
   ]
  },
  {
   "cell_type": "markdown",
   "id": "6001190c-f21a-4655-81e3-9250f828bf48",
   "metadata": {},
   "source": [
    "## 13.  What is the significance of the np.linalg.inv function?"
   ]
  },
  {
   "cell_type": "raw",
   "id": "1e843d28-a211-4ce1-8c3a-8207289463dd",
   "metadata": {},
   "source": [
    "The `np.linalg.inv` function in NumPy is used to compute the inverse of a square matrix. The inverse of a matrix \\(A\\) is another matrix \\(A^{-1}\\) such that when \\(A\\) is multiplied by \\(A^{-1}\\), the result is the identity matrix \\(I\\). This function is significant in various fields, including linear algebra, physics, computer graphics, and more, as it allows for solving systems of linear equations, transforming coordinates, and performing other matrix operations.\n",
    "\n",
    "### Significance of `np.linalg.inv`:\n",
    "\n",
    "1. **Solving Linear Systems**:\n",
    "   - In linear algebra, the inverse of a matrix is often used to solve systems of linear equations of the form \\(AX = B\\), where \\(A\\) is a matrix and \\(B\\) is a vector. The solution \\(X\\) can be found by multiplying both sides by \\(A^{-1}\\): \\(X = A^{-1}B\\).\n",
    "\n",
    "2. **Transformations**:\n",
    "   - In computer graphics and robotics, transformations such as translations, rotations, and scaling can be represented by matrices. Finding the inverse of a transformation matrix is useful for reversing transformations or converting coordinates between different reference frames.\n",
    "\n",
    "3. **Statistical Analysis**:\n",
    "   - In statistics and machine learning, covariance matrices are often inverted as part of multivariate statistical techniques, such as calculating the Mahalanobis distance or performing linear discriminant analysis.\n",
    "\n",
    "### Example of `np.linalg.inv`:\n",
    "\n",
    "Here is an example of how to use `np.linalg.inv`:\n",
    "\n",
    "```python\n",
    "import numpy as np\n",
    "\n",
    "# Define a square matrix\n",
    "A = np.array([[1, 2],\n",
    "              [3, 4]])\n",
    "\n",
    "# Compute the inverse of the matrix\n",
    "A_inv = np.linalg.inv(A)\n",
    "\n",
    "print(\"Matrix A:\")\n",
    "print(A)\n",
    "print(\"\\nInverse of Matrix A:\")\n",
    "print(A_inv)\n",
    "\n",
    "# Verify the result by multiplying the matrix with its inverse\n",
    "# The result should be the identity matrix\n",
    "identity = np.dot(A, A_inv)\n",
    "print(\"\\nA multiplied by its inverse:\")\n",
    "print(identity)\n",
    "```\n",
    "\n",
    "Output:\n",
    "```\n",
    "Matrix A:\n",
    "[[1 2]\n",
    " [3 4]]\n",
    "\n",
    "Inverse of Matrix A:\n",
    "[[-2.   1. ]\n",
    " [ 1.5 -0.5]]\n",
    "\n",
    "A multiplied by its inverse:\n",
    "[[ 1.00000000e+00 -4.44089210e-16]\n",
    " [ 4.44089210e-16  1.00000000e+00]]\n",
    "```\n",
    "\n",
    "### Important Notes:\n",
    "\n",
    "- **Square Matrix**: The matrix must be square (i.e., it has the same number of rows and columns) for its inverse to exist.\n",
    "- **Non-Singular Matrix**: The matrix must be non-singular (i.e., its determinant is non-zero) for the inverse to exist. If the matrix is singular, `np.linalg.inv` will raise a `LinAlgError`.\n",
    "- **Numerical Stability**: Inverting a matrix can be numerically unstable for matrices that are ill-conditioned (matrices with a very high condition number). In such cases, it may be better to use other methods for solving linear systems, such as `np.linalg.solve`.\n",
    "\n",
    "The `np.linalg.inv` function is a powerful tool for performing matrix inversion, but it's essential to use it with the understanding of its mathematical requirements and computational implications."
   ]
  },
  {
   "cell_type": "markdown",
   "id": "b82a2ad7-c23f-4281-9b1a-a8007da503d9",
   "metadata": {},
   "source": [
    "## 14. What does the np.reshape function do, and how is it used?"
   ]
  },
  {
   "cell_type": "code",
   "execution_count": 72,
   "id": "c2a9b7b6-a8ea-4fcd-b673-0838af660006",
   "metadata": {},
   "outputs": [
    {
     "name": "stdout",
     "output_type": "stream",
     "text": [
      "Original array:\n",
      "[1 2 3 4 5 6]\n",
      "\n",
      "Reshaped array:\n",
      "[[1 2 3]\n",
      " [4 5 6]]\n"
     ]
    }
   ],
   "source": [
    "\n",
    "# Create a 1D array\n",
    "array_1d = np.array([1, 2, 3, 4, 5, 6])\n",
    "\n",
    "# Reshape the 1D array to a 2D array with shape (2, 3)\n",
    "array_2d = np.reshape(array_1d, (2, 3))\n",
    "\n",
    "print(\"Original array:\")\n",
    "print(array_1d)\n",
    "print(\"\\nReshaped array:\")\n",
    "print(array_2d)\n"
   ]
  },
  {
   "cell_type": "markdown",
   "id": "f9f882ef-500b-4f5b-8cd8-75558272749f",
   "metadata": {},
   "source": [
    "## 15. What is broadcasting in Numpy?"
   ]
  },
  {
   "cell_type": "code",
   "execution_count": 77,
   "id": "d126c734-dd8b-4d77-b015-c9b1d818d855",
   "metadata": {},
   "outputs": [],
   "source": [
    "# \"\"\"Broadcasting in NumPy is a powerful mechanism that allows NumPy to perform arithmetic operations on arrays of different shapes.\n",
    "# When performing operations on arrays, NumPy compares their shapes element-wise. If these shapes are compatible, NumPy\n",
    "# \"broadcasts\" the smaller array across the larger array so that they have compatible shapes.\n",
    "# Broadcasting is particularly useful because it eliminates the need to manually expand the smaller array.\n",
    "\n",
    "arr=np.zeros((3,4))"
   ]
  },
  {
   "cell_type": "code",
   "execution_count": 78,
   "id": "e9a4f5eb-821c-4e28-9a2f-399f8bb568f9",
   "metadata": {},
   "outputs": [
    {
     "data": {
      "text/plain": [
       "array([[0., 0., 0., 0.],\n",
       "       [0., 0., 0., 0.],\n",
       "       [0., 0., 0., 0.]])"
      ]
     },
     "execution_count": 78,
     "metadata": {},
     "output_type": "execute_result"
    }
   ],
   "source": [
    "arr"
   ]
  },
  {
   "cell_type": "code",
   "execution_count": 79,
   "id": "5a31af31-eee5-412b-9f6f-9729fd7ad625",
   "metadata": {},
   "outputs": [
    {
     "data": {
      "text/plain": [
       "array([[5., 5., 5., 5.],\n",
       "       [5., 5., 5., 5.],\n",
       "       [5., 5., 5., 5.]])"
      ]
     },
     "execution_count": 79,
     "metadata": {},
     "output_type": "execute_result"
    }
   ],
   "source": [
    "arr+5"
   ]
  },
  {
   "cell_type": "code",
   "execution_count": 80,
   "id": "12536c12-ea07-4a03-b6cf-3fdc7426228c",
   "metadata": {},
   "outputs": [
    {
     "data": {
      "text/plain": [
       "array([1, 2, 3, 4])"
      ]
     },
     "execution_count": 80,
     "metadata": {},
     "output_type": "execute_result"
    }
   ],
   "source": [
    "a=np.array([1,2,3,4])\n",
    "a"
   ]
  },
  {
   "cell_type": "code",
   "execution_count": 81,
   "id": "58c0dca0-2e38-4053-8351-1a18605d90c7",
   "metadata": {},
   "outputs": [
    {
     "data": {
      "text/plain": [
       "array([[1., 2., 3., 4.],\n",
       "       [1., 2., 3., 4.],\n",
       "       [1., 2., 3., 4.]])"
      ]
     },
     "execution_count": 81,
     "metadata": {},
     "output_type": "execute_result"
    }
   ],
   "source": [
    "arr + a"
   ]
  },
  {
   "cell_type": "code",
   "execution_count": null,
   "id": "8921de60-c844-4970-bac5-23b746826552",
   "metadata": {},
   "outputs": [],
   "source": []
  }
 ],
 "metadata": {
  "kernelspec": {
   "display_name": "Python 3 (ipykernel)",
   "language": "python",
   "name": "python3"
  },
  "language_info": {
   "codemirror_mode": {
    "name": "ipython",
    "version": 3
   },
   "file_extension": ".py",
   "mimetype": "text/x-python",
   "name": "python",
   "nbconvert_exporter": "python",
   "pygments_lexer": "ipython3",
   "version": "3.12.4"
  }
 },
 "nbformat": 4,
 "nbformat_minor": 5
}
