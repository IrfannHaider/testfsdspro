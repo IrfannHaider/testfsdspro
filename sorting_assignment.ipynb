{
  "nbformat": 4,
  "nbformat_minor": 0,
  "metadata": {
    "colab": {
      "provenance": []
    },
    "kernelspec": {
      "name": "python3",
      "display_name": "Python 3"
    },
    "language_info": {
      "name": "python"
    }
  },
  "cells": [
    {
      "cell_type": "markdown",
      "source": [
        "## Problem 1.Given an array of n numbers, give an algorithm which gives the element appearing maximum number of times?"
      ],
      "metadata": {
        "id": "4_DY84XWQ99s"
      }
    },
    {
      "cell_type": "code",
      "source": [
        "def find_most_frequent_element(arr):\n",
        "    # Step 1: Initialize an empty hash map (dictionary)\n",
        "    frequency_map = {}\n",
        "\n",
        "    # Step 2: Populate the hash map with the frequency of each element\n",
        "    for element in arr:\n",
        "        if element in frequency_map:\n",
        "            frequency_map[element] += 1\n",
        "        else:\n",
        "            frequency_map[element] = 1\n",
        "\n",
        "    # Step 3: Find the element with the maximum frequency\n",
        "    max_count = 0\n",
        "    most_frequent_element = None\n",
        "\n",
        "    for element, count in frequency_map.items():\n",
        "        if count > max_count:\n",
        "            max_count = count\n",
        "            most_frequent_element = element\n",
        "\n",
        "    # Step 4: Return the most frequent element\n",
        "    return most_frequent_element\n"
      ],
      "metadata": {
        "id": "TqatThdGRBfs"
      },
      "execution_count": 1,
      "outputs": []
    },
    {
      "cell_type": "code",
      "source": [
        "arr = [1, 3, 2, 1, 4, 1, 3, 3, 2, 1]\n",
        "print(f\"The element appearing the most frequently is: {most_frequent_element}\")\n"
      ],
      "metadata": {
        "colab": {
          "base_uri": "https://localhost:8080/"
        },
        "id": "NU97qzXHVrue",
        "outputId": "c16fc584-0449-4cd2-83df-b40230e9ceea"
      },
      "execution_count": 5,
      "outputs": [
        {
          "output_type": "stream",
          "name": "stdout",
          "text": [
            "The element appearing the most frequently is: 1\n"
          ]
        }
      ]
    },
    {
      "cell_type": "code",
      "source": [
        "def find_most_frequent_brute_force(arr):\n",
        "  \"\"\"\n",
        "  Finds the element appearing the most frequently in an array using brute force.\n",
        "\n",
        "  Args:\n",
        "      arr: A list of numbers.\n",
        "\n",
        "  Returns:\n",
        "      The element appearing the most frequently in the array.\n",
        "  \"\"\"\n",
        "\n",
        "  # Initialize variables to store the element and its count\n",
        "  max_count = 0\n",
        "  most_frequent = None\n",
        "\n",
        "  # Iterate through each element\n",
        "  for i in range(len(arr)):\n",
        "    current_count = 0\n",
        "    # Compare the current element with all other elements\n",
        "    for j in range(len(arr)):\n",
        "      if arr[i] == arr[j]:\n",
        "        current_count += 1\n",
        "    # Update max_count and most_frequent if a higher count is found\n",
        "    if current_count > max_count:\n",
        "      max_count = current_count\n",
        "      most_frequent = arr[i]\n",
        "\n",
        "  return most_frequent\n",
        "\n",
        "# Example usage\n",
        "arr = [1, 3, 2, 1, 3, 2, 1]\n",
        "most_frequent_element = find_most_frequent_brute_force(arr)\n",
        "print(f\"The element appearing the most frequently is: {most_frequent_element}\")\n"
      ],
      "metadata": {
        "colab": {
          "base_uri": "https://localhost:8080/"
        },
        "id": "9GDPbjnmVtX6",
        "outputId": "301a9000-38da-4101-993e-7c07e1745230"
      },
      "execution_count": 4,
      "outputs": [
        {
          "output_type": "stream",
          "name": "stdout",
          "text": [
            "The element appearing the most frequently is: 1\n"
          ]
        }
      ]
    },
    {
      "cell_type": "markdown",
      "source": [
        "## Problem 2 : We are given a list of n-1 integers and these integers are in the range of 1 to n . There are no duplicates in the list. One of the integers is missing in the list. Give an algorithm to find that element Ex: [1,2,4,6,3,7,8] 5 is the missing num"
      ],
      "metadata": {
        "id": "cDsThJvuWgWb"
      }
    },
    {
      "cell_type": "code",
      "source": [
        "def find_missing_number(arr):\n",
        "  \"\"\"\n",
        "  Finds the missing number in a list of n-1 integers from 1 to n (no duplicates).\n",
        "\n",
        "  Args:\n",
        "      arr: A list of n-1 integers.\n",
        "\n",
        "  Returns:\n",
        "      The missing integer.\n",
        "  \"\"\"\n",
        "\n",
        "  n = len(arr) + 1  # Total number of elements (including the missing one)\n",
        "  expected_sum = n * (n + 1) // 2\n",
        "  actual_sum = sum(arr)\n",
        "\n",
        "  return expected_sum - actual_sum\n",
        "\n",
        "# Example usage\n",
        "arr = [1, 2, 4, 6, 3, 7, 8]\n",
        "missing_number = find_missing_number(arr)\n",
        "print(f\"The missing number is: {missing_number}\")\n"
      ],
      "metadata": {
        "colab": {
          "base_uri": "https://localhost:8080/"
        },
        "id": "-41P_D1CWnND",
        "outputId": "97b1dd00-6d96-44d3-b60d-8484499868eb"
      },
      "execution_count": 6,
      "outputs": [
        {
          "output_type": "stream",
          "name": "stdout",
          "text": [
            "The missing number is: 5\n"
          ]
        }
      ]
    },
    {
      "cell_type": "markdown",
      "source": [
        "## Problem 3 : Given an array of n positive numbers. All numbers occurs even number of times except 1 which occurs odd number of times. Find that number in O(n) time and O(1) space. Ex: [1,2,3,2,3,1,3]. 3 is repeats odd times."
      ],
      "metadata": {
        "id": "F0JJhX26XXlr"
      }
    },
    {
      "cell_type": "code",
      "source": [
        "def find_single_element(arr):\n",
        "  \"\"\"\n",
        "  Finds the number that appears an odd number of times in an array of positive integers.\n",
        "\n",
        "  Args:\n",
        "      arr: A list of positive integers.\n",
        "\n",
        "  Returns:\n",
        "      The number that appears an odd number of times.\n",
        "  \"\"\"\n",
        "\n",
        "  result = 0\n",
        "  for num in arr:\n",
        "    result ^= num  # Bitwise XOR operation\n",
        "\n",
        "  return result\n",
        "\n",
        "# Example usage\n",
        "arr = [1, 2, 3, 2, 3, 1, 3]\n",
        "single_element = find_single_element(arr)\n",
        "print(f\"The number that appears an odd number of times is: {single_element}\")\n"
      ],
      "metadata": {
        "colab": {
          "base_uri": "https://localhost:8080/"
        },
        "id": "EjkARmYQXRgc",
        "outputId": "3a22e9b1-d458-430d-e472-f7c01d2c8c74"
      },
      "execution_count": 7,
      "outputs": [
        {
          "output_type": "stream",
          "name": "stdout",
          "text": [
            "The number that appears an odd number of times is: 3\n"
          ]
        }
      ]
    },
    {
      "cell_type": "markdown",
      "source": [
        "## Problem 4 : Given an array of n elements. Find two elements in the array such that their sum is equal to given element K."
      ],
      "metadata": {
        "id": "-gXQfOXXYC5b"
      }
    },
    {
      "cell_type": "code",
      "source": [
        "def find_pair_with_sum(arr, K):\n",
        "    # Step 1: Initialize an empty hash map (dictionary)\n",
        "    hash_map = {}\n",
        "\n",
        "    # Step 2: Iterate through each element in the array\n",
        "    for index, number in enumerate(arr):\n",
        "        # Step 3: Calculate the complement\n",
        "        complement = K - number\n",
        "\n",
        "        # Step 4: Check if the complement is in the hash map\n",
        "        if complement in hash_map:\n",
        "            # Return the pair if found\n",
        "            return (complement, number)\n",
        "\n",
        "        # Step 4b: Otherwise, add the current number to the hash map\n",
        "        hash_map[number] = index\n",
        "\n",
        "    # Step 5: If no pair is found, return an indication message\n",
        "    return None\n",
        "\n",
        "# Example usage\n",
        "arr = [10, 2, 3, 7, 5]\n",
        "K = 12\n",
        "result = find_pair_with_sum(arr, K)\n",
        "print(result)  # Output should be (5, 7) or (7, 5)\n"
      ],
      "metadata": {
        "colab": {
          "base_uri": "https://localhost:8080/"
        },
        "id": "feIxwF9XYJVy",
        "outputId": "a9667f90-10ca-4585-a4b9-016b1fff0c62"
      },
      "execution_count": 8,
      "outputs": [
        {
          "output_type": "stream",
          "name": "stdout",
          "text": [
            "(10, 2)\n"
          ]
        }
      ]
    },
    {
      "cell_type": "markdown",
      "source": [
        "## Problem 5 : Given an array of both positive and negative numbers, find two numbers such that their sum is closest to 0. Ex: [ 1 ,60 ,-10, 70, -80,85]. Ans : -80,85."
      ],
      "metadata": {
        "id": "0P354qE-Y-iY"
      }
    },
    {
      "cell_type": "code",
      "source": [
        "def find_closest_pair(arr):\n",
        "    # Step 1: Sort the array\n",
        "    arr.sort()\n",
        "\n",
        "    # Step 2: Initialize pointers and variables to store the closest pair\n",
        "    left = 0\n",
        "    right = len(arr) - 1\n",
        "    closest_sum = float('inf')\n",
        "    closest_pair = (arr[left], arr[right])\n",
        "\n",
        "    # Step 3: Iterate using the two-pointer technique\n",
        "    while left < right:\n",
        "        current_sum = arr[left] + arr[right]\n",
        "\n",
        "        # Update closest pair if current sum is closer to zero\n",
        "        if abs(current_sum) < abs(closest_sum):\n",
        "            closest_sum = current_sum\n",
        "            closest_pair = (arr[left], arr[right])\n",
        "\n",
        "        # Move pointers based on the sum\n",
        "        if current_sum < 0:\n",
        "            left += 1\n",
        "        elif current_sum > 0:\n",
        "            right -= 1\n",
        "        else:\n",
        "            # If current_sum is exactly zero, we found the closest possible pair\n",
        "            break\n",
        "\n",
        "    return closest_pair\n",
        "\n",
        "# Example usage\n",
        "arr = [1, 60, -10, 70, -80, 85]\n",
        "result = find_closest_pair(arr)\n",
        "print(result)  # Output should be (-80, 85)\n"
      ],
      "metadata": {
        "colab": {
          "base_uri": "https://localhost:8080/"
        },
        "id": "l94RxBjTYVGL",
        "outputId": "69b97bf4-2472-4cf5-d7ed-74fb9aac9ae0"
      },
      "execution_count": 9,
      "outputs": [
        {
          "output_type": "stream",
          "name": "stdout",
          "text": [
            "(-80, 85)\n"
          ]
        }
      ]
    },
    {
      "cell_type": "markdown",
      "source": [
        "## Problem 6 : Given an array of n elements . Find three elements such that their sum is equal to the given number."
      ],
      "metadata": {
        "id": "VgkJuVe8ZSbQ"
      }
    },
    {
      "cell_type": "code",
      "source": [
        "def find_triplet_with_sum(arr, K):\n",
        "    # Step 1: Sort the array\n",
        "    arr.sort()\n",
        "    n = len(arr)\n",
        "\n",
        "    # Step 2: Iterate through each element and fix it as the first element of the triplet\n",
        "    for i in range(n - 2):\n",
        "        # Initialize two pointers\n",
        "        left = i + 1\n",
        "        right = n - 1\n",
        "\n",
        "        # Step 3: Use two-pointer technique to find the other two elements\n",
        "        while left < right:\n",
        "            current_sum = arr[i] + arr[left] + arr[right]\n",
        "\n",
        "            if current_sum == K:\n",
        "                return (arr[i], arr[left], arr[right])\n",
        "            elif current_sum < K:\n",
        "                left += 1\n",
        "            else:\n",
        "                right -= 1\n",
        "\n",
        "    # If no triplet is found\n",
        "    return None\n",
        "\n",
        "# Example usage\n",
        "arr = [1, 4, 45, 6, 10, 8]\n",
        "K = 22\n",
        "result = find_triplet_with_sum(arr, K)\n",
        "print(result)  # Output should be (4, 8, 10) or any permutation of these numbers\n"
      ],
      "metadata": {
        "colab": {
          "base_uri": "https://localhost:8080/"
        },
        "id": "CMLYmHKcZN00",
        "outputId": "c717b518-a754-4e20-e5b0-f6db0dfb844d"
      },
      "execution_count": 10,
      "outputs": [
        {
          "output_type": "stream",
          "name": "stdout",
          "text": [
            "(4, 8, 10)\n"
          ]
        }
      ]
    },
    {
      "cell_type": "markdown",
      "source": [
        "## Problem 7 : Given an array of n elements . Find three elements i, j, k in the array such that   i * i + j * j = k*k."
      ],
      "metadata": {
        "id": "62bCGexjZ0Qk"
      }
    },
    {
      "cell_type": "code",
      "source": [
        "def find_triplet_with_squares(arr):\n",
        "    # Step 1: Compute the squares of all elements and store them in a hash map\n",
        "    squares_map = {}\n",
        "    for number in arr:\n",
        "        squares_map[number * number] = number\n",
        "\n",
        "    # Step 2: Iterate through each pair of elements\n",
        "    n = len(arr)\n",
        "    for i in range(n):\n",
        "        for j in range(i + 1, n):\n",
        "            i_square = arr[i] * arr[i]\n",
        "            j_square = arr[j] * arr[j]\n",
        "            sum_of_squares = i_square + j_square\n",
        "\n",
        "            # Step 3: Check if this sum exists in the hash map\n",
        "            if sum_of_squares in squares_map:\n",
        "                k = squares_map[sum_of_squares]\n",
        "                # Ensure k is different from arr[i] and arr[j]\n",
        "                if k != arr[i] and k != arr[j]:\n",
        "                    return (arr[i], arr[j], k)\n",
        "\n",
        "    # If no triplet is found\n",
        "    return None\n",
        "\n",
        "# Example usage\n",
        "arr = [3, 1, 4, 6, 5]\n",
        "result = find_triplet_with_squares(arr)\n",
        "print(result)  # Output should be (3, 4, 5) or any permutation of these numbers\n"
      ],
      "metadata": {
        "colab": {
          "base_uri": "https://localhost:8080/"
        },
        "id": "upNIjDOdZiol",
        "outputId": "502546e8-02e0-4179-c7bf-2408238c6496"
      },
      "execution_count": 11,
      "outputs": [
        {
          "output_type": "stream",
          "name": "stdout",
          "text": [
            "(3, 4, 5)\n"
          ]
        }
      ]
    },
    {
      "cell_type": "markdown",
      "source": [
        "## Problem 8 : An element is a majority if it appears more than n/2 times. Give an algorithm takes an array of n element as argument and identifies a majority (if it exists)."
      ],
      "metadata": {
        "id": "xE59zCwfaMod"
      }
    },
    {
      "cell_type": "code",
      "source": [
        "def find_majority_element(arr):\n",
        "    # Step 1: Candidate Selection\n",
        "    candidate = None\n",
        "    count = 0\n",
        "\n",
        "    for num in arr:\n",
        "        if count == 0:\n",
        "            candidate = num\n",
        "        count += (1 if num == candidate else -1)\n",
        "\n",
        "    # Step 2: Candidate Verification\n",
        "    count = 0\n",
        "    for num in arr:\n",
        "        if num == candidate:\n",
        "            count += 1\n",
        "\n",
        "    if count > len(arr) // 2:\n",
        "        return candidate\n",
        "    else:\n",
        "        return None\n",
        "\n",
        "# Example usage\n",
        "arr = [2, 2, 1, 1, 1, 2, 2]\n",
        "result = find_majority_element(arr)\n",
        "print(result)  # Output should be 2, since 2 appears more than len(arr) // 2 times\n"
      ],
      "metadata": {
        "colab": {
          "base_uri": "https://localhost:8080/"
        },
        "id": "CpUiz9uWaKyz",
        "outputId": "c5937072-a144-4402-deb5-1ef761a45e4c"
      },
      "execution_count": 12,
      "outputs": [
        {
          "output_type": "stream",
          "name": "stdout",
          "text": [
            "2\n"
          ]
        }
      ]
    },
    {
      "cell_type": "markdown",
      "source": [
        "## Problem 9 : Given n × n matrix, and in each row all 1’s are followed by 0’s. Find the row with the maximum number of 0’s."
      ],
      "metadata": {
        "id": "eHpLMAvQagAG"
      }
    },
    {
      "cell_type": "code",
      "source": [
        "def find_row_with_max_zeros(matrix):\n",
        "    n = len(matrix)\n",
        "    max_zeros_row = -1\n",
        "    max_zeros = -1\n",
        "    j = n - 1\n",
        "\n",
        "    for i in range(n):\n",
        "        # Move left in the current row while encountering 0's\n",
        "        while j >= 0 and matrix[i][j] == 0:\n",
        "            j -= 1\n",
        "\n",
        "        # Number of 0's in the current row\n",
        "        num_zeros = n - j - 1\n",
        "\n",
        "        # Update if the current row has more 0's\n",
        "        if num_zeros > max_zeros:\n",
        "            max_zeros = num_zeros\n",
        "            max_zeros_row = i\n",
        "\n",
        "    return max_zeros_row\n",
        "\n",
        "# Example usage\n",
        "matrix = [\n",
        "    [1, 1, 1, 0, 0],\n",
        "    [1, 0, 0, 0, 0],\n",
        "    [1, 1, 1, 1, 0],\n",
        "    [1, 1, 0, 0, 0]\n",
        "]\n",
        "result = find_row_with_max_zeros(matrix)\n",
        "print(result)  # Output should be 1, as the second row has the maximum number of 0's (4 zeros)\n"
      ],
      "metadata": {
        "colab": {
          "base_uri": "https://localhost:8080/"
        },
        "id": "1JbZPaZ7aexK",
        "outputId": "b3e79e07-8783-4547-edb2-5a3e683ffc5b"
      },
      "execution_count": 13,
      "outputs": [
        {
          "output_type": "stream",
          "name": "stdout",
          "text": [
            "1\n"
          ]
        }
      ]
    },
    {
      "cell_type": "markdown",
      "source": [
        "## Problem 10 : Sort an array of 0’s, 1’s and 2’s [or R’s, G’s and B’s]: Given an array A[] consisting of 0’s, 1’s and 2’s, give an algorithm for sorting A[].The algorithm should put all 0’s first, then all 1’s and finally all 2’s at the end. Example Input = {0,1,1,0,1,2,1,2,0,0,0,1}, Output = {0,0,0,0,0,1,1,1,1,1,2,2}"
      ],
      "metadata": {
        "id": "EBFd47vHa5oj"
      }
    },
    {
      "cell_type": "code",
      "source": [
        "def sort_012(arr):\n",
        "    low, mid, high = 0, 0, len(arr) - 1\n",
        "\n",
        "    while mid <= high:\n",
        "        if arr[mid] == 0:\n",
        "            arr[low], arr[mid] = arr[mid], arr[low]\n",
        "            low += 1\n",
        "            mid += 1\n",
        "        elif arr[mid] == 1:\n",
        "            mid += 1\n",
        "        else:  # arr[mid] == 2\n",
        "            arr[high], arr[mid] = arr[mid], arr[high]\n",
        "            high -= 1\n",
        "\n",
        "    return arr\n",
        "\n",
        "# Example usage\n",
        "arr = [0, 1, 1, 0, 1, 2, 1, 2, 0, 0, 0, 1]\n",
        "sorted_arr = sort_012(arr)\n",
        "print(sorted_arr)  # Output should be [0, 0, 0, 0, 0, 1, 1, 1, 1, 1, 2, 2]\n"
      ],
      "metadata": {
        "colab": {
          "base_uri": "https://localhost:8080/"
        },
        "id": "XSpqcUtEa0V0",
        "outputId": "24a22516-9386-40d1-b299-2e531b214832"
      },
      "execution_count": 14,
      "outputs": [
        {
          "output_type": "stream",
          "name": "stdout",
          "text": [
            "[0, 0, 0, 0, 0, 1, 1, 1, 1, 1, 2, 2]\n"
          ]
        }
      ]
    },
    {
      "cell_type": "code",
      "source": [],
      "metadata": {
        "id": "tQCitMOnbVPL"
      },
      "execution_count": null,
      "outputs": []
    }
  ]
}