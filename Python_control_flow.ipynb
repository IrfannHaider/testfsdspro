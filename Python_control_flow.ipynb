{
  "cells": [
    {
      "cell_type": "markdown",
      "metadata": {
        "id": "53OAcYxvBWF9"
      },
      "source": [
        "## 1. Write a Python program to check if a given number is positive or negative"
      ]
    },
    {
      "cell_type": "code",
      "execution_count": 1,
      "metadata": {
        "colab": {
          "base_uri": "https://localhost:8080/"
        },
        "id": "rVX_JHbwBWGC",
        "outputId": "57eb1034-50bc-483f-c77e-1719ee24589d"
      },
      "outputs": [
        {
          "output_type": "stream",
          "name": "stdout",
          "text": [
            "Enter a number: 7\n",
            "The number is positive.\n"
          ]
        }
      ],
      "source": [
        "# Input a number from the user\n",
        "num = float(input(\"Enter a number: \"))\n",
        "\n",
        "# Check if the number is positive, negative, or zero\n",
        "if num > 0:\n",
        "    print(\"The number is positive.\")\n",
        "elif num < 0:\n",
        "    print(\"The number is negative.\")\n",
        "else:\n",
        "    print(\"The number is zero.\")"
      ]
    },
    {
      "cell_type": "markdown",
      "metadata": {
        "id": "Ybs2Q_nABWGF"
      },
      "source": [
        "## 2. Create a program that determines if a person is eligible to vote based on their age."
      ]
    },
    {
      "cell_type": "code",
      "execution_count": 2,
      "metadata": {
        "colab": {
          "base_uri": "https://localhost:8080/"
        },
        "id": "t4raqifOBWGG",
        "outputId": "e2703aab-df3f-4f53-d83d-c4f59de0a358"
      },
      "outputs": [
        {
          "output_type": "stream",
          "name": "stdout",
          "text": [
            "Enter your age: 22\n",
            "You are eligible to vote.\n"
          ]
        }
      ],
      "source": [
        "# Input the age of the person\n",
        "age = int(input(\"Enter your age: \"))\n",
        "\n",
        "# Check if the person is eligible to vote\n",
        "if age >= 18:\n",
        "    print(\"You are eligible to vote.\")\n",
        "else:\n",
        "    print(\"You are not eligible to vote.\")"
      ]
    },
    {
      "cell_type": "markdown",
      "metadata": {
        "id": "tktWY3E6BWGG"
      },
      "source": [
        "## 3. Develop a program to find the maximum of two numbers using if-else statement"
      ]
    },
    {
      "cell_type": "code",
      "execution_count": 3,
      "metadata": {
        "colab": {
          "base_uri": "https://localhost:8080/"
        },
        "id": "Cnt7jFUXBWGH",
        "outputId": "eb852769-e93a-4765-e1a4-04f93e186707"
      },
      "outputs": [
        {
          "output_type": "stream",
          "name": "stdout",
          "text": [
            "Enter the first number: 5\n",
            "Enter the second number: 9\n",
            "The maximum number is: 9.0\n"
          ]
        }
      ],
      "source": [
        "# Input two numbers from the user\n",
        "num1 = float(input(\"Enter the first number: \"))\n",
        "num2 = float(input(\"Enter the second number: \"))\n",
        "\n",
        "# Compare the two numbers and find the maximum\n",
        "if num1 > num2:\n",
        "    max_num = num1\n",
        "else:\n",
        "    max_num = num2\n",
        "\n",
        "# Print the maximum number\n",
        "print(f\"The maximum number is: {max_num}\")"
      ]
    },
    {
      "cell_type": "markdown",
      "metadata": {
        "id": "awKhx80kBWGH"
      },
      "source": [
        "## 4. Write a Python script to classify a given year as a leap year or not"
      ]
    },
    {
      "cell_type": "code",
      "execution_count": 4,
      "metadata": {
        "colab": {
          "base_uri": "https://localhost:8080/"
        },
        "id": "qOgKqEToBWGI",
        "outputId": "674600e8-c62c-409f-dfaa-8f2ac81919a3"
      },
      "outputs": [
        {
          "output_type": "stream",
          "name": "stdout",
          "text": [
            "Enter a year: 2023\n",
            "2023 is not a leap year.\n"
          ]
        }
      ],
      "source": [
        "year = int(input(\"Enter a year: \"))\n",
        "\n",
        "if (year % 400 == 0) or (year % 4 == 0 and year % 100 != 0):\n",
        "    print(f\"{year} is a leap year.\")\n",
        "else:\n",
        "    print(f\"{year} is not a leap year.\")"
      ]
    },
    {
      "cell_type": "markdown",
      "metadata": {
        "id": "Q3JfdOvOBWGI"
      },
      "source": [
        "## 5. Create a program that checks whether a character is a vowel or a consonant."
      ]
    },
    {
      "cell_type": "code",
      "execution_count": 5,
      "metadata": {
        "colab": {
          "base_uri": "https://localhost:8080/"
        },
        "id": "Wjx55kSPBWGI",
        "outputId": "6e0f5c78-7615-4a53-a424-5b2a1da91c82"
      },
      "outputs": [
        {
          "output_type": "stream",
          "name": "stdout",
          "text": [
            "Enter a character: i\n",
            "The character 'i' is a Vowel.\n"
          ]
        }
      ],
      "source": [
        "def vowelOrConsonant(x):\n",
        "    if x.lower() in ['a', 'e', 'i', 'o', 'u']:\n",
        "        return \"Vowel\"\n",
        "    else:\n",
        "        return \"Consonant\"\n",
        "\n",
        "character = input(\"Enter a character: \")\n",
        "print(f\"The character '{character}' is a {vowelOrConsonant(character)}.\")\n"
      ]
    },
    {
      "cell_type": "markdown",
      "metadata": {
        "id": "yxFwdbUyBWGJ"
      },
      "source": [
        "## 6. Implement a program to determine whether a given number is even or odd."
      ]
    },
    {
      "cell_type": "code",
      "execution_count": 6,
      "metadata": {
        "colab": {
          "base_uri": "https://localhost:8080/"
        },
        "id": "DUTaPgeEBWGJ",
        "outputId": "ae0ef06d-a45e-4c10-d338-507556471cfb"
      },
      "outputs": [
        {
          "output_type": "stream",
          "name": "stdout",
          "text": [
            "Enter a number: 7\n",
            "The number is odd.\n"
          ]
        }
      ],
      "source": [
        "def check_even_odd(num):\n",
        "    if num % 2 == 0:\n",
        "        return \"The number is even.\"\n",
        "    else:\n",
        "        return \"The number is odd.\"\n",
        "\n",
        "number = int(input(\"Enter a number: \"))\n",
        "print(check_even_odd(number))"
      ]
    },
    {
      "cell_type": "markdown",
      "metadata": {
        "id": "nGP9x_8dBWGK"
      },
      "source": [
        "## 7. Write a Python function to calculate the absolute value of a number without using the `abs()` function"
      ]
    },
    {
      "cell_type": "code",
      "execution_count": 7,
      "metadata": {
        "id": "cGalv6IUBWGK"
      },
      "outputs": [],
      "source": [
        "def my_abs(value):\n",
        "    if value < 0:\n",
        "        return -value\n",
        "    else:\n",
        "        return value"
      ]
    },
    {
      "cell_type": "code",
      "execution_count": 8,
      "metadata": {
        "id": "Nw1433lFBWGL"
      },
      "outputs": [],
      "source": [
        "def my_abs(value):\n",
        "    return (value ** 2) ** 0.5"
      ]
    },
    {
      "cell_type": "code",
      "execution_count": 9,
      "metadata": {
        "colab": {
          "base_uri": "https://localhost:8080/"
        },
        "id": "lotkbdO0BWGL",
        "outputId": "f510ba21-7afd-4aa2-ac5f-6882ddb458de"
      },
      "outputs": [
        {
          "output_type": "execute_result",
          "data": {
            "text/plain": [
              "4.0"
            ]
          },
          "metadata": {},
          "execution_count": 9
        }
      ],
      "source": [
        "my_abs(4)"
      ]
    },
    {
      "cell_type": "markdown",
      "metadata": {
        "id": "nE1v4FQLBWGM"
      },
      "source": [
        "## 8. Develop a program that determines the largest of three given numbers using if-else statements."
      ]
    },
    {
      "cell_type": "code",
      "execution_count": 10,
      "metadata": {
        "id": "TyVDMjY5BWGN"
      },
      "outputs": [],
      "source": [
        "def find_largest(a, b, c):\n",
        "    if a > b and a > c:\n",
        "        return a\n",
        "    elif b > a and b > c:\n",
        "        return b\n",
        "    else:\n",
        "        return c"
      ]
    },
    {
      "cell_type": "code",
      "execution_count": 11,
      "metadata": {
        "colab": {
          "base_uri": "https://localhost:8080/"
        },
        "id": "vNnR5heZBWGN",
        "outputId": "a1c86010-2b70-44b0-a5e1-113f2e2e0b2b"
      },
      "outputs": [
        {
          "output_type": "execute_result",
          "data": {
            "text/plain": [
              "1"
            ]
          },
          "metadata": {},
          "execution_count": 11
        }
      ],
      "source": [
        ">>> find_largest(5, 9, 3)\n",
        "9\n",
        ">>> find_largest(10, 2, 8)\n",
        "10\n",
        ">>> find_largest(1, 1, 1)\n",
        "1"
      ]
    },
    {
      "cell_type": "markdown",
      "metadata": {
        "id": "GiWh9ifbBWGO"
      },
      "source": [
        "## 9. Create a program that checks if a given string is a palindrome"
      ]
    },
    {
      "cell_type": "code",
      "execution_count": 12,
      "metadata": {
        "id": "APvKmS2PBWGO"
      },
      "outputs": [],
      "source": [
        "def is_palindrome(s):\n",
        "    s = s.lower().replace(' ', '')\n",
        "    return s == s[::-1]"
      ]
    },
    {
      "cell_type": "code",
      "execution_count": 13,
      "metadata": {
        "colab": {
          "base_uri": "https://localhost:8080/"
        },
        "id": "cE2ZRVpnBWGO",
        "outputId": "6fb51092-0234-4327-b2f2-f92217d1307f"
      },
      "outputs": [
        {
          "output_type": "execute_result",
          "data": {
            "text/plain": [
              "True"
            ]
          },
          "metadata": {},
          "execution_count": 13
        }
      ],
      "source": [
        ">>> is_palindrome('A man a plan a canal Panama')\n",
        "True\n",
        ">>> is_palindrome('Hello, world!')\n",
        "False\n",
        ">>> is_palindrome('Was it a car or a cat I saw?')\n",
        "True"
      ]
    },
    {
      "cell_type": "markdown",
      "metadata": {
        "id": "OeUsjQ6lBWGO"
      },
      "source": [
        "## 10. Write a Python program to calculate the grade based on a student's score."
      ]
    },
    {
      "cell_type": "code",
      "execution_count": 14,
      "metadata": {
        "id": "J1NqjIQrBWGP"
      },
      "outputs": [],
      "source": [
        "def calculate_grade(score):\n",
        "    if score >= 91:\n",
        "        return 'A1'\n",
        "    elif score >= 81:\n",
        "        return 'A2'\n",
        "    elif score >= 71:\n",
        "        return 'B1'\n",
        "    elif score >= 61:\n",
        "        return 'B2'\n",
        "    elif score >= 51:\n",
        "        return 'C1'\n",
        "    elif score >= 41:\n",
        "        return 'C2'\n",
        "    elif score >= 33:\n",
        "        return 'D'\n",
        "    elif score >= 21:\n",
        "        return 'E1'\n",
        "    else:\n",
        "        return 'E2'"
      ]
    },
    {
      "cell_type": "code",
      "execution_count": 15,
      "metadata": {
        "colab": {
          "base_uri": "https://localhost:8080/",
          "height": 35
        },
        "id": "9kj2UeJ5BWGP",
        "outputId": "70e13ecf-0643-4ad2-d491-b25b5fdf826d"
      },
      "outputs": [
        {
          "output_type": "execute_result",
          "data": {
            "text/plain": [
              "'E2'"
            ],
            "application/vnd.google.colaboratory.intrinsic+json": {
              "type": "string"
            }
          },
          "metadata": {},
          "execution_count": 15
        }
      ],
      "source": [
        ">>> calculate_grade(85)\n",
        "'B1'\n",
        ">>> calculate_grade(95)\n",
        "'A1'\n",
        ">>> calculate_grade(40)\n",
        "'E2'"
      ]
    },
    {
      "cell_type": "markdown",
      "metadata": {
        "id": "osDvP5caBWGP"
      },
      "source": [
        "## 11. Write a program to find the largest among three numbers using nested if-else statements"
      ]
    },
    {
      "cell_type": "code",
      "execution_count": 17,
      "metadata": {
        "colab": {
          "base_uri": "https://localhost:8080/"
        },
        "id": "i77R-K7yBWGQ",
        "outputId": "b22cbe71-d7f5-4344-bf29-d5ca90275c73"
      },
      "outputs": [
        {
          "output_type": "stream",
          "name": "stdout",
          "text": [
            "Enter the first number: 7\n",
            "Enter the second number: 88\n",
            "Enter the third number: 42\n",
            "Largest = 88\n"
          ]
        }
      ],
      "source": [
        "\n",
        "num1 = int(input(\"Enter the first number: \"))\n",
        "num2 = int(input(\"Enter the second number: \"))\n",
        "num3 = int(input(\"Enter the third number: \"))\n",
        "\n",
        "if num1 > num2:\n",
        "    # This is a nested if-else\n",
        "    if num1 > num3:\n",
        "        print(\"Largest =\", num1)\n",
        "    else:\n",
        "        print(\"Largest =\", num3)\n",
        "else:\n",
        "    # This is a nested if-else\n",
        "    if num2 > num3:\n",
        "        print(\"Largest =\", num2)\n",
        "    else:\n",
        "        print(\"Largest =\", num3)"
      ]
    },
    {
      "cell_type": "markdown",
      "metadata": {
        "id": "qFyrZ3fpBWGQ"
      },
      "source": [
        "## 12. Implement a program to determine if a triangle is equilateral, isosceles, or scalene."
      ]
    },
    {
      "cell_type": "code",
      "execution_count": 18,
      "metadata": {
        "colab": {
          "base_uri": "https://localhost:8080/"
        },
        "id": "S5cCWg5fBWGQ",
        "outputId": "eb3c5a9d-9f48-4508-8e23-c7eb5e3d7d3b"
      },
      "outputs": [
        {
          "output_type": "stream",
          "name": "stdout",
          "text": [
            "Enter the length of side 1: 5\n",
            "Enter the length of side 2: 5\n",
            "Enter the length of side 3: 5\n",
            "The triangle is equilateral.\n"
          ]
        }
      ],
      "source": [
        "side1 = float(input(\"Enter the length of side 1: \"))\n",
        "side2 = float(input(\"Enter the length of side 2: \"))\n",
        "side3 = float(input(\"Enter the length of side 3: \"))\n",
        "\n",
        "if side1 == side2 == side3:\n",
        "    print(\"The triangle is equilateral.\")\n",
        "elif side1 == side2 or side1 == side3 or side2 == side3:\n",
        "    print(\"The triangle is isosceles.\")\n",
        "else:\n",
        "    print(\"The triangle is scalene.\")"
      ]
    },
    {
      "cell_type": "markdown",
      "metadata": {
        "id": "twTZjZdgBWGQ"
      },
      "source": [
        "##  13. Develop a program that checks if a year is a leap year and also if it is a century year."
      ]
    },
    {
      "cell_type": "code",
      "execution_count": 19,
      "metadata": {
        "colab": {
          "base_uri": "https://localhost:8080/"
        },
        "id": "e7mDFflCBWGR",
        "outputId": "3c631f39-970a-441e-a786-42b598388bee"
      },
      "outputs": [
        {
          "output_type": "stream",
          "name": "stdout",
          "text": [
            "Enter a year: 2023\n",
            "2023 is not a leap year\n",
            "2023 is not a century year\n"
          ]
        }
      ],
      "source": [
        "def check_leap_year(year):\n",
        "\n",
        "  is_leap_year = False\n",
        "\n",
        "  if year % 4 == 0:\n",
        "    if year % 100 == 0:\n",
        "      if year % 400 == 0:\n",
        "        is_leap_year = True\n",
        "    else:\n",
        "      is_leap_year = True\n",
        "\n",
        "  if year % 100 == 0:\n",
        "    is_century = True\n",
        "  else:\n",
        "    is_century = False\n",
        "\n",
        "  print(f\"{year} is {'a' if is_leap_year else 'not a'} leap year\")\n",
        "  print(f\"{year} is {'a' if is_century else 'not a'} century year\")\n",
        "\n",
        "year = int(input(\"Enter a year: \"))\n",
        "check_leap_year(year)"
      ]
    },
    {
      "cell_type": "markdown",
      "metadata": {
        "id": "4oCEFWkNBWGR"
      },
      "source": [
        "## 14. Write a Python script to determine if a number is positive, negative, or zero."
      ]
    },
    {
      "cell_type": "code",
      "execution_count": 20,
      "metadata": {
        "colab": {
          "base_uri": "https://localhost:8080/"
        },
        "id": "1yL-30G9BWGS",
        "outputId": "525f0365-75af-4bdd-dc7b-fbd0365a98f7"
      },
      "outputs": [
        {
          "output_type": "stream",
          "name": "stdout",
          "text": [
            "Enter a number: 6\n",
            "The number is positive.\n"
          ]
        }
      ],
      "source": [
        "num = float(input(\"Enter a number: \"))\n",
        "\n",
        "if num > 0:\n",
        "    print(\"The number is positive.\")\n",
        "elif num < 0:\n",
        "    print(\"The number is negative.\")\n",
        "else:\n",
        "    print(\"The number is zero.\")"
      ]
    },
    {
      "cell_type": "markdown",
      "metadata": {
        "id": "xmhZiAlYBWGS"
      },
      "source": [
        "## 15. Create a program to check if a person is a teenager (between 13 and 19 years old)."
      ]
    },
    {
      "cell_type": "code",
      "execution_count": 21,
      "metadata": {
        "colab": {
          "base_uri": "https://localhost:8080/"
        },
        "id": "pDO6JuMZBWGS",
        "outputId": "9101d1ab-8df4-4e40-abe6-b9456c244742"
      },
      "outputs": [
        {
          "output_type": "stream",
          "name": "stdout",
          "text": [
            "Enter your age: 21\n",
            "You are not a teenager.\n"
          ]
        }
      ],
      "source": [
        "age = int(input(\"Enter your age: \"))\n",
        "\n",
        "if age >= 13 and age <= 19:\n",
        "    print(\"You are a teenager.\")\n",
        "else:\n",
        "    print(\"You are not a teenager.\")"
      ]
    },
    {
      "cell_type": "markdown",
      "metadata": {
        "id": "1eADHW_GBWGT"
      },
      "source": [
        "## 16. Develop a program that determines the type of angle based on its measure (acute, obtuse, or right)."
      ]
    },
    {
      "cell_type": "code",
      "execution_count": 22,
      "metadata": {
        "colab": {
          "base_uri": "https://localhost:8080/"
        },
        "id": "7IAkhkxSBWGT",
        "outputId": "09c06940-cf55-4e3c-cf85-f29e298bc2aa"
      },
      "outputs": [
        {
          "output_type": "stream",
          "name": "stdout",
          "text": [
            "Enter the measure of the angle: 60\n",
            "The angle is acute.\n"
          ]
        }
      ],
      "source": [
        "angle = float(input(\"Enter the measure of the angle: \"))\n",
        "\n",
        "if angle < 90:\n",
        "    print(\"The angle is acute.\")\n",
        "elif angle == 90:\n",
        "    print(\"The angle is right.\")\n",
        "elif angle > 90 and angle < 180:\n",
        "    print(\"The angle is obtuse.\")\n",
        "else:\n",
        "    print(\"The angle is neither acute, obtuse, nor right.\")"
      ]
    },
    {
      "cell_type": "markdown",
      "metadata": {
        "id": "wxmN23GVBWGT"
      },
      "source": [
        "## 17. Write a Python program to calculate the roots of a quadratic equation."
      ]
    },
    {
      "cell_type": "code",
      "execution_count": 23,
      "metadata": {
        "colab": {
          "base_uri": "https://localhost:8080/"
        },
        "id": "B66fJpUdBWGU",
        "outputId": "0f6839f0-8d5d-40c8-d6ba-04a6052aa17d"
      },
      "outputs": [
        {
          "output_type": "stream",
          "name": "stdout",
          "text": [
            "Enter coefficient of x^2: 6\n",
            "Enter coefficient of x: 8\n",
            "Enter constant term: 7\n",
            "The equation has no real roots\n"
          ]
        }
      ],
      "source": [
        "import math\n",
        "\n",
        "a = float(input(\"Enter coefficient of x^2: \"))\n",
        "b = float(input(\"Enter coefficient of x: \"))\n",
        "c = float(input(\"Enter constant term: \"))\n",
        "\n",
        "discrim = (b**2) - (4*a*c)\n",
        "\n",
        "if discrim > 0:\n",
        "  root1 = (-b + math.sqrt(discrim)) / (2*a)\n",
        "  root2 = (-b - math.sqrt(discrim)) / (2*a)\n",
        "  print(f\"The roots are {root1} and {root2}\")\n",
        "\n",
        "elif discrim == 0:\n",
        "  root1 = root2 = -b / (2*a)\n",
        "  print(f\"The root is {root1}\")\n",
        "\n",
        "else:\n",
        "  print(\"The equation has no real roots\")"
      ]
    },
    {
      "cell_type": "markdown",
      "metadata": {
        "id": "b5jeqriBBWGW"
      },
      "source": [
        "## 18. Implement a program to determine the day of the week based on a user-provided number (1 for Monday, 2 for Tuesday, etc.)."
      ]
    },
    {
      "cell_type": "code",
      "execution_count": 24,
      "metadata": {
        "colab": {
          "base_uri": "https://localhost:8080/"
        },
        "id": "8FBieDg6BWGW",
        "outputId": "afbe81ea-0ca8-4eae-bb97-214780a6d946"
      },
      "outputs": [
        {
          "output_type": "stream",
          "name": "stdout",
          "text": [
            "Enter a number between 1 and 7: 5\n",
            "Friday\n"
          ]
        }
      ],
      "source": [
        "weekday = int(input(\"Enter a number between 1 and 7: \"))\n",
        "\n",
        "if weekday == 1:\n",
        "    print(\"Monday\")\n",
        "elif weekday == 2:\n",
        "    print(\"Tuesday\")\n",
        "elif weekday == 3:\n",
        "    print(\"Wednesday\")\n",
        "elif weekday == 4:\n",
        "    print(\"Thursday\")\n",
        "elif weekday == 5:\n",
        "    print(\"Friday\")\n",
        "elif weekday == 6:\n",
        "    print(\"Saturday\")\n",
        "elif weekday == 7:\n",
        "    print(\"Sunday\")\n",
        "else:\n",
        "    print(\"Invalid input! Please enter a number between 1 and 7.\")"
      ]
    },
    {
      "cell_type": "markdown",
      "metadata": {
        "id": "ORD9CrNHBWGW"
      },
      "source": [
        "## 19. Create a program that determines if a year is a leap year and also if it is evenly divisible by 400."
      ]
    },
    {
      "cell_type": "code",
      "execution_count": 25,
      "metadata": {
        "colab": {
          "base_uri": "https://localhost:8080/"
        },
        "id": "wBkzY5TyBWGX",
        "outputId": "12a9e40f-fb7e-4dd3-c507-4128ae9c3d85"
      },
      "outputs": [
        {
          "output_type": "stream",
          "name": "stdout",
          "text": [
            "Enter a year: 2023\n",
            "2023 is not a leap year.\n"
          ]
        }
      ],
      "source": [
        "year = int(input(\"Enter a year: \"))\n",
        "\n",
        "if (year % 400 == 0) and (year % 100 == 0):\n",
        "    print(f\"{year} is a leap year and a century year.\")\n",
        "elif (year % 4 == 0) and (year % 100 != 0):\n",
        "    print(f\"{year} is a leap year but not a century year.\")\n",
        "else:\n",
        "    print(f\"{year} is not a leap year.\")"
      ]
    },
    {
      "cell_type": "markdown",
      "metadata": {
        "id": "ZK9_BAGDBWGX"
      },
      "source": [
        "## 20. Develop a program that checks if a given number is prime or not using nested if-else statements."
      ]
    },
    {
      "cell_type": "code",
      "execution_count": 26,
      "metadata": {
        "colab": {
          "base_uri": "https://localhost:8080/"
        },
        "id": "VjB76-zqBWGX",
        "outputId": "ca4a12bc-93ed-4548-ca63-a4b906ce2b58"
      },
      "outputs": [
        {
          "output_type": "stream",
          "name": "stdout",
          "text": [
            "Enter a number: 6\n",
            "6 is not a prime number\n",
            "2 times 3 is 6\n"
          ]
        }
      ],
      "source": [
        "num = int(input(\"Enter a number: \"))\n",
        "\n",
        "if num > 1:\n",
        "\n",
        "   for i in range(2,num):\n",
        "\n",
        "       if (num % i) == 0:\n",
        "\n",
        "           print(num,\"is not a prime number\")\n",
        "           print(i,\"times\",num//i,\"is\",num)\n",
        "           break\n",
        "\n",
        "   else:\n",
        "       print(num,\"is a prime number\")\n",
        "\n",
        "else:\n",
        "   print(num,\"is not a prime number\")"
      ]
    },
    {
      "cell_type": "markdown",
      "metadata": {
        "id": "FKaxcSZTBWGY"
      },
      "source": [
        "##  21. Write a Python program to assign grades based on different ranges of scores using elif statements"
      ]
    },
    {
      "cell_type": "code",
      "execution_count": 27,
      "metadata": {
        "colab": {
          "base_uri": "https://localhost:8080/"
        },
        "id": "iwqCcC3NBWGY",
        "outputId": "68640464-0f94-4797-9a8e-cd32163966c8"
      },
      "outputs": [
        {
          "output_type": "stream",
          "name": "stdout",
          "text": [
            "Enter the score: 77\n",
            "The grade for the score 77.0 is C\n"
          ]
        }
      ],
      "source": [
        "# Get the score from the user\n",
        "score = float(input(\"Enter the score: \"))\n",
        "\n",
        "# Define the grade ranges and corresponding grades\n",
        "if 90 <= score <= 100:\n",
        "    grade = 'A'\n",
        "elif 80 <= score < 90:\n",
        "    grade = 'B'\n",
        "elif 70 <= score < 80:\n",
        "    grade = 'C'\n",
        "elif 60 <= score < 70:\n",
        "    grade = 'D'\n",
        "elif 0 <= score < 60:\n",
        "    grade = 'F'\n",
        "else:\n",
        "    grade = 'Invalid input'\n",
        "\n",
        "# Display the grade\n",
        "print(f\"The grade for the score {score} is {grade}\")"
      ]
    },
    {
      "cell_type": "markdown",
      "metadata": {
        "id": "C2SzfojPBWGY"
      },
      "source": [
        "## 22. Implement a program to determine the type of a triangle based on its angles"
      ]
    },
    {
      "cell_type": "code",
      "execution_count": 28,
      "metadata": {
        "colab": {
          "base_uri": "https://localhost:8080/"
        },
        "id": "5FQloCRYBWGZ",
        "outputId": "1c6ab7ec-4a24-4a59-e8a8-42518ce1b94f"
      },
      "outputs": [
        {
          "output_type": "stream",
          "name": "stdout",
          "text": [
            "Enter angle 1: 60\n",
            "Enter angle 2: 60\n",
            "Enter angle 3: 60\n",
            "Acute triangle\n"
          ]
        }
      ],
      "source": [
        "angle1 = float(input(\"Enter angle 1: \"))\n",
        "angle2 = float(input(\"Enter angle 2: \"))\n",
        "angle3 = float(input(\"Enter angle 3: \"))\n",
        "\n",
        "total = angle1 + angle2 + angle3\n",
        "\n",
        "if total == 180:\n",
        "  if angle1 == 90 or angle2 == 90 or angle3 == 90:\n",
        "    print(\"Right triangle\")\n",
        "  elif angle1 < 90 and angle2 < 90 and angle3 < 90:\n",
        "    print(\"Acute triangle\")\n",
        "  else:\n",
        "    print(\"Obtuse triangle\")\n",
        "else:\n",
        "  print(\"Invalid triangle\")"
      ]
    },
    {
      "cell_type": "markdown",
      "metadata": {
        "id": "7X9J_OPzBWGZ"
      },
      "source": [
        "## 23. Develop a program to categorize a given person's BMI into underweight, normal, overweight, or obese using elif statements."
      ]
    },
    {
      "cell_type": "code",
      "execution_count": 29,
      "metadata": {
        "colab": {
          "base_uri": "https://localhost:8080/"
        },
        "id": "K3pSnNSeBWGZ",
        "outputId": "817b889b-a461-4bce-d8db-80d27454b051"
      },
      "outputs": [
        {
          "output_type": "stream",
          "name": "stdout",
          "text": [
            "Enter your weight in kilograms: 60\n",
            "Enter your height in meters: 1.6\n",
            "Your BMI is 23.44, which is categorized as Normal Weight.\n"
          ]
        }
      ],
      "source": [
        "# Get the person's weight in kilograms and height in meters from the user\n",
        "weight = float(input(\"Enter your weight in kilograms: \"))\n",
        "height = float(input(\"Enter your height in meters: \"))\n",
        "\n",
        "# Calculate the BMI\n",
        "bmi = weight / (height ** 2)\n",
        "\n",
        "# Determine the BMI category using if-elif-else statements\n",
        "if bmi < 18.5:\n",
        "    category = \"Underweight\"\n",
        "elif 18.5 <= bmi < 24.9:\n",
        "    category = \"Normal Weight\"\n",
        "elif 24.9 <= bmi < 29.9:\n",
        "    category = \"Overweight\"\n",
        "else:\n",
        "    category = \"Obese\"\n",
        "\n",
        "# Display the BMI category\n",
        "print(f\"Your BMI is {bmi:.2f}, which is categorized as {category}.\")"
      ]
    },
    {
      "cell_type": "markdown",
      "metadata": {
        "id": "koLvDVitBWGf"
      },
      "source": [
        "## 24. Create a program that determines whether a given number is positive, negative, or zero using elif statements."
      ]
    },
    {
      "cell_type": "code",
      "execution_count": 30,
      "metadata": {
        "colab": {
          "base_uri": "https://localhost:8080/"
        },
        "id": "bjl-0-eqBWGg",
        "outputId": "56af3bc5-2fd9-4497-8434-3dcf5e65e2a5"
      },
      "outputs": [
        {
          "output_type": "stream",
          "name": "stdout",
          "text": [
            "Enter a number: 3\n",
            "The number 3.0 is Positive.\n"
          ]
        }
      ],
      "source": [
        "# Get a number from the user\n",
        "number = float(input(\"Enter a number: \"))\n",
        "\n",
        "# Check if the number is positive, negative, or zero using if-elif-else statements\n",
        "if number > 0:\n",
        "    result = \"Positive\"\n",
        "elif number < 0:\n",
        "    result = \"Negative\"\n",
        "else:\n",
        "    result = \"Zero\"\n",
        "\n",
        "# Display the result\n",
        "print(f\"The number {number} is {result}.\")"
      ]
    },
    {
      "cell_type": "markdown",
      "metadata": {
        "id": "CMOoczjSBWGg"
      },
      "source": [
        "## 25. Write a Python script to determine the type of a character (uppercase, lowercase, or special) using elif statements."
      ]
    },
    {
      "cell_type": "code",
      "execution_count": 31,
      "metadata": {
        "colab": {
          "base_uri": "https://localhost:8080/"
        },
        "id": "hvT1wVyBBWGh",
        "outputId": "9311cac3-d06f-4d0d-fc53-276f8e26016b"
      },
      "outputs": [
        {
          "output_type": "stream",
          "name": "stdout",
          "text": [
            "Enter a character: r\n",
            "The character 'r' is a Lowercase Alphabetical.\n"
          ]
        }
      ],
      "source": [
        "# Get a character from the user\n",
        "character = input(\"Enter a character: \")\n",
        "\n",
        "# Check the type of character using if-elif-else statements\n",
        "if character.isalpha():\n",
        "    if character.isupper():\n",
        "        char_type = \"Uppercase Alphabetical\"\n",
        "    else:\n",
        "        char_type = \"Lowercase Alphabetical\"\n",
        "else:\n",
        "    char_type = \"Special Character\"\n",
        "\n",
        "# Display the result\n",
        "print(f\"The character '{character}' is a {char_type}.\")"
      ]
    },
    {
      "cell_type": "markdown",
      "metadata": {
        "id": "L2X1_MTvBWGi"
      },
      "source": [
        "## 26. Implement a program to calculate the discounted price based on different purchase amounts using elif statements"
      ]
    },
    {
      "cell_type": "code",
      "execution_count": 32,
      "metadata": {
        "colab": {
          "base_uri": "https://localhost:8080/"
        },
        "id": "hVyBtT8WBWGk",
        "outputId": "bf3e1d1b-bac5-4ea3-a9e1-4935c7a6f61d"
      },
      "outputs": [
        {
          "output_type": "stream",
          "name": "stdout",
          "text": [
            "Enter the purchase amount: 66\n",
            "Purchase amount: $66.00\n",
            "Discount rate: 0%\n",
            "Discount amount: $0.00\n",
            "Discounted price: $66.00\n"
          ]
        }
      ],
      "source": [
        "# Get the purchase amount from the user\n",
        "purchase_amount = float(input(\"Enter the purchase amount: \"))\n",
        "\n",
        "# Define discount rates for different purchase amounts\n",
        "if purchase_amount < 100:\n",
        "    discount_rate = 0\n",
        "elif purchase_amount < 500:\n",
        "    discount_rate = 0.05  # 5% discount for purchases between 100 and 499.99\n",
        "elif purchase_amount < 1000:\n",
        "    discount_rate = 0.1   # 10% discount for purchases between 500 and 999.99\n",
        "else:\n",
        "    discount_rate = 0.15  # 15% discount for purchases of 1000 or more\n",
        "\n",
        "# Calculate the discounted price\n",
        "discount = purchase_amount * discount_rate\n",
        "discounted_price = purchase_amount - discount\n",
        "\n",
        "# Display the result\n",
        "print(f\"Purchase amount: ${purchase_amount:.2f}\")\n",
        "print(f\"Discount rate: {discount_rate * 100}%\")\n",
        "print(f\"Discount amount: ${discount:.2f}\")\n",
        "print(f\"Discounted price: ${discounted_price:.2f}\")"
      ]
    },
    {
      "cell_type": "markdown",
      "metadata": {
        "id": "ihQMEz1pBWGl"
      },
      "source": [
        "## 27. Develop a program to calculate the electricity bill based on different consumption slabs using elif statements."
      ]
    },
    {
      "cell_type": "code",
      "execution_count": 33,
      "metadata": {
        "colab": {
          "base_uri": "https://localhost:8080/"
        },
        "id": "zeeJTJlEBWGl",
        "outputId": "7210badd-a177-4b09-dd30-1330d7d7002d"
      },
      "outputs": [
        {
          "output_type": "stream",
          "name": "stdout",
          "text": [
            "Enter units consumed: 77\n",
            "Bill Amount: 38.5\n"
          ]
        }
      ],
      "source": [
        "units = float(input(\"Enter units consumed: \"))\n",
        "\n",
        "if units < 100:\n",
        "  rate = 0.5\n",
        "  surcharge = 0\n",
        "elif units >= 100 and units < 300:\n",
        "  rate = 1\n",
        "  surcharge = 0\n",
        "elif units >= 300 and units < 500:\n",
        "  rate = 2\n",
        "  surcharge = 0.1*units\n",
        "elif units >= 500:\n",
        "  rate = 3\n",
        "  surcharge = 0.2*units\n",
        "else:\n",
        "  print(\"Invalid units\")\n",
        "\n",
        "bill = units * rate + surcharge\n",
        "\n",
        "print(f\"Bill Amount: {bill}\")"
      ]
    },
    {
      "cell_type": "markdown",
      "metadata": {
        "id": "H06H3M1TBWGm"
      },
      "source": [
        "## 28. Create a program to determine the type of quadrilateral based on its angles and sides using elif statements."
      ]
    },
    {
      "cell_type": "code",
      "execution_count": 34,
      "metadata": {
        "colab": {
          "base_uri": "https://localhost:8080/"
        },
        "id": "wWMxqBMWBWGn",
        "outputId": "8e16fb55-922d-4096-b55f-0c171cf85a51"
      },
      "outputs": [
        {
          "output_type": "stream",
          "name": "stdout",
          "text": [
            "Enter 4 angles separated by space: 60 60 60 60\n",
            "Enter 4 sides separated by space: 5 5 5 5\n",
            "Invalid quadrilateral\n"
          ]
        }
      ],
      "source": [
        "import math\n",
        "\n",
        "angles = [float(x) for x in input(\"Enter 4 angles separated by space: \").split()]\n",
        "sides = [float(x) for x in input(\"Enter 4 sides separated by space: \").split()]\n",
        "\n",
        "total_angles = sum(angles)\n",
        "unique_sides = len(set(sides))\n",
        "\n",
        "if total_angles == 360:\n",
        "\n",
        "  if unique_sides == 4:\n",
        "    print(\"Quadrilateral\")\n",
        "\n",
        "  elif angles == [90, 90, 90, 90]:\n",
        "    print(\"Square\")\n",
        "\n",
        "  elif all(angles[i]==90 for i in range(4)):\n",
        "    print(\"Rectangle\")\n",
        "\n",
        "  elif unique_sides == 2:\n",
        "    print(\"Parallelogram\")\n",
        "\n",
        "  elif math.isclose(sum(angles)/4, 90):\n",
        "    print(\"Rhombus\")\n",
        "\n",
        "  elif unique_sides == 3:\n",
        "    print(\"Trapezium\")\n",
        "\n",
        "  else:\n",
        "    print(\"Kite\")\n",
        "\n",
        "else:\n",
        "  print(\"Invalid quadrilateral\")"
      ]
    },
    {
      "cell_type": "markdown",
      "metadata": {
        "id": "4Ks1Iw13BWGo"
      },
      "source": [
        "## 29. Write a Python script to determine the season based on a user-provided month using elif statements."
      ]
    },
    {
      "cell_type": "code",
      "execution_count": 35,
      "metadata": {
        "colab": {
          "base_uri": "https://localhost:8080/"
        },
        "id": "1ZX1RRGoBWGp",
        "outputId": "17ad13a7-fb43-4dfe-e043-68449fce21c1"
      },
      "outputs": [
        {
          "output_type": "stream",
          "name": "stdout",
          "text": [
            "Enter a month (e.g., January, February, etc.): may\n",
            "The season for May is Spring.\n"
          ]
        }
      ],
      "source": [
        "# Get the month from the user\n",
        "month = input(\"Enter a month (e.g., January, February, etc.): \").lower()\n",
        "\n",
        "# Check the season based on the month using if-elif-else statements\n",
        "if month in (\"december\", \"january\", \"february\"):\n",
        "    season = \"Winter\"\n",
        "elif month in (\"march\", \"april\", \"may\"):\n",
        "    season = \"Spring\"\n",
        "elif month in (\"june\", \"july\", \"august\"):\n",
        "    season = \"Summer\"\n",
        "elif month in (\"september\", \"october\", \"november\"):\n",
        "    season = \"Fall\"\n",
        "else:\n",
        "    season = \"Invalid month\"\n",
        "\n",
        "# Display the result\n",
        "print(f\"The season for {month.capitalize()} is {season}.\")"
      ]
    },
    {
      "cell_type": "markdown",
      "metadata": {
        "id": "JQJzImXCBWGt"
      },
      "source": [
        "## 30. Implement a program to determine the type of a year (leap or common) and month (30 or 31 days) using elif statements."
      ]
    },
    {
      "cell_type": "code",
      "execution_count": 36,
      "metadata": {
        "colab": {
          "base_uri": "https://localhost:8080/"
        },
        "id": "yk0qOs9QBWGu",
        "outputId": "14949d10-33bd-4f68-fa70-dcc22e2ea73b"
      },
      "outputs": [
        {
          "output_type": "stream",
          "name": "stdout",
          "text": [
            "Enter a year: 2023\n",
            "Enter a month number: 6\n",
            "2023 is a common year\n",
            "The month has 30 days\n"
          ]
        }
      ],
      "source": [
        "year = int(input(\"Enter a year: \"))\n",
        "month = int(input(\"Enter a month number: \"))\n",
        "\n",
        "if year%4 == 0:\n",
        "  if year%100 == 0:\n",
        "    if year%400 == 0:\n",
        "      print(f\"{year} is a leap year\")\n",
        "    else:\n",
        "      print(f\"{year} is a common year\")\n",
        "  else:\n",
        "    print(f\"{year} is a leap year\")\n",
        "else:\n",
        "  print(f\"{year} is a common year\")\n",
        "\n",
        "if month == 2:\n",
        "  if year%4 == 0:\n",
        "    print(f\"February has 29 days\")\n",
        "  else:\n",
        "    print(f\"February has 28 days\")\n",
        "elif month == 1 or month == 3 or month == 5 or month == 7 or month == 8 or month == 10 or month == 12:\n",
        "  print(f\"The month has 31 days\")\n",
        "elif month == 4 or month == 6 or month == 9 or month == 11:\n",
        "  print(f\"The month has 30 days\")\n",
        "else:\n",
        "  print(\"Invalid month\")"
      ]
    },
    {
      "cell_type": "markdown",
      "metadata": {
        "id": "B9NSlJ38BWGv"
      },
      "source": [
        "## 1. Write a Python program that checks if a given number is positive, negative, or zero"
      ]
    },
    {
      "cell_type": "code",
      "execution_count": 37,
      "metadata": {
        "colab": {
          "base_uri": "https://localhost:8080/"
        },
        "id": "pWiq8YwFBWGv",
        "outputId": "a4437b22-125b-49b4-8b84-781e40cbe54c"
      },
      "outputs": [
        {
          "output_type": "stream",
          "name": "stdout",
          "text": [
            "Enter a number: 7\n",
            "7.0 is positive\n"
          ]
        }
      ],
      "source": [
        "num = float(input(\"Enter a number: \"))\n",
        "\n",
        "if num > 0:\n",
        "  print(f\"{num} is positive\")\n",
        "elif num == 0:\n",
        "  print(f\"{num} is zero\")\n",
        "elif num < 0:\n",
        "  print(f\"{num} is negative\")\n",
        "else:\n",
        "  print(\"Invalid input\")"
      ]
    },
    {
      "cell_type": "markdown",
      "metadata": {
        "id": "6CQpMZmrBWGw"
      },
      "source": [
        "## 2. Create a program to determine if a person is eligible to vote based on their age."
      ]
    },
    {
      "cell_type": "code",
      "execution_count": 38,
      "metadata": {
        "colab": {
          "base_uri": "https://localhost:8080/"
        },
        "id": "YeoEmYDhBWGx",
        "outputId": "1fab7274-8abb-4f20-eeed-7889b7fa12d5"
      },
      "outputs": [
        {
          "output_type": "stream",
          "name": "stdout",
          "text": [
            "Enter your age: 22\n",
            "You are eligible to vote\n"
          ]
        }
      ],
      "source": [
        "age = int(input(\"Enter your age: \"))\n",
        "\n",
        "if age >= 18:\n",
        "   print(\"You are eligible to vote\")\n",
        "else:\n",
        "   print(\"You are not eligible to vote\")"
      ]
    },
    {
      "cell_type": "markdown",
      "metadata": {
        "id": "EwEqMQ7QBWGy"
      },
      "source": [
        "## 3. Write a program to find the maximum of two given numbers using conditional statements"
      ]
    },
    {
      "cell_type": "code",
      "execution_count": 39,
      "metadata": {
        "colab": {
          "base_uri": "https://localhost:8080/"
        },
        "id": "ggOcHHrcBWGz",
        "outputId": "f9d47d05-0b35-4413-c8dc-e3777e281a4e"
      },
      "outputs": [
        {
          "output_type": "stream",
          "name": "stdout",
          "text": [
            "Enter first number: 3\n",
            "Enter second number: 8\n",
            "8.0 is greater than 3.0\n"
          ]
        }
      ],
      "source": [
        "num1 = float(input(\"Enter first number: \"))\n",
        "num2 = float(input(\"Enter second number: \"))\n",
        "\n",
        "if num1 > num2:\n",
        "   print(f\"{num1} is greater than {num2}\")\n",
        "else:\n",
        "   print(f\"{num2} is greater than {num1}\")"
      ]
    },
    {
      "cell_type": "markdown",
      "metadata": {
        "id": "U1g8jZDGBWG0"
      },
      "source": [
        "## 4. Develop a program that calculates the grade of a student based on their exam score."
      ]
    },
    {
      "cell_type": "code",
      "execution_count": 40,
      "metadata": {
        "colab": {
          "base_uri": "https://localhost:8080/"
        },
        "id": "kcXqkpaTBWG0",
        "outputId": "0f735a77-ee18-4b9a-8dfe-0169d7b9f673"
      },
      "outputs": [
        {
          "output_type": "stream",
          "name": "stdout",
          "text": [
            "Enter your exam score: 71\n",
            "Your grade is C.\n"
          ]
        }
      ],
      "source": [
        "score = float(input(\"Enter your exam score: \"))\n",
        "\n",
        "if score >= 90:\n",
        "   grade = \"A\"\n",
        "elif score >= 80:\n",
        "   grade = \"B\"\n",
        "elif score >= 70:\n",
        "   grade = \"C\"\n",
        "elif score >= 60:\n",
        "   grade = \"D\"\n",
        "else:\n",
        "   grade = \"F\"\n",
        "\n",
        "print(f\"Your grade is {grade}.\")"
      ]
    },
    {
      "cell_type": "markdown",
      "metadata": {
        "id": "HN7BaJTlBWG1"
      },
      "source": [
        "## 5. Create a program that checks if a year is a leap year or not"
      ]
    },
    {
      "cell_type": "code",
      "execution_count": 41,
      "metadata": {
        "colab": {
          "base_uri": "https://localhost:8080/"
        },
        "id": "sD3Mahs4BWG2",
        "outputId": "fd697017-9e19-4789-8581-85b704264c5c"
      },
      "outputs": [
        {
          "output_type": "stream",
          "name": "stdout",
          "text": [
            "Enter a year: 2023\n",
            "2023 is not a leap year\n"
          ]
        }
      ],
      "source": [
        "year = int(input(\"Enter a year: \"))\n",
        "\n",
        "if year % 4 == 0:\n",
        "   if year % 100 == 0:\n",
        "       if year % 400 == 0:\n",
        "           print(f\"{year} is a leap year\")\n",
        "       else:\n",
        "           print(f\"{year} is not a leap year\")\n",
        "   else:\n",
        "       print(f\"{year} is a leap year\")\n",
        "else:\n",
        "   print(f\"{year} is not a leap year\")"
      ]
    },
    {
      "cell_type": "markdown",
      "metadata": {
        "id": "dBK2GQHOBWG3"
      },
      "source": [
        "## 6. Write a program to classify a triangle based on its sides' lengths."
      ]
    },
    {
      "cell_type": "code",
      "execution_count": 42,
      "metadata": {
        "colab": {
          "base_uri": "https://localhost:8080/"
        },
        "id": "APUy7YmTBWG4",
        "outputId": "397826dc-d866-49ae-f2a7-040c7a7b0602"
      },
      "outputs": [
        {
          "output_type": "stream",
          "name": "stdout",
          "text": [
            "Enter side 1: 5\n",
            "Enter side 2: 5\n",
            "Enter side 3: 5\n",
            "Equilateral Triangle\n"
          ]
        }
      ],
      "source": [
        "a = float(input(\"Enter side 1: \"))\n",
        "b = float(input(\"Enter side 2: \"))\n",
        "c = float(input(\"Enter side 3: \"))\n",
        "\n",
        "if a == b == c:\n",
        "   print(\"Equilateral Triangle\")\n",
        "elif a == b or b == c or a == c:\n",
        "   print(\"Isosceles Triangle\")\n",
        "elif a != b and b != c and a != c:\n",
        "   print(\"Scalene Triangle\")\n",
        "else:\n",
        "   print(\"Not a valid triangle\")"
      ]
    },
    {
      "cell_type": "markdown",
      "metadata": {
        "id": "udbJGJTTBWG5"
      },
      "source": [
        "## 7. Build a program that determines the largest of three given numbers."
      ]
    },
    {
      "cell_type": "code",
      "execution_count": 43,
      "metadata": {
        "colab": {
          "base_uri": "https://localhost:8080/"
        },
        "id": "3CRCGz4zBWG5",
        "outputId": "2e886e7d-4338-45e9-f0a6-f4658deaf0cf"
      },
      "outputs": [
        {
          "output_type": "stream",
          "name": "stdout",
          "text": [
            "Enter first number: 4\n",
            "Enter second number: 6\n",
            "Enter third number: 2\n",
            "The largest number is: 6.0\n"
          ]
        }
      ],
      "source": [
        "num1 = float(input(\"Enter first number: \"))\n",
        "num2 = float(input(\"Enter second number: \"))\n",
        "num3 = float(input(\"Enter third number: \"))\n",
        "\n",
        "if num1 >= num2 and num1 >= num3:\n",
        "   largest = num1\n",
        "elif num2 >= num1 and num2 >= num3:\n",
        "   largest = num2\n",
        "else:\n",
        "   largest = num3\n",
        "\n",
        "print(\"The largest number is:\", largest)"
      ]
    },
    {
      "cell_type": "markdown",
      "metadata": {
        "id": "AyuN1g4hBWG6"
      },
      "source": [
        "## 8. Develop a program that checks whether a character is a vowel or a consonant."
      ]
    },
    {
      "cell_type": "code",
      "execution_count": 44,
      "metadata": {
        "colab": {
          "base_uri": "https://localhost:8080/"
        },
        "id": "4BoY88_ABWG7",
        "outputId": "88655a84-83a5-4b2c-e26c-6759f45a90ae"
      },
      "outputs": [
        {
          "output_type": "stream",
          "name": "stdout",
          "text": [
            "Enter a character: a\n",
            "'a' is a vowel.\n"
          ]
        }
      ],
      "source": [
        "char = input(\"Enter a character: \").lower()\n",
        "\n",
        "vowels = ['a','e','i','o','u']\n",
        "\n",
        "if char in vowels:\n",
        "   print(f\"'{char}' is a vowel.\")\n",
        "else:\n",
        "   print(f\"'{char}' is a consonant.\")"
      ]
    },
    {
      "cell_type": "markdown",
      "metadata": {
        "id": "851O2OWMBWG8"
      },
      "source": [
        "## 9. Create a program to calculate the total cost of a shopping cart based on discounts."
      ]
    },
    {
      "cell_type": "code",
      "execution_count": 45,
      "metadata": {
        "colab": {
          "base_uri": "https://localhost:8080/"
        },
        "id": "tjbPbQLlBWG8",
        "outputId": "113dea94-b8ac-4775-d234-751e6d9aa2c2"
      },
      "outputs": [
        {
          "output_type": "stream",
          "name": "stdout",
          "text": [
            "How many items are in your cart? 3\n",
            "Price of item 1: 42\n",
            "Price of item 2: 59\n",
            "Price of item 3: 10\n",
            "Your total bill amount is 111.0\n"
          ]
        }
      ],
      "source": [
        "items = int(input(\"How many items are in your cart? \"))\n",
        "total = 0\n",
        "\n",
        "for i in range(items):\n",
        "    price = float(input(f\"Price of item {i+1}: \"))\n",
        "    total += price\n",
        "\n",
        "if total > 1000:\n",
        "    discount = total * 0.1\n",
        "    print(f\"Your subtotal is {total}\")\n",
        "    print(f\"You get a 10% discount of {discount}\")\n",
        "    total -= discount\n",
        "\n",
        "print(f\"Your total bill amount is {total}\")"
      ]
    },
    {
      "cell_type": "markdown",
      "metadata": {
        "id": "JWW6aJSfBWG9"
      },
      "source": [
        "## 10. Write a program that checks if a given number is even or odd."
      ]
    },
    {
      "cell_type": "code",
      "execution_count": 46,
      "metadata": {
        "colab": {
          "base_uri": "https://localhost:8080/"
        },
        "id": "pNeTHpfyBWG-",
        "outputId": "9820cdde-2b0e-4e15-c40b-675acee80100"
      },
      "outputs": [
        {
          "output_type": "stream",
          "name": "stdout",
          "text": [
            "Enter a number: 3\n",
            "3 is odd\n"
          ]
        }
      ],
      "source": [
        "num = int(input(\"Enter a number: \"))\n",
        "\n",
        "if num % 2 == 0:\n",
        "   print(f\"{num} is even\")\n",
        "else:\n",
        "   print(f\"{num} is odd\")"
      ]
    },
    {
      "cell_type": "markdown",
      "metadata": {
        "id": "tYHiTfoaBWG-"
      },
      "source": [
        "## 11. Write a program that calculates the roots of a quadratic equation ."
      ]
    },
    {
      "cell_type": "code",
      "execution_count": 47,
      "metadata": {
        "colab": {
          "base_uri": "https://localhost:8080/"
        },
        "id": "7pVaDo8NBWG_",
        "outputId": "45c8e99e-2e54-4db0-ebf5-c2d0cd563856"
      },
      "outputs": [
        {
          "output_type": "stream",
          "name": "stdout",
          "text": [
            "Enter coefficient of x^2: 9\n",
            "Enter coefficient of x: 5\n",
            "Enter constant term: 8\n",
            "Discriminant:  -263.0\n",
            "No real roots\n"
          ]
        }
      ],
      "source": [
        "import math\n",
        "\n",
        "a = float(input(\"Enter coefficient of x^2: \"))\n",
        "b = float(input(\"Enter coefficient of x: \"))\n",
        "c = float(input(\"Enter constant term: \"))\n",
        "\n",
        "discriminant = (b**2) - (4*a*c)\n",
        "\n",
        "print(\"Discriminant: \", discriminant)\n",
        "\n",
        "if discriminant > 0:\n",
        "   root1 = (-b + math.sqrt(discriminant)) / (2*a)\n",
        "   root2 = (-b - math.sqrt(discriminant)) / (2*a)\n",
        "   print(\"Two distinct real roots:\", root1, root2)\n",
        "\n",
        "elif discriminant == 0:\n",
        "   root1 = root2 = -b / (2*a)\n",
        "   print(\"Two equal real roots:\", root1)\n",
        "\n",
        "else:\n",
        "   print(\"No real roots\")"
      ]
    },
    {
      "cell_type": "markdown",
      "metadata": {
        "id": "YPQLiT9HBWG_"
      },
      "source": [
        "## 12. Create a program that determines the day of the week based on the day number (1-7)."
      ]
    },
    {
      "cell_type": "code",
      "execution_count": 48,
      "metadata": {
        "colab": {
          "base_uri": "https://localhost:8080/"
        },
        "id": "gh0IA__hBWHA",
        "outputId": "901ed684-75e3-4fe4-960d-8e67b60c1439"
      },
      "outputs": [
        {
          "output_type": "stream",
          "name": "stdout",
          "text": [
            "Enter day number (1-7): 3\n",
            "Day 3 is Wednesday\n"
          ]
        }
      ],
      "source": [
        "days = [\"Monday\", \"Tuesday\", \"Wednesday\", \"Thursday\", \"Friday\", \"Saturday\", \"Sunday\"]\n",
        "\n",
        "day_number = int(input(\"Enter day number (1-7): \"))\n",
        "\n",
        "if day_number < 1 or day_number > 7:\n",
        "   print(\"Invalid day number\")\n",
        "else:\n",
        "   print(f\"Day {day_number} is {days[day_number-1]}\")"
      ]
    },
    {
      "cell_type": "markdown",
      "metadata": {
        "id": "vkcHzQO7BWHA"
      },
      "source": [
        "## 13. Develop a program that calculates the factorial of a given number using recursion."
      ]
    },
    {
      "cell_type": "code",
      "execution_count": 49,
      "metadata": {
        "colab": {
          "base_uri": "https://localhost:8080/"
        },
        "id": "8f8l1LaSBWHA",
        "outputId": "14ac05b7-4bdc-4088-bd09-e9080d4db5bf"
      },
      "outputs": [
        {
          "output_type": "stream",
          "name": "stdout",
          "text": [
            "Enter a number: 4\n",
            "Factorial of 4 is 24\n"
          ]
        }
      ],
      "source": [
        "def factorial(num):\n",
        "   if num == 0:\n",
        "      return 1\n",
        "   else:\n",
        "      return num * factorial(num-1)\n",
        "\n",
        "num = int(input(\"Enter a number: \"))\n",
        "\n",
        "fact = factorial(num)\n",
        "print(f\"Factorial of {num} is {fact}\")"
      ]
    },
    {
      "cell_type": "markdown",
      "metadata": {
        "id": "U0kR-sOnBWHB"
      },
      "source": [
        "## 14. Write a program to find the largest among three numbers without using the `max()` function."
      ]
    },
    {
      "cell_type": "code",
      "execution_count": 50,
      "metadata": {
        "colab": {
          "base_uri": "https://localhost:8080/"
        },
        "id": "WuDTzWQRBWHB",
        "outputId": "d5d15f3d-c5ab-4112-efde-df163b584a5e"
      },
      "outputs": [
        {
          "output_type": "stream",
          "name": "stdout",
          "text": [
            "Enter first number: 4\n",
            "Enter second number: 55\n",
            "Enter third number: 22\n",
            "The largest number is: 55.0\n"
          ]
        }
      ],
      "source": [
        "num1 = float(input(\"Enter first number: \"))\n",
        "num2 = float(input(\"Enter second number: \"))\n",
        "num3 = float(input(\"Enter third number: \"))\n",
        "\n",
        "largest = num1\n",
        "\n",
        "if num2 > largest:\n",
        "   largest = num2\n",
        "\n",
        "if num3 > largest:\n",
        "   largest = num3\n",
        "\n",
        "print(\"The largest number is:\", largest)"
      ]
    },
    {
      "cell_type": "markdown",
      "metadata": {
        "id": "QBskiNIlBWHB"
      },
      "source": [
        "## 15. Create a program that simulates a basic ATM transaction menu."
      ]
    },
    {
      "cell_type": "code",
      "execution_count": 51,
      "metadata": {
        "colab": {
          "base_uri": "https://localhost:8080/"
        },
        "id": "t-JxJ0RZBWHB",
        "outputId": "df030a0e-ffc2-47e4-fb0a-ff083ef51ffa"
      },
      "outputs": [
        {
          "output_type": "stream",
          "name": "stdout",
          "text": [
            "1. Check Balance\n",
            "2. Withdraw Cash\n",
            "3. Deposit Cash\n",
            "4. Exit\n",
            "Enter your choice: 2\n",
            "Enter amount to withdraw: 200\n",
            "Withdrawn 200.0. Remaining balance is 800.0\n",
            "1. Check Balance\n",
            "2. Withdraw Cash\n",
            "3. Deposit Cash\n",
            "4. Exit\n",
            "Enter your choice: 4\n",
            "Thank you for banking with us!\n"
          ]
        }
      ],
      "source": [
        "balance = 1000\n",
        "\n",
        "while True:\n",
        "\n",
        "  print(\"1. Check Balance\")\n",
        "  print(\"2. Withdraw Cash\")\n",
        "  print(\"3. Deposit Cash\")\n",
        "  print(\"4. Exit\")\n",
        "\n",
        "  choice = int(input(\"Enter your choice: \"))\n",
        "\n",
        "  if choice == 1:\n",
        "    print(f\"Your balance is {balance}\")\n",
        "\n",
        "  elif choice == 2:\n",
        "    amount = float(input(\"Enter amount to withdraw: \"))\n",
        "    if amount <= balance:\n",
        "      balance -= amount\n",
        "      print(f\"Withdrawn {amount}. Remaining balance is {balance}\")\n",
        "    else:\n",
        "      print(\"Insufficient balance\")\n",
        "\n",
        "  elif choice == 3:\n",
        "    amount = float(input(\"Enter amount to deposit: \"))\n",
        "    balance += amount\n",
        "    print(f\"Deposited {amount}. New balance is {balance}\")\n",
        "\n",
        "  elif choice == 4:\n",
        "    print(\"Thank you for banking with us!\")\n",
        "    break\n",
        "\n",
        "  else:\n",
        "    print(\"Invalid option, please try again\")"
      ]
    },
    {
      "cell_type": "markdown",
      "metadata": {
        "id": "_-yLV_mqBWHC"
      },
      "source": [
        "## 16. Build a program that checks if a given string is a palindrome or not."
      ]
    },
    {
      "cell_type": "code",
      "execution_count": 52,
      "metadata": {
        "colab": {
          "base_uri": "https://localhost:8080/"
        },
        "id": "AERK9E-uBWHC",
        "outputId": "5c738751-f640-4b1e-c970-cb86e777dec7"
      },
      "outputs": [
        {
          "output_type": "stream",
          "name": "stdout",
          "text": [
            "Enter a string: irfan\n",
            "irfan is not a palindrome\n"
          ]
        }
      ],
      "source": [
        "string = input(\"Enter a string: \").lower()\n",
        "reverse = string[::-1]\n",
        "\n",
        "if string == reverse:\n",
        "   print(f\"{string} is a palindrome\")\n",
        "else:\n",
        "   print(f\"{string} is not a palindrome\")"
      ]
    },
    {
      "cell_type": "markdown",
      "metadata": {
        "id": "NDN1ryfKBWHC"
      },
      "source": [
        "## 17. Write a program that calculates the average of a list of numbers, excluding the smallest and largest values"
      ]
    },
    {
      "cell_type": "code",
      "execution_count": 53,
      "metadata": {
        "colab": {
          "base_uri": "https://localhost:8080/"
        },
        "id": "ur1y8EYbBWHC",
        "outputId": "0e137047-2084-4bf9-95af-de88fdb2f70f"
      },
      "outputs": [
        {
          "output_type": "stream",
          "name": "stdout",
          "text": [
            "Average of numbers excluding min and max is: 5.833333333333333\n"
          ]
        }
      ],
      "source": [
        "numbers = [5,3,8,4,9,10,2,6]\n",
        "\n",
        "# Sort list to find min and max\n",
        "numbers.sort()\n",
        "\n",
        "# Exclude min and max from list\n",
        "numbers = numbers[1:-1]\n",
        "\n",
        "# Calculate sum\n",
        "sum = 0\n",
        "for num in numbers:\n",
        "   sum += num\n",
        "\n",
        "# Calculate average\n",
        "average = sum / len(numbers)\n",
        "\n",
        "print(f\"Average of numbers excluding min and max is: {average}\")"
      ]
    },
    {
      "cell_type": "markdown",
      "metadata": {
        "id": "AgbX15jTBWHD"
      },
      "source": [
        "## 18. Develop a program that converts a given temperature from Celsius to Fahrenheit."
      ]
    },
    {
      "cell_type": "code",
      "execution_count": 54,
      "metadata": {
        "colab": {
          "base_uri": "https://localhost:8080/"
        },
        "id": "d34T-4jiBWHD",
        "outputId": "40aadba3-7a1c-4412-90c5-b54b116302cb"
      },
      "outputs": [
        {
          "output_type": "stream",
          "name": "stdout",
          "text": [
            "212.0\n"
          ]
        }
      ],
      "source": [
        "def celsius_to_fahrenheit(celsius):\n",
        "  \"\"\"Converts a given temperature from Celsius to Fahrenheit.\n",
        "\n",
        "  Args:\n",
        "    celsius: The temperature in Celsius.\n",
        "\n",
        "  Returns:\n",
        "    The temperature in Fahrenheit.\n",
        "  \"\"\"\n",
        "\n",
        "  fahrenheit = (celsius * 9/5) + 32\n",
        "  return fahrenheit\n",
        "\n",
        "\n",
        "# Example usage:\n",
        "\n",
        "celsius = 100\n",
        "fahrenheit = celsius_to_fahrenheit(celsius)\n",
        "\n",
        "print(fahrenheit)  # 212.0"
      ]
    },
    {
      "cell_type": "markdown",
      "metadata": {
        "id": "nA6KBGDmBWHD"
      },
      "source": [
        "## 19. Create a program that simulates a basic calculator for addition, subtraction, multiplication, and division."
      ]
    },
    {
      "cell_type": "code",
      "execution_count": 56,
      "metadata": {
        "colab": {
          "base_uri": "https://localhost:8080/",
          "height": 279
        },
        "id": "MNP9Hr3EBWHE",
        "outputId": "5dea7629-7320-46ae-c697-8104b976e18a"
      },
      "outputs": [
        {
          "output_type": "stream",
          "name": "stdout",
          "text": [
            "Enter 1 for addition\n",
            "Enter 2 for subtraction\n",
            "Enter 3 for multiplication\n",
            "Enter 4 for division\n",
            "Enter 5 to exit\n",
            "Enter your choice: 5\n",
            "Thank you for working with us!\n"
          ]
        },
        {
          "output_type": "error",
          "ename": "SystemExit",
          "evalue": "ignored",
          "traceback": [
            "An exception has occurred, use %tb to see the full traceback.\n",
            "\u001b[0;31mSystemExit\u001b[0m\n"
          ]
        },
        {
          "output_type": "stream",
          "name": "stderr",
          "text": [
            "/usr/local/lib/python3.10/dist-packages/IPython/core/interactiveshell.py:3561: UserWarning: To exit: use 'exit', 'quit', or Ctrl-D.\n",
            "  warn(\"To exit: use 'exit', 'quit', or Ctrl-D.\", stacklevel=1)\n"
          ]
        }
      ],
      "source": [
        "import sys\n",
        "\n",
        "while True:\n",
        "    print(\"Enter 1 for addition\")\n",
        "    print(\"Enter 2 for subtraction\")\n",
        "    print(\"Enter 3 for multiplication\")\n",
        "    print(\"Enter 4 for division\")\n",
        "    print(\"Enter 5 to exit\")\n",
        "\n",
        "    choice = input(\"Enter your choice: \")\n",
        "\n",
        "    if choice == '5':\n",
        "        print(\"Thank you for working with us!\")\n",
        "        sys.exit()\n",
        "\n",
        "    num1 = float(input(\"Enter first number: \"))\n",
        "    num2 = float(input(\"Enter second number: \"))\n",
        "\n",
        "    if choice == '1':\n",
        "        print(num1, \"+\", num2, \"=\", num1 + num2)\n",
        "\n",
        "    elif choice == '2':\n",
        "        print(num1, \"-\", num2, \"=\", num1 - num2)\n",
        "\n",
        "    elif choice == '3':\n",
        "        print(num1, \"*\", num2, \"=\", num1 * num2)\n",
        "\n",
        "    elif choice == '4':\n",
        "        if num2 == 0:\n",
        "            print(\"Division by zero is not allowed\")\n",
        "        else:\n",
        "            print(num1, \"/\", num2, \"=\", num1 / num2)\n",
        "\n",
        "    else:\n",
        "        print(\"Invalid Choice\")"
      ]
    },
    {
      "cell_type": "markdown",
      "metadata": {
        "id": "nfRfKyRuBWHE"
      },
      "source": [
        "## 20. Write a program that determines the roots of a cubic equation using the Cardano formula."
      ]
    },
    {
      "cell_type": "code",
      "execution_count": 59,
      "metadata": {
        "colab": {
          "base_uri": "https://localhost:8080/"
        },
        "id": "pVt4EAq0BWHF",
        "outputId": "a5145790-073a-4b20-acb5-0530525edb08"
      },
      "outputs": [
        {
          "output_type": "stream",
          "name": "stdout",
          "text": [
            "Enter a: 5\n",
            "Enter b: 5\n",
            "Enter c: 5\n",
            "One real and two complex roots: -0.3333333333333333 (-0.5049212052781209+0.06539179598507296j) (0.5049212052781209-0.06539179598507296j)\n"
          ]
        }
      ],
      "source": [
        "import cmath\n",
        "\n",
        "a = float(input(\"Enter a: \"))\n",
        "b = float(input(\"Enter b: \"))\n",
        "c = float(input(\"Enter c: \"))\n",
        "\n",
        "d = (b**2) - (3*a*c)\n",
        "e = (b**3) - (9*a*b*c) + (27*a**2*c)\n",
        "\n",
        "if d == 0 and e == 0:\n",
        "   root1 = -b/(3*a)\n",
        "   print(\"Three real and equal roots:\", root1)\n",
        "\n",
        "elif d < 0:\n",
        "   theta = cmath.acos(e/d**1.5)\n",
        "   root1 = -b/(3*a)\n",
        "   root2 = 2*(cmath.cos(theta/3)-b)/(3*a)\n",
        "   root3 = -2*(cmath.cos(theta/3)-b)/(3*a)\n",
        "   print(\"One real and two complex roots:\", root1, root2, root3)\n",
        "\n",
        "else:\n",
        "   s = cmath.sqrt(d)\n",
        "   root1 = -b/(3*a) + s\n",
        "   root2 = -b/(3*a) - s\n",
        "   t = cmath.pow(root1, 3) + b*root1*(s-root1) - c\n",
        "   root3 = t/(root1*(s-root1))\n",
        "   print(\"Three real roots:\", root1, root2, root3)"
      ]
    },
    {
      "cell_type": "markdown",
      "metadata": {
        "id": "hzrrwxMtBWHF"
      },
      "source": [
        "## 21. Create a program that calculates the income tax based on the user's income and tax brackets"
      ]
    },
    {
      "cell_type": "code",
      "execution_count": 60,
      "metadata": {
        "colab": {
          "base_uri": "https://localhost:8080/"
        },
        "id": "DMaC1E1XBWHF",
        "outputId": "8153b2ef-fcc1-4239-d109-5ee950a3f032"
      },
      "outputs": [
        {
          "output_type": "stream",
          "name": "stdout",
          "text": [
            "Enter your annual income: 5000\n",
            "You need to pay $500.00 in taxes.\n"
          ]
        }
      ],
      "source": [
        " tax_brackets = {\n",
        "   'up_to_10k': 0.1,\n",
        "   '10k_to_20k': 0.15,\n",
        "   '20k_to_30k': 0.2,\n",
        "   'above_30k': 0.25\n",
        "}\n",
        "\n",
        "income = float(input('Enter your annual income: '))\n",
        "\n",
        "tax = 0\n",
        "\n",
        "if income <= 10000:\n",
        "  tax_bracket = 'up_to_10k'\n",
        "elif income <= 20000:\n",
        "  tax_bracket = '10k_to_20k'\n",
        "elif income <= 30000:\n",
        "  tax_bracket = '20k_to_30k'\n",
        "else:\n",
        "  tax_bracket = 'above_30k'\n",
        "\n",
        "tax_rate = tax_brackets[tax_bracket]\n",
        "\n",
        "if tax_bracket != 'above_30k':\n",
        "  tax = income * tax_rate\n",
        "else:\n",
        "  tax = income * tax_rate + (income-30000) * 0.05\n",
        "\n",
        "print(f'You need to pay ${tax:,.2f} in taxes.')"
      ]
    },
    {
      "cell_type": "markdown",
      "metadata": {
        "id": "biB9RBaABWHG"
      },
      "source": [
        "## 22. Write a program that simulates a rock-paper-scissors game against the computer."
      ]
    },
    {
      "cell_type": "code",
      "execution_count": 61,
      "metadata": {
        "colab": {
          "base_uri": "https://localhost:8080/"
        },
        "id": "62jFh01WBWHG",
        "outputId": "532c8cd2-fdc7-4cde-8315-a60b40eb3b52"
      },
      "outputs": [
        {
          "name": "stdout",
          "output_type": "stream",
          "text": [
            "Enter your choice: \n",
            "r for rock\n",
            "p for paper\n",
            "s for scissors\n",
            "p\n",
            "Computer chose: r\n",
            "You win! Paper beats rock\n",
            "Play again? (y/n): n\n"
          ]
        }
      ],
      "source": [
        "import random\n",
        "\n",
        "choices = ['r', 'p', 's']\n",
        "\n",
        "while True:\n",
        "  print(\"Enter your choice: \")\n",
        "  print(\"r for rock\")\n",
        "  print(\"p for paper\")\n",
        "  print(\"s for scissors\")\n",
        "\n",
        "  player = input()\n",
        "\n",
        "  if player not in choices:\n",
        "    print(\"Invalid choice!\")\n",
        "    continue\n",
        "\n",
        "  random_num = random.randint(0,2)\n",
        "  computer = choices[random_num]\n",
        "\n",
        "  print(f\"Computer chose: {computer}\")\n",
        "\n",
        "  if player == computer:\n",
        "    print(\"It's a tie!\")\n",
        "  elif player == 'r' and computer == 's':\n",
        "    print(\"You win! Rock beats scissors\")\n",
        "  elif player == 'r' and computer == 'p':\n",
        "    print(\"You lose! Paper beats rock\")\n",
        "  elif player == 's' and computer == 'p':\n",
        "    print(\"You win! Scissors beat paper\")\n",
        "  elif player == 's' and computer == 'r':\n",
        "    print(\"You lose! Rock beats scissors\")\n",
        "  elif player == 'p' and computer == 'r':\n",
        "    print(\"You win! Paper beats rock\")\n",
        "  elif player == 'p' and computer == 's':\n",
        "    print(\"You lose! Scissors beat paper\")\n",
        "\n",
        "  play_again = input(\"Play again? (y/n): \")\n",
        "  if play_again.lower() != 'y':\n",
        "    break"
      ]
    },
    {
      "cell_type": "markdown",
      "metadata": {
        "id": "PrC0COcLBWHH"
      },
      "source": [
        "## 23. Develop a program that generates a random password based on user preferences (length, complexity)."
      ]
    },
    {
      "cell_type": "code",
      "execution_count": 71,
      "metadata": {
        "colab": {
          "base_uri": "https://localhost:8080/"
        },
        "id": "v-0ThFtkBWHH",
        "outputId": "028455d4-cd81-42c9-df59-62a982baa1f8"
      },
      "outputs": [
        {
          "output_type": "stream",
          "name": "stdout",
          "text": [
            "Enter password length: 4\n",
            "Enter number of numeric characters: 3\n",
            "Enter number of symbol characters: 1\n",
            "Generated password:  807-\n"
          ]
        }
      ],
      "source": [
        "import random\n",
        "import string\n",
        "\n",
        "characters = string.ascii_letters + string.digits + string.punctuation\n",
        "\n",
        "length = int(input(\"Enter password length: \"))\n",
        "\n",
        "num_nums = int(input(\"Enter number of numeric characters: \"))\n",
        "num_symbols = int(input(\"Enter number of symbol characters: \"))\n",
        "\n",
        "nums = random.sample(string.digits, num_nums)\n",
        "symbols = random.sample(string.punctuation, num_symbols)\n",
        "\n",
        "password = random.sample(string.ascii_letters, length-num_nums-num_symbols)\n",
        "password.extend(nums)\n",
        "password.extend(symbols)\n",
        "\n",
        "random.shuffle(password)\n",
        "\n",
        "print(\"Generated password: \", \"\".join(password))"
      ]
    },
    {
      "cell_type": "markdown",
      "metadata": {
        "id": "5369SvUoBWHI"
      },
      "source": [
        "## 24. Create a program that implements a simple text-based adventure game with branching scenarios."
      ]
    },
    {
      "cell_type": "code",
      "execution_count": 72,
      "metadata": {
        "colab": {
          "base_uri": "https://localhost:8080/"
        },
        "id": "V5MwSEXWBWHI",
        "outputId": "876c279e-707b-483c-c675-b55e2231b080"
      },
      "outputs": [
        {
          "output_type": "stream",
          "name": "stdout",
          "text": [
            "You find yourself in a dark forest. You see a path split into two directions ahead of you.\n",
            "Do you go left or right?\n",
            "> left\n",
            "You go left down the path. After walking for a while, you come across a rushing river.\n",
            "Do you try to cross it or turn back?\n",
            "> cross\n",
            "You try to cross the river but slip and fall in. Game over!\n"
          ]
        }
      ],
      "source": [
        "print(\"You find yourself in a dark forest. You see a path split into two directions ahead of you.\")\n",
        "print(\"Do you go left or right?\")\n",
        "choice = input(\"> \").lower()\n",
        "\n",
        "if choice == \"left\":\n",
        "  print(\"You go left down the path. After walking for a while, you come across a rushing river.\")\n",
        "  print(\"Do you try to cross it or turn back?\")\n",
        "  crossing = input(\"> \").lower()\n",
        "\n",
        "  if crossing == \"cross\":\n",
        "    print(\"You try to cross the river but slip and fall in. Game over!\")\n",
        "  else:\n",
        "    print(\"You decide not to risk crossing and turn back safely.\")\n",
        "\n",
        "elif choice == \"right\":\n",
        "  print(\"You go right down the path and eventually come to a clearing with a lonely cabin.\")\n",
        "  print(\"Do you knock on the door of the cabin or continue down the path?\")\n",
        "  cabin = input(\"> \").lower()\n",
        "\n",
        "  if cabin == \"knock\":\n",
        "    print(\"You knock on the door and find an old man who gives you supplies. You win!\")\n",
        "  else:\n",
        "    print(\"Continuing down the path, you are attacked by wolves. Game over!\")\n",
        "\n",
        "else:\n",
        "  print(\"I did not understand that command. Game over!\")"
      ]
    },
    {
      "cell_type": "markdown",
      "metadata": {
        "id": "m9Xyhli7BWHI"
      },
      "source": [
        "## 25. Build a program that solves a linear equation  for x, considering different cases."
      ]
    },
    {
      "cell_type": "code",
      "execution_count": 1,
      "metadata": {
        "colab": {
          "base_uri": "https://localhost:8080/"
        },
        "id": "mhfzOxHkBWHJ",
        "outputId": "767f97be-dcbc-481d-afdb-5f2495bb724e"
      },
      "outputs": [
        {
          "output_type": "stream",
          "name": "stdout",
          "text": [
            "Enter the linear equation separated by commas: 2x +3 = 5\n",
            "Invalid input. Please enter a valid linear equation in the format 'ax + b'.\n"
          ]
        }
      ],
      "source": [
        "import sympy\n",
        "\n",
        "x = sympy.Symbol('x')\n",
        "\n",
        "eq_input = input(\"Enter the linear equation separated by commas: \")\n",
        "eq_parts = eq_input.split(\",\")\n",
        "\n",
        "if len(eq_parts) != 2:\n",
        "    print(\"Invalid input. Please enter a valid linear equation in the format 'ax + b'.\")\n",
        "else:\n",
        "    try:\n",
        "        a = float(eq_parts[0])\n",
        "        b = float(eq_parts[1])\n",
        "\n",
        "        if a == 0:\n",
        "            if b == 0:\n",
        "                print(\"Infinite solutions\")\n",
        "            else:\n",
        "                print(\"No solution\")\n",
        "        else:\n",
        "            root = -b/a\n",
        "            print(f\"The solution is: x = {root}\")\n",
        "    except ValueError:\n",
        "        print(\"Invalid input. Please enter valid numeric coefficients for 'a' and 'b'.\")"
      ]
    },
    {
      "cell_type": "markdown",
      "metadata": {
        "id": "HFVaTqm8BWHJ"
      },
      "source": [
        "## 26. Write a program that simulates a basic quiz game with multiple-choice questions and scoring."
      ]
    },
    {
      "cell_type": "code",
      "execution_count": 2,
      "metadata": {
        "colab": {
          "base_uri": "https://localhost:8080/"
        },
        "id": "wxzCa79NBWHJ",
        "outputId": "fad3c997-dd58-4bb3-c2af-8b6ce723a4e5"
      },
      "outputs": [
        {
          "output_type": "stream",
          "name": "stdout",
          "text": [
            "What is the capital of India?\n",
            "Delhi\n",
            "Mumbai\n",
            "Kolkata\n",
            "Chennai\n",
            "Enter your answer: Delhi\n",
            "Correct!\n",
            "Who is considered the father of Python?\n",
            "Guido van Rossum\n",
            "Elon Musk\n",
            "Mark Zuckerberg\n",
            "Bill Gates\n",
            "Enter your answer: Guido van Rossum\n",
            "Correct!\n",
            "Your total score is 2 out of 2\n"
          ]
        }
      ],
      "source": [
        "questions = [\n",
        "  {\"question\": \"What is the capital of India?\",\n",
        "   \"options\": [\"Delhi\", \"Mumbai\", \"Kolkata\", \"Chennai\"],\n",
        "   \"answer\": \"Delhi\"},\n",
        "\n",
        "  {\"question\": \"Who is considered the father of Python?\",\n",
        "   \"options\": [\"Guido van Rossum\", \"Elon Musk\", \"Mark Zuckerberg\", \"Bill Gates\"],\n",
        "   \"answer\": \"Guido van Rossum\"},\n",
        "\n",
        "  # more questions\n",
        "]\n",
        "\n",
        "score = 0\n",
        "\n",
        "for question in questions:\n",
        "  print(question[\"question\"])\n",
        "  for opt in question[\"options\"]:\n",
        "    print(opt)\n",
        "\n",
        "  ans = input(\"Enter your answer: \")\n",
        "\n",
        "  if ans == question[\"answer\"]:\n",
        "    print(\"Correct!\")\n",
        "    score += 1\n",
        "  else:\n",
        "    print(\"Incorrect!\")\n",
        "\n",
        "print(f\"Your total score is {score} out of {len(questions)}\")"
      ]
    },
    {
      "cell_type": "markdown",
      "metadata": {
        "id": "1X8CondLBWHJ"
      },
      "source": [
        "## 27. Develop a program that determines whether a given year is a prime number or not"
      ]
    },
    {
      "cell_type": "code",
      "execution_count": 3,
      "metadata": {
        "colab": {
          "base_uri": "https://localhost:8080/"
        },
        "id": "0_eakT5JBWHK",
        "outputId": "ad9ae9d3-5b92-4618-be45-a1eae13a2654"
      },
      "outputs": [
        {
          "output_type": "stream",
          "name": "stdout",
          "text": [
            "False\n",
            "False\n"
          ]
        }
      ],
      "source": [
        "def is_prime(year):\n",
        "  \"\"\"Returns True if the given year is a prime number, False otherwise.\"\"\"\n",
        "  if year <= 1:\n",
        "    return False\n",
        "  for i in range(2, int(year**0.5) + 1):\n",
        "    if year % i == 0:\n",
        "      return False\n",
        "  return True\n",
        "\n",
        "\n",
        "# Example usage:\n",
        "\n",
        "print(is_prime(2023))  # True\n",
        "print(is_prime(2022))  # False"
      ]
    },
    {
      "cell_type": "markdown",
      "metadata": {
        "id": "3a-1tsdnBWHK"
      },
      "source": [
        "## 28. Create a program that sorts three numbers in ascending order using conditional statements"
      ]
    },
    {
      "cell_type": "code",
      "execution_count": 4,
      "metadata": {
        "colab": {
          "base_uri": "https://localhost:8080/"
        },
        "id": "qxlIZaFKBWHK",
        "outputId": "64c643d8-bfd9-4af5-8067-184899b280b5"
      },
      "outputs": [
        {
          "output_type": "stream",
          "name": "stdout",
          "text": [
            "Enter first number: 5\n",
            "Enter second number: 6\n",
            "Enter third number: 3\n",
            "3.0 5.0 6.0\n"
          ]
        }
      ],
      "source": [
        "num1 = float(input(\"Enter first number: \"))\n",
        "num2 = float(input(\"Enter second number: \"))\n",
        "num3 = float(input(\"Enter third number: \"))\n",
        "\n",
        "if num1 < num2 and num1 < num3:\n",
        "  if num2 < num3:\n",
        "    print(num1, num2, num3)\n",
        "  else:\n",
        "    print(num1, num3, num2)\n",
        "\n",
        "elif num2 < num1 and num2 < num3:\n",
        "  if num1 < num3:\n",
        "    print(num2, num1, num3)\n",
        "  else:\n",
        "    print(num2, num3, num1)\n",
        "\n",
        "else:\n",
        "  if num1 < num2:\n",
        "    print(num3, num1, num2)\n",
        "  else:\n",
        "    print(num3, num2, num1)"
      ]
    },
    {
      "cell_type": "markdown",
      "metadata": {
        "id": "y2nsj5jCBWHL"
      },
      "source": [
        "## 29. Build a program that determines the roots of a quartic equation using numerical methods."
      ]
    },
    {
      "cell_type": "code",
      "execution_count": 5,
      "metadata": {
        "colab": {
          "base_uri": "https://localhost:8080/"
        },
        "id": "893wuYo7BWHL",
        "outputId": "26484c0e-edd9-4387-c728-3a596945ebce"
      },
      "outputs": [
        {
          "output_type": "stream",
          "name": "stdout",
          "text": [
            "Enter a: 5\n",
            "Enter b: 6\n",
            "Enter c: 9\n",
            "Enter d: 4\n",
            "Enter e: 2\n",
            "Roots are:  []\n"
          ]
        }
      ],
      "source": [
        "import math\n",
        "\n",
        "def f(x):\n",
        "  return a*x**4 + b*x**3 + c*x**2 + d*x + e\n",
        "\n",
        "def f_dash(x):\n",
        "  return 4*a*x**3 + 3*b*x**2 + 2*c*x + d\n",
        "\n",
        "a = float(input(\"Enter a: \"))\n",
        "b = float(input(\"Enter b: \"))\n",
        "c = float(input(\"Enter c: \"))\n",
        "d = float(input(\"Enter d: \"))\n",
        "e = float(input(\"Enter e: \"))\n",
        "\n",
        "epsilon = 0.001\n",
        "max_iter = 100\n",
        "\n",
        "roots = []\n",
        "\n",
        "for i in range(-10,10):\n",
        "  x = i\n",
        "  for j in range(max_iter):\n",
        "    x_new = x - f(x)/f_dash(x)\n",
        "    if abs(x_new-x) < epsilon:\n",
        "      roots.append(x_new)\n",
        "      break\n",
        "    x = x_new\n",
        "\n",
        "print(\"Roots are: \", roots)"
      ]
    },
    {
      "cell_type": "markdown",
      "metadata": {
        "id": "3Cf4PfufBWHL"
      },
      "source": [
        "## 30. Write a program that calculates the BMI (Body Mass Index) and provides health recommendations based on the user's input."
      ]
    },
    {
      "cell_type": "code",
      "execution_count": 6,
      "metadata": {
        "colab": {
          "base_uri": "https://localhost:8080/"
        },
        "id": "Aktcr8SyBWHM",
        "outputId": "9543496d-eea5-4a2a-e3b8-2d82f1234051"
      },
      "outputs": [
        {
          "output_type": "stream",
          "name": "stdout",
          "text": [
            "BMI Calculator\n",
            "Enter your weight in kg: 60\n",
            "Enter your height in meters: 1.7\n",
            "Your BMI is: 20.761245674740486\n",
            "You have a normal weight\n",
            "Thank you!\n"
          ]
        }
      ],
      "source": [
        "import math\n",
        "\n",
        "print(\"BMI Calculator\")\n",
        "\n",
        "weight = float(input(\"Enter your weight in kg: \"))\n",
        "height = float(input(\"Enter your height in meters: \"))\n",
        "\n",
        "bmi = weight / math.pow(height, 2)\n",
        "\n",
        "print(\"Your BMI is:\", bmi)\n",
        "\n",
        "if bmi < 18.5:\n",
        "  print(\"You are underweight\")\n",
        "elif bmi < 25:\n",
        "  print(\"You have a normal weight\")\n",
        "elif bmi < 30:\n",
        "  print(\"You are overweight\")\n",
        "else:\n",
        "  print(\"You are obese\")\n",
        "\n",
        "print(\"Thank you!\")"
      ]
    },
    {
      "cell_type": "code",
      "execution_count": 8,
      "metadata": {
        "colab": {
          "base_uri": "https://localhost:8080/"
        },
        "id": "EV_sosaLBWHM",
        "outputId": "07f3a2ec-95fb-4461-9ec7-eb12bd9625f6"
      },
      "outputs": [
        {
          "output_type": "stream",
          "name": "stdout",
          "text": [
            "Welcome to the BMI Calculator!\n",
            "Please enter your weight in kilograms and height in meters:\n",
            "Weight: 60\n",
            "Height: 1.7\n",
            "Your BMI is 20.76. Your BMI is healthy. Keep up the good work!\n"
          ]
        }
      ],
      "source": [
        "def calculate_bmi(weight, height):\n",
        "    \"\"\"\n",
        "    Calculate BMI from weight and height.\n",
        "\n",
        "    :param weight: Weight in kilograms\n",
        "    :param height: Height in meters\n",
        "    :return: BMI\n",
        "    \"\"\"\n",
        "    return weight / (height ** 2)\n",
        "\n",
        "def get_health_recommendations(bmi_value):\n",
        "    if bmi_value < 18.5:\n",
        "        return \"Please consult a doctor for further evaluation.\"\n",
        "    elif 18.5 <= bmi_value <= 24.9:\n",
        "        return \"Your BMI is healthy. Keep up the good work!\"\n",
        "    elif 25 <= bmi_value <= 29.9:\n",
        "        return \"Please maintain a healthy diet and engage in regular physical activity.\"\n",
        "    else:\n",
        "        return \"Please consult a doctor for professional advice on weight management.\"\n",
        "\n",
        "def main():\n",
        "    print(\"Welcome to the BMI Calculator!\")\n",
        "    print(\"Please enter your weight in kilograms and height in meters:\")\n",
        "    weight = float(input(\"Weight: \"))\n",
        "    height = float(input(\"Height: \"))\n",
        "\n",
        "    bmi_value = calculate_bmi(weight, height)\n",
        "    health_recommendations = get_health_recommendations(bmi_value)\n",
        "\n",
        "    print(f\"Your BMI is {bmi_value:.2f}. {health_recommendations}\")\n",
        "\n",
        "if __name__ == \"__main__\":\n",
        "    main()"
      ]
    },
    {
      "cell_type": "markdown",
      "metadata": {
        "id": "gh90xNqzBWHM"
      },
      "source": [
        "## 31. Create a program that validates a password based on complexity rules (length, characters, etc.)"
      ]
    },
    {
      "cell_type": "code",
      "execution_count": 9,
      "metadata": {
        "colab": {
          "base_uri": "https://localhost:8080/"
        },
        "id": "z3ntyJeQBWHN",
        "outputId": "11568387-1db6-4595-eb8b-8f2a44b5c53e"
      },
      "outputs": [
        {
          "output_type": "stream",
          "name": "stdout",
          "text": [
            "Enter password: irfan456\n",
            "Must contain at least one uppercase letter\n"
          ]
        }
      ],
      "source": [
        "import re\n",
        "\n",
        "def validate_password(password):\n",
        "\n",
        "  # Minimum length 8 characters\n",
        "  if len(password) < 8:\n",
        "    print(\"Password is too short\")\n",
        "    return False\n",
        "\n",
        "  # At least one uppercase letter\n",
        "  if not re.search(r'[A-Z]', password):\n",
        "    print(\"Must contain at least one uppercase letter\")\n",
        "    return False\n",
        "\n",
        "  # At least one lowercase letter\n",
        "  if not re.search(r'[a-z]', password):\n",
        "    print(\"Must contain at least one lowercase letter\")\n",
        "    return False\n",
        "\n",
        "  # At least one digit\n",
        "  if not re.search(r'\\d', password):\n",
        "    print(\"Must contain at least one digit\")\n",
        "    return False\n",
        "\n",
        "  # At least one special character\n",
        "  if not re.search(r'[@#$]', password):\n",
        "    print(\"Must contain at least one special character from @#$\")\n",
        "    return False\n",
        "\n",
        "  print(\"Valid password\")\n",
        "  return True\n",
        "\n",
        "password = input(\"Enter password: \")\n",
        "\n",
        "if validate_password(password):\n",
        "  print(\"Password validated\")"
      ]
    },
    {
      "cell_type": "markdown",
      "metadata": {
        "id": "fJoZQbQdBWHN"
      },
      "source": [
        "## 32. Develop a program that performs matrix addition and subtraction based on user input."
      ]
    },
    {
      "cell_type": "code",
      "execution_count": 10,
      "metadata": {
        "colab": {
          "base_uri": "https://localhost:8080/"
        },
        "id": "obKQHC7dBWHN",
        "outputId": "137eef80-2f5e-49cb-a80c-3f6b2a53f438"
      },
      "outputs": [
        {
          "output_type": "stream",
          "name": "stdout",
          "text": [
            "Matrix Calculator\n",
            "Enter number of rows: 2\n",
            "Enter number of columns: 2\n",
            "Enter elements of first matrix:\n",
            "2\n",
            "2\n",
            "2\n",
            "2\n",
            "Enter elements of second matrix:\n",
            "3\n",
            "3\n",
            "3\n",
            "3\n",
            "1. Add matrices\n",
            "2. Subtract matrices\n",
            "Enter choice: 1\n",
            "Sum is:\n",
            "[[5 5]\n",
            " [5 5]]\n"
          ]
        }
      ],
      "source": [
        "import numpy as np\n",
        "\n",
        "print(\"Matrix Calculator\")\n",
        "\n",
        "row1 = int(input(\"Enter number of rows: \"))\n",
        "col1 = int(input(\"Enter number of columns: \"))\n",
        "\n",
        "print(\"Enter elements of first matrix:\")\n",
        "mat1 = np.array([[int(input()) for j in range(col1)] for i in range(row1)])\n",
        "\n",
        "print(\"Enter elements of second matrix:\")\n",
        "mat2 = np.array([[int(input()) for j in range(col1)] for i in range(row1)])\n",
        "\n",
        "print(\"1. Add matrices\")\n",
        "print(\"2. Subtract matrices\")\n",
        "choice = int(input(\"Enter choice: \"))\n",
        "\n",
        "if choice==1:\n",
        "  sum = mat1 + mat2\n",
        "  print(\"Sum is:\")\n",
        "  print(sum)\n",
        "\n",
        "elif choice==2:\n",
        "  diff = mat1 - mat2\n",
        "  print(\"Difference is:\")\n",
        "  print(diff)\n",
        "\n",
        "else:\n",
        "  print(\"Invalid choice!\")"
      ]
    },
    {
      "cell_type": "markdown",
      "metadata": {
        "id": "uN9h8V52BWHN"
      },
      "source": [
        "## 33. Write a program that calculates the greatest common divisor (GCD) of two numbers using the Euclidean algorithm."
      ]
    },
    {
      "cell_type": "code",
      "execution_count": 11,
      "metadata": {
        "colab": {
          "base_uri": "https://localhost:8080/"
        },
        "id": "KyZDVvZcBWHO",
        "outputId": "95a28c4a-d31d-476b-9c46-89189175c7f0"
      },
      "outputs": [
        {
          "output_type": "stream",
          "name": "stdout",
          "text": [
            "Enter first number: 67\n",
            "Enter second number: 44\n",
            "GCD of 67 and 44 is 1\n"
          ]
        }
      ],
      "source": [
        "def gcd(a, b):\n",
        "  while b != 0:\n",
        "    remainder = a % b\n",
        "    a = b\n",
        "    b = remainder\n",
        "  return a\n",
        "\n",
        "num1 = int(input(\"Enter first number: \"))\n",
        "num2 = int(input(\"Enter second number: \"))\n",
        "\n",
        "gcd = gcd(num1, num2)\n",
        "\n",
        "print(\"GCD of\", num1, \"and\", num2, \"is\", gcd)"
      ]
    },
    {
      "cell_type": "markdown",
      "metadata": {
        "id": "BYaTm8wNBWHO"
      },
      "source": [
        "## 34. Build a program that performs matrix multiplication using nested loops and conditional statements."
      ]
    },
    {
      "cell_type": "code",
      "execution_count": 13,
      "metadata": {
        "colab": {
          "base_uri": "https://localhost:8080/"
        },
        "id": "d2v4D-nYBWHO",
        "outputId": "17a3873c-5d46-432a-fd09-f059789eaead"
      },
      "outputs": [
        {
          "output_type": "stream",
          "name": "stdout",
          "text": [
            "Enter number of rows in first matrix: 2\n",
            "Enter number of columns in first matrix: 2\n",
            "Enter number of rows in second matrix: 2\n",
            "Enter number of columns in second matrix: 2\n",
            "Enter elements of first matrix:\n",
            "3\n",
            "3\n",
            "3\n",
            "3\n",
            "Enter elements of second matrix:\n",
            "3\n",
            "3\n",
            "3\n",
            "3\n",
            "Result:\n",
            "[18, 18]\n",
            "[18, 18]\n"
          ]
        }
      ],
      "source": [
        "row1 = int(input(\"Enter number of rows in first matrix: \"))\n",
        "col1 = int(input(\"Enter number of columns in first matrix: \"))\n",
        "row2 = int(input(\"Enter number of rows in second matrix: \"))\n",
        "col2 = int(input(\"Enter number of columns in second matrix: \"))\n",
        "\n",
        "if col1 != row2:\n",
        "  print(\"Matrices cannot be multiplied!\")\n",
        "  exit()\n",
        "\n",
        "mat1 = []\n",
        "print(\"Enter elements of first matrix:\")\n",
        "for i in range(row1):\n",
        "  row = []\n",
        "  for j in range(col1):\n",
        "    row.append(int(input()))\n",
        "  mat1.append(row)\n",
        "\n",
        "mat2 = []\n",
        "print(\"Enter elements of second matrix:\")\n",
        "for i in range(row2):\n",
        "  row = []\n",
        "  for j in range(col2):\n",
        "    row.append(int(input()))\n",
        "  mat2.append(row)\n",
        "\n",
        "result = [[0 for x in range(col2)] for y in range(row1)]\n",
        "\n",
        "for i in range(row1):\n",
        "  for j in range(col2):\n",
        "    for k in range(col1):\n",
        "      result[i][j] += mat1[i][k] * mat2[k][j]\n",
        "\n",
        "print(\"Result:\")\n",
        "for r in result:\n",
        "  print(r)"
      ]
    },
    {
      "cell_type": "markdown",
      "metadata": {
        "id": "rkiIz_shBWHP"
      },
      "source": [
        "## 35. Create a program that simulates a basic text-based tic-tac-toe game against the computer"
      ]
    },
    {
      "cell_type": "code",
      "execution_count": null,
      "metadata": {
        "id": "1KH6tUgZBWHP"
      },
      "outputs": [],
      "source": [
        "import random\n",
        "\n",
        "# Function to draw the Tic-Tac-Toe board\n",
        "def draw_board(board):\n",
        "    for row in board:\n",
        "        print(\" | \".join(row))\n",
        "        print(\"-\" * 9)\n",
        "\n",
        "# Function to check if a player has won\n",
        "def check_win(board, player):\n",
        "    for row in board:\n",
        "        if all(cell == player for cell in row):\n",
        "            return True\n",
        "\n",
        "    for col in range(3):\n",
        "        if all(row[col] == player for row in board):\n",
        "            return True\n",
        "\n",
        "    if all(board[i][i] == player for i in range(3)) or all(board[i][2 - i] == player for i in range(3)):\n",
        "        return True\n",
        "\n",
        "    return False\n",
        "\n",
        "# Function for computer's move\n",
        "def computer_move(board, computer_char, player_char):\n",
        "    for row in range(3):\n",
        "        for col in range(3):\n",
        "            if board[row][col] == ' ':\n",
        "                board[row][col] = computer_char\n",
        "                if check_win(board, computer_char):\n",
        "                    return (row, col)\n",
        "                board[row][col] = ' '\n",
        "\n",
        "    for row in range(3):\n",
        "        for col in range(3):\n",
        "            if board[row][col] == ' ':\n",
        "                board[row][col] = player_char\n",
        "                if check_win(board, player_char):\n",
        "                    board[row][col] = computer_char\n",
        "                    return (row, col)\n",
        "                board[row][col] = ' '\n",
        "\n",
        "    empty_cells = [(row, col) for row in range(3) for col in range(3) if board[row][col] == ' ']\n",
        "    return random.choice(empty_cells)\n",
        "\n",
        "# Main game loop\n",
        "def play_game():\n",
        "    board = [[' ' for _ in range(3)] for _ in range(3)]\n",
        "    player_char = input(\"Choose X or O: \").upper()\n",
        "    computer_char = 'X' if player_char == 'O' else 'O'\n",
        "\n",
        "    print(\"You are\", player_char)\n",
        "    print(\"Computer is\", computer_char)\n",
        "\n",
        "    if player_char not in ('X', 'O'):\n",
        "        print(\"Invalid choice. Please choose X or O.\")\n",
        "        return\n",
        "\n",
        "    player_turn = True\n",
        "\n",
        "    for _ in range(9):\n",
        "        draw_board(board)\n",
        "\n",
        "        if player_turn:\n",
        "            row, col = map(int, input(\"Enter row and column (e.g., 1 2): \").split())\n",
        "            row -= 1\n",
        "            col -= 1\n",
        "        else:\n",
        "            print(\"Computer's turn...\")\n",
        "            row, col = computer_move(board, computer_char, player_char)\n",
        "\n",
        "        if 0 <= row < 3 and 0 <= col < 3 and board[row][col] == ' ':\n",
        "            board[row][col] = player_char if player_turn else computer_char\n",
        "            if check_win(board, player_char if player_turn else computer_char):\n",
        "                draw_board(board)\n",
        "                print(\"Player\" if player_turn else \"Computer\", \"wins!\")\n",
        "                break\n",
        "            player_turn = not player_turn\n",
        "        else:\n",
        "            print(\"Invalid move. Try again.\")\n",
        "\n",
        "    else:\n",
        "        draw_board(board)\n",
        "        print(\"It's a draw!\")\n",
        "\n",
        "if __name__ == \"__main__\":\n",
        "    play_game()"
      ]
    },
    {
      "cell_type": "markdown",
      "metadata": {
        "id": "NxeEPJsPBWHQ"
      },
      "source": [
        "## 36. Write a program that generates Fibonacci numbers up to a specified term using iterative methods."
      ]
    },
    {
      "cell_type": "code",
      "execution_count": 16,
      "metadata": {
        "colab": {
          "base_uri": "https://localhost:8080/"
        },
        "id": "BG1VwHubBWHQ",
        "outputId": "869c9327-e4eb-46dd-9300-cc845e9f355c"
      },
      "outputs": [
        {
          "output_type": "stream",
          "name": "stdout",
          "text": [
            "How many terms? 3\n",
            "Fibonacci sequence:\n",
            "0\n",
            "1\n",
            "2\n"
          ]
        }
      ],
      "source": [
        "# Function to generate Fibonacci numbers\n",
        "def fibonacci(n):\n",
        "\n",
        "  # Initialize first two terms\n",
        "  a = 0\n",
        "  b = 1\n",
        "\n",
        "  # Check if the number of terms is valid\n",
        "  if n < 1:\n",
        "    print(\"Please enter a positive integer\")\n",
        "\n",
        "  # Generate Fibonacci sequence\n",
        "  else:\n",
        "    print(a)\n",
        "    for i in range(1,n):\n",
        "      c = a + b\n",
        "      a = b\n",
        "      b = c\n",
        "      print(b)\n",
        "\n",
        "# Take input from the user\n",
        "terms = int(input(\"How many terms? \"))\n",
        "\n",
        "# Call fibonacci function\n",
        "print(\"Fibonacci sequence:\")\n",
        "fibonacci(terms)"
      ]
    },
    {
      "cell_type": "markdown",
      "metadata": {
        "id": "JvWoIpmEBWHR"
      },
      "source": [
        "## 37. Develop a program that calculates the nth term of the Fibonacci sequence using memoization."
      ]
    },
    {
      "cell_type": "code",
      "execution_count": 17,
      "metadata": {
        "colab": {
          "base_uri": "https://localhost:8080/"
        },
        "id": "Qe91LQ8TBWHR",
        "outputId": "40a8e34b-73b9-43f1-a087-34d2924f0fe1"
      },
      "outputs": [
        {
          "output_type": "stream",
          "name": "stdout",
          "text": [
            "Enter the term: 3\n",
            "The 3 th term of Fibonacci sequence is 2\n"
          ]
        }
      ],
      "source": [
        "# Dictionary to store previously calculated values\n",
        "memo = {0:0, 1:1}\n",
        "\n",
        "def fibonacci(n):\n",
        "  if n not in memo:\n",
        "    memo[n] = fibonacci(n-1) + fibonacci(n-2)\n",
        "\n",
        "  return memo[n]\n",
        "\n",
        "n = int(input(\"Enter the term: \"))\n",
        "\n",
        "print(\"The\", n, \"th term of Fibonacci sequence is\", fibonacci(n))"
      ]
    },
    {
      "cell_type": "markdown",
      "metadata": {
        "id": "doKzvZ75BWHR"
      },
      "source": [
        "## 38. Create a program that generates a calendar for a given month and year using conditional statements."
      ]
    },
    {
      "cell_type": "code",
      "execution_count": null,
      "metadata": {
        "id": "JGJMnC7YBWHS",
        "outputId": "e714bc3a-0f66-44de-9f9d-395e83fd1ffe"
      },
      "outputs": [
        {
          "name": "stdout",
          "output_type": "stream",
          "text": [
            "Enter month (1-12): 7\n",
            "Enter year: 2023\n",
            "\n",
            "July 2023\n",
            "Sun Mon Tue Wed Thu Fri Sat\n",
            "1 2 3 4 5 6 7 \n",
            "8 9 10 11 12 13 14 \n",
            "15 16 17 18 19 20 21 \n",
            "22 23 24 25 26 27 28 \n",
            "29 30 31 "
          ]
        }
      ],
      "source": [
        "# Get month and year from user\n",
        "month = int(input(\"Enter month (1-12): \"))\n",
        "year = int(input(\"Enter year: \"))\n",
        "\n",
        "# Map month number to name\n",
        "months = [\"January\", \"February\", \"March\", \"April\", \"May\", \"June\", \"July\",\n",
        "          \"August\", \"September\", \"October\", \"November\", \"December\"]\n",
        "\n",
        "# Print month and year\n",
        "print(\"\\n\" + months[month-1]+ \" \"+ str(year))\n",
        "\n",
        "# Get number of days in month\n",
        "if month in (4, 6, 9, 11):\n",
        "   max_days = 30\n",
        "elif month == 2:\n",
        "   if year%4 == 0:\n",
        "      if year%100 ==0:\n",
        "         if year%400 == 0:\n",
        "            max_days = 29\n",
        "         else:\n",
        "            max_days = 28\n",
        "      else:\n",
        "         max_days = 29\n",
        "   else:\n",
        "      max_days = 28\n",
        "else:\n",
        "   max_days = 31\n",
        "\n",
        "# Print calendar\n",
        "print(\"Sun Mon Tue Wed Thu Fri Sat\")\n",
        "for i in range(1,max_days+1):\n",
        "   print(i, end=\" \")\n",
        "   if i%7 == 0:\n",
        "      print()"
      ]
    },
    {
      "cell_type": "markdown",
      "metadata": {
        "id": "nwVYl3J1BWHS"
      },
      "source": [
        "## 39. Build a program that simulates a basic text-based blackjack game against the computer."
      ]
    },
    {
      "cell_type": "code",
      "execution_count": null,
      "metadata": {
        "id": "sBJu9idnBWHS"
      },
      "outputs": [],
      "source": [
        "import random\n",
        "\n",
        "suits = ('Hearts', 'Diamonds', 'Spades', 'Clubs')\n",
        "ranks = ('Two', 'Three', 'Four', 'Five', 'Six', 'Seven', 'Eight', 'Nine', 'Ten', 'Jack', 'Queen', 'King', 'Ace')\n",
        "values = {'Two':2, 'Three':3, 'Four':4, 'Five':5, 'Six':6, 'Seven':7, 'Eight':8, 'Nine':9, 'Ten':10, 'Jack':10,\n",
        "            'Queen':10, 'King':10, 'Ace':11}\n",
        "\n",
        "playing = True\n",
        "\n",
        "# Card class\n",
        "class Card:\n",
        "\n",
        "   def __init__(self,suit,rank):\n",
        "       self.suit = suit\n",
        "       self.rank = rank\n",
        "       self.value = values[rank]\n",
        "\n",
        "   def __str__(self):\n",
        "       return self.rank + \" of \" + self.suit\n",
        "\n",
        "# Deck class\n",
        "class Deck:\n",
        "\n",
        "   def __init__(self):\n",
        "       self.cards = []\n",
        "       for suit in suits:\n",
        "           for rank in ranks:\n",
        "               self.cards.append(Card(suit,rank))\n",
        "\n",
        "   def __str__(self):\n",
        "       return f'Deck contains {len(self.cards)} cards'\n",
        "\n",
        "# Printintro and take bets\n",
        "# Deal cards and checks scores\n",
        "# Computer turn\n",
        "# Check for winner\n",
        "# Ask to play again"
      ]
    },
    {
      "cell_type": "markdown",
      "metadata": {
        "id": "G_W97KoLBWHT"
      },
      "source": [
        "## 40. Write a program that generates the prime factors of a given number using trial division"
      ]
    },
    {
      "cell_type": "code",
      "execution_count": null,
      "metadata": {
        "id": "NBA-pIoOBWHT",
        "outputId": "9c16a6bf-a373-41c0-e9a9-4d1f1b478d3f"
      },
      "outputs": [
        {
          "name": "stdout",
          "output_type": "stream",
          "text": [
            "Enter a number: 5\n",
            "Prime factors of 5 are: 5\n"
          ]
        }
      ],
      "source": [
        "def prime_factors(n):\n",
        "  factors = []\n",
        "  divisor = 2\n",
        "\n",
        "  while n > 1:\n",
        "    if n%divisor == 0:\n",
        "      factors.append(divisor)\n",
        "      n = int(n/divisor)\n",
        "    else:\n",
        "      divisor += 1\n",
        "      if divisor*divisor > n:\n",
        "        if n > 1:\n",
        "          factors.append(n)\n",
        "        break\n",
        "\n",
        "  return factors\n",
        "\n",
        "num = int(input(\"Enter a number: \"))\n",
        "\n",
        "print(\"Prime factors of\", num, \"are:\", *prime_factors(num))"
      ]
    },
    {
      "cell_type": "code",
      "execution_count": null,
      "metadata": {
        "id": "ylJmStIMBWHT"
      },
      "outputs": [],
      "source": []
    }
  ],
  "metadata": {
    "kernelspec": {
      "display_name": "Python 3",
      "language": "python",
      "name": "python3"
    },
    "language_info": {
      "codemirror_mode": {
        "name": "ipython",
        "version": 3
      },
      "file_extension": ".py",
      "mimetype": "text/x-python",
      "name": "python",
      "nbconvert_exporter": "python",
      "pygments_lexer": "ipython3",
      "version": "3.8.3"
    },
    "colab": {
      "provenance": []
    }
  },
  "nbformat": 4,
  "nbformat_minor": 0
}